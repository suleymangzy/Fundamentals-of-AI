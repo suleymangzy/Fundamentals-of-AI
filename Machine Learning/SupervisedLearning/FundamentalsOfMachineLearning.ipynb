{
 "cells": [
  {
   "metadata": {},
   "cell_type": "markdown",
   "source": "# Yapay Öğrenmeye Giriş",
   "id": "5e6c2a25b7532d23"
  },
  {
   "metadata": {},
   "cell_type": "markdown",
   "source": [
    "Bilgisayarları açıkça programlamadan öğrenme yeteneği kazandırılması şeklindeki ifadeyi 1959 yılında `Arthur Samuel`,  `Yapay Öğrenme` yi tanımlamak için kullanmıştır. Esasen iki ana yapay öğrenme algoritması bulunmaktadır. Bunlar;\n",
    "* Denetimli Öğrenme (Supervised Learning)\n",
    "* Denetimsiz Öğrenme (Unsupervised Learning)\n",
    "şeklindedir."
   ],
   "id": "25b49f9e76898113"
  },
  {
   "metadata": {},
   "cell_type": "markdown",
   "source": "## Denetim Öğrenme",
   "id": "b2d916347bd108a0"
  },
  {
   "metadata": {},
   "cell_type": "markdown",
   "source": [
    "Birçok gerçek Dünya uygulamasında kullanılan ve en hızlı gelişmelerin yaşandığı yapay öğrenme alanıdır. Giriş ve çıkış değerleri arasındaki ilişkiyi öğrenen algoritmalardır. Bunlar;\n",
    "* Regresyon: Sonsuz sayıda farklı çıktının bulunabileceği modeller.\n",
    "* Sınıflandırma: Sonlu sayıda farklı çıktının bulunabileceği modeller.\n",
    "olarak ikiye ayrılabilir."
   ],
   "id": "1a4716fd4e471934"
  },
  {
   "metadata": {},
   "cell_type": "markdown",
   "source": "## Denetimsiz Öğrenme",
   "id": "198f7e7a6c5c438e"
  },
  {
   "metadata": {},
   "cell_type": "markdown",
   "source": "Elimizde bulunan verileri etiketlemeksizin algoritmanın bu verilerin uygun biçimde kendi içlerinde kümelemesini sağlayan yapay öğrenme alanıdır. En bilindik modeli kümeleme algoritmasıdır.",
   "id": "7dbbb23098f06b88"
  }
 ],
 "metadata": {},
 "nbformat": 4,
 "nbformat_minor": 5
}
