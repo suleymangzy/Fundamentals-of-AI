{
 "cells": [
  {
   "metadata": {},
   "cell_type": "markdown",
   "source": "# Doğrusal Regresyon",
   "id": "b9ca7c5e750e8bb3"
  },
  {
   "metadata": {},
   "cell_type": "markdown",
   "source": "Bir veya birden fazla bağımsız değişken ile bağımlı değişken arasındaki ilişkiyi öğrenen modeldir. Değişkenlerin alabileceği değerler sonsuz sayıdadır ve birbirlerinden farklıdır.",
   "id": "c40c0855e386fd63"
  },
  {
   "metadata": {},
   "cell_type": "markdown",
   "source": "## Notasyon",
   "id": "619e98e27599458c"
  },
  {
   "metadata": {},
   "cell_type": "markdown",
   "source": "",
   "id": "26895cad638692c4"
  }
 ],
 "metadata": {},
 "nbformat": 4,
 "nbformat_minor": 5
}
