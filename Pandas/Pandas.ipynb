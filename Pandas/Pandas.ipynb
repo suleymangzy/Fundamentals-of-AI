{
 "cells": [
  {
   "metadata": {},
   "cell_type": "markdown",
   "source": "# Pandas",
   "id": "b66949222dee801b"
  },
  {
   "metadata": {},
   "cell_type": "markdown",
   "source": "## Pandas Nedir?",
   "id": "32775c891cd61086"
  },
  {
   "metadata": {},
   "cell_type": "markdown",
   "source": "Pandas, Python programlama dilinde veri analizi ve manipülasyonu için kullandığımız bir kütüphanedir. Veri işleme, temizleme, dönüştürme ve analiz için çeşitli veri yapıları ve fonksiyonlar sunar.  Verileri kolayca yüklememizi, filtrelememizi, sıralamamızı, birleştirmemizi, gruplandırmamızı ve istatiksel analizleri yapmamızı sağlar. Ayrıca, eksik verilerin yönetimi, verilerin zaman serisi analizi ve veri görselleştirme gibi özelliklere de sahiptir.",
   "id": "64e9d121ad73f369"
  },
  {
   "metadata": {
    "ExecuteTime": {
     "end_time": "2025-08-30T08:22:59.794414Z",
     "start_time": "2025-08-30T08:22:58.162887Z"
    }
   },
   "cell_type": "code",
   "source": [
    "import pandas as pd\n",
    "\n",
    "print(\"Version of Pandas libary: \", pd.__version__)"
   ],
   "id": "8519660c981756d0",
   "outputs": [
    {
     "name": "stdout",
     "output_type": "stream",
     "text": [
      "Version of Pandas libary:  2.3.2\n"
     ]
    }
   ],
   "execution_count": 1
  },
  {
   "metadata": {},
   "cell_type": "markdown",
   "source": "## Pandas Veri Yapıları",
   "id": "6ee84e9d0f9d52a5"
  },
  {
   "metadata": {},
   "cell_type": "markdown",
   "source": "### Seriler",
   "id": "a3b925c165145a14"
  },
  {
   "metadata": {},
   "cell_type": "markdown",
   "source": "Seriler (Series), Pandas kütüphanesinin temel veri yapılarından biridir. Tek boyutlu ve etiketli bir veri dizisidir.",
   "id": "706f340fd0684bc4"
  },
  {
   "metadata": {},
   "cell_type": "markdown",
   "source": "#### Seri Oluşturma",
   "id": "9729220d958118d8"
  },
  {
   "metadata": {},
   "cell_type": "markdown",
   "source": "Seriler, farklı veri tiplerini içererebilir ve etiketlenmiş indekslerle birlikte gelir. Bir seri olulturmak için `pd.Series()` fonksiyonu kullanabiliriz.",
   "id": "cd78d7158a885a30"
  },
  {
   "metadata": {
    "ExecuteTime": {
     "end_time": "2025-08-30T08:26:59.992201Z",
     "start_time": "2025-08-30T08:26:59.988615Z"
    }
   },
   "cell_type": "code",
   "source": [
    "seri = pd.Series([10, 20, 30, 40, 50])\n",
    "print(\"Seri: \\n\", seri)"
   ],
   "id": "fe02601e335d6ca9",
   "outputs": [
    {
     "name": "stdout",
     "output_type": "stream",
     "text": [
      "Seri: \n",
      " 0    10\n",
      "1    20\n",
      "2    30\n",
      "3    40\n",
      "4    50\n",
      "dtype: int64\n"
     ]
    }
   ],
   "execution_count": 6
  },
  {
   "metadata": {},
   "cell_type": "markdown",
   "source": "#### Seri İndeksleme ve Dilimleme",
   "id": "7c5fc644767178fd"
  },
  {
   "metadata": {},
   "cell_type": "markdown",
   "source": "Serilerde indeksleme ve dilimleme yaparak belirli verilere erişebiliriz. Seriye erişmek için indeks değerini kullanabiliriz. Ayrıca, dilimleme işlemiyle bir serinin belirli bir aralığına erişebiliriz.",
   "id": "f416f5669b482424"
  },
  {
   "metadata": {
    "ExecuteTime": {
     "end_time": "2025-08-30T08:31:28.251013Z",
     "start_time": "2025-08-30T08:31:28.236898Z"
    }
   },
   "cell_type": "code",
   "source": [
    "seri = pd.Series([10, 20, 30, 40, 50], index=['a', 'b', 'c', 'd', 'e'])\n",
    "print(\"Seri: \\n\", seri)\n",
    "print(\"Index 'c': \", seri['c'])\n",
    "print(\"Index 'a', 'b', 'e': \\n\", seri[['a', 'b', 'e']])\n",
    "print(\"Index 2nd and 3td: \\n\", seri[2:4])"
   ],
   "id": "8e49f62ba7385260",
   "outputs": [
    {
     "name": "stdout",
     "output_type": "stream",
     "text": [
      "Seri: \n",
      " a    10\n",
      "b    20\n",
      "c    30\n",
      "d    40\n",
      "e    50\n",
      "dtype: int64\n",
      "Index 'c':  30\n",
      "Index 'a', 'b', 'e': \n",
      " a    10\n",
      "b    20\n",
      "e    50\n",
      "dtype: int64\n",
      "Index 2 and 3: \n",
      " c    30\n",
      "d    40\n",
      "dtype: int64\n"
     ]
    }
   ],
   "execution_count": 10
  },
  {
   "metadata": {},
   "cell_type": "markdown",
   "source": "#### Seriye Erişim ve Değer Atama",
   "id": "122f5a2f9fcd85e9"
  },
  {
   "metadata": {},
   "cell_type": "markdown",
   "source": "Bir serinin belirli bir indeksine erişmek veya bu indekse bir değer atamak için indeks değerini kullanabiliriz.",
   "id": "c73c1f315dc90d14"
  },
  {
   "metadata": {
    "ExecuteTime": {
     "end_time": "2025-08-30T08:35:52.353738Z",
     "start_time": "2025-08-30T08:35:52.347626Z"
    }
   },
   "cell_type": "code",
   "source": [
    "seri = pd.Series([10, 20, 30, 40, 50], index=['a', 'b', 'c', 'd', 'e'])\n",
    "print(\"Seri: \\n\", seri)\n",
    "\n",
    "print(\"Index 'b':\", seri['b'])\n",
    "seri['d'] = 45\n",
    "print(\"Seri: \\n\", seri)"
   ],
   "id": "bfd1a1f19a359ab9",
   "outputs": [
    {
     "name": "stdout",
     "output_type": "stream",
     "text": [
      "Seri: \n",
      " a    10\n",
      "b    20\n",
      "c    30\n",
      "d    40\n",
      "e    50\n",
      "dtype: int64\n",
      "Index 'b': 20\n",
      "Seri: \n",
      " a    10\n",
      "b    20\n",
      "c    30\n",
      "d    45\n",
      "e    50\n",
      "dtype: int64\n"
     ]
    }
   ],
   "execution_count": 11
  },
  {
   "metadata": {},
   "cell_type": "markdown",
   "source": "Serinin indekslerini belirtmek için indeks parametresini kullanıyoruz. Bu örnekte, indeksler olarak `a, b, c, d, e` değerlerini atıyoruz. Bu indeksler, her bir veri değerine karşılık gelir. Yukarıdaki kod, `[10, 20, 30, 40, 50]` veri değerlerine ve `['a', 'b', 'c', 'd', 'e']` indekslerine sahip bir seri oluşturur.",
   "id": "8e6fbc6dcec65d9a"
  },
  {
   "metadata": {},
   "cell_type": "markdown",
   "source": "### Veri Çerçeveleri",
   "id": "8c7c076848b2ebdc"
  },
  {
   "metadata": {},
   "cell_type": "markdown",
   "source": "Veri Çerçeveleri (Data Frames), Pandas kütüphanesinde kullanılan iki boyutlu tablo benzeri veri yapılarıdır. Sütunlar değişkenleri veya özellikleri temsil eder, satırlar veri noktalarını veya gözlemleri temsil eder.",
   "id": "f706f19c3c42a945"
  },
  {
   "metadata": {
    "ExecuteTime": {
     "end_time": "2025-08-30T08:46:37.851234Z",
     "start_time": "2025-08-30T08:46:37.815958Z"
    }
   },
   "cell_type": "code",
   "source": [
    "data = {'Öğrenci': ['Ahmet', 'Mehmet', 'Ayşe', 'Fatma'],\n",
    "        'Sınıf': [10, 11, 10, 12],\n",
    "        'Not': [85, 92, 78, 88]}\n",
    "\n",
    "df = pd.DataFrame(data)\n",
    "print(\"Data Frame:\\n\", df)"
   ],
   "id": "facfadad2537600d",
   "outputs": [
    {
     "name": "stdout",
     "output_type": "stream",
     "text": [
      "Data Frame:\n",
      "   Öğrenci  Sınıf  Not\n",
      "0   Ahmet     10   85\n",
      "1  Mehmet     11   92\n",
      "2    Ayşe     10   78\n",
      "3   Fatma     12   88\n"
     ]
    }
   ],
   "execution_count": 12
  },
  {
   "metadata": {},
   "cell_type": "markdown",
   "source": "`pd.DataFrame()` fonksiyonunu kullanarak veri çerçevesini oluşturuyoruz. Bu kod parçası, `Öğrenci`, `Sınıf` ve `Not` sütunlarından oluşan bir veri çerçevesi oluşturur. Her sütunun verileri bir liste olarak belirlenir ve bu sütunlar bir veri çerçevesine birleştirilir. Oluşturulan veri çerçevesi, `df` değişkenine atanır ve daha sonra bu değişken üzerinde veri çerçevesi ile ilgili işlemler yapabiliriz.",
   "id": "32a6c9cb9e281b34"
  },
  {
   "metadata": {},
   "cell_type": "markdown",
   "source": "#### Veri Çerçevesi İndeksleme ve Dilimleme",
   "id": "9d1ca791dd8ced78"
  },
  {
   "metadata": {},
   "cell_type": "markdown",
   "source": " İndeksleme ve dilimleme, veri çerçevesinde belirli satırlara ve sütunlara erişmek için kullanılan işlemlerdir.",
   "id": "c56849d6252d9ac3"
  },
  {
   "metadata": {
    "ExecuteTime": {
     "end_time": "2025-08-30T09:06:10.237630Z",
     "start_time": "2025-08-30T09:06:10.222051Z"
    }
   },
   "cell_type": "code",
   "source": [
    "data = {'Öğrenci': ['Ahmet', 'Mehmet', 'Ayşe', 'Fatma'],\n",
    "        'Sınıf': [10, 11, 10, 12],\n",
    "        'Not': [85, 92, 78, 88]}\n",
    "\n",
    "df = pd.DataFrame(data)\n",
    "print(\"Data Frame:\\n\", df)\n",
    "print(\"------------------------\")\n",
    "print(\"First row: \\n\", df.loc[0])\n",
    "print(\"------------------------\")\n",
    "print(\"First and second rows: \\n\", df.loc[1:2])\n",
    "print(\"------------------------\")\n",
    "print(\"Column of 'Öğrenci': \\n\", df['Öğrenci'])\n",
    "print(\"------------------------\")\n",
    "print(\"Conditional indexing; Selecting students with a score greater than 85: \\n\", df[df['Not'] > 85])"
   ],
   "id": "d9d2462c9302e39a",
   "outputs": [
    {
     "name": "stdout",
     "output_type": "stream",
     "text": [
      "Data Frame:\n",
      "   Öğrenci  Sınıf  Not\n",
      "0   Ahmet     10   85\n",
      "1  Mehmet     11   92\n",
      "2    Ayşe     10   78\n",
      "3   Fatma     12   88\n",
      "------------------------\n",
      "First row: \n",
      " Öğrenci    Ahmet\n",
      "Sınıf         10\n",
      "Not           85\n",
      "Name: 0, dtype: object\n",
      "------------------------\n",
      "First and second rows: \n",
      "   Öğrenci  Sınıf  Not\n",
      "1  Mehmet     11   92\n",
      "2    Ayşe     10   78\n",
      "------------------------\n",
      "Column of 'Öğrenci': \n",
      " 0     Ahmet\n",
      "1    Mehmet\n",
      "2      Ayşe\n",
      "3     Fatma\n",
      "Name: Öğrenci, dtype: object\n",
      "------------------------\n",
      "Conditional indexing; Selecting students with a score greater than 85: \n",
      "   Öğrenci  Sınıf  Not\n",
      "1  Mehmet     11   92\n",
      "3   Fatma     12   88\n"
     ]
    }
   ],
   "execution_count": 23
  },
  {
   "metadata": {},
   "cell_type": "markdown",
   "source": "##### İndeksleme",
   "id": "bbd983b0a6aea5f9"
  },
  {
   "metadata": {},
   "cell_type": "markdown",
   "source": "İndeksleme, veri çerçevesindeki belirli satırlara erişmemizi sağlar. İki farklı indeksle yöntemi vardır, bunlar indeks numarası ve indeks etiketidir. İndeks numarısıyla erişim için `loc[]` indeksleme yöntemini kullanırız. Örneğin, `df.loc[0]` ifadesiyle ilk satıra, indeks numarası 0 olan satır, erişebiliriz. İndeks etiketiyle erişim için de `loc[]` indeksleme yöntemini kullanırız. Örneğin, `df.loc[1:2]` ifadesiyle 1. ve 2. satırlara, indeks etiketleri 1 ve 2 olan satırlar, erişebiliriz.",
   "id": "5c1417227bd15dca"
  },
  {
   "metadata": {},
   "cell_type": "markdown",
   "source": "##### Dilimleme",
   "id": "48647aa828340791"
  },
  {
   "metadata": {},
   "cell_type": "markdown",
   "source": "Dilimleme, belirli bir aralıktaki satırlara erişmemizi sağlar. Dilimleme işlemi, `:` operatörüyle gerçekleşir. Örneğin, `df[1:3]` ifadesiyle 1. ve 2. satırlara, indeks numaraları 1 ve 2 olan satırlar, erişebiliriz.",
   "id": "a57c1bb598c22760"
  },
  {
   "metadata": {},
   "cell_type": "markdown",
   "source": "##### Sütun Seçme",
   "id": "db18bb4cb6eb0465"
  },
  {
   "metadata": {},
   "cell_type": "markdown",
   "source": [
    "Sütun seçme işlemi, veri çerçevesinden belirli sütunları seçmeyi sağlar. Sütun adı kullanılarak sütunlara erişim sağlarız. Örneğin, `df['Öğrenci']`\n",
    "ifadesiyle `Öğrenci` sütununu seçebiliriz."
   ],
   "id": "fbf35f7580f6aac"
  },
  {
   "metadata": {},
   "cell_type": "markdown",
   "source": "##### Koşullu İndeksleme",
   "id": "399ecf2cc0ff3af0"
  },
  {
   "metadata": {},
   "cell_type": "markdown",
   "source": "Koşullu indeksleme, belirli bir koşul sağlayan satırları seçmemizi sağlar. Koşul ifadesi kullanılarak koşullu indeksleme gerçeklerştirilir. Örneğin `df[df['Not'] > 85]` ifadesiyle `Not` sütununda değeri 85' ten büyük olan öğrencileri seçebiliriz.",
   "id": "38f6e1d29d344dfe"
  },
  {
   "metadata": {},
   "cell_type": "markdown",
   "source": "#### Veri Çerçevesinde Sütun Ekleme, Silme ve Yeniden Adlandırma",
   "id": "48462966ea31b063"
  },
  {
   "metadata": {},
   "cell_type": "markdown",
   "source": "##### Sütun Ekleme",
   "id": "aa761937f44b1c3b"
  },
  {
   "metadata": {},
   "cell_type": "markdown",
   "source": "Yeni bir sütun eklemek için `[]` operatörünü kullanabiliriz. Yeni sütun adını belirtirken, ilgili sütuna ait verileri de eklemeliyiz. Örneğin, `df['Yaş'] = [15, 16, 15, 17]` ifadesiyle `Yaş` adında bir sütun ekleyebilriz.",
   "id": "22e3be8134c6cb9f"
  },
  {
   "metadata": {
    "ExecuteTime": {
     "end_time": "2025-08-30T11:17:46.019988Z",
     "start_time": "2025-08-30T11:17:46.012702Z"
    }
   },
   "cell_type": "code",
   "source": [
    "data = {'Öğrenci': ['Ahmet', 'Mehmet', 'Ayşe', 'Fatma'],\n",
    "        'Sınıf': [10, 11, 10, 12],\n",
    "        'Not': [85, 92, 78, 88]}\n",
    "\n",
    "df = pd.DataFrame(data)\n",
    "print(\"Data Frame:\\n\", df)\n",
    "\n",
    "print(\"------------------------------\")\n",
    "\n",
    "df['Yaş'] = [15, 16, 15, 17]\n",
    "print(\"New Data Frame:\\n\", df)"
   ],
   "id": "dcf62920eaebad95",
   "outputs": [
    {
     "name": "stdout",
     "output_type": "stream",
     "text": [
      "Data Frame:\n",
      "   Öğrenci  Sınıf  Not\n",
      "0   Ahmet     10   85\n",
      "1  Mehmet     11   92\n",
      "2    Ayşe     10   78\n",
      "3   Fatma     12   88\n",
      "------------------------------\n",
      "New Data Frame:\n",
      "   Öğrenci  Sınıf  Not  Yaş\n",
      "0   Ahmet     10   85   15\n",
      "1  Mehmet     11   92   16\n",
      "2    Ayşe     10   78   15\n",
      "3   Fatma     12   88   17\n"
     ]
    }
   ],
   "execution_count": 25
  },
  {
   "metadata": {},
   "cell_type": "markdown",
   "source": "##### Sütun Silme",
   "id": "fa25538d92ecbe5f"
  },
  {
   "metadata": {},
   "cell_type": "markdown",
   "source": "Bir sütunu silmek için `drop()` fonksiyonu, `axis` paremetresiyle sütun silme işlemini belirtir. `axis=1` ile sütun silme işlemi gerçekleştirilir. Örneğin, `df.drop('Not', axis=1, inplace=True)` ifadesiyle `Not` sütununu silebiliriz. `inpalace=True` paremetresi, değişikliğin doğrudan veri çerçevesine uygulanmasını sağlar.",
   "id": "975f40fc18a49953"
  },
  {
   "metadata": {
    "ExecuteTime": {
     "end_time": "2025-08-30T12:01:38.064129Z",
     "start_time": "2025-08-30T12:01:38.008424Z"
    }
   },
   "cell_type": "code",
   "source": [
    "data = {'Öğrenci': ['Ahmet', 'Mehmet', 'Ayşe', 'Fatma'],\n",
    "        'Sınıf': [10, 11, 10, 12],\n",
    "        'Not': [85, 92, 78, 88]}\n",
    "\n",
    "df = pd.DataFrame(data)\n",
    "print(\"Data Frame:\\n\", df)\n",
    "print(\"----------------------------\")\n",
    "\n",
    "df.drop('Not', axis=1, inplace=True)\n",
    "print(\"New Data Frame:\\n\", df)"
   ],
   "id": "82b8a10b68da8732",
   "outputs": [
    {
     "name": "stdout",
     "output_type": "stream",
     "text": [
      "Data Frame:\n",
      "   Öğrenci  Sınıf  Not\n",
      "0   Ahmet     10   85\n",
      "1  Mehmet     11   92\n",
      "2    Ayşe     10   78\n",
      "3   Fatma     12   88\n",
      "----------------------------\n",
      "New Data Frame:\n",
      "   Öğrenci  Sınıf\n",
      "0   Ahmet     10\n",
      "1  Mehmet     11\n",
      "2    Ayşe     10\n",
      "3   Fatma     12\n"
     ]
    }
   ],
   "execution_count": 26
  },
  {
   "metadata": {},
   "cell_type": "markdown",
   "source": "##### Sütunu Yeniden Adlandırma",
   "id": "176f0a97aa33aca4"
  },
  {
   "metadata": {},
   "cell_type": "markdown",
   "source": "Sütunun adını değiştirmek için `rename()` fonksiyonunu kullanabilriz. `rename()` fonksiyonu, `columns` parametresiyle sütun adınıı değiştirir. Örneğin, `df.rename(columns={'Sınıf': 'Sınıf Seviyesi'}, inplace=True)` ifadesiyle `Sınıf` sütunun adını `Sınıf Seviyesi` olarak değiştirebiliriz. `inplace=True` parametresi değişikliğin doğrudan veri çerçevesine uygulanmasını sağlar.",
   "id": "bd5a038bdfde4678"
  },
  {
   "metadata": {
    "ExecuteTime": {
     "end_time": "2025-08-30T12:10:54.969011Z",
     "start_time": "2025-08-30T12:10:54.956312Z"
    }
   },
   "cell_type": "code",
   "source": [
    "data = {'Öğrenci': ['Ahmet', 'Mehmet', 'Ayşe', 'Fatma'],\n",
    "        'Sınıf': [10, 11, 10, 12],\n",
    "        'Not': [85, 92, 78, 88]}\n",
    "\n",
    "df = pd.DataFrame(data)\n",
    "print(\"Data Frame:\\n\", df)\n",
    "print(\"-----------------------------------\")\n",
    "\n",
    "df.rename(columns={'Sınıf': 'Sınıf Seviyesi'}, inplace=True)\n",
    "print(\"New Data Frame:\\n\", df)"
   ],
   "id": "317e73cd1b1ce810",
   "outputs": [
    {
     "name": "stdout",
     "output_type": "stream",
     "text": [
      "Data Frame:\n",
      "   Öğrenci  Sınıf  Not\n",
      "0   Ahmet     10   85\n",
      "1  Mehmet     11   92\n",
      "2    Ayşe     10   78\n",
      "3   Fatma     12   88\n",
      "-----------------------------------\n",
      "New Data Frame:\n",
      "   Öğrenci  Sınıf Seviyesi  Not\n",
      "0   Ahmet              10   85\n",
      "1  Mehmet              11   92\n",
      "2    Ayşe              10   78\n",
      "3   Fatma              12   88\n"
     ]
    }
   ],
   "execution_count": 28
  },
  {
   "metadata": {},
   "cell_type": "markdown",
   "source": "## Veri Setini Tanıma",
   "id": "c7d3a361ea2eea95"
  },
  {
   "metadata": {},
   "cell_type": "markdown",
   "source": "Pandas kütüphanesinde veri tanıma işlemini, verinin yapısını ve içeriğini anlamak için kullanırız.",
   "id": "2dad8ff1ef594639"
  },
  {
   "metadata": {},
   "cell_type": "markdown",
   "source": "### head() Fonksiyonu",
   "id": "c85d629f4a55983a"
  },
  {
   "metadata": {},
   "cell_type": "markdown",
   "source": "Veri çerçevesinin ilk `n` satırını görüntüler.",
   "id": "27b3c3d7eef17bb1"
  },
  {
   "metadata": {
    "ExecuteTime": {
     "end_time": "2025-08-30T12:19:49.434158Z",
     "start_time": "2025-08-30T12:19:49.425545Z"
    }
   },
   "cell_type": "code",
   "source": [
    "data = {'Öğrenci': ['Süleyaman', 'Ayşe', 'Mehmet', 'Ahmet', 'Aylin', 'Mustafa',\n",
    "                    'Ebru', 'Can', 'Deniz', 'Gizem', 'İbrahim', 'Elif', 'Burak', 'Fatma', 'Emre', 'Ceren', 'Gül',\n",
    "                    'Kadir', 'İrem', 'Ozan'],\n",
    "        'Ders': ['Python Programlama', 'Fizik', 'Kimya', 'Matematik', 'Fizik', 'Kimya', 'Matematik', 'Fizik', 'Kimya',\n",
    "                 'Matematik', 'Fizik', 'Kimya', 'Matematik', 'Fizik', 'Kimya', 'Matematik', 'Fizik', 'Kimya',\n",
    "                 'Matematik', 'Fizik'],\n",
    "        'Not': [75, 85, 95, 75, 80, 92, 87, 88, 93, 82, 79, 91, 86, 89, 78, 83, 94, 81, 84, 90]}\n",
    "\n",
    "df = pd.DataFrame(data)\n",
    "print(\"Top 10 of the Data Frame:\\n\", df.head(10))"
   ],
   "id": "a987f7d3f2e63b43",
   "outputs": [
    {
     "name": "stdout",
     "output_type": "stream",
     "text": [
      "Top 10 of the Data Frame:\n",
      "      Öğrenci                Ders  Not\n",
      "0  Süleyaman  Python Programlama   75\n",
      "1       Ayşe               Fizik   85\n",
      "2     Mehmet               Kimya   95\n",
      "3      Ahmet           Matematik   75\n",
      "4      Aylin               Fizik   80\n",
      "5    Mustafa               Kimya   92\n",
      "6       Ebru           Matematik   87\n",
      "7        Can               Fizik   88\n",
      "8      Deniz               Kimya   93\n",
      "9      Gizem           Matematik   82\n"
     ]
    }
   ],
   "execution_count": 31
  },
  {
   "metadata": {},
   "cell_type": "markdown",
   "source": "### info() Fonksiyonu",
   "id": "fb4f471240ec3157"
  },
  {
   "metadata": {},
   "cell_type": "markdown",
   "source": "Veri çerçevesinin genel bilgilerini ve sütunlarını veri tiplerini gösterir.",
   "id": "72efc419b2094fb3"
  },
  {
   "metadata": {
    "ExecuteTime": {
     "end_time": "2025-08-30T12:25:09.019107Z",
     "start_time": "2025-08-30T12:25:08.949209Z"
    }
   },
   "cell_type": "code",
   "source": [
    "data = {'Öğrenci': ['Süleyaman', 'Ayşe', 'Mehmet', 'Ahmet', 'Aylin', 'Mustafa',\n",
    "                    'Ebru', 'Can', 'Deniz', 'Gizem', 'İbrahim', 'Elif', 'Burak', 'Fatma', 'Emre', 'Ceren', 'Gül',\n",
    "                    'Kadir', 'İrem', 'Ozan'],\n",
    "        'Ders': ['Python Programlama', 'Fizik', 'Kimya', 'Matematik', 'Fizik', 'Kimya', 'Matematik', 'Fizik', 'Kimya',\n",
    "                 'Matematik', 'Fizik', 'Kimya', 'Matematik', 'Fizik', 'Kimya', 'Matematik', 'Fizik', 'Kimya',\n",
    "                 'Matematik', 'Fizik'],\n",
    "        'Not': [75, 85, 95, 75, 80, 92, 87, 88, 93, 82, 79, 91, 86, 89, 78, 83, 94, 81, 84, 90]}\n",
    "\n",
    "df = pd.DataFrame(data)\n",
    "\n",
    "print(\"Information of the Data Frame: \\n\", df.info())"
   ],
   "id": "fab284581fca6360",
   "outputs": [
    {
     "name": "stdout",
     "output_type": "stream",
     "text": [
      "<class 'pandas.core.frame.DataFrame'>\n",
      "RangeIndex: 20 entries, 0 to 19\n",
      "Data columns (total 3 columns):\n",
      " #   Column   Non-Null Count  Dtype \n",
      "---  ------   --------------  ----- \n",
      " 0   Öğrenci  20 non-null     object\n",
      " 1   Ders     20 non-null     object\n",
      " 2   Not      20 non-null     int64 \n",
      "dtypes: int64(1), object(2)\n",
      "memory usage: 612.0+ bytes\n",
      "Information of the Data Frame: \n",
      " None\n"
     ]
    }
   ],
   "execution_count": 32
  }
 ],
 "metadata": {
  "kernelspec": {
   "display_name": "Python 3",
   "language": "python",
   "name": "python3"
  },
  "language_info": {
   "codemirror_mode": {
    "name": "ipython",
    "version": 2
   },
   "file_extension": ".py",
   "mimetype": "text/x-python",
   "name": "python",
   "nbconvert_exporter": "python",
   "pygments_lexer": "ipython2",
   "version": "2.7.6"
  }
 },
 "nbformat": 4,
 "nbformat_minor": 5
}
