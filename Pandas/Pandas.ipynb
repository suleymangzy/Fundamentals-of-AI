{
 "cells": [
  {
   "metadata": {},
   "cell_type": "markdown",
   "source": "# Pandas",
   "id": "b66949222dee801b"
  },
  {
   "metadata": {},
   "cell_type": "markdown",
   "source": "## Pandas Nedir?",
   "id": "32775c891cd61086"
  },
  {
   "metadata": {},
   "cell_type": "markdown",
   "source": "Pandas, Python programlama dilinde veri analizi ve manipülasyonu için kullandığımız bir kütüphanedir. Veri işleme, temizleme, dönüştürme ve analiz için çeşitli veri yapıları ve fonksiyonlar sunar.  Verileri kolayca yüklememizi, filtrelememizi, sıralamamızı, birleştirmemizi, gruplandırmamızı ve istatiksel analizleri yapmamızı sağlar. Ayrıca, eksik verilerin yönetimi, verilerin zaman serisi analizi ve veri görselleştirme gibi özelliklere de sahiptir.",
   "id": "64e9d121ad73f369"
  },
  {
   "metadata": {
    "ExecuteTime": {
     "end_time": "2025-08-31T19:47:41.941918Z",
     "start_time": "2025-08-31T19:47:41.703827Z"
    }
   },
   "cell_type": "code",
   "source": [
    "import pandas as pd\n",
    "from pandas import read_excel\n",
    "\n",
    "print(\"Version of Pandas libary: \", pd.__version__)"
   ],
   "id": "8519660c981756d0",
   "outputs": [
    {
     "name": "stdout",
     "output_type": "stream",
     "text": [
      "Version of Pandas libary:  2.3.2\n"
     ]
    }
   ],
   "execution_count": 1
  },
  {
   "metadata": {},
   "cell_type": "markdown",
   "source": "## Pandas Veri Yapıları",
   "id": "6ee84e9d0f9d52a5"
  },
  {
   "metadata": {},
   "cell_type": "markdown",
   "source": "### Seriler",
   "id": "a3b925c165145a14"
  },
  {
   "metadata": {},
   "cell_type": "markdown",
   "source": "Seriler (Series), Pandas kütüphanesinin temel veri yapılarından biridir. Tek boyutlu ve etiketli bir veri dizisidir.",
   "id": "706f340fd0684bc4"
  },
  {
   "metadata": {},
   "cell_type": "markdown",
   "source": "#### Seri Oluşturma",
   "id": "9729220d958118d8"
  },
  {
   "metadata": {},
   "cell_type": "markdown",
   "source": "Seriler, farklı veri tiplerini içererebilir ve etiketlenmiş indekslerle birlikte gelir. Bir seri olulturmak için `pd.Series()` fonksiyonu kullanabiliriz.",
   "id": "cd78d7158a885a30"
  },
  {
   "metadata": {
    "ExecuteTime": {
     "end_time": "2025-08-31T19:47:41.953977Z",
     "start_time": "2025-08-31T19:47:41.949078Z"
    }
   },
   "cell_type": "code",
   "source": [
    "seri = pd.Series([10, 20, 30, 40, 50])\n",
    "print(\"Seri: \\n\", seri)"
   ],
   "id": "fe02601e335d6ca9",
   "outputs": [
    {
     "name": "stdout",
     "output_type": "stream",
     "text": [
      "Seri: \n",
      " 0    10\n",
      "1    20\n",
      "2    30\n",
      "3    40\n",
      "4    50\n",
      "dtype: int64\n"
     ]
    }
   ],
   "execution_count": 2
  },
  {
   "metadata": {},
   "cell_type": "markdown",
   "source": "#### Seri İndeksleme ve Dilimleme",
   "id": "7c5fc644767178fd"
  },
  {
   "metadata": {},
   "cell_type": "markdown",
   "source": "Serilerde indeksleme ve dilimleme yaparak belirli verilere erişebiliriz. Seriye erişmek için indeks değerini kullanabiliriz. Ayrıca, dilimleme işlemiyle bir serinin belirli bir aralığına erişebiliriz.",
   "id": "f416f5669b482424"
  },
  {
   "metadata": {
    "ExecuteTime": {
     "end_time": "2025-08-31T19:47:41.972931Z",
     "start_time": "2025-08-31T19:47:41.967784Z"
    }
   },
   "cell_type": "code",
   "source": [
    "seri = pd.Series([10, 20, 30, 40, 50], index=['a', 'b', 'c', 'd', 'e'])\n",
    "print(\"Seri: \\n\", seri)\n",
    "print(\"Index 'c': \", seri['c'])\n",
    "print(\"Index 'a', 'b', 'e': \\n\", seri[['a', 'b', 'e']])\n",
    "print(\"Index 2nd and 3td: \\n\", seri[2:4])"
   ],
   "id": "8e49f62ba7385260",
   "outputs": [
    {
     "name": "stdout",
     "output_type": "stream",
     "text": [
      "Seri: \n",
      " a    10\n",
      "b    20\n",
      "c    30\n",
      "d    40\n",
      "e    50\n",
      "dtype: int64\n",
      "Index 'c':  30\n",
      "Index 'a', 'b', 'e': \n",
      " a    10\n",
      "b    20\n",
      "e    50\n",
      "dtype: int64\n",
      "Index 2nd and 3td: \n",
      " c    30\n",
      "d    40\n",
      "dtype: int64\n"
     ]
    }
   ],
   "execution_count": 3
  },
  {
   "metadata": {},
   "cell_type": "markdown",
   "source": "#### Seriye Erişim ve Değer Atama",
   "id": "122f5a2f9fcd85e9"
  },
  {
   "metadata": {},
   "cell_type": "markdown",
   "source": "Bir serinin belirli bir indeksine erişmek veya bu indekse bir değer atamak için indeks değerini kullanabiliriz.",
   "id": "c73c1f315dc90d14"
  },
  {
   "metadata": {
    "ExecuteTime": {
     "end_time": "2025-08-31T19:47:41.989939Z",
     "start_time": "2025-08-31T19:47:41.986133Z"
    }
   },
   "cell_type": "code",
   "source": [
    "seri = pd.Series([10, 20, 30, 40, 50], index=['a', 'b', 'c', 'd', 'e'])\n",
    "print(\"Seri: \\n\", seri)\n",
    "\n",
    "print(\"Index 'b':\", seri['b'])\n",
    "seri['d'] = 45\n",
    "print(\"Seri: \\n\", seri)"
   ],
   "id": "bfd1a1f19a359ab9",
   "outputs": [
    {
     "name": "stdout",
     "output_type": "stream",
     "text": [
      "Seri: \n",
      " a    10\n",
      "b    20\n",
      "c    30\n",
      "d    40\n",
      "e    50\n",
      "dtype: int64\n",
      "Index 'b': 20\n",
      "Seri: \n",
      " a    10\n",
      "b    20\n",
      "c    30\n",
      "d    45\n",
      "e    50\n",
      "dtype: int64\n"
     ]
    }
   ],
   "execution_count": 4
  },
  {
   "metadata": {},
   "cell_type": "markdown",
   "source": "Serinin indekslerini belirtmek için indeks parametresini kullanıyoruz. Bu örnekte, indeksler olarak `a, b, c, d, e` değerlerini atıyoruz. Bu indeksler, her bir veri değerine karşılık gelir. Yukarıdaki kod, `[10, 20, 30, 40, 50]` veri değerlerine ve `['a', 'b', 'c', 'd', 'e']` indekslerine sahip bir seri oluşturur.",
   "id": "8e6fbc6dcec65d9a"
  },
  {
   "metadata": {},
   "cell_type": "markdown",
   "source": "### Veri Çerçeveleri",
   "id": "8c7c076848b2ebdc"
  },
  {
   "metadata": {},
   "cell_type": "markdown",
   "source": "Veri Çerçeveleri (Data Frames), Pandas kütüphanesinde kullanılan iki boyutlu tablo benzeri veri yapılarıdır. Sütunlar değişkenleri veya özellikleri temsil eder, satırlar veri noktalarını veya gözlemleri temsil eder.",
   "id": "f706f19c3c42a945"
  },
  {
   "metadata": {
    "ExecuteTime": {
     "end_time": "2025-08-31T19:47:42.006367Z",
     "start_time": "2025-08-31T19:47:42.001145Z"
    }
   },
   "cell_type": "code",
   "source": [
    "data = {'Öğrenci': ['Ahmet', 'Mehmet', 'Ayşe', 'Fatma'],\n",
    "        'Sınıf': [10, 11, 10, 12],\n",
    "        'Not': [85, 92, 78, 88]}\n",
    "\n",
    "df = pd.DataFrame(data)\n",
    "print(\"Data Frame:\\n\", df)"
   ],
   "id": "facfadad2537600d",
   "outputs": [
    {
     "name": "stdout",
     "output_type": "stream",
     "text": [
      "Data Frame:\n",
      "   Öğrenci  Sınıf  Not\n",
      "0   Ahmet     10   85\n",
      "1  Mehmet     11   92\n",
      "2    Ayşe     10   78\n",
      "3   Fatma     12   88\n"
     ]
    }
   ],
   "execution_count": 5
  },
  {
   "metadata": {},
   "cell_type": "markdown",
   "source": "`pd.DataFrame()` fonksiyonunu kullanarak veri çerçevesini oluşturuyoruz. Bu kod parçası, `Öğrenci`, `Sınıf` ve `Not` sütunlarından oluşan bir veri çerçevesi oluşturur. Her sütunun verileri bir liste olarak belirlenir ve bu sütunlar bir veri çerçevesine birleştirilir. Oluşturulan veri çerçevesi, `df` değişkenine atanır ve daha sonra bu değişken üzerinde veri çerçevesi ile ilgili işlemler yapabiliriz.",
   "id": "32a6c9cb9e281b34"
  },
  {
   "metadata": {},
   "cell_type": "markdown",
   "source": "#### Veri Çerçevesi İndeksleme ve Dilimleme",
   "id": "9d1ca791dd8ced78"
  },
  {
   "metadata": {},
   "cell_type": "markdown",
   "source": " İndeksleme ve dilimleme, veri çerçevesinde belirli satırlara ve sütunlara erişmek için kullanılan işlemlerdir.",
   "id": "c56849d6252d9ac3"
  },
  {
   "metadata": {
    "ExecuteTime": {
     "end_time": "2025-08-31T19:47:42.027647Z",
     "start_time": "2025-08-31T19:47:42.021108Z"
    }
   },
   "cell_type": "code",
   "source": [
    "data = {'Öğrenci': ['Ahmet', 'Mehmet', 'Ayşe', 'Fatma'],\n",
    "        'Sınıf': [10, 11, 10, 12],\n",
    "        'Not': [85, 92, 78, 88]}\n",
    "\n",
    "df = pd.DataFrame(data)\n",
    "print(\"Data Frame:\\n\", df)\n",
    "print(\"------------------------\")\n",
    "print(\"First row: \\n\", df.loc[0])\n",
    "print(\"------------------------\")\n",
    "print(\"First and second rows: \\n\", df.loc[1:2])\n",
    "print(\"------------------------\")\n",
    "print(\"Column of 'Öğrenci': \\n\", df['Öğrenci'])\n",
    "print(\"------------------------\")\n",
    "print(\"Conditional indexing; Selecting students with a score greater than 85: \\n\", df[df['Not'] > 85])"
   ],
   "id": "d9d2462c9302e39a",
   "outputs": [
    {
     "name": "stdout",
     "output_type": "stream",
     "text": [
      "Data Frame:\n",
      "   Öğrenci  Sınıf  Not\n",
      "0   Ahmet     10   85\n",
      "1  Mehmet     11   92\n",
      "2    Ayşe     10   78\n",
      "3   Fatma     12   88\n",
      "------------------------\n",
      "First row: \n",
      " Öğrenci    Ahmet\n",
      "Sınıf         10\n",
      "Not           85\n",
      "Name: 0, dtype: object\n",
      "------------------------\n",
      "First and second rows: \n",
      "   Öğrenci  Sınıf  Not\n",
      "1  Mehmet     11   92\n",
      "2    Ayşe     10   78\n",
      "------------------------\n",
      "Column of 'Öğrenci': \n",
      " 0     Ahmet\n",
      "1    Mehmet\n",
      "2      Ayşe\n",
      "3     Fatma\n",
      "Name: Öğrenci, dtype: object\n",
      "------------------------\n",
      "Conditional indexing; Selecting students with a score greater than 85: \n",
      "   Öğrenci  Sınıf  Not\n",
      "1  Mehmet     11   92\n",
      "3   Fatma     12   88\n"
     ]
    }
   ],
   "execution_count": 6
  },
  {
   "metadata": {},
   "cell_type": "markdown",
   "source": "##### İndeksleme",
   "id": "bbd983b0a6aea5f9"
  },
  {
   "metadata": {},
   "cell_type": "markdown",
   "source": "İndeksleme, veri çerçevesindeki belirli satırlara erişmemizi sağlar. İki farklı indeksle yöntemi vardır, bunlar indeks numarası ve indeks etiketidir. İndeks numarısıyla erişim için `loc[]` indeksleme yöntemini kullanırız. Örneğin, `df.loc[0]` ifadesiyle ilk satıra, indeks numarası 0 olan satır, erişebiliriz. İndeks etiketiyle erişim için de `loc[]` indeksleme yöntemini kullanırız. Örneğin, `df.loc[1:2]` ifadesiyle 1. ve 2. satırlara, indeks etiketleri 1 ve 2 olan satırlar, erişebiliriz.",
   "id": "5c1417227bd15dca"
  },
  {
   "metadata": {},
   "cell_type": "markdown",
   "source": "##### Dilimleme",
   "id": "48647aa828340791"
  },
  {
   "metadata": {},
   "cell_type": "markdown",
   "source": "Dilimleme, belirli bir aralıktaki satırlara erişmemizi sağlar. Dilimleme işlemi, `:` operatörüyle gerçekleşir. Örneğin, `df[1:3]` ifadesiyle 1. ve 2. satırlara, indeks numaraları 1 ve 2 olan satırlar, erişebiliriz.",
   "id": "a57c1bb598c22760"
  },
  {
   "metadata": {},
   "cell_type": "markdown",
   "source": "##### Sütun Seçme",
   "id": "db18bb4cb6eb0465"
  },
  {
   "metadata": {},
   "cell_type": "markdown",
   "source": [
    "Sütun seçme işlemi, veri çerçevesinden belirli sütunları seçmeyi sağlar. Sütun adı kullanılarak sütunlara erişim sağlarız. Örneğin, `df['Öğrenci']`\n",
    "ifadesiyle `Öğrenci` sütununu seçebiliriz."
   ],
   "id": "fbf35f7580f6aac"
  },
  {
   "metadata": {},
   "cell_type": "markdown",
   "source": "##### Koşullu İndeksleme",
   "id": "399ecf2cc0ff3af0"
  },
  {
   "metadata": {},
   "cell_type": "markdown",
   "source": "Koşullu indeksleme, belirli bir koşul sağlayan satırları seçmemizi sağlar. Koşul ifadesi kullanılarak koşullu indeksleme gerçeklerştirilir. Örneğin `df[df['Not'] > 85]` ifadesiyle `Not` sütununda değeri 85' ten büyük olan öğrencileri seçebiliriz.",
   "id": "38f6e1d29d344dfe"
  },
  {
   "metadata": {},
   "cell_type": "markdown",
   "source": "#### Veri Çerçevesinde Sütun Ekleme, Silme ve Yeniden Adlandırma",
   "id": "48462966ea31b063"
  },
  {
   "metadata": {},
   "cell_type": "markdown",
   "source": "##### Sütun Ekleme",
   "id": "aa761937f44b1c3b"
  },
  {
   "metadata": {},
   "cell_type": "markdown",
   "source": "Yeni bir sütun eklemek için `[]` operatörünü kullanabiliriz. Yeni sütun adını belirtirken, ilgili sütuna ait verileri de eklemeliyiz. Örneğin, `df['Yaş'] = [15, 16, 15, 17]` ifadesiyle `Yaş` adında bir sütun ekleyebilriz.",
   "id": "22e3be8134c6cb9f"
  },
  {
   "metadata": {
    "ExecuteTime": {
     "end_time": "2025-08-31T19:47:42.058079Z",
     "start_time": "2025-08-31T19:47:42.052889Z"
    }
   },
   "cell_type": "code",
   "source": [
    "data = {'Öğrenci': ['Ahmet', 'Mehmet', 'Ayşe', 'Fatma'],\n",
    "        'Sınıf': [10, 11, 10, 12],\n",
    "        'Not': [85, 92, 78, 88]}\n",
    "\n",
    "df = pd.DataFrame(data)\n",
    "print(\"Data Frame:\\n\", df)\n",
    "\n",
    "print(\"------------------------------\")\n",
    "\n",
    "df['Yaş'] = [15, 16, 15, 17]\n",
    "print(\"New Data Frame:\\n\", df)"
   ],
   "id": "dcf62920eaebad95",
   "outputs": [
    {
     "name": "stdout",
     "output_type": "stream",
     "text": [
      "Data Frame:\n",
      "   Öğrenci  Sınıf  Not\n",
      "0   Ahmet     10   85\n",
      "1  Mehmet     11   92\n",
      "2    Ayşe     10   78\n",
      "3   Fatma     12   88\n",
      "------------------------------\n",
      "New Data Frame:\n",
      "   Öğrenci  Sınıf  Not  Yaş\n",
      "0   Ahmet     10   85   15\n",
      "1  Mehmet     11   92   16\n",
      "2    Ayşe     10   78   15\n",
      "3   Fatma     12   88   17\n"
     ]
    }
   ],
   "execution_count": 7
  },
  {
   "metadata": {},
   "cell_type": "markdown",
   "source": "##### Sütun Silme",
   "id": "fa25538d92ecbe5f"
  },
  {
   "metadata": {},
   "cell_type": "markdown",
   "source": "Bir sütunu silmek için `drop()` fonksiyonu, `axis` paremetresiyle sütun silme işlemini belirtir. `axis=1` ile sütun silme işlemi gerçekleştirilir. Örneğin, `df.drop('Not', axis=1, inplace=True)` ifadesiyle `Not` sütununu silebiliriz. `inpalace=True` paremetresi, değişikliğin doğrudan veri çerçevesine uygulanmasını sağlar.",
   "id": "975f40fc18a49953"
  },
  {
   "metadata": {
    "ExecuteTime": {
     "end_time": "2025-08-31T19:47:42.080176Z",
     "start_time": "2025-08-31T19:47:42.073510Z"
    }
   },
   "cell_type": "code",
   "source": [
    "data = {'Öğrenci': ['Ahmet', 'Mehmet', 'Ayşe', 'Fatma'],\n",
    "        'Sınıf': [10, 11, 10, 12],\n",
    "        'Not': [85, 92, 78, 88]}\n",
    "\n",
    "df = pd.DataFrame(data)\n",
    "print(\"Data Frame:\\n\", df)\n",
    "print(\"----------------------------\")\n",
    "\n",
    "df.drop('Not', axis=1, inplace=True)\n",
    "print(\"New Data Frame:\\n\", df)"
   ],
   "id": "82b8a10b68da8732",
   "outputs": [
    {
     "name": "stdout",
     "output_type": "stream",
     "text": [
      "Data Frame:\n",
      "   Öğrenci  Sınıf  Not\n",
      "0   Ahmet     10   85\n",
      "1  Mehmet     11   92\n",
      "2    Ayşe     10   78\n",
      "3   Fatma     12   88\n",
      "----------------------------\n",
      "New Data Frame:\n",
      "   Öğrenci  Sınıf\n",
      "0   Ahmet     10\n",
      "1  Mehmet     11\n",
      "2    Ayşe     10\n",
      "3   Fatma     12\n"
     ]
    }
   ],
   "execution_count": 8
  },
  {
   "metadata": {},
   "cell_type": "markdown",
   "source": "##### Sütunu Yeniden Adlandırma",
   "id": "176f0a97aa33aca4"
  },
  {
   "metadata": {},
   "cell_type": "markdown",
   "source": "Sütunun adını değiştirmek için `rename()` fonksiyonunu kullanabilriz. `rename()` fonksiyonu, `columns` parametresiyle sütun adınıı değiştirir. Örneğin, `df.rename(columns={'Sınıf': 'Sınıf Seviyesi'}, inplace=True)` ifadesiyle `Sınıf` sütunun adını `Sınıf Seviyesi` olarak değiştirebiliriz. `inplace=True` parametresi değişikliğin doğrudan veri çerçevesine uygulanmasını sağlar.",
   "id": "bd5a038bdfde4678"
  },
  {
   "metadata": {
    "ExecuteTime": {
     "end_time": "2025-08-31T19:47:42.097144Z",
     "start_time": "2025-08-31T19:47:42.091592Z"
    }
   },
   "cell_type": "code",
   "source": [
    "data = {'Öğrenci': ['Ahmet', 'Mehmet', 'Ayşe', 'Fatma'],\n",
    "        'Sınıf': [10, 11, 10, 12],\n",
    "        'Not': [85, 92, 78, 88]}\n",
    "\n",
    "df = pd.DataFrame(data)\n",
    "print(\"Data Frame:\\n\", df)\n",
    "print(\"-----------------------------------\")\n",
    "\n",
    "df.rename(columns={'Sınıf': 'Sınıf Seviyesi'}, inplace=True)\n",
    "print(\"New Data Frame:\\n\", df)"
   ],
   "id": "317e73cd1b1ce810",
   "outputs": [
    {
     "name": "stdout",
     "output_type": "stream",
     "text": [
      "Data Frame:\n",
      "   Öğrenci  Sınıf  Not\n",
      "0   Ahmet     10   85\n",
      "1  Mehmet     11   92\n",
      "2    Ayşe     10   78\n",
      "3   Fatma     12   88\n",
      "-----------------------------------\n",
      "New Data Frame:\n",
      "   Öğrenci  Sınıf Seviyesi  Not\n",
      "0   Ahmet              10   85\n",
      "1  Mehmet              11   92\n",
      "2    Ayşe              10   78\n",
      "3   Fatma              12   88\n"
     ]
    }
   ],
   "execution_count": 9
  },
  {
   "metadata": {},
   "cell_type": "markdown",
   "source": "## Veri Setini Tanıma",
   "id": "c7d3a361ea2eea95"
  },
  {
   "metadata": {},
   "cell_type": "markdown",
   "source": "Pandas kütüphanesinde veri tanıma işlemini, verinin yapısını ve içeriğini anlamak için kullanırız.",
   "id": "2dad8ff1ef594639"
  },
  {
   "metadata": {},
   "cell_type": "markdown",
   "source": "### head() Fonksiyonu",
   "id": "c85d629f4a55983a"
  },
  {
   "metadata": {},
   "cell_type": "markdown",
   "source": "Veri çerçevesinin ilk `n` satırını görüntüler.",
   "id": "27b3c3d7eef17bb1"
  },
  {
   "metadata": {
    "ExecuteTime": {
     "end_time": "2025-08-31T19:47:42.112082Z",
     "start_time": "2025-08-31T19:47:42.107737Z"
    }
   },
   "cell_type": "code",
   "source": [
    "data = {'Öğrenci': ['Süleyaman', 'Ayşe', 'Mehmet', 'Ahmet', 'Aylin', 'Mustafa',\n",
    "                    'Ebru', 'Can', 'Deniz', 'Gizem', 'İbrahim', 'Elif', 'Burak', 'Fatma', 'Emre', 'Ceren', 'Gül',\n",
    "                    'Kadir', 'İrem', 'Ozan'],\n",
    "        'Ders': ['Python Programlama', 'Fizik', 'Kimya', 'Matematik', 'Fizik', 'Kimya', 'Matematik', 'Fizik', 'Kimya',\n",
    "                 'Matematik', 'Fizik', 'Kimya', 'Matematik', 'Fizik', 'Kimya', 'Matematik', 'Fizik', 'Kimya',\n",
    "                 'Matematik', 'Fizik'],\n",
    "        'Not': [75, 85, 95, 75, 80, 92, 87, 88, 93, 82, 79, 91, 86, 89, 78, 83, 94, 81, 84, 90]}\n",
    "\n",
    "df = pd.DataFrame(data)\n",
    "print(\"Top 10 of the Data Frame:\\n\", df.head(10))"
   ],
   "id": "a987f7d3f2e63b43",
   "outputs": [
    {
     "name": "stdout",
     "output_type": "stream",
     "text": [
      "Top 10 of the Data Frame:\n",
      "      Öğrenci                Ders  Not\n",
      "0  Süleyaman  Python Programlama   75\n",
      "1       Ayşe               Fizik   85\n",
      "2     Mehmet               Kimya   95\n",
      "3      Ahmet           Matematik   75\n",
      "4      Aylin               Fizik   80\n",
      "5    Mustafa               Kimya   92\n",
      "6       Ebru           Matematik   87\n",
      "7        Can               Fizik   88\n",
      "8      Deniz               Kimya   93\n",
      "9      Gizem           Matematik   82\n"
     ]
    }
   ],
   "execution_count": 10
  },
  {
   "metadata": {},
   "cell_type": "markdown",
   "source": "### info() Fonksiyonu",
   "id": "fb4f471240ec3157"
  },
  {
   "metadata": {},
   "cell_type": "markdown",
   "source": "Veri çerçevesinin genel bilgilerini ve sütunlarını veri tiplerini gösterir.",
   "id": "72efc419b2094fb3"
  },
  {
   "metadata": {
    "ExecuteTime": {
     "end_time": "2025-08-31T19:47:42.130510Z",
     "start_time": "2025-08-31T19:47:42.124156Z"
    }
   },
   "cell_type": "code",
   "source": [
    "data = {'Öğrenci': ['Süleyaman', 'Ayşe', 'Mehmet', 'Ahmet', 'Aylin', 'Mustafa',\n",
    "                    'Ebru', 'Can', 'Deniz', 'Gizem', 'İbrahim', 'Elif', 'Burak', 'Fatma', 'Emre', 'Ceren', 'Gül',\n",
    "                    'Kadir', 'İrem', 'Ozan'],\n",
    "        'Ders': ['Python Programlama', 'Fizik', 'Kimya', 'Matematik', 'Fizik', 'Kimya', 'Matematik', 'Fizik', 'Kimya',\n",
    "                 'Matematik', 'Fizik', 'Kimya', 'Matematik', 'Fizik', 'Kimya', 'Matematik', 'Fizik', 'Kimya',\n",
    "                 'Matematik', 'Fizik'],\n",
    "        'Not': [75, 85, 95, 75, 80, 92, 87, 88, 93, 82, 79, 91, 86, 89, 78, 83, 94, 81, 84, 90]}\n",
    "\n",
    "df = pd.DataFrame(data)\n",
    "\n",
    "print(\"Information of the Data Frame: \\n\", df.info())"
   ],
   "id": "fab284581fca6360",
   "outputs": [
    {
     "name": "stdout",
     "output_type": "stream",
     "text": [
      "<class 'pandas.core.frame.DataFrame'>\n",
      "RangeIndex: 20 entries, 0 to 19\n",
      "Data columns (total 3 columns):\n",
      " #   Column   Non-Null Count  Dtype \n",
      "---  ------   --------------  ----- \n",
      " 0   Öğrenci  20 non-null     object\n",
      " 1   Ders     20 non-null     object\n",
      " 2   Not      20 non-null     int64 \n",
      "dtypes: int64(1), object(2)\n",
      "memory usage: 612.0+ bytes\n",
      "Information of the Data Frame: \n",
      " None\n"
     ]
    }
   ],
   "execution_count": 11
  },
  {
   "metadata": {},
   "cell_type": "markdown",
   "source": "### describe() Fonksiyonu",
   "id": "148b5d98a37435f7"
  },
  {
   "metadata": {},
   "cell_type": "markdown",
   "source": "Veri çerçevesinin sayısal sütunları için istatistiksel özet bilgileri göstrir.",
   "id": "a7bb1d883d9747e6"
  },
  {
   "metadata": {
    "ExecuteTime": {
     "end_time": "2025-08-31T19:47:42.147680Z",
     "start_time": "2025-08-31T19:47:42.141241Z"
    }
   },
   "cell_type": "code",
   "source": [
    "data = {'Öğrenci': ['Süleyaman', 'Ayşe', 'Mehmet', 'Ahmet', 'Aylin', 'Mustafa',\n",
    "                    'Ebru', 'Can', 'Deniz', 'Gizem', 'İbrahim', 'Elif', 'Burak', 'Fatma', 'Emre', 'Ceren', 'Gül',\n",
    "                    'Kadir', 'İrem', 'Ozan'],\n",
    "        'Ders': ['Python Programlama', 'Fizik', 'Kimya', 'Matematik', 'Fizik', 'Kimya', 'Matematik', 'Fizik', 'Kimya',\n",
    "                 'Matematik', 'Fizik', 'Kimya', 'Matematik', 'Fizik', 'Kimya', 'Matematik', 'Fizik', 'Kimya',\n",
    "                 'Matematik', 'Fizik'],\n",
    "        'Not': [75, 85, 95, 75, 80, 92, 87, 88, 93, 82, 79, 91, 86, 89, 78, 83, 94, 81, 84, 90]}\n",
    "\n",
    "df = pd.DataFrame(data)\n",
    "\n",
    "print(\"Statistical summary information of the numerical columns of the data frame: \\n\", df.describe())"
   ],
   "id": "54280065c1b92c6b",
   "outputs": [
    {
     "name": "stdout",
     "output_type": "stream",
     "text": [
      "Statistical summary information of the numerical columns of the data frame: \n",
      "              Not\n",
      "count  20.000000\n",
      "mean   85.350000\n",
      "std     6.166761\n",
      "min    75.000000\n",
      "25%    80.750000\n",
      "50%    85.500000\n",
      "75%    90.250000\n",
      "max    95.000000\n"
     ]
    }
   ],
   "execution_count": 12
  },
  {
   "metadata": {},
   "cell_type": "markdown",
   "source": "### shape Özelliği",
   "id": "f6dc5930265f2d6c"
  },
  {
   "metadata": {},
   "cell_type": "markdown",
   "source": "Veri çerçevesinin satır ve sütun sayısını gösterir.",
   "id": "d3c6f0c1ef7647aa"
  },
  {
   "metadata": {
    "ExecuteTime": {
     "end_time": "2025-08-31T19:47:42.165695Z",
     "start_time": "2025-08-31T19:47:42.161394Z"
    }
   },
   "cell_type": "code",
   "source": [
    "data = {'Öğrenci': ['Süleyaman', 'Ayşe', 'Mehmet', 'Ahmet', 'Aylin', 'Mustafa',\n",
    "                    'Ebru', 'Can', 'Deniz', 'Gizem', 'İbrahim', 'Elif', 'Burak', 'Fatma', 'Emre', 'Ceren', 'Gül',\n",
    "                    'Kadir', 'İrem', 'Ozan'],\n",
    "        'Ders': ['Python Programlama', 'Fizik', 'Kimya', 'Matematik', 'Fizik', 'Kimya', 'Matematik', 'Fizik', 'Kimya',\n",
    "                 'Matematik', 'Fizik', 'Kimya', 'Matematik', 'Fizik', 'Kimya', 'Matematik', 'Fizik', 'Kimya',\n",
    "                 'Matematik', 'Fizik'],\n",
    "        'Not': [75, 85, 95, 75, 80, 92, 87, 88, 93, 82, 79, 91, 86, 89, 78, 83, 94, 81, 84, 90]}\n",
    "\n",
    "df = pd.DataFrame(data)\n",
    "\n",
    "print(\"Shape of the data frame: \\n\", df.shape)"
   ],
   "id": "85d0f4345dd57a48",
   "outputs": [
    {
     "name": "stdout",
     "output_type": "stream",
     "text": [
      "Shape of the data frame: \n",
      " (20, 3)\n"
     ]
    }
   ],
   "execution_count": 13
  },
  {
   "metadata": {},
   "cell_type": "markdown",
   "source": "### columns Özelliği",
   "id": "589c13342cdb8281"
  },
  {
   "metadata": {},
   "cell_type": "markdown",
   "source": "Sütunların adlarını gösterir.",
   "id": "91a81e7d16e4ae84"
  },
  {
   "metadata": {
    "ExecuteTime": {
     "end_time": "2025-08-31T19:47:42.182452Z",
     "start_time": "2025-08-31T19:47:42.178747Z"
    }
   },
   "cell_type": "code",
   "source": [
    "data = {'Öğrenci': ['Süleyaman', 'Ayşe', 'Mehmet', 'Ahmet', 'Aylin', 'Mustafa',\n",
    "                    'Ebru', 'Can', 'Deniz', 'Gizem', 'İbrahim', 'Elif', 'Burak', 'Fatma', 'Emre', 'Ceren', 'Gül',\n",
    "                    'Kadir', 'İrem', 'Ozan'],\n",
    "        'Ders': ['Python Programlama', 'Fizik', 'Kimya', 'Matematik', 'Fizik', 'Kimya', 'Matematik', 'Fizik', 'Kimya',\n",
    "                 'Matematik', 'Fizik', 'Kimya', 'Matematik', 'Fizik', 'Kimya', 'Matematik', 'Fizik', 'Kimya',\n",
    "                 'Matematik', 'Fizik'],\n",
    "        'Not': [75, 85, 95, 75, 80, 92, 87, 88, 93, 82, 79, 91, 86, 89, 78, 83, 94, 81, 84, 90]}\n",
    "\n",
    "df = pd.DataFrame(data)\n",
    "\n",
    "print(\"Columns name of the data frame: \\n\", df.columns)"
   ],
   "id": "b2f1aec68e9cfdf0",
   "outputs": [
    {
     "name": "stdout",
     "output_type": "stream",
     "text": [
      "Columns name of the data frame: \n",
      " Index(['Öğrenci', 'Ders', 'Not'], dtype='object')\n"
     ]
    }
   ],
   "execution_count": 14
  },
  {
   "metadata": {},
   "cell_type": "markdown",
   "source": "### dtypes Özelliği",
   "id": "ee5fbd69f3ad2cde"
  },
  {
   "metadata": {},
   "cell_type": "markdown",
   "source": "Sütunların veri tiplerini gösterir.",
   "id": "3514575f7297fb01"
  },
  {
   "metadata": {
    "ExecuteTime": {
     "end_time": "2025-08-31T19:47:42.200273Z",
     "start_time": "2025-08-31T19:47:42.195108Z"
    }
   },
   "cell_type": "code",
   "source": [
    "data = {'Öğrenci': ['Süleyaman', 'Ayşe', 'Mehmet', 'Ahmet', 'Aylin', 'Mustafa',\n",
    "                    'Ebru', 'Can', 'Deniz', 'Gizem', 'İbrahim', 'Elif', 'Burak', 'Fatma', 'Emre', 'Ceren', 'Gül',\n",
    "                    'Kadir', 'İrem', 'Ozan'],\n",
    "        'Ders': ['Python Programlama', 'Fizik', 'Kimya', 'Matematik', 'Fizik', 'Kimya', 'Matematik', 'Fizik', 'Kimya',\n",
    "                 'Matematik', 'Fizik', 'Kimya', 'Matematik', 'Fizik', 'Kimya', 'Matematik', 'Fizik', 'Kimya',\n",
    "                 'Matematik', 'Fizik'],\n",
    "        'Not': [75, 85, 95, 75, 80, 92, 87, 88, 93, 82, 79, 91, 86, 89, 78, 83, 94, 81, 84, 90]}\n",
    "\n",
    "df = pd.DataFrame(data)\n",
    "\n",
    "print(\"Data types of columns of the data frame: \\n\", df.dtypes)"
   ],
   "id": "73e81e58faedaae9",
   "outputs": [
    {
     "name": "stdout",
     "output_type": "stream",
     "text": [
      "Data types of columns of the data frame: \n",
      " Öğrenci    object\n",
      "Ders       object\n",
      "Not         int64\n",
      "dtype: object\n"
     ]
    }
   ],
   "execution_count": 15
  },
  {
   "metadata": {},
   "cell_type": "markdown",
   "source": "## Veri Okuma ve Yazma",
   "id": "635922f8d2992fe6"
  },
  {
   "metadata": {},
   "cell_type": "markdown",
   "source": [
    "Pandas farklı formatlardaki verileri kullanarak okumamıza olanak sağlar. İlgili formatın dosya adını veya bağlantı bilgisini belirterek veri okuma işlemini gerçekleştirebiliriz. Okunan veri, bir Pandas veri\n",
    "çerçevesi olarak depolanır ve sonrasında manipülasyon veya analiz için kullanılabilir."
   ],
   "id": "17043e747ede55bc"
  },
  {
   "metadata": {},
   "cell_type": "markdown",
   "source": "### .csv Dosyasından Veri Okuma",
   "id": "f93113b42ea85d1"
  },
  {
   "metadata": {
    "ExecuteTime": {
     "end_time": "2025-08-31T19:47:42.218633Z",
     "start_time": "2025-08-31T19:47:42.212914Z"
    }
   },
   "cell_type": "code",
   "source": [
    "df = pd.read_csv('example.csv')\n",
    "print('Example file: \\n', df)"
   ],
   "id": "57b626636a11050d",
   "outputs": [
    {
     "name": "stdout",
     "output_type": "stream",
     "text": [
      "Example file: \n",
      "    1  2  3\n",
      "0  4  5  6\n",
      "1  7  8  9\n"
     ]
    }
   ],
   "execution_count": 16
  },
  {
   "metadata": {},
   "cell_type": "markdown",
   "source": "### .xlsx (Excel) Dosyasından Veri Okuma",
   "id": "8fa4703cf2ec7ca2"
  },
  {
   "metadata": {
    "ExecuteTime": {
     "end_time": "2025-08-31T19:49:08.021566Z",
     "start_time": "2025-08-31T19:49:07.429063Z"
    }
   },
   "cell_type": "code",
   "source": [
    "df = read_excel('data.xlsx')\n",
    "print('Data file: \\n', df)"
   ],
   "id": "69c698958ce41fda",
   "outputs": [
    {
     "name": "stdout",
     "output_type": "stream",
     "text": [
      "Data file: \n",
      "     Öğrenci       Ders  Not\n",
      "0       Ali  Matematik   90\n",
      "1      Ayşe      Fizik   85\n",
      "2    Mehmet      Kimya   95\n",
      "3     Ahmet  Matematik   75\n",
      "4     Aylin      Fizik   80\n",
      "5   Mustafa      Kimya   92\n",
      "6      Ebru  Matematik   87\n",
      "7       Can      Fizik   88\n",
      "8     Deniz      Kimya   93\n",
      "9     Gizem  Matematik   82\n",
      "10  İbrahim      Fizik   79\n",
      "11     Elif      Kimya   91\n",
      "12    Burak  Matematik   86\n",
      "13    Fatma      Fizik   89\n",
      "14     Emre      Kimya   78\n",
      "15    Ceren  Matematik   83\n",
      "16      Gül      Fizik   94\n",
      "17    Kadir      Kimya   81\n",
      "18     İrem  Matematik   84\n",
      "19     Ozan      Fizik   90\n"
     ]
    }
   ],
   "execution_count": 26
  },
  {
   "metadata": {},
   "cell_type": "markdown",
   "source": "### .csv Formatında Veri Yazma",
   "id": "402d804ffb9a42f3"
  },
  {
   "metadata": {},
   "cell_type": "markdown",
   "source": "`to_csv()` fonksiyonu kullanılarak veri çerçevesi `.csv` formatında belirtilen dosyaya kaydedilir.",
   "id": "906d48a70ef32a69"
  },
  {
   "metadata": {
    "ExecuteTime": {
     "end_time": "2025-08-31T19:53:51.873462Z",
     "start_time": "2025-08-31T19:53:51.857385Z"
    }
   },
   "cell_type": "code",
   "source": [
    "data = {'Öğrenci': ['Süleyaman', 'Ayşe', 'Mehmet', 'Ahmet', 'Aylin', 'Mustafa',\n",
    "                    'Ebru', 'Can', 'Deniz', 'Gizem', 'İbrahim', 'Elif', 'Burak', 'Fatma', 'Emre', 'Ceren', 'Gül',\n",
    "                    'Kadir', 'İrem', 'Ozan'],\n",
    "        'Ders': ['Python Programlama', 'Fizik', 'Kimya', 'Matematik', 'Fizik', 'Kimya', 'Matematik', 'Fizik', 'Kimya',\n",
    "                 'Matematik', 'Fizik', 'Kimya', 'Matematik', 'Fizik', 'Kimya', 'Matematik', 'Fizik', 'Kimya',\n",
    "                 'Matematik', 'Fizik'],\n",
    "        'Not': [75, 85, 95, 75, 80, 92, 87, 88, 93, 82, 79, 91, 86, 89, 78, 83, 94, 81, 84, 90]}\n",
    "\n",
    "df = pd.DataFrame(data)\n",
    "\n",
    "df.to_csv('dataset.csv')"
   ],
   "id": "5942e9464918c84d",
   "outputs": [],
   "execution_count": 27
  },
  {
   "metadata": {},
   "cell_type": "markdown",
   "source": "### .xlsx (Excel) Formatında Veri Yazma",
   "id": "d69646525d6f97f4"
  },
  {
   "metadata": {},
   "cell_type": "markdown",
   "source": "`to_excel()` fonksiyonu kullanılarak veri çerçevesi `.xlsx` formatında belirtilen dosyaya kaydedilir.",
   "id": "a7458d49d781b06f"
  },
  {
   "metadata": {
    "ExecuteTime": {
     "end_time": "2025-08-31T19:57:17.134715Z",
     "start_time": "2025-08-31T19:57:17.061023Z"
    }
   },
   "cell_type": "code",
   "source": [
    "data = {'Öğrenci': ['Süleyaman', 'Ayşe', 'Mehmet', 'Ahmet', 'Aylin', 'Mustafa',\n",
    "                    'Ebru', 'Can', 'Deniz', 'Gizem', 'İbrahim', 'Elif', 'Burak', 'Fatma', 'Emre', 'Ceren', 'Gül',\n",
    "                    'Kadir', 'İrem', 'Ozan'],\n",
    "        'Ders': ['Python Programlama', 'Fizik', 'Kimya', 'Matematik', 'Fizik', 'Kimya', 'Matematik', 'Fizik', 'Kimya',\n",
    "                 'Matematik', 'Fizik', 'Kimya', 'Matematik', 'Fizik', 'Kimya', 'Matematik', 'Fizik', 'Kimya',\n",
    "                 'Matematik', 'Fizik'],\n",
    "        'Not': [75, 85, 95, 75, 80, 92, 87, 88, 93, 82, 79, 91, 86, 89, 78, 83, 94, 81, 84, 90]}\n",
    "\n",
    "df = pd.DataFrame(data)\n",
    "\n",
    "df.to_excel('dataset.xlsx')"
   ],
   "id": "5155c5e7e3f636a7",
   "outputs": [],
   "execution_count": 28
  },
  {
   "metadata": {},
   "cell_type": "markdown",
   "source": "## Veri Temizleme ve Düzenleme",
   "id": "231e9fcc20aecaf9"
  },
  {
   "metadata": {},
   "cell_type": "markdown",
   "source": [
    "Veri temizleme ve düzenleme, veri analizi ve makine öğrenimi gibi veri odaklı işlemler için oldukça önemli bir adımdır. Veri temizleme ve düzenlemenin önemli nedenleri:\n",
    "\n",
    "`Veri Kalitesini Artırma:` Veri temizleme ve düzenleme işlemleri, veri setindeki hataları, eksik değerleri, aykırı verileri ve tutarsızlıkları tespit ederek düzeltmeyi amaçlar. Bu sayede veri kalitesi artar ve daha güvenilir sonuçlar elde edilir.\n",
    "\n",
    "`Yanlış veya Eksik Verileri Düzeltme:` Veri setlerinde yanlış veya eksik veriler olabilir. Bu, el ile girilen hatalı veriler, ölçüm hataları veya eksik veri noktaları olabilir. Veri temizleme ve düzenleme işlemleri, bu hataları tespit ederek düzeltmeyi sağlar veya eksik verileri doldurur.\n",
    "\n",
    "`Aykırı Verilerin Tespiti ve İşleme:` Aykırı veriler, diğer verilere kıyasla önemli ölçüde farklı olan ve genellikle hatalı veya istisnai değerleri temsil eden verilerdir. Aykırı veriler, analiz sonuçlarını yanıltabilir. Veri temizleme ve düzenleme işlemleri, aykırı verileri tespit etmeyi ve ugyun şekilde işlemeyi sağlar.\n",
    "\n",
    "`Veri Tutarlılığı Sağlama:` Veri setleri genellikle farklı kaynaklardan veya farklı formatlardan toplanır. Bu nedenle, veri setinde tutarsızlıklar olabilir. Veri temizleme ve düzenleme işlemleri, veri tutarlılığını sağlamak için farklı kaynaklardan gelen verileri birleştirme, veri formatını standartlaştırma ve tutarsızlıkları düzelme işlemlerini gerçekleştirir.\n",
    "\n",
    "`Analiz ve Modelleme Performansını Artırma:` Veri setlerindeki temileme ve düzenleme işlemleri, verinin analizi ve molleme aşamalarında daha iyi performans elde etmeyi sağlar. Temiz ve düzenli veri setleri, daha doğru sonuçlar elde etmek, model performansını arttırmak ve daha güvenilir kararlar almak için önemlidir.\n",
    "\n",
    "`Veri Uyumluluğunu Sağlama:` Farklı veri kaynaklarından gelen veriler genellikle farklı formatlarda olabilir. Veri temizleme ve düzenleme işlemleri, veri uyumluluğunu sağlamak için veri formatlarını dönüştürme, veri tiplerini uyarlama ve veri birleştirme gibi işlemleri gerçekleştirir.\n",
    "\n",
    "Veri temizleme ve düzenleme işlemleri, verinin sağlıklı bir şekilde analiz edilmesi ve makine öğrenimi modellerinin doğru çalışması için kritik öneme sahiptir. Bu işlemler, veri setinin güvenilirliğini artırır, analiz sonuçlarının doğruluğunu sağlar ve veri tabanlı karar verme süreçlerinde güvenilir bir temel oluşturur."
   ],
   "id": "4ae07ea7c85bd4ba"
  },
  {
   "metadata": {},
   "cell_type": "markdown",
   "source": "### Eksik Veriler ile Başa Çıkma",
   "id": "30d8b4699eb4d8fb"
  },
  {
   "metadata": {},
   "cell_type": "markdown",
   "source": "Hangi yöntemin kullanılacağı, veri yapısına, amaca ve analiz senaryosuna bağlı olarak belirlenmelidir.",
   "id": "a47ec786f8dea406"
  },
  {
   "metadata": {},
   "cell_type": "markdown",
   "source": "#### Eksik Verileri Silme",
   "id": "fd616ce2310245f9"
  },
  {
   "metadata": {
    "ExecuteTime": {
     "end_time": "2025-08-31T20:26:23.782332Z",
     "start_time": "2025-08-31T20:26:23.770364Z"
    }
   },
   "cell_type": "code",
   "source": [
    "df = pd.DataFrame({'A' : [1, 2, None, 4, 5],\n",
    "                   'B' : [None, 6, 7, None, 9]})\n",
    "\n",
    "df.dropna(inplace=True)\n",
    "print(\"Data Frama: \\n\", df)"
   ],
   "id": "36799d405b8ddc2a",
   "outputs": [
    {
     "name": "stdout",
     "output_type": "stream",
     "text": [
      "Data Frama: \n",
      "      A    B\n",
      "1  2.0  6.0\n",
      "4  5.0  9.0\n"
     ]
    }
   ],
   "execution_count": 29
  },
  {
   "metadata": {},
   "cell_type": "markdown",
   "source": "`dropna()` fonksiyonu ile eksik veriye sahip olan satır ve sütunları silebiliriz. `inplace=True` parametresi, işlemi veri çerçevesi üzerinde gerçekleştirir ve orijinal veri çerçevesini değiştirir.",
   "id": "a9231144db26c7b6"
  },
  {
   "metadata": {},
   "cell_type": "markdown",
   "source": "#### Eksik Verileri Doldurma",
   "id": "5e4d02629472a84b"
  },
  {
   "metadata": {
    "ExecuteTime": {
     "end_time": "2025-08-31T20:34:59.330424Z",
     "start_time": "2025-08-31T20:34:59.324701Z"
    }
   },
   "cell_type": "code",
   "source": [
    "df = pd.DataFrame({'A' : [1, 2, None, 4, 5],\n",
    "                   'B' : [None, 6, 7, None, 9]})\n",
    "\n",
    "df.fillna(0, inplace=True)\n",
    "print(\"Data Frama: \\n\", df)"
   ],
   "id": "8b9bc0f1b2a8206a",
   "outputs": [
    {
     "name": "stdout",
     "output_type": "stream",
     "text": [
      "Data Frama: \n",
      "      A    B\n",
      "0  1.0  0.0\n",
      "1  2.0  6.0\n",
      "2  0.0  7.0\n",
      "3  4.0  0.0\n",
      "4  5.0  9.0\n"
     ]
    }
   ],
   "execution_count": 30
  },
  {
   "metadata": {},
   "cell_type": "markdown",
   "source": "`fillna()` fonksiyonunu kullanarak eksik verileri belirli bir değerle doldururuz. Yukarıdaki örnekte, eksik verileri 0 değeriyle doldurdurk.",
   "id": "2eb5018cfe60d1c9"
  },
  {
   "metadata": {},
   "cell_type": "markdown",
   "source": "#### Eksik Verileri Ortalama Değerle Doldurma",
   "id": "395f1624678405ac"
  },
  {
   "metadata": {
    "ExecuteTime": {
     "end_time": "2025-08-31T20:42:59.683809Z",
     "start_time": "2025-08-31T20:42:59.675152Z"
    }
   },
   "cell_type": "code",
   "source": [
    "df = pd.DataFrame({'A' : [1, 2, None, 4, 5],\n",
    "                   'B' : [None, 6, 7, None, 9]})\n",
    "\n",
    "df.fillna({'A': df['A'].mean(), 'B': df['B'].mean()}, inplace=True)\n",
    "print(\"Data Frama: \\n\", df)"
   ],
   "id": "3d4d28d39a99f13f",
   "outputs": [
    {
     "name": "stdout",
     "output_type": "stream",
     "text": [
      "Data Frama: \n",
      "      A         B\n",
      "0  1.0  7.333333\n",
      "1  2.0  6.000000\n",
      "2  3.0  7.000000\n",
      "3  4.0  7.333333\n",
      "4  5.0  9.000000\n"
     ]
    }
   ],
   "execution_count": 33
  },
  {
   "metadata": {},
   "cell_type": "markdown",
   "source": "`mean()` fonksiyonunu kullanarak sütununm ortalamasını hesaplarız ve eksik verileri bu değerle doldururuz.",
   "id": "7c263b92397fabf9"
  },
  {
   "metadata": {},
   "cell_type": "markdown",
   "source": "#### Eksik Verileri İleriye Doğru Doldurma",
   "id": "1b07e9cfd71ab37d"
  },
  {
   "metadata": {
    "ExecuteTime": {
     "end_time": "2025-08-31T20:47:29.311905Z",
     "start_time": "2025-08-31T20:47:29.304792Z"
    }
   },
   "cell_type": "code",
   "source": [
    "df = pd.DataFrame({'A' : [1, 2, None, 4, 5],\n",
    "                   'B' : [None, 6, 7, None, 9]})\n",
    "\n",
    "df.ffill(inplace=True)\n",
    "print(\"Data Frama: \\n\", df)"
   ],
   "id": "a5d863984396a00b",
   "outputs": [
    {
     "name": "stdout",
     "output_type": "stream",
     "text": [
      "Data Frama: \n",
      "      A    B\n",
      "0  1.0  NaN\n",
      "1  2.0  6.0\n",
      "2  2.0  7.0\n",
      "3  4.0  7.0\n",
      "4  5.0  9.0\n"
     ]
    }
   ],
   "execution_count": 41
  },
  {
   "metadata": {},
   "cell_type": "markdown",
   "source": "`ffill()` fonksiyonunu kullanarak eksik verileri, eksik verinin bir önceki değeriyle doldururuz.",
   "id": "f13b83af724a8600"
  },
  {
   "metadata": {},
   "cell_type": "markdown",
   "source": "#### Eksik Verileri Geriye Doğru Doldurma",
   "id": "f3028b94e6abe95f"
  },
  {
   "metadata": {},
   "cell_type": "markdown",
   "source": [
    "`bfill()` fonksiyonu ile eksik verileri, eksik verinin bir sonraki değeriyle doldururuz. Bu yöntem, zaman serileri veya ardışık değerelere sahip verilerin doldurulmasında kullanışlı olabilir.\n",
    "\n",
    "Eksik verileri ileriye veya geriye doğru doldurma yöntemleri, eksik değerleri yakınsayan değerlerle doldurarak veri setinin tutarlılığını korur."
   ],
   "id": "4f6141c84a1ee929"
  },
  {
   "metadata": {},
   "cell_type": "markdown",
   "source": "### Veri Türlerini Dönüştürme",
   "id": "632a847065a264c2"
  },
  {
   "metadata": {},
   "cell_type": "markdown",
   "source": "Veri türlerini doğru şekilde dönüştürmek, veri analizi ve işlme süreçlerinde verinin doğruluğunu, uyumluluğunu, bellek kullanımını ve görseleştirmelerin etkinliğini sağlar. BU nedenle, veri türü dönüşümleri veri yönetimi ve veri analitiği süreçlerinin önemli parçasıdır.",
   "id": "337d23795d48393a"
  },
  {
   "metadata": {},
   "cell_type": "markdown",
   "source": "#### Veri Türlerini Dönüştürme",
   "id": "2b3bdcd5b2a64eaa"
  },
  {
   "metadata": {
    "ExecuteTime": {
     "end_time": "2025-08-31T21:00:54.164377Z",
     "start_time": "2025-08-31T21:00:54.157393Z"
    }
   },
   "cell_type": "code",
   "source": [
    "df = pd.DataFrame({'A': [1, 2, 3],\n",
    "                   'B': [4.5, 5.6, 6.7],\n",
    "                   'C': ['7', '8', '9']})\n",
    "\n",
    "df['A'] = df['A'].astype(float)\n",
    "df['B'] = df['B'].astype(int)\n",
    "df['C'] = df['C'].astype(str)\n",
    "\n",
    "print(\"Data Frama: \\n\", df)"
   ],
   "id": "65d6e1161a5963fd",
   "outputs": [
    {
     "name": "stdout",
     "output_type": "stream",
     "text": [
      "Data Frama: \n",
      "      A  B  C\n",
      "0  1.0  4  7\n",
      "1  2.0  5  8\n",
      "2  3.0  6  9\n"
     ]
    }
   ],
   "execution_count": 42
  },
  {
   "metadata": {},
   "cell_type": "markdown",
   "source": "Yukarıdaki örnekte, `astype()` fonksiyonunu kullanarak `A` sütununu tam sayı veri tipinden kayar noktalı veri tipine, `B` sütununu kayar noktalı veri tipinden tam sayı veri tipine dönüştürüyoruz. `C` sütunu ise zaten dize olarak tanımlanmış olduğu için herhangi bir dönüşüm yapılmıyor.",
   "id": "b3084628b965992c"
  },
  {
   "metadata": {},
   "cell_type": "markdown",
   "source": "#### Tarih ve Saat Dönüşümleri",
   "id": "500c171a45c2c2f0"
  },
  {
   "metadata": {
    "ExecuteTime": {
     "end_time": "2025-08-31T21:10:45.500831Z",
     "start_time": "2025-08-31T21:10:45.489987Z"
    }
   },
   "cell_type": "code",
   "source": [
    "df = pd.DataFrame({'Tarih': ['2021-01-01', '2022-02-02', '2023-03-03'],\n",
    "                   'Saat': ['12:00:00', '13:30:00', '15:45:00']})\n",
    "\n",
    "df['Tarih'] = pd.to_datetime(df['Tarih'])\n",
    "df['Saat'] = pd.to_datetime(df['Saat'], format='%H:%M:%S').dt.time\n",
    "\n",
    "\n",
    "print(\"Data Frama: \\n\", df)"
   ],
   "id": "8d0f1bdfd6117375",
   "outputs": [
    {
     "name": "stdout",
     "output_type": "stream",
     "text": [
      "Data Frama: \n",
      "        Tarih      Saat\n",
      "0 2021-01-01  12:00:00\n",
      "1 2022-02-02  13:30:00\n",
      "2 2023-03-03  15:45:00\n"
     ]
    }
   ],
   "execution_count": 46
  },
  {
   "metadata": {},
   "cell_type": "markdown",
   "source": "Yukarıdaki örnekte, `to_datetime()` fonksiyonunu kullanarak `Tarih` sütununu `datetime64` veri türüne dönüştürüyoruz. `Saat` sütunu ise `to_datetime()` fonksiyonu ile `datetiem64` veri türüne dönüştürüyoruz.",
   "id": "db095de1191afe92"
  },
  {
   "metadata": {},
   "cell_type": "markdown",
   "source": "### Veri Çerçevesinde Sütunları Yeniden Şekillendirme ve Dönüştürme",
   "id": "a61bce2c75ddfa45"
  },
  {
   "metadata": {},
   "cell_type": "markdown",
   "source": "Veri çerçevesinde sütunları yenien sekillendirmeve dönüştürme işlemleri, verinin analizi, işlenmesi veya raporlanması için gereken uygun formata getirilmesini sağlar.",
   "id": "104327f2a1e2d303"
  },
  {
   "metadata": {},
   "cell_type": "markdown",
   "source": "#### Sütunları Dönüştürme",
   "id": "204920af52514593"
  },
  {
   "metadata": {
    "ExecuteTime": {
     "end_time": "2025-08-31T21:38:48.463680Z",
     "start_time": "2025-08-31T21:38:48.454433Z"
    }
   },
   "cell_type": "code",
   "source": [
    "df = pd.DataFrame({'Kategori': ['A', 'B', 'C'],\n",
    "                   'Değer': [10, 20, 30]})\n",
    "\n",
    "df['Yeni_Kategori'] = df['Kategori'].apply(lambda x: x.lower())\n",
    "print(\"Data Frama: \\n\", df)"
   ],
   "id": "a463de808563a7a7",
   "outputs": [
    {
     "name": "stdout",
     "output_type": "stream",
     "text": [
      "Data Frama: \n",
      "   Kategori  Değer Yeni_Kategori\n",
      "0        A     10             a\n",
      "1        B     20             b\n",
      "2        C     30             c\n"
     ]
    }
   ],
   "execution_count": 47
  },
  {
   "metadata": {},
   "cell_type": "markdown",
   "source": "Yukarıdaki örnekte, `apply()` ve `lambda`  fonksiyonlarını kullanarak `Kategori` sütununu küçük harfe dönüştürerek `Yeni_Kategori` sütununu oluşturduk.",
   "id": "5a89a3d33a9bad0b"
  },
  {
   "metadata": {},
   "cell_type": "markdown",
   "source": "#### Sütunları Yeniden Şekillendirme",
   "id": "d221c592c7a4981d"
  },
  {
   "metadata": {
    "ExecuteTime": {
     "end_time": "2025-08-31T21:43:42.326228Z",
     "start_time": "2025-08-31T21:43:42.294840Z"
    }
   },
   "cell_type": "code",
   "source": [
    "df = pd.DataFrame({'Öğrenci': ['Ali', 'Ayşe', 'Mehmet'],\n",
    "                   'Ders': ['Matematik', 'Fizik', 'Kimya'],\n",
    "                   'Not': [90, 85, 95]})\n",
    "\n",
    "dfPivot = df.pivot(index='Öğrenci', columns='Ders', values='Not')\n",
    "print(\"Data Frama: \\n\", dfPivot)"
   ],
   "id": "67f9f8b21f953eb4",
   "outputs": [
    {
     "name": "stdout",
     "output_type": "stream",
     "text": [
      "Data Frama: \n",
      " Ders     Fizik  Kimya  Matematik\n",
      "Öğrenci                         \n",
      "Ali        NaN    NaN       90.0\n",
      "Ayşe      85.0    NaN        NaN\n",
      "Mehmet     NaN   95.0        NaN\n"
     ]
    }
   ],
   "execution_count": 48
  },
  {
   "metadata": {},
   "cell_type": "markdown",
   "source": "Yukarıdaki örnekte, `pivot()` fonksiyonu kullanılarak `Ders` sütunu sütunlara, `Öğrenci` sütunu ise satırlara dönüştürülerek yeni bir veri çerçevesi oluşturduk. Bu işlem, her öğrencinin aldığı ders notlarını daha düzenli bir şekilde göstermek için kullanılır.",
   "id": "b8169ad2c14eec29"
  },
  {
   "metadata": {},
   "cell_type": "markdown",
   "source": "#### Sütunları Birleştirme",
   "id": "d183bd2b9e8c08ab"
  },
  {
   "metadata": {
    "ExecuteTime": {
     "end_time": "2025-08-31T21:48:53.471625Z",
     "start_time": "2025-08-31T21:48:53.453110Z"
    }
   },
   "cell_type": "code",
   "source": [
    "df1 = pd.DataFrame({'Öğrenci': ['Ali', 'Ayşe', 'Mehmet'],\n",
    "                    'Ders1': [90, 85, 95]})\n",
    "df2 = pd.DataFrame({'Öğrenci': ['Ali', 'Ayşe', 'Mehmet'],\n",
    "                    'Ders2': [80, 75, 85]})\n",
    "\n",
    "dfMerge = pd.merge(df1, df2, on='Öğrenci')\n",
    "print(\"Data Frama: \\n\", dfMerge)"
   ],
   "id": "d0b4751647a4d374",
   "outputs": [
    {
     "name": "stdout",
     "output_type": "stream",
     "text": [
      "Data Frama: \n",
      "   Öğrenci  Ders1  Ders2\n",
      "0     Ali     90     80\n",
      "1    Ayşe     85     75\n",
      "2  Mehmet     95     85\n"
     ]
    }
   ],
   "execution_count": 49
  },
  {
   "metadata": {},
   "cell_type": "markdown",
   "source": "Yukarıdaki örnekte, `merge()` fonksiyonu kullanılarak oluşturduğmuz iki ayrı veri çerçevesi `df1` ve `df2` öğrencilere ait ders notlarını içerir. Bu iki çerçeveyi, `Öğrenci` sütunu üzerinden birleştirerek tek bir veri çerçevesi oluşturduk.",
   "id": "964c69f19852f4a3"
  },
  {
   "metadata": {},
   "cell_type": "markdown",
   "source": "#### Veri Çerçevesindeki Tekrar Eden veya Gereksiz Verileri Kaldırma",
   "id": "adad9df70cb58c98"
  },
  {
   "metadata": {},
   "cell_type": "markdown",
   "source": "Veri çerçevesindeki tekrar eden veya gereksiz verileri kaldırm işlemei, verinin temizlenmesi, veri analizi ve işleme süreçlerinde daha doğru sonuçlar elde etmek için yapılır. Bu işlem veri tutarsızlığını giderme, analiz ve modelleme doğruluğunu artırma, veri boyutunu azaltma gibi nedenlerle gerçekleştirilir.",
   "id": "15066ed00c66aff"
  },
  {
   "metadata": {
    "ExecuteTime": {
     "end_time": "2025-08-31T21:57:47.334363Z",
     "start_time": "2025-08-31T21:57:47.320393Z"
    }
   },
   "cell_type": "code",
   "source": [
    "df = pd.DataFrame({'Kategori': ['A', 'B', 'C', 'A', 'B'],\n",
    "                   'Değer': [10, 20, 30, 10, 40]})\n",
    "\n",
    "dfUnique = df.drop_duplicates()\n",
    "print(\"Data Frama: \\n\", dfUnique)"
   ],
   "id": "abac8e440ccdbb99",
   "outputs": [
    {
     "name": "stdout",
     "output_type": "stream",
     "text": [
      "Data Frama: \n",
      "   Kategori  Değer\n",
      "0        A     10\n",
      "1        B     20\n",
      "2        C     30\n",
      "4        B     40\n"
     ]
    }
   ],
   "execution_count": 50
  },
  {
   "metadata": {},
   "cell_type": "markdown",
   "source": "Yukarıdaki örnekte, `drop_duplicates()` fonksiyonunu kullanarak oluşturduğumuz `df` veri çerçevesinde tekrar eden satırlar kaldırılır ve `dfUnique` adında yeni bir veri çerçevesi oluştururuz. Bu işlem, aynı kategoriye sahip tekrar eden verilerin kaldırılmasını sağlar.",
   "id": "9c713dc237949d6e"
  }
 ],
 "metadata": {
  "kernelspec": {
   "display_name": "Python 3",
   "language": "python",
   "name": "python3"
  },
  "language_info": {
   "codemirror_mode": {
    "name": "ipython",
    "version": 2
   },
   "file_extension": ".py",
   "mimetype": "text/x-python",
   "name": "python",
   "nbconvert_exporter": "python",
   "pygments_lexer": "ipython2",
   "version": "2.7.6"
  }
 },
 "nbformat": 4,
 "nbformat_minor": 5
}
