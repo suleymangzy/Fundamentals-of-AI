{
 "cells": [
  {
   "metadata": {},
   "cell_type": "markdown",
   "source": "# Pandas",
   "id": "b66949222dee801b"
  },
  {
   "metadata": {},
   "cell_type": "markdown",
   "source": "## Pandas Nedir?",
   "id": "32775c891cd61086"
  },
  {
   "metadata": {},
   "cell_type": "markdown",
   "source": "Pandas, Python programlama dilinde veri analizi ve manipülasyonu için kullandığımız bir kütüphanedir. Veri işleme, temizleme, dönüştürme ve analiz için çeşitli veri yapıları ve fonksiyonlar sunar.  Verileri kolayca yüklememizi, filtrelememizi, sıralamamızı, birleştirmemizi, gruplandırmamızı ve istatiksel analizleri yapmamızı sağlar. Ayrıca, eksik verilerin yönetimi, verilerin zaman serisi analizi ve veri görselleştirme gibi özelliklere de sahiptir.",
   "id": "64e9d121ad73f369"
  },
  {
   "metadata": {
    "ExecuteTime": {
     "end_time": "2025-08-29T20:58:34.027669Z",
     "start_time": "2025-08-29T20:58:34.024885Z"
    }
   },
   "cell_type": "code",
   "source": [
    "import pandas as pd\n",
    "\n",
    "print(\"Version of Pandas libary: \", pd.__version__)"
   ],
   "id": "8519660c981756d0",
   "outputs": [
    {
     "name": "stdout",
     "output_type": "stream",
     "text": [
      "Version of Pandas libary:  2.3.2\n"
     ]
    }
   ],
   "execution_count": 3
  }
 ],
 "metadata": {
  "kernelspec": {
   "display_name": "Python 3",
   "language": "python",
   "name": "python3"
  },
  "language_info": {
   "codemirror_mode": {
    "name": "ipython",
    "version": 2
   },
   "file_extension": ".py",
   "mimetype": "text/x-python",
   "name": "python",
   "nbconvert_exporter": "python",
   "pygments_lexer": "ipython2",
   "version": "2.7.6"
  }
 },
 "nbformat": 4,
 "nbformat_minor": 5
}
