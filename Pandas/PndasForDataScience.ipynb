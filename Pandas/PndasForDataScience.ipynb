{
 "cells": [
  {
   "metadata": {},
   "cell_type": "markdown",
   "source": "# Veri Bilimi için Pandas",
   "id": "430a45f4fc3b6aab"
  },
  {
   "metadata": {},
   "cell_type": "markdown",
   "source": "## Veri Analizi ve İstatistiksel Hesaplamalar",
   "id": "776cc138908e4c5c"
  },
  {
   "metadata": {},
   "cell_type": "markdown",
   "source": "",
   "id": "2046d5225eab93dc"
  }
 ],
 "metadata": {
  "kernelspec": {
   "display_name": "Python 3",
   "language": "python",
   "name": "python3"
  },
  "language_info": {
   "codemirror_mode": {
    "name": "ipython",
    "version": 2
   },
   "file_extension": ".py",
   "mimetype": "text/x-python",
   "name": "python",
   "nbconvert_exporter": "python",
   "pygments_lexer": "ipython2",
   "version": "2.7.6"
  }
 },
 "nbformat": 4,
 "nbformat_minor": 5
}
