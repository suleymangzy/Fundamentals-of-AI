{
 "cells": [
  {
   "metadata": {},
   "cell_type": "markdown",
   "source": "# Veri Bilimi için Pandas",
   "id": "430a45f4fc3b6aab"
  },
  {
   "metadata": {
    "ExecuteTime": {
     "end_time": "2025-09-01T15:40:27.557771Z",
     "start_time": "2025-09-01T15:40:25.682020Z"
    }
   },
   "cell_type": "code",
   "source": "import pandas as pd",
   "id": "9b352d0a832c55c5",
   "outputs": [],
   "execution_count": 1
  },
  {
   "metadata": {},
   "cell_type": "markdown",
   "source": "## Veri Analizi ve İstatistiksel Hesaplamalar",
   "id": "776cc138908e4c5c"
  },
  {
   "metadata": {},
   "cell_type": "markdown",
   "source": [
    "Temel istatistiksel hesaplamalar, veri analizinde sıkça kullandığımız ve veri setinin özelliklerini anlamak için yapılan hesaplamalardır. Pandas, bu hesaplamaları gerçekleştirmek için bir dizi işlev ve yöntem sunar. Temel isatistiksel hesaplamaları gerçekleştirmek için kullanabileceğimiz bazı işlemler şunlardır:\n",
    "\n",
    "* `describe():` Veri çerçevesinin istatistiksel özetini sağlar. Bu işlev, veri setinin sütunları için temel istatistiksel hesaplamaları gerçekleştirmek için kullanabileceğimiz bazı işlemleri sunar.\n",
    "* `mean():` Sütundaki sayısal değerlerin ortalamasını hesaplar.\n",
    "* `median():` Sütundaki sayısal değerlerin ortanca değerini hesaplar.\n",
    "* `mode():`Sütundaki sayısal değerlerin modunu (en sık geçen değer) hesaplar.\n",
    "* `sum():` Sütundaki sayısal değerlerin toplamını hesaplar.\n",
    "* `min():` Sütundaki en küçük sayısal değeri bulur.\n",
    "* `max():` Sütundaki en büyük sayısal değeri bulur.\n",
    "* `std():` Sütunda bulunan sayısal değerlerin standart sapmasını hesaplar.\n",
    "* `var():` Sütunda bulunan sayısal değerlerin varyansını hesaplar.\n",
    "* `count():` Sütundaki toplam değer sayısını hesaplar.\n",
    "* `quantile():` Sütundaki sayısal değerlerin belirli yüzdelik dilimlerini hesaplar.\n",
    "* `corr():` Sütunlar arasındaki korelasyon matrisini hesaplar."
   ],
   "id": "2046d5225eab93dc"
  },
  {
   "metadata": {
    "ExecuteTime": {
     "end_time": "2025-09-01T16:00:19.544333Z",
     "start_time": "2025-09-01T16:00:19.528221Z"
    }
   },
   "cell_type": "code",
   "source": [
    "data = {\n",
    "    'Öğrenci': ['Ali', 'Ayşe', 'Mehmet', 'Ahmet', 'Aylin', 'Mustafa', 'Ebru',\n",
    "                'Can', 'Deniz', 'Gizem',\n",
    "                'İbrahim', 'Elif', 'Burak', 'Fatma', 'Emre', 'Ceren', 'Gül',\n",
    "                'Kadir', 'İrem', 'Ozan'],\n",
    "    'Ders': ['Matematik', 'Fizik', 'Kimya', 'Matematik', 'Fizik', 'Kimya',\n",
    "             'Matematik', 'Fizik', 'Kimya',\n",
    "             'Matematik', 'Fizik', 'Kimya', 'Matematik', 'Fizik', 'Kimya',\n",
    "             'Matematik', 'Fizik', 'Kimya',\n",
    "             'Matematik', 'Fizik'],\n",
    "    'Not': [90, 85, 95, 75, 80, 92, 87, 88, 93, 82, 79, 91, 86, 89, 78, 83,\n",
    "            94, 81, 84, 90]\n",
    "}\n",
    "\n",
    "df = pd.DataFrame(data)\n",
    "\n",
    "print(\"Display 5 rows of the dataframe: \\n\", df.head())\n",
    "print(\"----------------------------------\")\n",
    "print(\"Mean value of point column of the dataframe: \", df['Not'].mean())\n",
    "print(\"----------------------------------\")\n",
    "print(\"Median value of point column of the dataframe: \", df['Not'].median())\n",
    "print(\"----------------------------------\")\n",
    "print(\"Mode value of point column of the dataframe: \", df['Not'].mode())\n",
    "print(\"----------------------------------\")\n",
    "print(\"Total of point column of the dataframe: \", df['Not'].sum())\n",
    "print(\"----------------------------------\")\n",
    "print(\"Min value of point column of the dataframe: \", df['Not'].min())\n",
    "print(\"----------------------------------\")\n",
    "print(\"Max value of point column of the dataframe: \", df['Not'].max())\n",
    "print(\"----------------------------------\")\n",
    "print(\"Standard deviation of point column of the dataframe: \", df['Not'].std())\n",
    "print(\"----------------------------------\")\n",
    "print(\"Variance of point column of the dataframe: \", df['Not'].var())\n",
    "print(\"----------------------------------\")\n",
    "print(\"Count of point column of the dataframe: \", df['Not'].count())\n",
    "print(\"----------------------------------\")\n",
    "print(\"Quantiles of point column of the dataframe: \\n\", df['Not'].quantile([0, 0.25, 0.50, 0.75, 1]))\n",
    "print(\"---------------------------------\")\n",
    "print(\"Correlation matrix of point column of the dataframe: \", df['Not'].corr(df['Not']))"
   ],
   "id": "57e965584d1accd1",
   "outputs": [
    {
     "name": "stdout",
     "output_type": "stream",
     "text": [
      "Display 5 rows of the dataframe: \n",
      "   Öğrenci       Ders  Not\n",
      "0     Ali  Matematik   90\n",
      "1    Ayşe      Fizik   85\n",
      "2  Mehmet      Kimya   95\n",
      "3   Ahmet  Matematik   75\n",
      "4   Aylin      Fizik   80\n",
      "----------------------------------\n",
      "Mean value of point column of the dataframe:  86.1\n",
      "----------------------------------\n",
      "Median value of point column of the dataframe:  86.5\n",
      "----------------------------------\n",
      "Mode value of point column of the dataframe:  0    90\n",
      "Name: Not, dtype: int64\n",
      "----------------------------------\n",
      "Total of point column of the dataframe:  1722\n",
      "----------------------------------\n",
      "Min value of point column of the dataframe:  75\n",
      "----------------------------------\n",
      "Max value of point column of the dataframe:  95\n",
      "----------------------------------\n",
      "Standard deviation of point column of the dataframe:  5.739062824648564\n",
      "----------------------------------\n",
      "Variance of point column of the dataframe:  32.93684210526316\n",
      "----------------------------------\n",
      "Count of point column of the dataframe:  20\n",
      "----------------------------------\n",
      "Quantiles of point column of the dataframe: \n",
      " 0.00    75.00\n",
      "0.25    81.75\n",
      "0.50    86.50\n",
      "0.75    90.25\n",
      "1.00    95.00\n",
      "Name: Not, dtype: float64\n",
      "---------------------------------\n",
      "Correlation matrix of point column of the dataframe:  0.9999999999999999\n"
     ]
    }
   ],
   "execution_count": 20
  }
 ],
 "metadata": {
  "kernelspec": {
   "display_name": "Python 3",
   "language": "python",
   "name": "python3"
  },
  "language_info": {
   "codemirror_mode": {
    "name": "ipython",
    "version": 2
   },
   "file_extension": ".py",
   "mimetype": "text/x-python",
   "name": "python",
   "nbconvert_exporter": "python",
   "pygments_lexer": "ipython2",
   "version": "2.7.6"
  }
 },
 "nbformat": 4,
 "nbformat_minor": 5
}
