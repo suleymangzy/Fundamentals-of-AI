{
 "cells": [
  {
   "metadata": {},
   "cell_type": "markdown",
   "source": "# Veri Bilimi için Pandas",
   "id": "430a45f4fc3b6aab"
  },
  {
   "metadata": {
    "ExecuteTime": {
     "end_time": "2025-09-02T15:02:53.077591Z",
     "start_time": "2025-09-02T15:02:49.910974Z"
    }
   },
   "cell_type": "code",
   "source": "import pandas as pd",
   "id": "9b352d0a832c55c5",
   "outputs": [],
   "execution_count": 2
  },
  {
   "metadata": {},
   "cell_type": "markdown",
   "source": "## Veri Analizi ve İstatistiksel Hesaplamalar",
   "id": "776cc138908e4c5c"
  },
  {
   "metadata": {},
   "cell_type": "markdown",
   "source": [
    "Temel istatistiksel hesaplamalar, veri analizinde sıkça kullandığımız ve veri setinin özelliklerini anlamak için yapılan hesaplamalardır. Pandas, bu hesaplamaları gerçekleştirmek için bir dizi işlev ve yöntem sunar. Temel isatistiksel hesaplamaları gerçekleştirmek için kullanabileceğimiz bazı işlemler şunlardır:\n",
    "\n",
    "* `describe():` Veri çerçevesinin istatistiksel özetini sağlar. Bu işlev, veri setinin sütunları için temel istatistiksel hesaplamaları gerçekleştirmek için kullanabileceğimiz bazı işlemleri sunar.\n",
    "* `mean():` Sütundaki sayısal değerlerin ortalamasını hesaplar.\n",
    "* `median():` Sütundaki sayısal değerlerin ortanca değerini hesaplar.\n",
    "* `mode():`Sütundaki sayısal değerlerin modunu (en sık geçen değer) hesaplar.\n",
    "* `sum():` Sütundaki sayısal değerlerin toplamını hesaplar.\n",
    "* `min():` Sütundaki en küçük sayısal değeri bulur.\n",
    "* `max():` Sütundaki en büyük sayısal değeri bulur.\n",
    "* `std():` Sütunda bulunan sayısal değerlerin standart sapmasını hesaplar.\n",
    "* `var():` Sütunda bulunan sayısal değerlerin varyansını hesaplar.\n",
    "* `count():` Sütundaki toplam değer sayısını hesaplar.\n",
    "* `quantile():` Sütundaki sayısal değerlerin belirli yüzdelik dilimlerini hesaplar.\n",
    "* `corr():` Sütunlar arasındaki korelasyon matrisini hesaplar."
   ],
   "id": "2046d5225eab93dc"
  },
  {
   "metadata": {
    "ExecuteTime": {
     "end_time": "2025-09-02T15:02:53.135428Z",
     "start_time": "2025-09-02T15:02:53.094421Z"
    }
   },
   "cell_type": "code",
   "source": [
    "data = {\n",
    "    'Öğrenci': ['Ali', 'Ayşe', 'Mehmet', 'Ahmet', 'Aylin', 'Mustafa', 'Ebru',\n",
    "                'Can', 'Deniz', 'Gizem',\n",
    "                'İbrahim', 'Elif', 'Burak', 'Fatma', 'Emre', 'Ceren', 'Gül',\n",
    "                'Kadir', 'İrem', 'Ozan'],\n",
    "    'Ders': ['Matematik', 'Fizik', 'Kimya', 'Matematik', 'Fizik', 'Kimya',\n",
    "             'Matematik', 'Fizik', 'Kimya',\n",
    "             'Matematik', 'Fizik', 'Kimya', 'Matematik', 'Fizik', 'Kimya',\n",
    "             'Matematik', 'Fizik', 'Kimya',\n",
    "             'Matematik', 'Fizik'],\n",
    "    'Not': [90, 85, 95, 75, 80, 92, 87, 88, 93, 82, 79, 91, 86, 89, 78, 83,\n",
    "            94, 81, 84, 90]\n",
    "}\n",
    "\n",
    "df = pd.DataFrame(data)\n",
    "\n",
    "print(\"Display 5 rows of the dataframe: \\n\", df.head())\n",
    "print(\"----------------------------------\")\n",
    "print(\"Mean value of point column of the dataframe: \", df['Not'].mean())\n",
    "print(\"----------------------------------\")\n",
    "print(\"Median value of point column of the dataframe: \", df['Not'].median())\n",
    "print(\"----------------------------------\")\n",
    "print(\"Mode value of point column of the dataframe: \", df['Not'].mode())\n",
    "print(\"----------------------------------\")\n",
    "print(\"Total of point column of the dataframe: \", df['Not'].sum())\n",
    "print(\"----------------------------------\")\n",
    "print(\"Min value of point column of the dataframe: \", df['Not'].min())\n",
    "print(\"----------------------------------\")\n",
    "print(\"Max value of point column of the dataframe: \", df['Not'].max())\n",
    "print(\"----------------------------------\")\n",
    "print(\"Standard deviation of point column of the dataframe: \", df['Not'].std())\n",
    "print(\"----------------------------------\")\n",
    "print(\"Variance of point column of the dataframe: \", df['Not'].var())\n",
    "print(\"----------------------------------\")\n",
    "print(\"Count of point column of the dataframe: \", df['Not'].count())\n",
    "print(\"----------------------------------\")\n",
    "print(\"Quantiles of point column of the dataframe: \\n\", df['Not'].quantile([0, 0.25, 0.50, 0.75, 1]))\n",
    "print(\"---------------------------------\")\n",
    "print(\"Correlation matrix of point column of the dataframe: \", df['Not'].corr(df['Not']))"
   ],
   "id": "57e965584d1accd1",
   "outputs": [
    {
     "name": "stdout",
     "output_type": "stream",
     "text": [
      "Display 5 rows of the dataframe: \n",
      "   Öğrenci       Ders  Not\n",
      "0     Ali  Matematik   90\n",
      "1    Ayşe      Fizik   85\n",
      "2  Mehmet      Kimya   95\n",
      "3   Ahmet  Matematik   75\n",
      "4   Aylin      Fizik   80\n",
      "----------------------------------\n",
      "Mean value of point column of the dataframe:  86.1\n",
      "----------------------------------\n",
      "Median value of point column of the dataframe:  86.5\n",
      "----------------------------------\n",
      "Mode value of point column of the dataframe:  0    90\n",
      "Name: Not, dtype: int64\n",
      "----------------------------------\n",
      "Total of point column of the dataframe:  1722\n",
      "----------------------------------\n",
      "Min value of point column of the dataframe:  75\n",
      "----------------------------------\n",
      "Max value of point column of the dataframe:  95\n",
      "----------------------------------\n",
      "Standard deviation of point column of the dataframe:  5.739062824648564\n",
      "----------------------------------\n",
      "Variance of point column of the dataframe:  32.93684210526316\n",
      "----------------------------------\n",
      "Count of point column of the dataframe:  20\n",
      "----------------------------------\n",
      "Quantiles of point column of the dataframe: \n",
      " 0.00    75.00\n",
      "0.25    81.75\n",
      "0.50    86.50\n",
      "0.75    90.25\n",
      "1.00    95.00\n",
      "Name: Not, dtype: float64\n",
      "---------------------------------\n",
      "Correlation matrix of point column of the dataframe:  0.9999999999999999\n"
     ]
    }
   ],
   "execution_count": 3
  },
  {
   "metadata": {},
   "cell_type": "markdown",
   "source": "### Veri Gruplama ve Toplulaştırma (groupBy)",
   "id": "30dca687139cb8b6"
  },
  {
   "metadata": {},
   "cell_type": "markdown",
   "source": "Veri gruplama, belirli bir kriter veya sütuna göre verileri gruplara ayırırken, toplulaştırma işlemi ise her bir grup için istatistiksel hesaplamar yapmayı sağlar. Bu yöntemler sayesinde veriler daha anlaşılır hale gelir, gruplar arasındaki farklılıklar ve örüntüler ortaya çıkar. Genel bir bakış açısı elde edilir. Veri gruplama ve toplulaştırma, verilerin  özetlenmesi, analiz edilmesi ve karar verme süreçlerinde önemli bilgileri edinmemizi sağlar.",
   "id": "42777779b52a8a2a"
  },
  {
   "metadata": {
    "ExecuteTime": {
     "end_time": "2025-09-02T15:35:02.144461Z",
     "start_time": "2025-09-02T15:35:02.129462Z"
    }
   },
   "cell_type": "code",
   "source": [
    "data = {\n",
    "    'Öğrenci': ['Ali', 'Ayşe', 'Mehmet', 'Ahmet', 'Aylin', 'Mustafa', 'Ebru',\n",
    "                'Can', 'Deniz', 'Gizem',\n",
    "                'İbrahim', 'Elif', 'Burak', 'Fatma', 'Emre', 'Ceren', 'Gül',\n",
    "                'Kadir', 'İrem', 'Ozan'],\n",
    "    'Ders': ['Matematik', 'Fizik', 'Kimya', 'Matematik', 'Fizik', 'Kimya',\n",
    "             'Matematik', 'Fizik', 'Kimya',\n",
    "             'Matematik', 'Fizik', 'Kimya', 'Matematik', 'Fizik', 'Kimya',\n",
    "             'Matematik', 'Fizik', 'Kimya',\n",
    "             'Matematik', 'Fizik'],\n",
    "    'Not': [90, 85, 95, 75, 80, 92, 87, 88, 93, 82, 79, 91, 86, 89, 78, 83,\n",
    "            94, 81, 84, 90]\n",
    "}\n",
    "\n",
    "df = pd.DataFrame(data)\n",
    "\n",
    "groupsOfLecture = df.groupby('Ders')\n",
    "\n",
    "print(\"Average values according to lectures: \\n\", groupsOfLecture['Not'].mean())\n",
    "print(\"---------------------------------\")\n",
    "print(\"Min values according to lectures: \\n\", groupsOfLecture['Not'].min())\n",
    "print(\"---------------------------------\")\n",
    "print(\"Max values according to lectures: \\n\", groupsOfLecture['Not'].max())"
   ],
   "id": "ad377a59a2f16ae0",
   "outputs": [
    {
     "name": "stdout",
     "output_type": "stream",
     "text": [
      "Average values according to lectures: \n",
      " Ders\n",
      "Fizik        86.428571\n",
      "Kimya        88.333333\n",
      "Matematik    83.857143\n",
      "Name: Not, dtype: float64\n",
      "---------------------------------\n",
      "Min values according to lectures: \n",
      " Ders\n",
      "Fizik        79\n",
      "Kimya        78\n",
      "Matematik    75\n",
      "Name: Not, dtype: int64\n",
      "---------------------------------\n",
      "Max values according to lectures: \n",
      " Ders\n",
      "Fizik        94\n",
      "Kimya        95\n",
      "Matematik    90\n",
      "Name: Not, dtype: int64\n"
     ]
    }
   ],
   "execution_count": 7
  },
  {
   "metadata": {},
   "cell_type": "markdown",
   "source": "Yukarıdaki örnekte `Ders` sütununa göre gruplama yaparak toplulaştırma işlemi yapıldı.",
   "id": "5b4a0d097ca68147"
  },
  {
   "metadata": {},
   "cell_type": "markdown",
   "source": "## Veri Sıralama ve Filtreleme",
   "id": "3eccd0474a752186"
  },
  {
   "metadata": {},
   "cell_type": "markdown",
   "source": "Veri sıralama, veri setindeki desenleri,trendleri veya en yüksek/düşük değerleri belirlemek için kullanılırken, veri filtreleme belirli belirli bir kriteri karşılayan verilerin seçilmesini sağlar.",
   "id": "5782e31c440052f0"
  },
  {
   "metadata": {
    "ExecuteTime": {
     "end_time": "2025-09-02T20:26:33.397130Z",
     "start_time": "2025-09-02T20:26:33.355709Z"
    }
   },
   "cell_type": "code",
   "source": [
    "data = {\n",
    "    'Öğrenci': ['Ali', 'Ayşe', 'Mehmet', 'Ahmet', 'Aylin', 'Mustafa', 'Ebru',\n",
    "                'Can', 'Deniz', 'Gizem',\n",
    "                'İbrahim', 'Elif', 'Burak', 'Fatma', 'Emre', 'Ceren', 'Gül',\n",
    "                'Kadir', 'İrem', 'Ozan'],\n",
    "    'Ders': ['Matematik', 'Fizik', 'Kimya', 'Matematik', 'Fizik', 'Kimya',\n",
    "             'Matematik', 'Fizik', 'Kimya',\n",
    "             'Matematik', 'Fizik', 'Kimya', 'Matematik', 'Fizik', 'Kimya',\n",
    "             'Matematik', 'Fizik', 'Kimya',\n",
    "             'Matematik', 'Fizik'],\n",
    "    'Not': [90, 85, 95, 75, 80, 92, 87, 88, 93, 82, 79, 91, 86, 89, 78, 83,\n",
    "            94, 81, 84, 90]\n",
    "}\n",
    "\n",
    "df = pd.DataFrame(data)\n",
    "\n",
    "print(\"Ordered data according to points: \\n\", df.sort_values(by='Not', ascending=False))\n",
    "print(\"---------------------------------\")\n",
    "print(\"Data related to mathematics lecture: \\n\", df[df['Ders'] == 'Matematik'])\n",
    "print(\"---------------------------------\")\n",
    "print(\"High points: \\n\", df[df['Not'] > 85])"
   ],
   "id": "a7894a25600e0bbb",
   "outputs": [
    {
     "name": "stdout",
     "output_type": "stream",
     "text": [
      "Ordered data according to points: \n",
      "     Öğrenci       Ders  Not\n",
      "2    Mehmet      Kimya   95\n",
      "16      Gül      Fizik   94\n",
      "8     Deniz      Kimya   93\n",
      "5   Mustafa      Kimya   92\n",
      "11     Elif      Kimya   91\n",
      "19     Ozan      Fizik   90\n",
      "0       Ali  Matematik   90\n",
      "13    Fatma      Fizik   89\n",
      "7       Can      Fizik   88\n",
      "6      Ebru  Matematik   87\n",
      "12    Burak  Matematik   86\n",
      "1      Ayşe      Fizik   85\n",
      "18     İrem  Matematik   84\n",
      "15    Ceren  Matematik   83\n",
      "9     Gizem  Matematik   82\n",
      "17    Kadir      Kimya   81\n",
      "4     Aylin      Fizik   80\n",
      "10  İbrahim      Fizik   79\n",
      "14     Emre      Kimya   78\n",
      "3     Ahmet  Matematik   75\n",
      "---------------------------------\n",
      "Data related to mathematics lecture: \n",
      "    Öğrenci       Ders  Not\n",
      "0      Ali  Matematik   90\n",
      "3    Ahmet  Matematik   75\n",
      "6     Ebru  Matematik   87\n",
      "9    Gizem  Matematik   82\n",
      "12   Burak  Matematik   86\n",
      "15   Ceren  Matematik   83\n",
      "18    İrem  Matematik   84\n",
      "---------------------------------\n",
      "High points: \n",
      "     Öğrenci       Ders  Not\n",
      "0       Ali  Matematik   90\n",
      "2    Mehmet      Kimya   95\n",
      "5   Mustafa      Kimya   92\n",
      "6      Ebru  Matematik   87\n",
      "7       Can      Fizik   88\n",
      "8     Deniz      Kimya   93\n",
      "11     Elif      Kimya   91\n",
      "12    Burak  Matematik   86\n",
      "13    Fatma      Fizik   89\n",
      "16      Gül      Fizik   94\n",
      "19     Ozan      Fizik   90\n"
     ]
    }
   ],
   "execution_count": 12
  },
  {
   "metadata": {},
   "cell_type": "markdown",
   "source": "Yukarıdaki örnekte veri seti üzerinde notlara göre sıralama, tercih edilen bir derse göre filtreleme ve bir eşik değer koşuluna göre ilgili değerlerin bulunması sağlandı.",
   "id": "314cb5d6e1218420"
  },
  {
   "metadata": {},
   "cell_type": "markdown",
   "source": "### Veri Çerçeveleri Arasında Birleştirme ve Veriler ile Çalışma",
   "id": "ce01a27ed1d4cd96"
  },
  {
   "metadata": {},
   "cell_type": "markdown",
   "source": "Veri çerçeveleri arasında birleştirme, farklı veri çerçevelerinde bulunan bilgilerin ortak bir anahtar üzerinde birleştirilerek tek bir veri çerçevesi oluşturulması işlemidir.",
   "id": "2881af12173db398"
  },
  {
   "metadata": {
    "ExecuteTime": {
     "end_time": "2025-09-02T20:44:51.499841Z",
     "start_time": "2025-09-02T20:44:51.489864Z"
    }
   },
   "cell_type": "code",
   "source": [
    "df1 = pd.DataFrame({'Öğrenci': ['Ali', 'Ayşe', 'Mehmet', 'Ahmet'],\n",
    "                    'Ders': ['Matematik', 'Fizik', 'Kimya', 'Matematik'],\n",
    "                    'Not': [90, 85, 95, 75]})\n",
    "\n",
    "df2 = pd.DataFrame({'Öğrenci': ['Ali', 'Ayşe', 'Mehmet', 'Ahmet'],\n",
    "                    'Yaş': [18, 17, 19, 16],\n",
    "                    'Cinsiyet': ['Erkek', 'Kadın', 'Erkek', 'Erkek']})\n",
    "\n",
    "dfMerged = pd.merge(df1, df2, on='Öğrenci')\n",
    "\n",
    "print(\"Students taking mathematics class: \\n\", dfMerged[dfMerged['Ders'] == 'Matematik'])"
   ],
   "id": "37bc7977565266eb",
   "outputs": [
    {
     "name": "stdout",
     "output_type": "stream",
     "text": [
      "Students taking mathematics class: \n",
      "   Öğrenci       Ders  Not  Yaş Cinsiyet\n",
      "0     Ali  Matematik   90   18    Erkek\n",
      "3   Ahmet  Matematik   75   16    Erkek\n"
     ]
    }
   ],
   "execution_count": 15
  },
  {
   "metadata": {},
   "cell_type": "markdown",
   "source": "Bu örnekte, `df1` ve `df2` olarak adlandırdığımız iki farklı veri çerçevesi birleştirilmiştir. `pd.merge()` fonksiyonunu kullanarak, `Öğrenci` sütunu üzerinden birleştirme yapılmıştır. Bu birleştirilmiş veriler ile  `dfMerged` üzerinden istenilen işlemleri yapabiliriz. Örneğn, `Matematik` dersi alan öğrencileri filtrelemek için bir filtrelem işlemi yaptık.",
   "id": "cdf6dc859a9fd25f"
  }
 ],
 "metadata": {
  "kernelspec": {
   "display_name": "Python 3",
   "language": "python",
   "name": "python3"
  },
  "language_info": {
   "codemirror_mode": {
    "name": "ipython",
    "version": 2
   },
   "file_extension": ".py",
   "mimetype": "text/x-python",
   "name": "python",
   "nbconvert_exporter": "python",
   "pygments_lexer": "ipython2",
   "version": "2.7.6"
  }
 },
 "nbformat": 4,
 "nbformat_minor": 5
}
