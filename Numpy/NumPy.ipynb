{
 "cells": [
  {
   "metadata": {},
   "cell_type": "markdown",
   "source": "# NumPy",
   "id": "d7c1f2a6fee14585"
  },
  {
   "metadata": {},
   "cell_type": "markdown",
   "source": "NumPy, `Numerical Python` anlamaına gelir ve yüksek performanslı sayısal işlemler yapmak için kullanılan bir Python kütüphanesidir. NumPy temel özellikleri arasında çok boyutlu dizileri ve matrisler, matematiksel işlemler, rastgele sayı üretimi ve Fourier dönüşümleri yer almaktadır. Bu özellikler sayesinde Numpy, bilimsel ve mühendislik hesaplamaları için yaygın olarak kullanılan bir kütüphanedir.",
   "id": "6664716654907f2c"
  },
  {
   "metadata": {},
   "cell_type": "markdown",
   "source": "NumPy kütüphanesi `np` kısaltma adıyla aşağıdaki gibi eklenir.",
   "id": "814cdd2648cdaab1"
  },
  {
   "cell_type": "code",
   "id": "initial_id",
   "metadata": {
    "collapsed": true,
    "ExecuteTime": {
     "end_time": "2025-08-27T15:22:57.042562Z",
     "start_time": "2025-08-27T15:22:56.657880Z"
    }
   },
   "source": [
    "import numpy as np\n",
    "\n",
    "print(\"Version of NumPy libary: \", np.__version__)"
   ],
   "outputs": [
    {
     "name": "stdout",
     "output_type": "stream",
     "text": [
      "Version of NumPy libary:  2.3.2\n"
     ]
    }
   ],
   "execution_count": 2
  },
  {
   "metadata": {},
   "cell_type": "markdown",
   "source": "Dizi oluşturma:",
   "id": "ea1040d548fbc41"
  },
  {
   "metadata": {
    "ExecuteTime": {
     "end_time": "2025-08-27T15:22:57.066166Z",
     "start_time": "2025-08-27T15:22:57.062318Z"
    }
   },
   "cell_type": "code",
   "source": [
    "array = np.array([1, 2, 3, 4, 5, 6])\n",
    "print(\"Array: \", array)"
   ],
   "id": "4a349900b7ae419",
   "outputs": [
    {
     "name": "stdout",
     "output_type": "stream",
     "text": [
      "Array:  [1 2 3 4 5 6]\n"
     ]
    }
   ],
   "execution_count": 3
  },
  {
   "metadata": {},
   "cell_type": "markdown",
   "source": "Dizinin veri tipini öğrenme: Yukarıdaki dizinin tipi `numpy` veri tiplerinden `ndarray` tipindedir. Python' da olduğu gibi `numpy` kütüphanesinin de kendine özgü veri tipleri vardır. `ndarray` bunlardan biridir.",
   "id": "2ce4ea410343511f"
  },
  {
   "metadata": {
    "ExecuteTime": {
     "end_time": "2025-08-27T15:22:57.092804Z",
     "start_time": "2025-08-27T15:22:57.088620Z"
    }
   },
   "cell_type": "code",
   "source": "print(\"Type of the array: \", type(array))",
   "id": "d2051571394a6e25",
   "outputs": [
    {
     "name": "stdout",
     "output_type": "stream",
     "text": [
      "Type of the array:  <class 'numpy.ndarray'>\n"
     ]
    }
   ],
   "execution_count": 4
  },
  {
   "metadata": {},
   "cell_type": "markdown",
   "source": "Dizi içindeki verilerin tipini öğrenme: Yukarıdaki dizinin içindeki veriler `int64` veri tipindedir.",
   "id": "c11409931017256b"
  },
  {
   "metadata": {
    "ExecuteTime": {
     "end_time": "2025-08-27T15:22:57.122102Z",
     "start_time": "2025-08-27T15:22:57.118404Z"
    }
   },
   "cell_type": "code",
   "source": "print(\"Data type of array elements: \", array.dtype)",
   "id": "3df707c37022893c",
   "outputs": [
    {
     "name": "stdout",
     "output_type": "stream",
     "text": [
      "Data type of array elements:  int64\n"
     ]
    }
   ],
   "execution_count": 5
  },
  {
   "metadata": {},
   "cell_type": "markdown",
   "source": "NumPy içindeki verilerin tipi en geniş anlamda tanımlanır: Örneğin dizinin içinde hem tam sayı hem de kayar noktalı sayı varsa bu durumda `dtype` değeri kayar noktalı sayı olarak belirlenir. Çünkü kayar noktalı sayı veri türü tam sayıları da kapsar. Kısacası NumPy dizileri, bellek verimliliği ve performans nedeniyle homojen veri tipleri gerektirir, bu nedenle bir dizi için sadece tek bir veri tipi tanımlanır.",
   "id": "d6a7c5b6602a8208"
  },
  {
   "metadata": {
    "ExecuteTime": {
     "end_time": "2025-08-27T15:22:57.143237Z",
     "start_time": "2025-08-27T15:22:57.139798Z"
    }
   },
   "cell_type": "code",
   "source": [
    "array1 = np.array([1, 1.5, 2, 2.5, 3, 3.5, 4])\n",
    "print(\"Data type of array elements: \", array1.dtype)"
   ],
   "id": "8bcc55343aa6a59c",
   "outputs": [
    {
     "name": "stdout",
     "output_type": "stream",
     "text": [
      "Data type of array elements:  float64\n"
     ]
    }
   ],
   "execution_count": 6
  },
  {
   "metadata": {},
   "cell_type": "markdown",
   "source": [
    "* Soru: Bir NumPy dizisi içinde string veri tipleri nasıl kullanılır?\n",
    "\n",
    "* Cevap: Bir NumPy dizisi içinde stringler de olabilir. NumPy, dizi elemanları için farklı veri tipleri sağlar ve string veri tipleri de bunlardan biridir. NumPy dizilerinde string veri tipleri, `S` veya `U` karakterleriyle tanımlanır. `S` tipi veri tipleri, `byte` dizileri içindir. `S10` gibi bir veri tipi, her elemanın en fazla `10 byte` uzunluğunda bir `byte` dizisi olduğunu belirtir. Örneğin `hello` kelimesi `S5` tipinde bir dizi elemanıdır. `U` tipi veri tipleri, `Unicode` karakter dizileri içindir. `U10` gibi bir veri tipi, her elemanın en fazla 10 karakter uzunluğunda bir `Unicode` karakter dizisi olduğunu belirtir. Örneğin, `Merhaba` kelimesi `U7` tipinde bir dizi elemanıdır.\n",
    "\n",
    "NumPy dizilerinde string veri tipleri, çeşitli uygulamalarda kullanılır. Örneğin metin verileri, dosya adları, etiketler ve sınıf adları gibi veriler string veri tipleri kullanılarak depolanabilir."
   ],
   "id": "96d8415bd94a93ea"
  },
  {
   "metadata": {},
   "cell_type": "markdown",
   "source": "## Örnekler",
   "id": "78eadf3dd9e0570c"
  },
  {
   "metadata": {},
   "cell_type": "markdown",
   "source": "1. İki boyutlu bir dizi oluşturma.",
   "id": "438508a6d129fb5c"
  },
  {
   "metadata": {
    "ExecuteTime": {
     "end_time": "2025-08-27T15:22:57.160811Z",
     "start_time": "2025-08-27T15:22:57.157894Z"
    }
   },
   "cell_type": "code",
   "source": [
    "array = np.array([[1, 2, 3], [4, 5, 6]])\n",
    "print(\"Array: \\n\", array)"
   ],
   "id": "3384e005f17accf2",
   "outputs": [
    {
     "name": "stdout",
     "output_type": "stream",
     "text": [
      "Array: \n",
      " [[1 2 3]\n",
      " [4 5 6]]\n"
     ]
    }
   ],
   "execution_count": 7
  },
  {
   "metadata": {},
   "cell_type": "markdown",
   "source": "2. 3 satır ve 4 sütundan oluşan iki boyutlu bir dizi aşağıdaki gibi oluşturulur.",
   "id": "b1bfa1b4e2131491"
  },
  {
   "metadata": {
    "ExecuteTime": {
     "end_time": "2025-08-27T15:22:57.183624Z",
     "start_time": "2025-08-27T15:22:57.180429Z"
    }
   },
   "cell_type": "code",
   "source": [
    "array1 = np.array([[1, 2, 3, 4], [5, 6, 7, 8], [9, 10, 11, 12]])\n",
    "print(\"Array: \\n\", array1)"
   ],
   "id": "8e7dd606ce92d23c",
   "outputs": [
    {
     "name": "stdout",
     "output_type": "stream",
     "text": [
      "Array: \n",
      " [[ 1  2  3  4]\n",
      " [ 5  6  7  8]\n",
      " [ 9 10 11 12]]\n"
     ]
    }
   ],
   "execution_count": 8
  },
  {
   "metadata": {},
   "cell_type": "markdown",
   "source": "3. Dizilerin kaç boyutlu olduğunu öğrenme.",
   "id": "277782edb2671b3b"
  },
  {
   "metadata": {
    "ExecuteTime": {
     "end_time": "2025-08-27T15:22:57.203676Z",
     "start_time": "2025-08-27T15:22:57.200258Z"
    }
   },
   "cell_type": "code",
   "source": [
    "print(\"array' s dimention:\", array.ndim)\n",
    "print(\"array1' s dimention:\", array1.ndim)"
   ],
   "id": "951b4f3bf70e278d",
   "outputs": [
    {
     "name": "stdout",
     "output_type": "stream",
     "text": [
      "array' s dimention: 2\n",
      "array1' s dimention: 2\n"
     ]
    }
   ],
   "execution_count": 9
  },
  {
   "metadata": {},
   "cell_type": "markdown",
   "source": "4. Dizilerin satır ve sütun sayısını öğrenme.",
   "id": "4955bab8de0d5755"
  },
  {
   "metadata": {
    "ExecuteTime": {
     "end_time": "2025-08-27T15:22:57.224516Z",
     "start_time": "2025-08-27T15:22:57.221108Z"
    }
   },
   "cell_type": "code",
   "source": [
    "array2 = np.array([[1, 2, 3, 4], [5, 6, 7, 8], [9, 10, 11, 12]])\n",
    "print(\"Array: \\n\", array2)\n",
    "print(\"Array' dimention: \", array2.ndim)\n",
    "print(\"The number of rows and columns in the array: \", array2.shape)"
   ],
   "id": "557617b74a6b409b",
   "outputs": [
    {
     "name": "stdout",
     "output_type": "stream",
     "text": [
      "Array: \n",
      " [[ 1  2  3  4]\n",
      " [ 5  6  7  8]\n",
      " [ 9 10 11 12]]\n",
      "Array' dimention:  2\n",
      "The number of rows and columns in the array:  (3, 4)\n"
     ]
    }
   ],
   "execution_count": 10
  },
  {
   "metadata": {},
   "cell_type": "markdown",
   "source": "5. Otomatik sayı dzisi oluşturma:",
   "id": "533a41e9169ae82c"
  },
  {
   "metadata": {
    "ExecuteTime": {
     "end_time": "2025-08-27T15:22:57.245412Z",
     "start_time": "2025-08-27T15:22:57.242091Z"
    }
   },
   "cell_type": "code",
   "source": [
    "array3 = np.arange(0, 31)\n",
    "print(\"Array: \", array3)"
   ],
   "id": "99766bed301b5e14",
   "outputs": [
    {
     "name": "stdout",
     "output_type": "stream",
     "text": [
      "Array:  [ 0  1  2  3  4  5  6  7  8  9 10 11 12 13 14 15 16 17 18 19 20 21 22 23\n",
      " 24 25 26 27 28 29 30]\n"
     ]
    }
   ],
   "execution_count": 11
  },
  {
   "metadata": {},
   "cell_type": "markdown",
   "source": "- Sabit aralıkla artan sayı dizisi oluşturma:",
   "id": "b72d5acb85d3705"
  },
  {
   "metadata": {
    "ExecuteTime": {
     "end_time": "2025-08-27T15:22:57.265041Z",
     "start_time": "2025-08-27T15:22:57.261633Z"
    }
   },
   "cell_type": "code",
   "source": [
    "array3 = np.arange(0, 31, 3)\n",
    "print(\"Array: \", array3)"
   ],
   "id": "44d938be6968ccf6",
   "outputs": [
    {
     "name": "stdout",
     "output_type": "stream",
     "text": [
      "Array:  [ 0  3  6  9 12 15 18 21 24 27 30]\n"
     ]
    }
   ],
   "execution_count": 12
  },
  {
   "metadata": {},
   "cell_type": "markdown",
   "source": "6. Bir diziyi kopyalamak.",
   "id": "1574eeb4417ddb50"
  },
  {
   "metadata": {
    "ExecuteTime": {
     "end_time": "2025-08-27T15:22:57.284380Z",
     "start_time": "2025-08-27T15:22:57.281041Z"
    }
   },
   "cell_type": "code",
   "source": [
    "array4 = np.arange(0, 30, 3)\n",
    "array5 = array4.copy()\n",
    "print(\"array4 : \", array4)\n",
    "print(\"array5 : \", array5)"
   ],
   "id": "be2dd69e0ca9358b",
   "outputs": [
    {
     "name": "stdout",
     "output_type": "stream",
     "text": [
      "array4 :  [ 0  3  6  9 12 15 18 21 24 27]\n",
      "array5 :  [ 0  3  6  9 12 15 18 21 24 27]\n"
     ]
    }
   ],
   "execution_count": 13
  },
  {
   "metadata": {},
   "cell_type": "markdown",
   "source": "7. Rastgele sayılardan oluşan tek boyutlu bir dizi oluşturma.",
   "id": "56b2c7d8f70fd1f2"
  },
  {
   "metadata": {
    "ExecuteTime": {
     "end_time": "2025-08-27T15:22:57.368341Z",
     "start_time": "2025-08-27T15:22:57.301001Z"
    }
   },
   "cell_type": "code",
   "source": [
    "array6 = np.random.random((4))\n",
    "print(\"array6 : \", array6)"
   ],
   "id": "fa3d93989c9c3e98",
   "outputs": [
    {
     "name": "stdout",
     "output_type": "stream",
     "text": [
      "array6 :  [0.23853681 0.50843965 0.27211452 0.28819672]\n"
     ]
    }
   ],
   "execution_count": 14
  },
  {
   "metadata": {},
   "cell_type": "markdown",
   "source": "- Rastgele `tam` sayılardan oluşan tek boyutlu bir dizi oluştuma.",
   "id": "79d482c38cebb9b6"
  },
  {
   "metadata": {
    "ExecuteTime": {
     "end_time": "2025-08-27T15:22:57.379946Z",
     "start_time": "2025-08-27T15:22:57.376913Z"
    }
   },
   "cell_type": "code",
   "source": [
    "array7 = np.random.randint(20, size=4)\n",
    "print(\"array7 : \", array7)"
   ],
   "id": "39cf1ab59eb92e14",
   "outputs": [
    {
     "name": "stdout",
     "output_type": "stream",
     "text": [
      "array7 :  [ 1 12 18  3]\n"
     ]
    }
   ],
   "execution_count": 15
  },
  {
   "metadata": {},
   "cell_type": "markdown",
   "source": "- 2 satırlı, 4 sütunlu rastgele sayılardan oluşan iki boyutlu bir dizi oluşturma.",
   "id": "c021852a5e8ef7b6"
  },
  {
   "metadata": {
    "ExecuteTime": {
     "end_time": "2025-08-27T15:22:57.412844Z",
     "start_time": "2025-08-27T15:22:57.408959Z"
    }
   },
   "cell_type": "code",
   "source": [
    "array8 = np.random.random((2, 4))\n",
    "print(\"array8 : \\n\", array8)\n",
    "print(\"array8' s dimention: \", array8.ndim)"
   ],
   "id": "3ae116183e7d6770",
   "outputs": [
    {
     "name": "stdout",
     "output_type": "stream",
     "text": [
      "array8 : \n",
      " [[0.93349167 0.9843284  0.64531606 0.50296983]\n",
      " [0.67122137 0.86765668 0.5292676  0.65416697]]\n",
      "array8' s dimention:  2\n"
     ]
    }
   ],
   "execution_count": 16
  },
  {
   "metadata": {},
   "cell_type": "markdown",
   "source": "- 2 satırlı, 4 sütunlu rastgele `tam` sayılardan oluşan iki boyutlu bir dizi oluşturma.",
   "id": "e71cc54829dc25c3"
  },
  {
   "metadata": {
    "ExecuteTime": {
     "end_time": "2025-08-27T15:22:57.448382Z",
     "start_time": "2025-08-27T15:22:57.438097Z"
    }
   },
   "cell_type": "code",
   "source": [
    "array9 = np.random.randint(0, 20, size=(2, 4))\n",
    "print(\"array9 : \\n\", array9)\n",
    "print(\"array9' s dimention: \", array9.ndim)"
   ],
   "id": "199ecc12b0a3cfa6",
   "outputs": [
    {
     "name": "stdout",
     "output_type": "stream",
     "text": [
      "array9 : \n",
      " [[14 17 12  9]\n",
      " [12 10 11 19]]\n",
      "array9' s dimention:  2\n"
     ]
    }
   ],
   "execution_count": 17
  },
  {
   "metadata": {},
   "cell_type": "markdown",
   "source": "8. Dizinin ilk satırını alma.",
   "id": "386bbbea52eb4213"
  },
  {
   "metadata": {
    "ExecuteTime": {
     "end_time": "2025-08-27T15:22:57.472675Z",
     "start_time": "2025-08-27T15:22:57.469523Z"
    }
   },
   "cell_type": "code",
   "source": [
    "array10 = np.arange(8)\n",
    "array10 = array10.reshape(2, 4)\n",
    "array11 = array10[0]\n",
    "\n",
    "print(\"array10: \\n\", array10)\n",
    "print(\"array11: \", array11)"
   ],
   "id": "8bdad47d10719081",
   "outputs": [
    {
     "name": "stdout",
     "output_type": "stream",
     "text": [
      "array10: \n",
      " [[0 1 2 3]\n",
      " [4 5 6 7]]\n",
      "array11:  [0 1 2 3]\n"
     ]
    }
   ],
   "execution_count": 18
  },
  {
   "metadata": {},
   "cell_type": "markdown",
   "source": "9. Dizinin ilk sütununu alma.",
   "id": "3d55b8c18ee8132"
  },
  {
   "metadata": {
    "ExecuteTime": {
     "end_time": "2025-08-27T15:22:57.495065Z",
     "start_time": "2025-08-27T15:22:57.491839Z"
    }
   },
   "cell_type": "code",
   "source": [
    "array12 = np.arange(8)\n",
    "array12 = array12.reshape(4, 2)\n",
    "print(\"array12: \\n\", array12)\n",
    "\n",
    "array13 = array12[:, 0]\n",
    "print(\"array13: \", array13)"
   ],
   "id": "2feea6db6235a7e",
   "outputs": [
    {
     "name": "stdout",
     "output_type": "stream",
     "text": [
      "array12: \n",
      " [[0 1]\n",
      " [2 3]\n",
      " [4 5]\n",
      " [6 7]]\n",
      "array13:  [0 2 4 6]\n"
     ]
    }
   ],
   "execution_count": 19
  },
  {
   "metadata": {},
   "cell_type": "markdown",
   "source": "10. 5 satır ve 3 sütundan ve 0' lardan oluşan matris oluşturma.",
   "id": "fdc5b011a1ef281"
  },
  {
   "metadata": {
    "ExecuteTime": {
     "end_time": "2025-08-27T15:22:57.516741Z",
     "start_time": "2025-08-27T15:22:57.513893Z"
    }
   },
   "cell_type": "code",
   "source": [
    "array14 = np.zeros((5, 3))\n",
    "print(\"array14: \\n\", array14)"
   ],
   "id": "492658718b5c6f3a",
   "outputs": [
    {
     "name": "stdout",
     "output_type": "stream",
     "text": [
      "array14: \n",
      " [[0. 0. 0.]\n",
      " [0. 0. 0.]\n",
      " [0. 0. 0.]\n",
      " [0. 0. 0.]\n",
      " [0. 0. 0.]]\n"
     ]
    }
   ],
   "execution_count": 20
  },
  {
   "metadata": {},
   "cell_type": "markdown",
   "source": "11. Üç boyutlu 1' lerden oluşan matris oluşturma.",
   "id": "eb873e747b1397c2"
  },
  {
   "metadata": {
    "ExecuteTime": {
     "end_time": "2025-08-27T15:22:57.536950Z",
     "start_time": "2025-08-27T15:22:57.533179Z"
    }
   },
   "cell_type": "code",
   "source": [
    "array15 = np.ones((2, 3, 4))\n",
    "print(\"array15: \\n\", array15)"
   ],
   "id": "bfc6b2e6668b0beb",
   "outputs": [
    {
     "name": "stdout",
     "output_type": "stream",
     "text": [
      "array15: \n",
      " [[[1. 1. 1. 1.]\n",
      "  [1. 1. 1. 1.]\n",
      "  [1. 1. 1. 1.]]\n",
      "\n",
      " [[1. 1. 1. 1.]\n",
      "  [1. 1. 1. 1.]\n",
      "  [1. 1. 1. 1.]]]\n"
     ]
    }
   ],
   "execution_count": 21
  },
  {
   "metadata": {},
   "cell_type": "markdown",
   "source": "- Elemanlarının hepsi 5 olan `2x4` matris olşturma.",
   "id": "cf889622fade5a16"
  },
  {
   "metadata": {
    "ExecuteTime": {
     "end_time": "2025-08-27T15:22:57.567780Z",
     "start_time": "2025-08-27T15:22:57.553853Z"
    }
   },
   "cell_type": "code",
   "source": [
    "array16 = np.ones((2, 4)) * 5\n",
    "print(\"array16: \\n\", array16)"
   ],
   "id": "bd69f480e276bc67",
   "outputs": [
    {
     "name": "stdout",
     "output_type": "stream",
     "text": [
      "array16: \n",
      " [[5. 5. 5. 5.]\n",
      " [5. 5. 5. 5.]]\n"
     ]
    }
   ],
   "execution_count": 22
  },
  {
   "metadata": {},
   "cell_type": "markdown",
   "source": "- Elemanları aynı olan dizi oluşturmak için `full()` metodunu da kullanabiliriz. `2x3` dizinin boyutunu belirlerken, matrisin 8' lerden oluşmasını istedik.",
   "id": "d5f997302bec1104"
  },
  {
   "metadata": {
    "ExecuteTime": {
     "end_time": "2025-08-27T15:22:57.606049Z",
     "start_time": "2025-08-27T15:22:57.603025Z"
    }
   },
   "cell_type": "code",
   "source": [
    "array17 = np.full((2, 3), 8)\n",
    "print(\"array17: \\n\", array17)"
   ],
   "id": "ea5fb069ef353622",
   "outputs": [
    {
     "name": "stdout",
     "output_type": "stream",
     "text": [
      "array17: \n",
      " [[8 8 8]\n",
      " [8 8 8]]\n"
     ]
    }
   ],
   "execution_count": 23
  },
  {
   "metadata": {},
   "cell_type": "markdown",
   "source": "12. Birim matris oluşturma.",
   "id": "cec4b4f90b268972"
  },
  {
   "metadata": {
    "ExecuteTime": {
     "end_time": "2025-08-27T15:22:57.635564Z",
     "start_time": "2025-08-27T15:22:57.631212Z"
    }
   },
   "cell_type": "code",
   "source": [
    "array18 = np.eye(3)\n",
    "print(\"array18: \\n\", array18)"
   ],
   "id": "2b98ad7a0da04f77",
   "outputs": [
    {
     "name": "stdout",
     "output_type": "stream",
     "text": [
      "array18: \n",
      " [[1. 0. 0.]\n",
      " [0. 1. 0.]\n",
      " [0. 0. 1.]]\n"
     ]
    }
   ],
   "execution_count": 24
  },
  {
   "metadata": {},
   "cell_type": "markdown",
   "source": "13. Matris birleştirme.",
   "id": "a03a1ec0632c422a"
  },
  {
   "metadata": {
    "ExecuteTime": {
     "end_time": "2025-08-27T15:22:57.662234Z",
     "start_time": "2025-08-27T15:22:57.657903Z"
    }
   },
   "cell_type": "code",
   "source": [
    "matrix = np.array([[1, 2, 3, 4], [5, 6, 7, 8]])\n",
    "matrix1 = np.array([[9, 10, 11, 12], [13, 14, 15, 16]])\n",
    "mergeMatrix = np.concatenate([matrix, matrix1])\n",
    "print(\"mergeMatrix: \\n\", mergeMatrix)"
   ],
   "id": "ba52b3f79628e237",
   "outputs": [
    {
     "name": "stdout",
     "output_type": "stream",
     "text": [
      "mergeMatrix: \n",
      " [[ 1  2  3  4]\n",
      " [ 5  6  7  8]\n",
      " [ 9 10 11 12]\n",
      " [13 14 15 16]]\n"
     ]
    }
   ],
   "execution_count": 25
  },
  {
   "metadata": {},
   "cell_type": "markdown",
   "source": "Matris birleştirmede eğer `axis` değeri kullanılırsa matrisler yan yana diziliş gösterir. Yukarıdaki kodumuzu şu şekilde yazalım ve çıktımızı görelim:",
   "id": "65d8f651d580a9f2"
  },
  {
   "metadata": {
    "ExecuteTime": {
     "end_time": "2025-08-27T15:22:57.692866Z",
     "start_time": "2025-08-27T15:22:57.688235Z"
    }
   },
   "cell_type": "code",
   "source": [
    "mergeMatrix1 = np.concatenate([matrix, matrix1], axis=1)\n",
    "print(\"mergeMatrix1: \\n\", mergeMatrix1)"
   ],
   "id": "e9ee2a436510ae43",
   "outputs": [
    {
     "name": "stdout",
     "output_type": "stream",
     "text": [
      "mergeMatrix1: \n",
      " [[ 1  2  3  4  9 10 11 12]\n",
      " [ 5  6  7  8 13 14 15 16]]\n"
     ]
    }
   ],
   "execution_count": 26
  },
  {
   "metadata": {
    "ExecuteTime": {
     "end_time": "2025-08-27T15:22:57.728587Z",
     "start_time": "2025-08-27T15:22:57.725204Z"
    }
   },
   "cell_type": "code",
   "source": [
    "mergeMatrix2 = np.concatenate([matrix, matrix1], axis=0)\n",
    "print(\"mergeMatrix2: \\n\", mergeMatrix2)"
   ],
   "id": "c99606a36bbb863a",
   "outputs": [
    {
     "name": "stdout",
     "output_type": "stream",
     "text": [
      "mergeMatrix2: \n",
      " [[ 1  2  3  4]\n",
      " [ 5  6  7  8]\n",
      " [ 9 10 11 12]\n",
      " [13 14 15 16]]\n"
     ]
    }
   ],
   "execution_count": 27
  },
  {
   "metadata": {},
   "cell_type": "markdown",
   "source": "14. Bir dizinin maksimum ve minimum değere sahip olan elemanlarını bulma.",
   "id": "2dc487513d1c0fc4"
  },
  {
   "metadata": {
    "ExecuteTime": {
     "end_time": "2025-08-27T15:22:57.770036Z",
     "start_time": "2025-08-27T15:22:57.751622Z"
    }
   },
   "cell_type": "code",
   "source": [
    "array19 = np.random.randint(1, 20, size=(3, 4))\n",
    "print(\"array19: \\n\", array19)\n",
    "print(\"Maximim value of the array19: \", array19.max())\n",
    "print(\"Minimum value of the array19: \", array19.min())"
   ],
   "id": "61d181d8429710cf",
   "outputs": [
    {
     "name": "stdout",
     "output_type": "stream",
     "text": [
      "array19: \n",
      " [[13 17 11  3]\n",
      " [14 14  7  8]\n",
      " [ 2 17  7 19]]\n",
      "Maximim value of the array19:  19\n",
      "Minimum value of the array19:  2\n"
     ]
    }
   ],
   "execution_count": 28
  },
  {
   "metadata": {},
   "cell_type": "markdown",
   "source": "15. Bir dizideki tüm satırların ve sütunların ayrı ayrı toplamını bulma.",
   "id": "7c3643b1ab47977"
  },
  {
   "metadata": {
    "ExecuteTime": {
     "end_time": "2025-08-27T15:22:57.803212Z",
     "start_time": "2025-08-27T15:22:57.798421Z"
    }
   },
   "cell_type": "code",
   "source": [
    "array20 = np.random.randint(0, 20, size=(3, 4))\n",
    "print(\"array20: \\n\", array20)\n",
    "print(\"Total of the rows of array20: \", array20.sum(axis=1))\n",
    "print(\"Total of the columns of array20: \", array20.sum(axis=0))"
   ],
   "id": "3a84f6fc401b0f65",
   "outputs": [
    {
     "name": "stdout",
     "output_type": "stream",
     "text": [
      "array20: \n",
      " [[ 8  6  3 14]\n",
      " [ 4 17 17 18]\n",
      " [ 1 18  1  2]]\n",
      "Total of the rows of array20:  [31 56 22]\n",
      "Total of the columns of array20:  [13 41 21 34]\n"
     ]
    }
   ],
   "execution_count": 29
  },
  {
   "metadata": {},
   "cell_type": "markdown",
   "source": "16. Bir dizideki tüm elemanların ortalamasını bulma.",
   "id": "2d068a928ea7f64f"
  },
  {
   "metadata": {
    "ExecuteTime": {
     "end_time": "2025-08-27T15:22:57.833349Z",
     "start_time": "2025-08-27T15:22:57.828177Z"
    }
   },
   "cell_type": "code",
   "source": [
    "array21 = np.random.randint(0, 20, size=(3, 4))\n",
    "print(\"array21: \\n\", array21)\n",
    "print(\"The average of the elements of array21: \", array21.mean())"
   ],
   "id": "5077b6ceb8316d58",
   "outputs": [
    {
     "name": "stdout",
     "output_type": "stream",
     "text": [
      "array21: \n",
      " [[ 9  9 18  7]\n",
      " [ 3  6  9 10]\n",
      " [15  8 15 19]]\n",
      "The average of the elements of array21:  10.666666666666666\n"
     ]
    }
   ],
   "execution_count": 30
  },
  {
   "metadata": {},
   "cell_type": "markdown",
   "source": "17. Bir dizideki varyansı bulma.",
   "id": "e35643b163235566"
  },
  {
   "metadata": {
    "ExecuteTime": {
     "end_time": "2025-08-27T15:22:57.863229Z",
     "start_time": "2025-08-27T15:22:57.858139Z"
    }
   },
   "cell_type": "code",
   "source": [
    "array22 = np.random.randint(0, 20, size=(3, 4))\n",
    "print(\"array22: \\n\", array22)\n",
    "print(\"Variance of the array22: \", array22.var())"
   ],
   "id": "aade1d87d5048842",
   "outputs": [
    {
     "name": "stdout",
     "output_type": "stream",
     "text": [
      "array22: \n",
      " [[13 18 16  7]\n",
      " [ 7  8 10 16]\n",
      " [ 6 15 11  2]]\n",
      "Variance of the array22:  22.1875\n"
     ]
    }
   ],
   "execution_count": 31
  },
  {
   "metadata": {},
   "cell_type": "markdown",
   "source": [
    "- Soru: Varyans nedir?\n",
    "\n",
    "- Cevap: `Varyans` istatistiksel bir terimdir ve bir veri kümesindeki değerlerin ortalamadan ne kadar sapma gösterdiğini ölçer. Yani varyans, bir veri kümesindeki her bir verinin ortalamadan en karad uzaklaştığına bağlı olarak veri dağılımının ne kadar geniş olduğunu ölçer. `Varyans, bir veri kümesindeki her bir verinin ortalamadan ne kadar farklı olduğunu ölçmek için kullanılan kareli sapma değerlerinin toplamının n-1' e bölünmesi ile hesaplanır.` Burada `n`, veri kümesindeki toplam örneklemlerin sayısını temsil eder. Varyansın Kareköküne `Standart Sapma` denir ve varyansın ölçüm birimi ile aynı birimde ifade edilir. Daha düşük bir varyans değeri, örneklerin ortalamadan daha fazla uzaklaştığı anlamına gelir, daha yüksek bir varyans değeri, örneklerin ortalamadan daha fazla uzaklaştığı anlamına gelir."
   ],
   "id": "bb96020393f4344b"
  },
  {
   "metadata": {},
   "cell_type": "markdown",
   "source": "",
   "id": "1e2577d5364cd09"
  }
 ],
 "metadata": {
  "kernelspec": {
   "display_name": "Python 3",
   "language": "python",
   "name": "python3"
  },
  "language_info": {
   "codemirror_mode": {
    "name": "ipython",
    "version": 2
   },
   "file_extension": ".py",
   "mimetype": "text/x-python",
   "name": "python",
   "nbconvert_exporter": "python",
   "pygments_lexer": "ipython2",
   "version": "2.7.6"
  }
 },
 "nbformat": 4,
 "nbformat_minor": 5
}
