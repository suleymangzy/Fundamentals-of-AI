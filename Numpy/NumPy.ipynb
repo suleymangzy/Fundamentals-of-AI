{
 "cells": [
  {
   "metadata": {},
   "cell_type": "markdown",
   "source": "# NumPy",
   "id": "d7c1f2a6fee14585"
  },
  {
   "metadata": {},
   "cell_type": "markdown",
   "source": "NumPy, `Numerical Python` anlamaına gelir ve yüksek performanslı sayısal işlemler yapmak için kullanılan bir Python kütüphanesidir. NumPy temel özellikleri arasında çok boyutlu dizileri ve matrisler, matematiksel işlemler, rastgele sayı üretimi ve Fourier dönüşümleri yer almaktadır. Bu özellikler sayesinde Numpy, bilimsel ve mühendislik hesaplamaları için yaygın olarak kullanılan bir kütüphanedir.",
   "id": "6664716654907f2c"
  },
  {
   "metadata": {},
   "cell_type": "markdown",
   "source": "NumPy kütüphanesi `np` kısaltma adıyla aşağıdaki gibi eklenir.",
   "id": "814cdd2648cdaab1"
  },
  {
   "cell_type": "code",
   "id": "initial_id",
   "metadata": {
    "collapsed": true,
    "ExecuteTime": {
     "end_time": "2025-08-28T07:33:43.718844Z",
     "start_time": "2025-08-28T07:33:43.714833Z"
    }
   },
   "source": [
    "import numpy as np\n",
    "\n",
    "print(\"Version of NumPy libary: \", np.__version__)"
   ],
   "outputs": [
    {
     "name": "stdout",
     "output_type": "stream",
     "text": [
      "Version of NumPy libary:  2.3.2\n"
     ]
    }
   ],
   "execution_count": 57
  },
  {
   "metadata": {},
   "cell_type": "markdown",
   "source": "Dizi oluşturma:",
   "id": "ea1040d548fbc41"
  },
  {
   "metadata": {
    "ExecuteTime": {
     "end_time": "2025-08-28T07:33:43.746028Z",
     "start_time": "2025-08-28T07:33:43.741385Z"
    }
   },
   "cell_type": "code",
   "source": [
    "array = np.array([1, 2, 3, 4, 5, 6])\n",
    "print(\"Array: \", array)"
   ],
   "id": "4a349900b7ae419",
   "outputs": [
    {
     "name": "stdout",
     "output_type": "stream",
     "text": [
      "Array:  [1 2 3 4 5 6]\n"
     ]
    }
   ],
   "execution_count": 58
  },
  {
   "metadata": {},
   "cell_type": "markdown",
   "source": "Dizinin veri tipini öğrenme: Yukarıdaki dizinin tipi `numpy` veri tiplerinden `ndarray` tipindedir. Python' da olduğu gibi `numpy` kütüphanesinin de kendine özgü veri tipleri vardır. `ndarray` bunlardan biridir.",
   "id": "2ce4ea410343511f"
  },
  {
   "metadata": {
    "ExecuteTime": {
     "end_time": "2025-08-28T07:33:43.762329Z",
     "start_time": "2025-08-28T07:33:43.759126Z"
    }
   },
   "cell_type": "code",
   "source": "print(\"Type of the array: \", type(array))",
   "id": "d2051571394a6e25",
   "outputs": [
    {
     "name": "stdout",
     "output_type": "stream",
     "text": [
      "Type of the array:  <class 'numpy.ndarray'>\n"
     ]
    }
   ],
   "execution_count": 59
  },
  {
   "metadata": {},
   "cell_type": "markdown",
   "source": "Dizi içindeki verilerin tipini öğrenme: Yukarıdaki dizinin içindeki veriler `int64` veri tipindedir.",
   "id": "c11409931017256b"
  },
  {
   "metadata": {
    "ExecuteTime": {
     "end_time": "2025-08-28T07:33:43.816357Z",
     "start_time": "2025-08-28T07:33:43.813856Z"
    }
   },
   "cell_type": "code",
   "source": "print(\"Data type of array elements: \", array.dtype)",
   "id": "3df707c37022893c",
   "outputs": [
    {
     "name": "stdout",
     "output_type": "stream",
     "text": [
      "Data type of array elements:  int64\n"
     ]
    }
   ],
   "execution_count": 60
  },
  {
   "metadata": {},
   "cell_type": "markdown",
   "source": "NumPy içindeki verilerin tipi en geniş anlamda tanımlanır: Örneğin dizinin içinde hem tam sayı hem de kayar noktalı sayı varsa bu durumda `dtype` değeri kayar noktalı sayı olarak belirlenir. Çünkü kayar noktalı sayı veri türü tam sayıları da kapsar. Kısacası NumPy dizileri, bellek verimliliği ve performans nedeniyle homojen veri tipleri gerektirir, bu nedenle bir dizi için sadece tek bir veri tipi tanımlanır.",
   "id": "d6a7c5b6602a8208"
  },
  {
   "metadata": {
    "ExecuteTime": {
     "end_time": "2025-08-28T07:33:43.846617Z",
     "start_time": "2025-08-28T07:33:43.840368Z"
    }
   },
   "cell_type": "code",
   "source": [
    "array1 = np.array([1, 1.5, 2, 2.5, 3, 3.5, 4])\n",
    "print(\"Data type of array elements: \", array1.dtype)"
   ],
   "id": "8bcc55343aa6a59c",
   "outputs": [
    {
     "name": "stdout",
     "output_type": "stream",
     "text": [
      "Data type of array elements:  float64\n"
     ]
    }
   ],
   "execution_count": 61
  },
  {
   "metadata": {},
   "cell_type": "markdown",
   "source": [
    "* Soru: Bir NumPy dizisi içinde string veri tipleri nasıl kullanılır?\n",
    "\n",
    "* Cevap: Bir NumPy dizisi içinde stringler de olabilir. NumPy, dizi elemanları için farklı veri tipleri sağlar ve string veri tipleri de bunlardan biridir. NumPy dizilerinde string veri tipleri, `S` veya `U` karakterleriyle tanımlanır. `S` tipi veri tipleri, `byte` dizileri içindir. `S10` gibi bir veri tipi, her elemanın en fazla `10 byte` uzunluğunda bir `byte` dizisi olduğunu belirtir. Örneğin `hello` kelimesi `S5` tipinde bir dizi elemanıdır. `U` tipi veri tipleri, `Unicode` karakter dizileri içindir. `U10` gibi bir veri tipi, her elemanın en fazla 10 karakter uzunluğunda bir `Unicode` karakter dizisi olduğunu belirtir. Örneğin, `Merhaba` kelimesi `U7` tipinde bir dizi elemanıdır.\n",
    "\n",
    "NumPy dizilerinde string veri tipleri, çeşitli uygulamalarda kullanılır. Örneğin metin verileri, dosya adları, etiketler ve sınıf adları gibi veriler string veri tipleri kullanılarak depolanabilir."
   ],
   "id": "96d8415bd94a93ea"
  },
  {
   "metadata": {},
   "cell_type": "markdown",
   "source": "## Örnekler",
   "id": "78eadf3dd9e0570c"
  },
  {
   "metadata": {},
   "cell_type": "markdown",
   "source": "1. İki boyutlu bir dizi oluşturma.",
   "id": "438508a6d129fb5c"
  },
  {
   "metadata": {
    "ExecuteTime": {
     "end_time": "2025-08-28T07:33:43.858430Z",
     "start_time": "2025-08-28T07:33:43.855355Z"
    }
   },
   "cell_type": "code",
   "source": [
    "array = np.array([[1, 2, 3], [4, 5, 6]])\n",
    "print(\"Array: \\n\", array)"
   ],
   "id": "3384e005f17accf2",
   "outputs": [
    {
     "name": "stdout",
     "output_type": "stream",
     "text": [
      "Array: \n",
      " [[1 2 3]\n",
      " [4 5 6]]\n"
     ]
    }
   ],
   "execution_count": 62
  },
  {
   "metadata": {},
   "cell_type": "markdown",
   "source": "2. 3 satır ve 4 sütundan oluşan iki boyutlu bir dizi aşağıdaki gibi oluşturulur.",
   "id": "b1bfa1b4e2131491"
  },
  {
   "metadata": {
    "ExecuteTime": {
     "end_time": "2025-08-28T07:33:43.878364Z",
     "start_time": "2025-08-28T07:33:43.874891Z"
    }
   },
   "cell_type": "code",
   "source": [
    "array1 = np.array([[1, 2, 3, 4], [5, 6, 7, 8], [9, 10, 11, 12]])\n",
    "print(\"Array: \\n\", array1)"
   ],
   "id": "8e7dd606ce92d23c",
   "outputs": [
    {
     "name": "stdout",
     "output_type": "stream",
     "text": [
      "Array: \n",
      " [[ 1  2  3  4]\n",
      " [ 5  6  7  8]\n",
      " [ 9 10 11 12]]\n"
     ]
    }
   ],
   "execution_count": 63
  },
  {
   "metadata": {},
   "cell_type": "markdown",
   "source": "3. Dizilerin kaç boyutlu olduğunu öğrenme.",
   "id": "277782edb2671b3b"
  },
  {
   "metadata": {
    "ExecuteTime": {
     "end_time": "2025-08-28T07:33:43.896734Z",
     "start_time": "2025-08-28T07:33:43.893874Z"
    }
   },
   "cell_type": "code",
   "source": [
    "print(\"array' s dimention:\", array.ndim)\n",
    "print(\"array1' s dimention:\", array1.ndim)"
   ],
   "id": "951b4f3bf70e278d",
   "outputs": [
    {
     "name": "stdout",
     "output_type": "stream",
     "text": [
      "array' s dimention: 2\n",
      "array1' s dimention: 2\n"
     ]
    }
   ],
   "execution_count": 64
  },
  {
   "metadata": {},
   "cell_type": "markdown",
   "source": "4. Dizilerin satır ve sütun sayısını öğrenme.",
   "id": "4955bab8de0d5755"
  },
  {
   "metadata": {
    "ExecuteTime": {
     "end_time": "2025-08-28T07:33:43.915740Z",
     "start_time": "2025-08-28T07:33:43.912356Z"
    }
   },
   "cell_type": "code",
   "source": [
    "array2 = np.array([[1, 2, 3, 4], [5, 6, 7, 8], [9, 10, 11, 12]])\n",
    "print(\"Array: \\n\", array2)\n",
    "print(\"Array' dimention: \", array2.ndim)\n",
    "print(\"The number of rows and columns in the array: \", array2.shape)"
   ],
   "id": "557617b74a6b409b",
   "outputs": [
    {
     "name": "stdout",
     "output_type": "stream",
     "text": [
      "Array: \n",
      " [[ 1  2  3  4]\n",
      " [ 5  6  7  8]\n",
      " [ 9 10 11 12]]\n",
      "Array' dimention:  2\n",
      "The number of rows and columns in the array:  (3, 4)\n"
     ]
    }
   ],
   "execution_count": 65
  },
  {
   "metadata": {},
   "cell_type": "markdown",
   "source": "5. Otomatik sayı dzisi oluşturma:",
   "id": "533a41e9169ae82c"
  },
  {
   "metadata": {
    "ExecuteTime": {
     "end_time": "2025-08-28T07:33:43.934144Z",
     "start_time": "2025-08-28T07:33:43.930633Z"
    }
   },
   "cell_type": "code",
   "source": [
    "array3 = np.arange(0, 31)\n",
    "print(\"Array: \", array3)"
   ],
   "id": "99766bed301b5e14",
   "outputs": [
    {
     "name": "stdout",
     "output_type": "stream",
     "text": [
      "Array:  [ 0  1  2  3  4  5  6  7  8  9 10 11 12 13 14 15 16 17 18 19 20 21 22 23\n",
      " 24 25 26 27 28 29 30]\n"
     ]
    }
   ],
   "execution_count": 66
  },
  {
   "metadata": {},
   "cell_type": "markdown",
   "source": "- Sabit aralıkla artan sayı dizisi oluşturma:",
   "id": "b72d5acb85d3705"
  },
  {
   "metadata": {
    "ExecuteTime": {
     "end_time": "2025-08-28T07:33:43.951923Z",
     "start_time": "2025-08-28T07:33:43.949147Z"
    }
   },
   "cell_type": "code",
   "source": [
    "array3 = np.arange(0, 31, 3)\n",
    "print(\"Array: \", array3)"
   ],
   "id": "44d938be6968ccf6",
   "outputs": [
    {
     "name": "stdout",
     "output_type": "stream",
     "text": [
      "Array:  [ 0  3  6  9 12 15 18 21 24 27 30]\n"
     ]
    }
   ],
   "execution_count": 67
  },
  {
   "metadata": {},
   "cell_type": "markdown",
   "source": "6. Bir diziyi kopyalamak.",
   "id": "1574eeb4417ddb50"
  },
  {
   "metadata": {
    "ExecuteTime": {
     "end_time": "2025-08-28T07:33:43.972883Z",
     "start_time": "2025-08-28T07:33:43.968169Z"
    }
   },
   "cell_type": "code",
   "source": [
    "array4 = np.arange(0, 30, 3)\n",
    "array5 = array4.copy()\n",
    "print(\"array4 : \", array4)\n",
    "print(\"array5 : \", array5)"
   ],
   "id": "be2dd69e0ca9358b",
   "outputs": [
    {
     "name": "stdout",
     "output_type": "stream",
     "text": [
      "array4 :  [ 0  3  6  9 12 15 18 21 24 27]\n",
      "array5 :  [ 0  3  6  9 12 15 18 21 24 27]\n"
     ]
    }
   ],
   "execution_count": 68
  },
  {
   "metadata": {},
   "cell_type": "markdown",
   "source": "7. Rastgele sayılardan oluşan tek boyutlu bir dizi oluşturma.",
   "id": "56b2c7d8f70fd1f2"
  },
  {
   "metadata": {
    "ExecuteTime": {
     "end_time": "2025-08-28T07:33:43.989734Z",
     "start_time": "2025-08-28T07:33:43.986308Z"
    }
   },
   "cell_type": "code",
   "source": [
    "array6 = np.random.random((4))\n",
    "print(\"array6 : \", array6)"
   ],
   "id": "fa3d93989c9c3e98",
   "outputs": [
    {
     "name": "stdout",
     "output_type": "stream",
     "text": [
      "array6 :  [0.23627662 0.69486391 0.13866205 0.91991945]\n"
     ]
    }
   ],
   "execution_count": 69
  },
  {
   "metadata": {},
   "cell_type": "markdown",
   "source": "- Rastgele `tam` sayılardan oluşan tek boyutlu bir dizi oluştuma.",
   "id": "79d482c38cebb9b6"
  },
  {
   "metadata": {
    "ExecuteTime": {
     "end_time": "2025-08-28T07:33:44.007153Z",
     "start_time": "2025-08-28T07:33:44.003814Z"
    }
   },
   "cell_type": "code",
   "source": [
    "array7 = np.random.randint(20, size=4)\n",
    "print(\"array7 : \", array7)"
   ],
   "id": "39cf1ab59eb92e14",
   "outputs": [
    {
     "name": "stdout",
     "output_type": "stream",
     "text": [
      "array7 :  [18  6 19  1]\n"
     ]
    }
   ],
   "execution_count": 70
  },
  {
   "metadata": {},
   "cell_type": "markdown",
   "source": "- 2 satırlı, 4 sütunlu rastgele sayılardan oluşan iki boyutlu bir dizi oluşturma.",
   "id": "c021852a5e8ef7b6"
  },
  {
   "metadata": {
    "ExecuteTime": {
     "end_time": "2025-08-28T07:33:44.022427Z",
     "start_time": "2025-08-28T07:33:44.019150Z"
    }
   },
   "cell_type": "code",
   "source": [
    "array8 = np.random.random((2, 4))\n",
    "print(\"array8 : \\n\", array8)\n",
    "print(\"array8' s dimention: \", array8.ndim)"
   ],
   "id": "3ae116183e7d6770",
   "outputs": [
    {
     "name": "stdout",
     "output_type": "stream",
     "text": [
      "array8 : \n",
      " [[0.84739221 0.75766474 0.4371819  0.15434911]\n",
      " [0.26477216 0.63573185 0.62735619 0.206277  ]]\n",
      "array8' s dimention:  2\n"
     ]
    }
   ],
   "execution_count": 71
  },
  {
   "metadata": {},
   "cell_type": "markdown",
   "source": "- 2 satırlı, 4 sütunlu rastgele `tam` sayılardan oluşan iki boyutlu bir dizi oluşturma.",
   "id": "e71cc54829dc25c3"
  },
  {
   "metadata": {
    "ExecuteTime": {
     "end_time": "2025-08-28T07:33:44.041312Z",
     "start_time": "2025-08-28T07:33:44.037649Z"
    }
   },
   "cell_type": "code",
   "source": [
    "array9 = np.random.randint(0, 20, size=(2, 4))\n",
    "print(\"array9 : \\n\", array9)\n",
    "print(\"array9' s dimention: \", array9.ndim)"
   ],
   "id": "199ecc12b0a3cfa6",
   "outputs": [
    {
     "name": "stdout",
     "output_type": "stream",
     "text": [
      "array9 : \n",
      " [[13  2  4 13]\n",
      " [16  3 14  4]]\n",
      "array9' s dimention:  2\n"
     ]
    }
   ],
   "execution_count": 72
  },
  {
   "metadata": {},
   "cell_type": "markdown",
   "source": "8. Dizinin ilk satırını alma.",
   "id": "386bbbea52eb4213"
  },
  {
   "metadata": {
    "ExecuteTime": {
     "end_time": "2025-08-28T07:33:44.056356Z",
     "start_time": "2025-08-28T07:33:44.053108Z"
    }
   },
   "cell_type": "code",
   "source": [
    "array10 = np.arange(8)\n",
    "array10 = array10.reshape(2, 4)\n",
    "array11 = array10[0]\n",
    "\n",
    "print(\"array10: \\n\", array10)\n",
    "print(\"array11: \", array11)"
   ],
   "id": "8bdad47d10719081",
   "outputs": [
    {
     "name": "stdout",
     "output_type": "stream",
     "text": [
      "array10: \n",
      " [[0 1 2 3]\n",
      " [4 5 6 7]]\n",
      "array11:  [0 1 2 3]\n"
     ]
    }
   ],
   "execution_count": 73
  },
  {
   "metadata": {},
   "cell_type": "markdown",
   "source": "9. Dizinin ilk sütununu alma.",
   "id": "3d55b8c18ee8132"
  },
  {
   "metadata": {
    "ExecuteTime": {
     "end_time": "2025-08-28T07:33:44.071607Z",
     "start_time": "2025-08-28T07:33:44.068404Z"
    }
   },
   "cell_type": "code",
   "source": [
    "array12 = np.arange(8)\n",
    "array12 = array12.reshape(4, 2)\n",
    "print(\"array12: \\n\", array12)\n",
    "\n",
    "array13 = array12[:, 0]\n",
    "print(\"array13: \", array13)"
   ],
   "id": "2feea6db6235a7e",
   "outputs": [
    {
     "name": "stdout",
     "output_type": "stream",
     "text": [
      "array12: \n",
      " [[0 1]\n",
      " [2 3]\n",
      " [4 5]\n",
      " [6 7]]\n",
      "array13:  [0 2 4 6]\n"
     ]
    }
   ],
   "execution_count": 74
  },
  {
   "metadata": {},
   "cell_type": "markdown",
   "source": "10. 5 satır ve 3 sütundan ve 0' lardan oluşan matris oluşturma.",
   "id": "fdc5b011a1ef281"
  },
  {
   "metadata": {
    "ExecuteTime": {
     "end_time": "2025-08-28T07:33:44.091984Z",
     "start_time": "2025-08-28T07:33:44.088830Z"
    }
   },
   "cell_type": "code",
   "source": [
    "array14 = np.zeros((5, 3))\n",
    "print(\"array14: \\n\", array14)"
   ],
   "id": "492658718b5c6f3a",
   "outputs": [
    {
     "name": "stdout",
     "output_type": "stream",
     "text": [
      "array14: \n",
      " [[0. 0. 0.]\n",
      " [0. 0. 0.]\n",
      " [0. 0. 0.]\n",
      " [0. 0. 0.]\n",
      " [0. 0. 0.]]\n"
     ]
    }
   ],
   "execution_count": 75
  },
  {
   "metadata": {},
   "cell_type": "markdown",
   "source": "11. Üç boyutlu 1' lerden oluşan matris oluşturma.",
   "id": "eb873e747b1397c2"
  },
  {
   "metadata": {
    "ExecuteTime": {
     "end_time": "2025-08-28T07:33:44.106022Z",
     "start_time": "2025-08-28T07:33:44.102721Z"
    }
   },
   "cell_type": "code",
   "source": [
    "array15 = np.ones((2, 3, 4))\n",
    "print(\"array15: \\n\", array15)"
   ],
   "id": "bfc6b2e6668b0beb",
   "outputs": [
    {
     "name": "stdout",
     "output_type": "stream",
     "text": [
      "array15: \n",
      " [[[1. 1. 1. 1.]\n",
      "  [1. 1. 1. 1.]\n",
      "  [1. 1. 1. 1.]]\n",
      "\n",
      " [[1. 1. 1. 1.]\n",
      "  [1. 1. 1. 1.]\n",
      "  [1. 1. 1. 1.]]]\n"
     ]
    }
   ],
   "execution_count": 76
  },
  {
   "metadata": {},
   "cell_type": "markdown",
   "source": "- Elemanlarının hepsi 5 olan `2x4` matris olşturma.",
   "id": "cf889622fade5a16"
  },
  {
   "metadata": {
    "ExecuteTime": {
     "end_time": "2025-08-28T07:33:44.119986Z",
     "start_time": "2025-08-28T07:33:44.116812Z"
    }
   },
   "cell_type": "code",
   "source": [
    "array16 = np.ones((2, 4)) * 5\n",
    "print(\"array16: \\n\", array16)"
   ],
   "id": "bd69f480e276bc67",
   "outputs": [
    {
     "name": "stdout",
     "output_type": "stream",
     "text": [
      "array16: \n",
      " [[5. 5. 5. 5.]\n",
      " [5. 5. 5. 5.]]\n"
     ]
    }
   ],
   "execution_count": 77
  },
  {
   "metadata": {},
   "cell_type": "markdown",
   "source": "- Elemanları aynı olan dizi oluşturmak için `full()` metodunu da kullanabiliriz. `2x3` dizinin boyutunu belirlerken, matrisin 8' lerden oluşmasını istedik.",
   "id": "d5f997302bec1104"
  },
  {
   "metadata": {
    "ExecuteTime": {
     "end_time": "2025-08-28T07:33:44.139020Z",
     "start_time": "2025-08-28T07:33:44.135589Z"
    }
   },
   "cell_type": "code",
   "source": [
    "array17 = np.full((2, 3), 8)\n",
    "print(\"array17: \\n\", array17)"
   ],
   "id": "ea5fb069ef353622",
   "outputs": [
    {
     "name": "stdout",
     "output_type": "stream",
     "text": [
      "array17: \n",
      " [[8 8 8]\n",
      " [8 8 8]]\n"
     ]
    }
   ],
   "execution_count": 78
  },
  {
   "metadata": {},
   "cell_type": "markdown",
   "source": "12. Birim matris oluşturma.",
   "id": "cec4b4f90b268972"
  },
  {
   "metadata": {
    "ExecuteTime": {
     "end_time": "2025-08-28T07:33:44.153955Z",
     "start_time": "2025-08-28T07:33:44.151096Z"
    }
   },
   "cell_type": "code",
   "source": [
    "array18 = np.eye(3)\n",
    "print(\"array18: \\n\", array18)"
   ],
   "id": "2b98ad7a0da04f77",
   "outputs": [
    {
     "name": "stdout",
     "output_type": "stream",
     "text": [
      "array18: \n",
      " [[1. 0. 0.]\n",
      " [0. 1. 0.]\n",
      " [0. 0. 1.]]\n"
     ]
    }
   ],
   "execution_count": 79
  },
  {
   "metadata": {},
   "cell_type": "markdown",
   "source": "13. Matris birleştirme.",
   "id": "a03a1ec0632c422a"
  },
  {
   "metadata": {
    "ExecuteTime": {
     "end_time": "2025-08-28T07:33:44.171486Z",
     "start_time": "2025-08-28T07:33:44.168392Z"
    }
   },
   "cell_type": "code",
   "source": [
    "matrix = np.array([[1, 2, 3, 4], [5, 6, 7, 8]])\n",
    "matrix1 = np.array([[9, 10, 11, 12], [13, 14, 15, 16]])\n",
    "mergeMatrix = np.concatenate([matrix, matrix1])\n",
    "print(\"mergeMatrix: \\n\", mergeMatrix)"
   ],
   "id": "ba52b3f79628e237",
   "outputs": [
    {
     "name": "stdout",
     "output_type": "stream",
     "text": [
      "mergeMatrix: \n",
      " [[ 1  2  3  4]\n",
      " [ 5  6  7  8]\n",
      " [ 9 10 11 12]\n",
      " [13 14 15 16]]\n"
     ]
    }
   ],
   "execution_count": 80
  },
  {
   "metadata": {},
   "cell_type": "markdown",
   "source": "Matris birleştirmede eğer `axis` değeri kullanılırsa matrisler yan yana diziliş gösterir. Yukarıdaki kodumuzu şu şekilde yazalım ve çıktımızı görelim:",
   "id": "65d8f651d580a9f2"
  },
  {
   "metadata": {
    "ExecuteTime": {
     "end_time": "2025-08-28T07:33:44.189721Z",
     "start_time": "2025-08-28T07:33:44.186833Z"
    }
   },
   "cell_type": "code",
   "source": [
    "mergeMatrix1 = np.concatenate([matrix, matrix1], axis=1)\n",
    "print(\"mergeMatrix1: \\n\", mergeMatrix1)"
   ],
   "id": "e9ee2a436510ae43",
   "outputs": [
    {
     "name": "stdout",
     "output_type": "stream",
     "text": [
      "mergeMatrix1: \n",
      " [[ 1  2  3  4  9 10 11 12]\n",
      " [ 5  6  7  8 13 14 15 16]]\n"
     ]
    }
   ],
   "execution_count": 81
  },
  {
   "metadata": {
    "ExecuteTime": {
     "end_time": "2025-08-28T07:33:44.208973Z",
     "start_time": "2025-08-28T07:33:44.205485Z"
    }
   },
   "cell_type": "code",
   "source": [
    "mergeMatrix2 = np.concatenate([matrix, matrix1], axis=0)\n",
    "print(\"mergeMatrix2: \\n\", mergeMatrix2)"
   ],
   "id": "c99606a36bbb863a",
   "outputs": [
    {
     "name": "stdout",
     "output_type": "stream",
     "text": [
      "mergeMatrix2: \n",
      " [[ 1  2  3  4]\n",
      " [ 5  6  7  8]\n",
      " [ 9 10 11 12]\n",
      " [13 14 15 16]]\n"
     ]
    }
   ],
   "execution_count": 82
  },
  {
   "metadata": {},
   "cell_type": "markdown",
   "source": "14. Bir dizinin maksimum ve minimum değere sahip olan elemanlarını bulma.",
   "id": "2dc487513d1c0fc4"
  },
  {
   "metadata": {
    "ExecuteTime": {
     "end_time": "2025-08-28T07:33:44.228066Z",
     "start_time": "2025-08-28T07:33:44.224780Z"
    }
   },
   "cell_type": "code",
   "source": [
    "array19 = np.random.randint(1, 20, size=(3, 4))\n",
    "print(\"array19: \\n\", array19)\n",
    "print(\"Maximim value of the array19: \", array19.max())\n",
    "print(\"Minimum value of the array19: \", array19.min())"
   ],
   "id": "61d181d8429710cf",
   "outputs": [
    {
     "name": "stdout",
     "output_type": "stream",
     "text": [
      "array19: \n",
      " [[ 7 15 18 19]\n",
      " [ 6  7 12 10]\n",
      " [ 4 18  9  4]]\n",
      "Maximim value of the array19:  19\n",
      "Minimum value of the array19:  4\n"
     ]
    }
   ],
   "execution_count": 83
  },
  {
   "metadata": {},
   "cell_type": "markdown",
   "source": "15. Bir dizideki tüm satırların ve sütunların ayrı ayrı toplamını bulma.",
   "id": "7c3643b1ab47977"
  },
  {
   "metadata": {
    "ExecuteTime": {
     "end_time": "2025-08-28T07:33:44.248421Z",
     "start_time": "2025-08-28T07:33:44.244761Z"
    }
   },
   "cell_type": "code",
   "source": [
    "array20 = np.random.randint(0, 20, size=(3, 4))\n",
    "print(\"array20: \\n\", array20)\n",
    "print(\"Total of the rows of array20: \", array20.sum(axis=1))\n",
    "print(\"Total of the columns of array20: \", array20.sum(axis=0))"
   ],
   "id": "3a84f6fc401b0f65",
   "outputs": [
    {
     "name": "stdout",
     "output_type": "stream",
     "text": [
      "array20: \n",
      " [[15 13  3 18]\n",
      " [ 3  0 11 16]\n",
      " [ 4  8 12 17]]\n",
      "Total of the rows of array20:  [49 30 41]\n",
      "Total of the columns of array20:  [22 21 26 51]\n"
     ]
    }
   ],
   "execution_count": 84
  },
  {
   "metadata": {},
   "cell_type": "markdown",
   "source": "16. Bir dizideki tüm elemanların ortalamasını bulma.",
   "id": "2d068a928ea7f64f"
  },
  {
   "metadata": {
    "ExecuteTime": {
     "end_time": "2025-08-28T07:33:44.266392Z",
     "start_time": "2025-08-28T07:33:44.262455Z"
    }
   },
   "cell_type": "code",
   "source": [
    "array21 = np.random.randint(0, 20, size=(3, 4))\n",
    "print(\"array21: \\n\", array21)\n",
    "print(\"The average of the elements of array21: \", array21.mean())"
   ],
   "id": "5077b6ceb8316d58",
   "outputs": [
    {
     "name": "stdout",
     "output_type": "stream",
     "text": [
      "array21: \n",
      " [[ 9  9  2 10]\n",
      " [ 7  8  8  7]\n",
      " [ 6 19 15  6]]\n",
      "The average of the elements of array21:  8.833333333333334\n"
     ]
    }
   ],
   "execution_count": 85
  },
  {
   "metadata": {},
   "cell_type": "markdown",
   "source": "17. Bir dizideki varyansı bulma.",
   "id": "e35643b163235566"
  },
  {
   "metadata": {
    "ExecuteTime": {
     "end_time": "2025-08-28T07:33:44.286536Z",
     "start_time": "2025-08-28T07:33:44.283289Z"
    }
   },
   "cell_type": "code",
   "source": [
    "array22 = np.random.randint(0, 20, size=(3, 4))\n",
    "print(\"array22: \\n\", array22)\n",
    "print(\"Variance of the array22: \", array22.var())"
   ],
   "id": "aade1d87d5048842",
   "outputs": [
    {
     "name": "stdout",
     "output_type": "stream",
     "text": [
      "array22: \n",
      " [[ 0  5  6  1]\n",
      " [16 17 18  8]\n",
      " [ 0  5 11  0]]\n",
      "Variance of the array22:  42.520833333333336\n"
     ]
    }
   ],
   "execution_count": 86
  },
  {
   "metadata": {},
   "cell_type": "markdown",
   "source": [
    "# Varyans (σ² veya s²)\n",
    "\n",
    "## Popülasyon Varyansı\n",
    "$$\n",
    "\\sigma^2 = \\frac{\\sum_{i=1}^{N} (x_i - \\mu)^2}{N}\n",
    "$$\n",
    "\n",
    "## Örneklem Varyansı\n",
    "$$\n",
    "s^2 = \\frac{\\sum_{i=1}^{n} (x_i - \\bar{x})^2}{n-1}\n",
    "$$\n",
    "\n",
    "### Değişkenler:\n",
    "- $ x_i $: Her bir gözlem değeri\n",
    "- $ N $: Popülasyondaki eleman sayısı\n",
    "- $ n $: Örneklemdeki eleman sayısı\n",
    "- $ \\mu $: Popülasyon ortalaması\n",
    "- $ \\bar{x} $: Örneklem ortalaması\n"
   ],
   "id": "9eecc865aa418255"
  },
  {
   "metadata": {},
   "cell_type": "markdown",
   "source": [
    "- Soru: Varyans nedir?\n",
    "\n",
    "- Cevap: `Varyans` istatistiksel bir terimdir ve bir veri kümesindeki değerlerin ortalamadan ne kadar sapma gösterdiğini ölçer. Yani varyans, bir veri kümesindeki her bir verinin ortalamadan en karad uzaklaştığına bağlı olarak veri dağılımının ne kadar geniş olduğunu ölçer. `Varyans, bir veri kümesindeki her bir verinin ortalamadan ne kadar farklı olduğunu ölçmek için kullanılan kareli sapma değerlerinin toplamının n-1' e bölünmesi ile hesaplanır.` Burada `n`, veri kümesindeki toplam örneklemlerin sayısını temsil eder. Varyansın Kareköküne `Standart Sapma` denir ve varyansın ölçüm birimi ile aynı birimde ifade edilir. Daha düşük bir varyans değeri, örneklerin ortalamadan daha fazla uzaklaştığı anlamına gelir, daha yüksek bir varyans değeri, örneklerin ortalamadan daha fazla uzaklaştığı anlamına gelir."
   ],
   "id": "bb96020393f4344b"
  },
  {
   "metadata": {},
   "cell_type": "markdown",
   "source": "18. Bir dizideki standart sapmayı bulma.",
   "id": "1e2577d5364cd09"
  },
  {
   "metadata": {
    "ExecuteTime": {
     "end_time": "2025-08-28T07:33:44.302935Z",
     "start_time": "2025-08-28T07:33:44.299824Z"
    }
   },
   "cell_type": "code",
   "source": [
    "array23 = np.random.randint(0, 20, size=(3, 4))\n",
    "print(\"array23: \\n\", array23)\n",
    "print(\"Standard deviation of the array23: \", array23.std())"
   ],
   "id": "8a6baed405181268",
   "outputs": [
    {
     "name": "stdout",
     "output_type": "stream",
     "text": [
      "array23: \n",
      " [[ 3  4  1 14]\n",
      " [ 6 11 18 17]\n",
      " [ 1  8 12 19]]\n",
      "Standard deviation of the array23:  6.317963807008288\n"
     ]
    }
   ],
   "execution_count": 87
  },
  {
   "metadata": {},
   "cell_type": "markdown",
   "source": [
    "# Standart Sapma (σ veya s)\n",
    "\n",
    "## Popülasyon Standart Sapması\n",
    "$$\n",
    "\\sigma = \\sqrt{\\frac{\\sum_{i=1}^{N} (x_i - \\mu)^2}{N}}\n",
    "$$\n",
    "\n",
    "## Örneklem Standart Sapması\n",
    "$$\n",
    "s = \\sqrt{\\frac{\\sum_{i=1}^{n} (x_i - \\bar{x})^2}{n-1}}\n",
    "$$\n",
    "\n",
    "### Değişkenler:\n",
    "- $ x_i $: Her bir gözlem değeri\n",
    "- $ N $: Popülasyondaki eleman sayısı\n",
    "- $ n $: Örneklemdeki eleman sayısı\n",
    "- $ \\mu $: Popülasyon ortalaması\n",
    "- $ \\bar{x} $: Örneklem ortalaması\n"
   ],
   "id": "73e3c932f857b6d3"
  },
  {
   "metadata": {},
   "cell_type": "markdown",
   "source": [
    "- Soru: Standart sapma nedir?\n",
    "\n",
    "- Cevap: Standart sapma, bir veri kümesindeki değerlerin ortalamadan ne kadar sapma gösterdiğiniz ölçen bir istatistik terimdir. Standart sapma, veri kümesindeki her bir örneğin ortalamadan ne kadar farklı olduğunu hesaplamak için kullanılır. `Standart sapma, veri kümesindeki örneklemlerin her birinin ortalamadan farkının karelerinin toplamının, örneklemlerin sayısının bir eksiğiyle bölümünden elde edilen değerin karekökü alınarak hesaplanır.` Bu hesaplamayla, standart sapma, veri kümesindeki örneklerin ne kadar yayıldığını, ne kadar değişken olduğunu ölçer. Standart sapma, varyansın kare kökü olarak hesaplanabilir. Standart sapma, varyans gibi veri kümesinin ölçüm birimi ile aynı birimden ifade edilir. Bir veri kümesindeki standart sapma daha yüksekse, veri kümesindeki örneklerin ortalamadan daha fazla sapma gösterdiği anlamına gelir ve veri kümesinin daha değişken olduğunu ifade eder. Standart sapma daha düşükse, veri kümesindeki örneklerin ortalamaya daha yakın olduğu ve veri kümesinin daha homojen olduğu anlamına gelir."
   ],
   "id": "ec9fe50abe6bca0f"
  },
  {
   "metadata": {},
   "cell_type": "markdown",
   "source": "`Ek bilgi:` Diziler arasında matematiksel gerçekleşebilir ancak dizilerin boyutu ve şekli birbiri ile uyumlu olmalıdır. Yani aynı satır ve sütun sayılarına sahip olmalıdır.",
   "id": "355787b2ada8534a"
  },
  {
   "metadata": {},
   "cell_type": "markdown",
   "source": "`Farklı dizileri toplama:` İki farklı dizimiz olsun. Bu dizilerdeki karşılıklı satır ve sütunları toplayalım. Aşağıdaki örnekte `array24`' deki 1 değeri, `array25`' taki 7 değerini dek geleceği için bu ikisi toplanır ve 8 değerine ulaşılır. Diğer değerler de aynı şekilde toplanır.",
   "id": "b17a2384da7ee650"
  },
  {
   "metadata": {
    "ExecuteTime": {
     "end_time": "2025-08-28T07:33:44.318200Z",
     "start_time": "2025-08-28T07:33:44.314982Z"
    }
   },
   "cell_type": "code",
   "source": [
    "array24 = np.array([[1, 2, 3], [4, 5, 6]])\n",
    "array25 = np.array([[7, 8, 9], [10, 11, 12]])\n",
    "\n",
    "result = array24 + array25\n",
    "print(\"result: \\n\", result)"
   ],
   "id": "12a7418c566833e9",
   "outputs": [
    {
     "name": "stdout",
     "output_type": "stream",
     "text": [
      "result: \n",
      " [[ 8 10 12]\n",
      " [14 16 18]]\n"
     ]
    }
   ],
   "execution_count": 88
  },
  {
   "metadata": {},
   "cell_type": "markdown",
   "source": "`Farklı dizileri çıkarma:` Farklı bir örnekle `array26` değerlerini `array27` değerlerinden çikaralım.",
   "id": "6b10a18b702756a5"
  },
  {
   "metadata": {
    "ExecuteTime": {
     "end_time": "2025-08-28T07:33:44.337080Z",
     "start_time": "2025-08-28T07:33:44.333678Z"
    }
   },
   "cell_type": "code",
   "source": [
    "array26 = np.array([[12, 45, 32], [10, 32, 56]])\n",
    "array27 = np.array([[3, 2, 4], [7, 7, 9]])\n",
    "\n",
    "result = array26 - array27\n",
    "print(\"result: \\n\", result)"
   ],
   "id": "3d53908df175f9e4",
   "outputs": [
    {
     "name": "stdout",
     "output_type": "stream",
     "text": [
      "result: \n",
      " [[ 9 43 28]\n",
      " [ 3 25 47]]\n"
     ]
    }
   ],
   "execution_count": 89
  },
  {
   "metadata": {},
   "cell_type": "markdown",
   "source": "`Farklı dizileri çarpma:` Farklı bir örnekle `array28` değerlerini `array29`  değerleri ile çarpalım.",
   "id": "e2796cc192e1a0ed"
  },
  {
   "metadata": {
    "ExecuteTime": {
     "end_time": "2025-08-28T07:33:44.352508Z",
     "start_time": "2025-08-28T07:33:44.349144Z"
    }
   },
   "cell_type": "code",
   "source": [
    "array28 = np.array([[3, 2, 4], [3, 8, 5]])\n",
    "array29 = np.array([[9, 4, 7], [1, 2, 6]])\n",
    "\n",
    "result = array28 * array29\n",
    "print(\"result: \\n\", result)"
   ],
   "id": "d4d163f79a880333",
   "outputs": [
    {
     "name": "stdout",
     "output_type": "stream",
     "text": [
      "result: \n",
      " [[27  8 28]\n",
      " [ 3 16 30]]\n"
     ]
    }
   ],
   "execution_count": 90
  },
  {
   "metadata": {},
   "cell_type": "markdown",
   "source": "`Farklı dizileri bölme:` Farklı bir örnekle `array30` değerlerini `array31` değerlerine bölelim. Sonuçların `float` olarak çıktığına dikkat edin.",
   "id": "19332cafe1270b14"
  },
  {
   "metadata": {
    "ExecuteTime": {
     "end_time": "2025-08-28T07:33:44.368576Z",
     "start_time": "2025-08-28T07:33:44.364839Z"
    }
   },
   "cell_type": "code",
   "source": [
    "array30 = np.array([[9, 4, 8], [6, 16, 35]])\n",
    "array31 = np.array([[3, 2, 4], [3, 8, 5]])\n",
    "\n",
    "result = array30 / array31\n",
    "print(\"result: \\n\", result)"
   ],
   "id": "6387612555cf32",
   "outputs": [
    {
     "name": "stdout",
     "output_type": "stream",
     "text": [
      "result: \n",
      " [[3. 2. 2.]\n",
      " [2. 2. 7.]]\n"
     ]
    }
   ],
   "execution_count": 91
  },
  {
   "metadata": {},
   "cell_type": "markdown",
   "source": "`Farklı diziler arası modül işlemi:` Modül işlemi bilindiği üzere bölümlerden kalan sayıyı verir. Bunun aşağıdaki dizi değerleri arasında gösterelim.",
   "id": "2b847e43293e2301"
  },
  {
   "metadata": {
    "ExecuteTime": {
     "end_time": "2025-08-28T07:33:44.383138Z",
     "start_time": "2025-08-28T07:33:44.380120Z"
    }
   },
   "cell_type": "code",
   "source": [
    "array32 = np.array([[12, 45, 32], [10, 32, 56]])\n",
    "array33 = np.array([[3, 2, 4], [7, 7, 9]])\n",
    "\n",
    "result = array32 % array33\n",
    "print(\"result: \\n\", result)"
   ],
   "id": "9acbe4146b59fbfe",
   "outputs": [
    {
     "name": "stdout",
     "output_type": "stream",
     "text": [
      "result: \n",
      " [[0 1 0]\n",
      " [3 4 2]]\n"
     ]
    }
   ],
   "execution_count": 92
  },
  {
   "metadata": {},
   "cell_type": "markdown",
   "source": "`Bir dizi ile sayının toplanması:` Aşağıdaki işleme `array34`' ün her değerine `10` değeri eklenir.",
   "id": "b690538003ff49e4"
  },
  {
   "metadata": {
    "ExecuteTime": {
     "end_time": "2025-08-28T07:33:44.398225Z",
     "start_time": "2025-08-28T07:33:44.394653Z"
    }
   },
   "cell_type": "code",
   "source": [
    "array34 = np.array([[1, 2, 3], [4, 5, 6]])\n",
    "\n",
    "result = array34 + 10\n",
    "print(\"result: \\n\", result)"
   ],
   "id": "3e7533fb70420a24",
   "outputs": [
    {
     "name": "stdout",
     "output_type": "stream",
     "text": [
      "result: \n",
      " [[11 12 13]\n",
      " [14 15 16]]\n"
     ]
    }
   ],
   "execution_count": 93
  },
  {
   "metadata": {},
   "cell_type": "markdown",
   "source": "`Ek bilgi:` Bir dizi ile bir sayı nasıl toparlanabiliyorsa diğer tüm işlemler de yapılabilir.",
   "id": "e036d8adaef6b85b"
  },
  {
   "metadata": {},
   "cell_type": "markdown",
   "source": "`Dizilerde trigonometrik işlemler:` Dizilerde trigonometrik işlemler de yapılabilir. Aşağıdaki örnekte sinüs alma işlemi gösterilmiştir.",
   "id": "d455eda02da5d2b2"
  },
  {
   "metadata": {
    "ExecuteTime": {
     "end_time": "2025-08-28T07:33:44.411612Z",
     "start_time": "2025-08-28T07:33:44.408522Z"
    }
   },
   "cell_type": "code",
   "source": [
    "array35 = np.array([[1, 2, 3], [4, 5, 6]])\n",
    "\n",
    "result = np.sin(array35)\n",
    "print(\"result: \\n\", result)"
   ],
   "id": "c5a26b55ef71f1cf",
   "outputs": [
    {
     "name": "stdout",
     "output_type": "stream",
     "text": [
      "result: \n",
      " [[ 0.84147098  0.90929743  0.14112001]\n",
      " [-0.7568025  -0.95892427 -0.2794155 ]]\n"
     ]
    }
   ],
   "execution_count": 94
  },
  {
   "metadata": {},
   "cell_type": "markdown",
   "source": "`Dizilerde karekök ve diğer işlemler:` Yukarıda gösterilen trigonometrik işlem haricinde karekök gibi işlemlerde yapılabilir. Bunun için yapmamız gereken sadece `sin()` metodu yerine `sqrt()` metodunu kullanmaktır. Bunların haricinde `exp()` e sayısı (e≈2.718281828459045…), `log()` logaritma gibi işlemler de aynı yöntemle yapılır.",
   "id": "d88ad63e712997ac"
  },
  {
   "metadata": {},
   "cell_type": "markdown",
   "source": "`Matris çarpma:` İki matrisin çarpımı `dot()` metodu veya `@` kullanılarak hesaplanır. Ancak matrislerin boyutlarına dkkat etmek önemlidir. İlk matrisin sütun sayısı ikinci matrisin satır sayısına eşit olmalıdır.",
   "id": "22822d0a7ee1cc7f"
  },
  {
   "metadata": {},
   "cell_type": "markdown",
   "source": [
    "## Matris Çarpma Koşulu\n",
    "\n",
    "Eğer\n",
    "$$\n",
    "A_{m \\times n} \\quad \\text{ve} \\quad B_{n \\times p}\n",
    "$$\n",
    "matrisleri verilmişse,\n",
    "\n",
    "$$\n",
    "C = A \\times B\n",
    "$$\n",
    "çarpımı tanımlıdır ve sonuç\n",
    "$$\n",
    "C_{m \\times p}\n",
    "$$\n",
    "boyutunda bir matris olur.\n",
    "\n",
    "---\n",
    "\n",
    "### Örnek:\n",
    "\n",
    "$$\n",
    "A =\n",
    "\\begin{bmatrix}\n",
    "1 & 2 & 3 \\\\\n",
    "4 & 5 & 6\n",
    "\\end{bmatrix}_{2 \\times 3}\n",
    "\\quad\n",
    "B =\n",
    "\\begin{bmatrix}\n",
    "7 & 8 \\\\\n",
    "9 & 10 \\\\\n",
    "11 & 12\n",
    "\\end{bmatrix}_{3 \\times 2}\n",
    "$$\n",
    "\n",
    "\n",
    "✅ Burada $ A $ matrisinin sütun sayısı (3), $ B $ matrisinin satır sayısına (3) eşittir.\n",
    "\n",
    "Sonuç $ C_{2 \\times 2} $ boyutunda bir matristir."
   ],
   "id": "1327972ce928d338"
  },
  {
   "metadata": {
    "ExecuteTime": {
     "end_time": "2025-08-28T07:33:44.427069Z",
     "start_time": "2025-08-28T07:33:44.423538Z"
    }
   },
   "cell_type": "code",
   "source": [
    "array36 = np.array([[1, 2, 3], [4, 5, 6]])\n",
    "array37 = np.array([[7, 8], [9, 10], [11, 12]])\n",
    "\n",
    "result = np.dot(array36, array37)\n",
    "result1 = array36 @ array37\n",
    "\n",
    "print(\"result: \\n\", result)\n",
    "print(\"result1: \\n\", result1)"
   ],
   "id": "7c5b62140dbb140c",
   "outputs": [
    {
     "name": "stdout",
     "output_type": "stream",
     "text": [
      "result: \n",
      " [[ 58  64]\n",
      " [139 154]]\n",
      "result1: \n",
      " [[ 58  64]\n",
      " [139 154]]\n"
     ]
    }
   ],
   "execution_count": 95
  },
  {
   "metadata": {},
   "cell_type": "markdown",
   "source": [
    "`Transpozisyon işlemi:` Transpozisyon işlemi, bir dizi ya da matris sütun ve satırlarının yarlerini değiştirir.  Yani bir matrisin transpozu, orjinal matrisin sütunlarının satırlarla ve satırların da sütulanlarla yer değiştiröiş halidir.\n",
    "\n",
    "NumPy' de transpozisyon işlemi, `transpose()` fonksiyonu ile yapılır. Bu fonksiyon, bir dizinin boyutlarını tersine çevirir.\n",
    "\n",
    "Örneğin, bir 2D dizi (matris) için, `transpose()` işlemi, sütunları satırlara ve satırları da sütunlara çevirir."
   ],
   "id": "784d9b078d045f7b"
  },
  {
   "metadata": {
    "ExecuteTime": {
     "end_time": "2025-08-28T07:33:44.444353Z",
     "start_time": "2025-08-28T07:33:44.441287Z"
    }
   },
   "cell_type": "code",
   "source": [
    "matrix = np.array([[1, 2], [3, 4], [5, 6]])\n",
    "transposeMatrix = matrix.transpose()\n",
    "print(\"Matrix: \\n\", matrix)\n",
    "print(\"Matrix's shape: \\n\", matrix.shape)\n",
    "print(\"transposeMatrix: \\n\", transposeMatrix)\n",
    "print(\"transposeMatrix' shape: \\n\", transposeMatrix.shape)"
   ],
   "id": "5447d3be8b24a32d",
   "outputs": [
    {
     "name": "stdout",
     "output_type": "stream",
     "text": [
      "Matrix: \n",
      " [[1 2]\n",
      " [3 4]\n",
      " [5 6]]\n",
      "Matrix's shape: \n",
      " (3, 2)\n",
      "transposeMatrix: \n",
      " [[1 3 5]\n",
      " [2 4 6]]\n",
      "transposeMatrix' shape: \n",
      " (2, 3)\n"
     ]
    }
   ],
   "execution_count": 96
  },
  {
   "metadata": {},
   "cell_type": "markdown",
   "source": "`Ek bilgi:` `transpose()` metodu yerine, `T` komutu da kullanılabilir.",
   "id": "ff2adbccc7becec4"
  },
  {
   "metadata": {
    "ExecuteTime": {
     "end_time": "2025-08-28T07:33:44.462452Z",
     "start_time": "2025-08-28T07:33:44.459222Z"
    }
   },
   "cell_type": "code",
   "source": [
    "matrix = np.array([[1, 2], [3, 4], [5, 6]])\n",
    "print(\"Matrix: \\n\", matrix)\n",
    "print(\"Matrix's shape: \\n\", matrix.shape)\n",
    "print(\"transposeMatrix: \\n\",  matrix.T)\n",
    "print(\"transposeMatrix' shape: \\n\", matrix.T.shape)"
   ],
   "id": "489a0e9241c09c22",
   "outputs": [
    {
     "name": "stdout",
     "output_type": "stream",
     "text": [
      "Matrix: \n",
      " [[1 2]\n",
      " [3 4]\n",
      " [5 6]]\n",
      "Matrix's shape: \n",
      " (3, 2)\n",
      "transposeMatrix: \n",
      " [[1 3 5]\n",
      " [2 4 6]]\n",
      "transposeMatrix' shape: \n",
      " (2, 3)\n"
     ]
    }
   ],
   "execution_count": 97
  },
  {
   "metadata": {},
   "cell_type": "markdown",
   "source": "`Dizi ve matrislerde boolean işlemleri:` Koşullu işlemler yapıp dizimizdeki değerlerin doğruluğunu kontrol edip 'True' veya `False` çıktıları alabiliriz.",
   "id": "41b11013d99aa5b2"
  },
  {
   "metadata": {
    "ExecuteTime": {
     "end_time": "2025-08-28T07:33:44.475789Z",
     "start_time": "2025-08-28T07:33:44.472463Z"
    }
   },
   "cell_type": "code",
   "source": [
    "matrix = np.array([[1, 2], [3, 4], [5, 6]])\n",
    "controle = matrix < 4\n",
    "print(\"matrix: \\n\", matrix)\n",
    "print(\"Controle: \\n\", controle)"
   ],
   "id": "360f36a2cd8cf6eb",
   "outputs": [
    {
     "name": "stdout",
     "output_type": "stream",
     "text": [
      "matrix: \n",
      " [[1 2]\n",
      " [3 4]\n",
      " [5 6]]\n",
      "Controle: \n",
      " [[ True  True]\n",
      " [ True False]\n",
      " [False False]]\n"
     ]
    }
   ],
   "execution_count": 98
  },
  {
   "metadata": {},
   "cell_type": "markdown",
   "source": "`Ek bilgi:` Sadece koşulu sağlayan değerleri dizi haline getirebiliriz. Yukarıdaki örneği tekrar baz alırsak;",
   "id": "373b82dc9c4e4ab1"
  },
  {
   "metadata": {
    "ExecuteTime": {
     "end_time": "2025-08-28T07:33:44.491248Z",
     "start_time": "2025-08-28T07:33:44.487948Z"
    }
   },
   "cell_type": "code",
   "source": [
    "valuesOfControle = matrix[matrix < 4]\n",
    "print(\"Values of controle: \\n\", valuesOfControle)"
   ],
   "id": "c23c5d76a78fb784",
   "outputs": [
    {
     "name": "stdout",
     "output_type": "stream",
     "text": [
      "Values of controle: \n",
      " [1 2 3]\n"
     ]
    }
   ],
   "execution_count": 99
  },
  {
   "metadata": {},
   "cell_type": "markdown",
   "source": "`.npy Dosya Formatı:` NumPy dizileri diskte depolamak ve okumak için kullanılabilen bir dosya formatı olan `.npy` dosyalarını destekler. `.npy` dosyaları, NumPy tarafından sağlanan `save()` ve `load()` fonksiyonlarını kullanarak oluşturulur ve okunur. Bu dosyalar, yüksek performanslı  veri depolama ve aktarımı sağlar.",
   "id": "d3d387e7c913c71a"
  },
  {
   "metadata": {},
   "cell_type": "markdown",
   "source": "`Ek bilgi:` NumPy ayrıca `.npz` uzantılı sıkıştırılmış dosyaları da destekler. Bu dosyalar, birden fazla `.npy` dosyasını içerebilir ve sıkıştırılmış bir arşiv olarak saklanabilir. Bu dosyaları oluşturmak ve okumak için de NumPy tarafından sağlanan `savez()` ve `loadz()` fonksiyonları kullanılabilir.",
   "id": "46f50106ad082641"
  },
  {
   "metadata": {
    "ExecuteTime": {
     "end_time": "2025-08-28T07:33:44.507736Z",
     "start_time": "2025-08-28T07:33:44.503767Z"
    }
   },
   "cell_type": "code",
   "source": [
    "matrix = np.array([1, 2, 3, 4, 5])\n",
    "np.save(\"try.npy\", matrix)\n",
    "newMatrix = np.load(\"try.npy\")\n",
    "print(\"matrix: \\n\", matrix)\n",
    "print(\"newMatrix: \\n\", newMatrix)"
   ],
   "id": "fc564f6cfb5cc0e7",
   "outputs": [
    {
     "name": "stdout",
     "output_type": "stream",
     "text": [
      "matrix: \n",
      " [1 2 3 4 5]\n",
      "newMatrix: \n",
      " [1 2 3 4 5]\n"
     ]
    }
   ],
   "execution_count": 100
  },
  {
   "metadata": {},
   "cell_type": "markdown",
   "source": "`Bir .csv uzantılı dosyanın içindeki verileri çekme:` Numpy, `.csv` dosyalarını okumak için `genformtxt()` fonksiyonunu kullanabilirrsiniz.  Bu fonksiyon, bir `.csv` dosyasını NumPy dizisi olarak okur.",
   "id": "5cf8f4186c1f0083"
  },
  {
   "metadata": {
    "ExecuteTime": {
     "end_time": "2025-08-28T07:33:44.523693Z",
     "start_time": "2025-08-28T07:33:44.519274Z"
    }
   },
   "cell_type": "code",
   "source": [
    "path = \"example.csv\"\n",
    "data = np.genfromtxt(path, delimiter=\",\")\n",
    "print(\"data: \\n\", data)"
   ],
   "id": "f5ffb00ee2f04a63",
   "outputs": [
    {
     "name": "stdout",
     "output_type": "stream",
     "text": [
      "data: \n",
      " [[1. 2. 3.]\n",
      " [4. 5. 6.]\n",
      " [7. 8. 9.]]\n"
     ]
    }
   ],
   "execution_count": 101
  },
  {
   "metadata": {},
   "cell_type": "markdown",
   "source": "`Ek bilgi:` `delmiter` parametresi, dosyanın nasıl ayrıldığını belirtir. Burada `,` karakteri kullanıldı.",
   "id": "9303fd6895857a"
  }
 ],
 "metadata": {
  "kernelspec": {
   "display_name": "Python 3",
   "language": "python",
   "name": "python3"
  },
  "language_info": {
   "codemirror_mode": {
    "name": "ipython",
    "version": 2
   },
   "file_extension": ".py",
   "mimetype": "text/x-python",
   "name": "python",
   "nbconvert_exporter": "python",
   "pygments_lexer": "ipython2",
   "version": "2.7.6"
  }
 },
 "nbformat": 4,
 "nbformat_minor": 5
}
