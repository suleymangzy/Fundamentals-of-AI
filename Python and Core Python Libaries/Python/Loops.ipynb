{
 "cells": [
  {
   "metadata": {},
   "cell_type": "markdown",
   "source": "# Döngüler",
   "id": "a953fbdc00b3a405"
  },
  {
   "metadata": {},
   "cell_type": "markdown",
   "source": [
    "Pythonda temelde kullanabileceğimiz 2 döngü tipi vardır. Bunlar; `for` ve `while` döngüleridir.\n",
    "* Döngü nedir ve döngüler ile neler yapabiliriz?\n",
    "\n",
    "örneğin ekrana 10 tane `Merhaba` yazmak istersek gereken 10 tane `print('Merhaba')` yazmak. Ancak sayıyı arttırıp 1000 demiş olsak bu eminim zor olacaktır. Dolayısısyla tekrarlayan bu gibi işlemleri kolaylıkla döngüler yardımıyla yapabiliriz.\n",
    "\n",
    "Bir koşul gerçekleşene kadar tekrar eden kod yapısını düşünelim. Örneğin, kullanıcıdan istediğimizi bir parola bilgisinin en az 7 karakter olma şartını sağlayana kadar tekrar tekrar parola giriniz şeklinde mesaj yazdırmak isteyebilirsiniz. Bu gibi durumlarda döngü kullanmamız gerekiyor."
   ],
   "id": "f3866efb05fd2912"
  },
  {
   "metadata": {},
   "cell_type": "markdown",
   "source": "## for Döngüsü",
   "id": "61f443d8e5a0f239"
  },
  {
   "metadata": {},
   "cell_type": "markdown",
   "source": "Python liste verileri üzerinde `for` döngüsü ile her bir elemana ulaşabiliriz.",
   "id": "2f3a803d102e253e"
  },
  {
   "metadata": {
    "ExecuteTime": {
     "end_time": "2025-08-25T18:57:42.182644Z",
     "start_time": "2025-08-25T18:57:42.179674Z"
    }
   },
   "cell_type": "code",
   "source": [
    "numbers = [1, 2, 3, 4, 5]\n",
    "\n",
    "for number in numbers:\n",
    "    print(number, end=\" \")"
   ],
   "id": "5d643a0238574ff7",
   "outputs": [
    {
     "name": "stdout",
     "output_type": "stream",
     "text": [
      "1 2 3 4 5 "
     ]
    }
   ],
   "execution_count": 2
  },
  {
   "metadata": {
    "ExecuteTime": {
     "end_time": "2025-08-25T19:01:55.476629Z",
     "start_time": "2025-08-25T19:01:55.471192Z"
    }
   },
   "cell_type": "code",
   "source": [
    "names = [\"John\", \"Michael\", \"Smith\"]\n",
    "\n",
    "for name in names:\n",
    "    print(f\"My name is {name}\")"
   ],
   "id": "8f38a8598b01ac8f",
   "outputs": [
    {
     "name": "stdout",
     "output_type": "stream",
     "text": [
      "My name is John\n",
      "My name is Michael\n",
      "My name is Smith\n"
     ]
    }
   ],
   "execution_count": 4
  },
  {
   "metadata": {},
   "cell_type": "markdown",
   "source": "`for` döngüsü ile `names` listesi üzerindeki her bir elemana ulaşarak isim değişkeni içerisine kopyalıyoruz ve ulaştığımız her bir string değer `print(name)` ile ekrana yazdırılır.",
   "id": "373a28ecfd41ac14"
  },
  {
   "metadata": {
    "ExecuteTime": {
     "end_time": "2025-08-25T19:05:22.519188Z",
     "start_time": "2025-08-25T19:05:22.513810Z"
    }
   },
   "cell_type": "code",
   "source": [
    "tupple = [(1, 2), (1, 3), (3, 5), (5, 7)]\n",
    "\n",
    "for a, b in tupple:\n",
    "    print(a, b)"
   ],
   "id": "d9705b6f8b5298ad",
   "outputs": [
    {
     "name": "stdout",
     "output_type": "stream",
     "text": [
      "1 2\n",
      "1 3\n",
      "3 5\n",
      "5 7\n"
     ]
    }
   ],
   "execution_count": 5
  },
  {
   "metadata": {},
   "cell_type": "markdown",
   "source": "Liste içerisinde `tupple` verilere ulaştığımızda her bir değer `a` ve `b` değişkenlerine sırayla kopyalanır.",
   "id": "99b436d72126c0db"
  },
  {
   "metadata": {},
   "cell_type": "markdown",
   "source": "### for Döngüsü ile String İşlemleri",
   "id": "dcfa5ec3cbdba436"
  },
  {
   "metadata": {},
   "cell_type": "markdown",
   "source": "String veri tipi esasen bir karakter dizisidir ve string içindeki her bir karaktere ulaşmak için for döngüsünü kullanırız.",
   "id": "c9fe8ed477be20b2"
  },
  {
   "metadata": {
    "ExecuteTime": {
     "end_time": "2025-08-25T19:08:35.960929Z",
     "start_time": "2025-08-25T19:08:35.957674Z"
    }
   },
   "cell_type": "code",
   "source": [
    "name = \"Alex\"\n",
    "\n",
    "for letter in name:\n",
    "    print(letter, end=\" \")"
   ],
   "id": "62e61f0ae3054ebd",
   "outputs": [
    {
     "name": "stdout",
     "output_type": "stream",
     "text": [
      "A l e x "
     ]
    }
   ],
   "execution_count": 7
  },
  {
   "metadata": {},
   "cell_type": "markdown",
   "source": "### for Döngüsü ile Dictionary İşlemleri",
   "id": "f8257c0c01537e5b"
  },
  {
   "metadata": {},
   "cell_type": "markdown",
   "source": "`Dictionary` verileri üzerinde for döngüsü ile her bir elemanın anahtar ve değer bilgilerini alabiliriz.",
   "id": "f3a5a41fef0c34b8"
  },
  {
   "metadata": {
    "ExecuteTime": {
     "end_time": "2025-08-25T19:14:58.607063Z",
     "start_time": "2025-08-25T19:14:58.602462Z"
    }
   },
   "cell_type": "code",
   "source": [
    "d = {'key1': 1, 'key2': 2, 'key3': 3}\n",
    "\n",
    "print(\"Keys | Values\")\n",
    "for key in d:\n",
    "    print(key, \":\", d[key])\n",
    "\n",
    "print(\"---------------\")\n",
    "\n",
    "for key, value in d.items():\n",
    "    print(key, \":\", value)"
   ],
   "id": "6aca7dfb5c1f477d",
   "outputs": [
    {
     "name": "stdout",
     "output_type": "stream",
     "text": [
      "Keys | Values\n",
      "key1 : 1\n",
      "key2 : 2\n",
      "key3 : 3\n",
      "---------------\n",
      "key1 : 1\n",
      "key2 : 2\n",
      "key3 : 3\n"
     ]
    }
   ],
   "execution_count": 10
  },
  {
   "metadata": {},
   "cell_type": "markdown",
   "source": "### Range Fonksiyonu",
   "id": "3da0b6ac3e2292ab"
  },
  {
   "metadata": {},
   "cell_type": "markdown",
   "source": "Peki belli sayıda tekrarlayan işlemleri `for` döngüsü ile nasıl yapacağız?",
   "id": "898dfeea7377c781"
  },
  {
   "metadata": {
    "ExecuteTime": {
     "end_time": "2025-08-25T19:51:51.823530Z",
     "start_time": "2025-08-25T19:51:51.819018Z"
    }
   },
   "cell_type": "code",
   "source": [
    "numbers = [1, 2, 3, 4, 5]\n",
    "\n",
    "for number in numbers:\n",
    "    print(\"Hello\")"
   ],
   "id": "51fa07de3f794c81",
   "outputs": [
    {
     "name": "stdout",
     "output_type": "stream",
     "text": [
      "Hello\n",
      "Hello\n",
      "Hello\n",
      "Hello\n",
      "Hello\n"
     ]
    }
   ],
   "execution_count": 12
  },
  {
   "metadata": {},
   "cell_type": "markdown",
   "source": [
    "Bu şekilde ekrana 5 defa `Hello` yazdırmak istiyorsak ve elimizde 5 elemanlı bir liste varsa işimizi halledebiliriz ancak 5 defa değil 5000 defa defa yazdırmak istersek bu durumda 5000 elemanlı bir listeyi nereden bulacağız?\n",
    "\n",
    "İşte burada `range()` fpnksiyonu imdadımıza yatişir ve istediğimiz eleman sayısına sahip bir listeyi hazırlar.\n",
    "\n",
    "`range()` fonksiyonu ile `for` döngüsünün dönme sayısı kadar tekrarlayan işlemler yapabiliriz."
   ],
   "id": "5d5f6c00ccb7eafa"
  },
  {
   "metadata": {
    "ExecuteTime": {
     "end_time": "2025-08-25T19:58:44.386679Z",
     "start_time": "2025-08-25T19:58:44.376378Z"
    }
   },
   "cell_type": "code",
   "source": [
    "result = list(range(5))\n",
    "print(result)"
   ],
   "id": "243d106f8420858c",
   "outputs": [
    {
     "name": "stdout",
     "output_type": "stream",
     "text": [
      "[0, 1, 2, 3, 4]\n"
     ]
    }
   ],
   "execution_count": 13
  },
  {
   "metadata": {},
   "cell_type": "markdown",
   "source": "Gördüğünüz gibi `range(5)` fonksiyonunu kullandığımızda bizim için bir obje üretilir ve biz bu objeyi `list()` ile listeye ççevirdiğimizde elimize `[0, 1, 2, 3, 4]` listesi gelir.",
   "id": "7141cee3cf2ed8e3"
  },
  {
   "metadata": {
    "ExecuteTime": {
     "end_time": "2025-08-25T20:02:18.035583Z",
     "start_time": "2025-08-25T20:02:18.030491Z"
    }
   },
   "cell_type": "code",
   "source": [
    "for i in range(5):\n",
    "    print(i, end=\" \")"
   ],
   "id": "7366a7cc82dc1b98",
   "outputs": [
    {
     "name": "stdout",
     "output_type": "stream",
     "text": [
      "0 1 2 3 4 "
     ]
    }
   ],
   "execution_count": 15
  },
  {
   "metadata": {
    "ExecuteTime": {
     "end_time": "2025-08-25T20:02:25.908611Z",
     "start_time": "2025-08-25T20:02:25.905769Z"
    }
   },
   "cell_type": "code",
   "source": [
    "for number in range(5):\n",
    "    print(number, end=\" \")"
   ],
   "id": "e4a02d6e2a80817a",
   "outputs": [
    {
     "name": "stdout",
     "output_type": "stream",
     "text": [
      "0 1 2 3 4 "
     ]
    }
   ],
   "execution_count": 16
  },
  {
   "metadata": {},
   "cell_type": "markdown",
   "source": "Peki 50 - 100 arasında bir liste üretmek istersek?",
   "id": "73f1ab76d290f691"
  },
  {
   "metadata": {
    "ExecuteTime": {
     "end_time": "2025-08-25T20:03:43.857449Z",
     "start_time": "2025-08-25T20:03:43.852073Z"
    }
   },
   "cell_type": "code",
   "source": [
    "for i in range(50, 100):\n",
    "    print(i, end=\" \")"
   ],
   "id": "ffc991ec5370267a",
   "outputs": [
    {
     "name": "stdout",
     "output_type": "stream",
     "text": [
      "50 51 52 53 54 55 56 57 58 59 60 61 62 63 64 65 66 67 68 69 70 71 72 73 74 75 76 77 78 79 80 81 82 83 84 85 86 87 88 89 90 91 92 93 94 95 96 97 98 99 "
     ]
    }
   ],
   "execution_count": 17
  },
  {
   "metadata": {},
   "cell_type": "markdown",
   "source": "Peki 50 - 100 arasında 2' şer 2' şer sayıları yazdırmak istersek?",
   "id": "2e5f587fdad1a0a8"
  },
  {
   "metadata": {
    "ExecuteTime": {
     "end_time": "2025-08-25T20:04:51.325450Z",
     "start_time": "2025-08-25T20:04:51.321141Z"
    }
   },
   "cell_type": "code",
   "source": [
    "for i in range(50, 100, 2):\n",
    "    print(i, end=\" \")"
   ],
   "id": "3871b24c1628f1f3",
   "outputs": [
    {
     "name": "stdout",
     "output_type": "stream",
     "text": [
      "50 52 54 56 58 60 62 64 66 68 70 72 74 76 78 80 82 84 86 88 90 92 94 96 98 "
     ]
    }
   ],
   "execution_count": 18
  },
  {
   "metadata": {},
   "cell_type": "markdown",
   "source": "### for Döngüsü Uygulamaları",
   "id": "6680d515e9c0033e"
  },
  {
   "metadata": {
    "ExecuteTime": {
     "end_time": "2025-08-25T20:06:47.383635Z",
     "start_time": "2025-08-25T20:06:47.381212Z"
    }
   },
   "cell_type": "code",
   "source": "numbers = [1, 3, 5, 7, 9, 12, 19, 21]",
   "id": "addf81eb3fed2f3f",
   "outputs": [],
   "execution_count": 19
  },
  {
   "metadata": {},
   "cell_type": "markdown",
   "source": "1. `numbers` listesindeki hangi sayılar 3' ün katıdır?",
   "id": "cfe596c80203ba0d"
  },
  {
   "metadata": {
    "ExecuteTime": {
     "end_time": "2025-08-25T20:08:17.461855Z",
     "start_time": "2025-08-25T20:08:17.459325Z"
    }
   },
   "cell_type": "code",
   "source": [
    "for number in numbers:\n",
    "    if number % 3 == 0:\n",
    "        print(number, end=\" \")"
   ],
   "id": "4121869ac9e0006c",
   "outputs": [
    {
     "name": "stdout",
     "output_type": "stream",
     "text": [
      "3 9 12 21 "
     ]
    }
   ],
   "execution_count": 21
  },
  {
   "metadata": {},
   "cell_type": "markdown",
   "source": "2. `numbers` listesinde sayıların toplamı kaçtır?",
   "id": "56b47672d74615d5"
  },
  {
   "metadata": {
    "ExecuteTime": {
     "end_time": "2025-08-25T20:12:22.703767Z",
     "start_time": "2025-08-25T20:12:22.698721Z"
    }
   },
   "cell_type": "code",
   "source": [
    "sum = 0\n",
    "\n",
    "for number in numbers:\n",
    "    sum += number\n",
    "\n",
    "print(\"Sum of the numbers: \", sum)\n"
   ],
   "id": "44b22d89da7ae175",
   "outputs": [
    {
     "name": "stdout",
     "output_type": "stream",
     "text": [
      "Sum of the numbers:  77\n"
     ]
    }
   ],
   "execution_count": 24
  },
  {
   "metadata": {},
   "cell_type": "markdown",
   "source": "3. `numbers` listesindeki tek sayıların karesini alınız.",
   "id": "dc408ace6db65ced"
  },
  {
   "metadata": {
    "ExecuteTime": {
     "end_time": "2025-08-25T20:14:29.621324Z",
     "start_time": "2025-08-25T20:14:29.615875Z"
    }
   },
   "cell_type": "code",
   "source": [
    "for number in numbers:\n",
    "    if number % 2 != 0:\n",
    "        print(number ** 2, end=\" \")"
   ],
   "id": "c91f6556003f20e7",
   "outputs": [
    {
     "name": "stdout",
     "output_type": "stream",
     "text": [
      "1 9 25 49 81 361 441 "
     ]
    }
   ],
   "execution_count": 25
  },
  {
   "metadata": {
    "ExecuteTime": {
     "end_time": "2025-08-25T20:15:57.666577Z",
     "start_time": "2025-08-25T20:15:57.660661Z"
    }
   },
   "cell_type": "code",
   "source": "cities = ['Kocaeli', 'İstanbul', 'Ankara', 'İzmir', 'Rize']",
   "id": "892b4bb3afc03497",
   "outputs": [],
   "execution_count": 26
  },
  {
   "metadata": {},
   "cell_type": "markdown",
   "source": "4. `cities` listesinin elemanlarından hangileri en fazla 5 karakterlidir?",
   "id": "8b47d8a84c2fab86"
  },
  {
   "metadata": {
    "ExecuteTime": {
     "end_time": "2025-08-25T20:18:05.091637Z",
     "start_time": "2025-08-25T20:18:05.086354Z"
    }
   },
   "cell_type": "code",
   "source": [
    "for city in cities:\n",
    "    if len(city) <= 5:\n",
    "        print(city, end=\" \")"
   ],
   "id": "62d89f88c408cec3",
   "outputs": [
    {
     "name": "stdout",
     "output_type": "stream",
     "text": [
      "İzmir Rize "
     ]
    }
   ],
   "execution_count": 27
  },
  {
   "metadata": {
    "ExecuteTime": {
     "end_time": "2025-08-25T20:19:21.611964Z",
     "start_time": "2025-08-25T20:19:21.607390Z"
    }
   },
   "cell_type": "code",
   "source": [
    "products = [\n",
    "    {'name': 'samsung S6', 'price': '3000'},\n",
    "    {'name': 'samsung S7', 'price': '4000'},\n",
    "    {'name': 'samsung S8', 'price': '5000'},\n",
    "    {'name': 'samsung S9', 'price': '6000'},\n",
    "    {'name': 'samsung S10', 'price': '7000'}\n",
    "]"
   ],
   "id": "1888670609f6fd0b",
   "outputs": [],
   "execution_count": 28
  },
  {
   "metadata": {},
   "cell_type": "markdown",
   "source": "5. `products` listesinde bulunan ürünlerin fiyatları toplamı nedir?",
   "id": "268fb553aa2af6fe"
  },
  {
   "metadata": {
    "ExecuteTime": {
     "end_time": "2025-08-25T20:22:58.747952Z",
     "start_time": "2025-08-25T20:22:58.743971Z"
    }
   },
   "cell_type": "code",
   "source": [
    "sumOfThePrices = 0\n",
    "\n",
    "for product in products:\n",
    "    sumOfThePrices += int(product['price'])\n",
    "\n",
    "print(\"Sum of the prices: \", sumOfThePrices)"
   ],
   "id": "ef9622a03b46ed6b",
   "outputs": [
    {
     "name": "stdout",
     "output_type": "stream",
     "text": [
      "Sum of the prices:  25000\n"
     ]
    }
   ],
   "execution_count": 30
  },
  {
   "metadata": {},
   "cell_type": "markdown",
   "source": "6. `products` listesinde bulunan ürünlerden fiyatı en fazla 5000 olan ürünleri gösteriniz?",
   "id": "584a16fa04a236e8"
  },
  {
   "metadata": {
    "ExecuteTime": {
     "end_time": "2025-08-25T20:25:33.315065Z",
     "start_time": "2025-08-25T20:25:33.312063Z"
    }
   },
   "cell_type": "code",
   "source": [
    "for product in products:\n",
    "    if int(product['price']) < 5000:\n",
    "        print(product['name'], ':', product['price'])"
   ],
   "id": "8a79fe2e76eb0ecb",
   "outputs": [
    {
     "name": "stdout",
     "output_type": "stream",
     "text": [
      "samsung S6 : 3000\n",
      "samsung S7 : 4000\n"
     ]
    }
   ],
   "execution_count": 31
  }
 ],
 "metadata": {
  "kernelspec": {
   "display_name": "Python 3",
   "language": "python",
   "name": "python3"
  },
  "language_info": {
   "codemirror_mode": {
    "name": "ipython",
    "version": 2
   },
   "file_extension": ".py",
   "mimetype": "text/x-python",
   "name": "python",
   "nbconvert_exporter": "python",
   "pygments_lexer": "ipython2",
   "version": "2.7.6"
  }
 },
 "nbformat": 4,
 "nbformat_minor": 5
}
