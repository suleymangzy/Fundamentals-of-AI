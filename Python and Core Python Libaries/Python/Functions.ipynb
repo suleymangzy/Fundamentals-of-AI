{
 "cells": [
  {
   "metadata": {},
   "cell_type": "markdown",
   "source": "# Fonksiyonlar",
   "id": "89c7900b7b72c854"
  },
  {
   "metadata": {},
   "cell_type": "markdown",
   "source": [
    "Yazdığımız bir python uygulamasındaki bellir bir kod parçasını birkaç yerde kullanma ihtiyacı duyduğumuzda fonksiyon oluşturmak  işlemlerimizi kolaylaştırır. Böyle durumlarda sürekli kullanacak olduğumuz kod satırlarını fonksiyonlar içine alıp istediğimiz zaman çağırıp çalıştırabiliriz.\n",
    "\n",
    "Örneğin basit bir matematiksel işlem yapacağız ve birçok yerde bu matematiksel işlemi tekrarlayacağız, bu durumda bir fonksiyon oluşturup defalarca kullanabiliriz.\n",
    "\n",
    "Ayrıca işin daha güzel yani Python da hazır birçok kütüphane var ve bu kütüphaneler içinde önceden oluşturulmuş bir sürü fonksiyon mevcut. Çoğu zaman fonksiyonun içeriğini yazmak yerine hazır olanını kullanabileceğiz. örneğin gönderdiğimiz bir sayının karekökünü alan `sqrt()` fonksiyonu."
   ],
   "id": "f589b0868a7346fa"
  },
  {
   "metadata": {},
   "cell_type": "markdown",
   "source": "## Fonksiyon Tanımlama",
   "id": "9018f9530f619871"
  },
  {
   "metadata": {},
   "cell_type": "markdown",
   "source": "Fonksiyon tanımlamak için `def` komutunu kullanıyoruz.",
   "id": "add3c4129ff6ef01"
  },
  {
   "metadata": {
    "ExecuteTime": {
     "end_time": "2025-08-28T08:45:35.861385Z",
     "start_time": "2025-08-28T08:45:35.857379Z"
    }
   },
   "cell_type": "code",
   "source": [
    "def hello():\n",
    "    print(\"Hello...\")"
   ],
   "id": "b1e00e6cdfb94ce",
   "outputs": [],
   "execution_count": 2
  },
  {
   "metadata": {},
   "cell_type": "markdown",
   "source": "`hello()` isminde basit bir fonksiyon tanımladık ve artık fonksiyonumuz çalıştırılmayı bekliyor.",
   "id": "e90d966a838cadd2"
  },
  {
   "metadata": {},
   "cell_type": "markdown",
   "source": "## Fonksiyon Çağırma",
   "id": "d1ef74d0997e1416"
  },
  {
   "metadata": {},
   "cell_type": "markdown",
   "source": "Fonksiyonları tanımlıyoruz ancak çağırılmadıkça fonksiyon bloğu içerisindeki kodlar çalıştırılmaz. Fonksiyonu çağırmak için fonksiyonun ismi ile birlikte parantezleri kullanmalıyız.",
   "id": "3a2763c95b747735"
  },
  {
   "metadata": {
    "ExecuteTime": {
     "end_time": "2025-08-28T08:47:36.254905Z",
     "start_time": "2025-08-28T08:47:36.251517Z"
    }
   },
   "cell_type": "code",
   "source": "hello()",
   "id": "651ad8ac996f4683",
   "outputs": [
    {
     "name": "stdout",
     "output_type": "stream",
     "text": [
      "Hello...\n"
     ]
    }
   ],
   "execution_count": 3
  },
  {
   "metadata": {},
   "cell_type": "markdown",
   "source": "Gördüğünüz gibi fonksiyon çağrıldığında ekrana `Hello...` yazar. Fonksiyonu her çağırdığımızda kodlar tekrar çalıştırlacağından dolayı ekrana `Hello...` yazmaya devam edecektir.",
   "id": "87049577c006bcda"
  },
  {
   "metadata": {
    "ExecuteTime": {
     "end_time": "2025-08-28T08:49:43.519218Z",
     "start_time": "2025-08-28T08:49:43.513065Z"
    }
   },
   "cell_type": "code",
   "source": [
    "hello()\n",
    "hello()\n",
    "hello()\n",
    "hello()\n",
    "hello()"
   ],
   "id": "657f67212405d21d",
   "outputs": [
    {
     "name": "stdout",
     "output_type": "stream",
     "text": [
      "Hello...\n",
      "Hello...\n",
      "Hello...\n",
      "Hello...\n",
      "Hello...\n"
     ]
    }
   ],
   "execution_count": 4
  },
  {
   "metadata": {},
   "cell_type": "markdown",
   "source": "## Fonksiyonlara Paremetre Gönderme",
   "id": "2b309d5951ae6ee5"
  },
  {
   "metadata": {},
   "cell_type": "markdown",
   "source": "Fonksiyonlara dışarıdan bilgi gönderip fonksiyon içerisinde kullanabiliriz.",
   "id": "a01204cfa4010a06"
  },
  {
   "metadata": {
    "ExecuteTime": {
     "end_time": "2025-08-28T08:51:28.935263Z",
     "start_time": "2025-08-28T08:51:28.930087Z"
    }
   },
   "cell_type": "code",
   "source": [
    "def hello(name):\n",
    "    print(\"Hello \" + name)\n",
    "\n",
    "\n",
    "hello(\"SGUZEY\")"
   ],
   "id": "30e7316f951217da",
   "outputs": [
    {
     "name": "stdout",
     "output_type": "stream",
     "text": [
      "Hello SGUZEY\n"
     ]
    }
   ],
   "execution_count": 5
  },
  {
   "metadata": {},
   "cell_type": "markdown",
   "source": "Örnekte olduğu gibi dıarıdan `name` parametresini fonksiyonna gönderip kullanabiliriz.",
   "id": "e690d1d0752f7458"
  },
  {
   "metadata": {},
   "cell_type": "markdown",
   "source": "## Fonksiyondan Geriye Bilgi Gönderme",
   "id": "39a3cd7c76688ffd"
  },
  {
   "metadata": {},
   "cell_type": "markdown",
   "source": "Fonksiyon içerisinde `print()` ile bilgi yazdırmak yerine bilgiyi geriye de döndürebiliriz.",
   "id": "8f3113ee124f0395"
  },
  {
   "metadata": {
    "ExecuteTime": {
     "end_time": "2025-08-28T08:56:09.346493Z",
     "start_time": "2025-08-28T08:56:09.338152Z"
    }
   },
   "cell_type": "code",
   "source": [
    "def hello(name):\n",
    "    return \"Hello \" + name\n",
    "\n",
    "\n",
    "print(hello(\"SGUZEY\"))"
   ],
   "id": "94780311777dd28a",
   "outputs": [
    {
     "data": {
      "text/plain": [
       "'Hello SGUZEY'"
      ]
     },
     "execution_count": 7,
     "metadata": {},
     "output_type": "execute_result"
    }
   ],
   "execution_count": 7
  },
  {
   "metadata": {},
   "cell_type": "markdown",
   "source": "Gördüğünüz gibi `print()` ile bilgiyi fonksiyon içerisinden yazdırmak yerine `Hello SGUZEY` bilgisini fonksiyondan geriye `return` komutu ile döndürdük ve sonrasında bilgiyi ekrana yazdırdık.",
   "id": "c239caffb2cd09b7"
  },
  {
   "metadata": {
    "ExecuteTime": {
     "end_time": "2025-08-28T09:00:58.064714Z",
     "start_time": "2025-08-28T09:00:58.058487Z"
    }
   },
   "cell_type": "code",
   "source": [
    "def sum(x, y):\n",
    "    return x + y\n",
    "\n",
    "\n",
    "result = sum(3, 2)\n",
    "print(result)"
   ],
   "id": "23fce9e8082242ff",
   "outputs": [
    {
     "name": "stdout",
     "output_type": "stream",
     "text": [
      "5\n"
     ]
    }
   ],
   "execution_count": 8
  },
  {
   "metadata": {},
   "cell_type": "markdown",
   "source": "Toplama fonsiyonu dışarıdan `x` ve `y` prametrelerini bekler ve gönderdiğimiz değerleri fonksiyon içeisinde ve sonucu 5  olarak geriye döndürür, sonrasında fonksiyondan gelen değeri `result` değişkenine alabiliriz.",
   "id": "8f0091f96e2443aa"
  },
  {
   "metadata": {
    "ExecuteTime": {
     "end_time": "2025-08-28T09:09:34.424859Z",
     "start_time": "2025-08-28T09:09:34.421588Z"
    }
   },
   "cell_type": "code",
   "source": [
    "def ageCalculation(yearOfBirth):\n",
    "    return 2025 - yearOfBirth\n",
    "\n",
    "\n",
    "ageSuleyman = ageCalculation(2004)\n",
    "ageSoner = ageDerya = ageCalculation(2005)\n",
    "print(ageSuleyman, ageSoner, ageDerya)"
   ],
   "id": "e294821df8f72383",
   "outputs": [
    {
     "name": "stdout",
     "output_type": "stream",
     "text": [
      "21 20 20\n"
     ]
    }
   ],
   "execution_count": 12
  },
  {
   "metadata": {},
   "cell_type": "markdown",
   "source": [
    "Gördüğünüz gibi 3 kişinin yaş hesaplama işlemini tek bir `ageCalculation()` fonksiyonu ile yapabildik. Eğer ki hesaplanan yaş bilgisine göre emekliliğe kalan süreyi de hesaplatmak istersek bu durumda başka bir fonksiyon kullanabiliriz.\n",
    "\n",
    "Eğer fonksiyon içerisinde başka bir fonksiyonu çağırmak istersek aşağıdaki şekilde bunu gerçekleştirebiliriz."
   ],
   "id": "b3570d6c9bb549e2"
  },
  {
   "metadata": {
    "ExecuteTime": {
     "end_time": "2025-08-28T09:21:49.091846Z",
     "start_time": "2025-08-28T09:21:49.088282Z"
    }
   },
   "cell_type": "code",
   "source": [
    "def ageCalculation(yearOfBirth):\n",
    "    return 2025 - yearOfBirth\n",
    "\n",
    "\n",
    "def yearRemainingUntilRetirement(yearOfBirth):\n",
    "    age = ageCalculation(yearOfBirth)\n",
    "    retirement = 65 - age\n",
    "    if retirement > 0:\n",
    "        print(f\"You have {retirement} years left until your retirement.\")\n",
    "\n",
    "\n",
    "yearRemainingUntilRetirement(2004)"
   ],
   "id": "57bd692289adaa89",
   "outputs": [
    {
     "name": "stdout",
     "output_type": "stream",
     "text": [
      "You have 44 years left until your retirement.\n"
     ]
    }
   ],
   "execution_count": 13
  },
  {
   "metadata": {},
   "cell_type": "markdown",
   "source": "## Fonksiyon Örnekleri",
   "id": "94c647b8bf7b67ed"
  },
  {
   "metadata": {},
   "cell_type": "markdown",
   "source": "1. Gönderilen bir kelimeyi belirtilen kez ekranda gösteren python fonksiyonunu yazınız.",
   "id": "f70c1bc7bf54ae13"
  },
  {
   "metadata": {
    "ExecuteTime": {
     "end_time": "2025-08-28T09:25:02.328397Z",
     "start_time": "2025-08-28T09:25:02.324951Z"
    }
   },
   "cell_type": "code",
   "source": [
    "def write(word, number):\n",
    "    print(word * number)\n",
    "\n",
    "\n",
    "write(\"hello \", 2)"
   ],
   "id": "7e35b81cc5404503",
   "outputs": [
    {
     "name": "stdout",
     "output_type": "stream",
     "text": [
      "hello hello \n"
     ]
    }
   ],
   "execution_count": 15
  },
  {
   "metadata": {},
   "cell_type": "markdown",
   "source": "2. Gönderilen iki sayı arasındaki tüm asal sayıları bulan python fonksiyon uygulamasını yapınız.",
   "id": "8aa3907f10b086f6"
  },
  {
   "metadata": {
    "ExecuteTime": {
     "end_time": "2025-08-28T11:21:42.244659Z",
     "start_time": "2025-08-28T11:21:42.240780Z"
    }
   },
   "cell_type": "code",
   "source": [
    "def findOfPrimeNumbers(x, y):\n",
    "    primeNumbers = []\n",
    "    if x > y:\n",
    "        for i in range(y, x + 1):\n",
    "            counter = 0\n",
    "            for j in range(1, i):\n",
    "                if i % j == 0:\n",
    "                    counter += 1\n",
    "            if counter == 1:\n",
    "                primeNumbers.append(i)\n",
    "\n",
    "    elif y > x:\n",
    "        for i in range(x, y + 1):\n",
    "            counter = 0\n",
    "            for j in range(1, i):\n",
    "                if i % j == 0:\n",
    "                    counter += 1\n",
    "            if counter == 1:\n",
    "                primeNumbers.append(i)\n",
    "\n",
    "    return primeNumbers\n",
    "\n",
    "\n",
    "print(findOfPrimeNumbers(8, 5))"
   ],
   "id": "6cce1c961c5ddf3d",
   "outputs": [
    {
     "name": "stdout",
     "output_type": "stream",
     "text": [
      "[5, 7]\n"
     ]
    }
   ],
   "execution_count": 36
  },
  {
   "metadata": {},
   "cell_type": "markdown",
   "source": "3. Kendisine gönderilen bir sayının tam bölenlerini bulan Python uygulamasını yapınız.",
   "id": "f4d8ea291ca0e85a"
  },
  {
   "metadata": {
    "ExecuteTime": {
     "end_time": "2025-08-28T11:23:00.157429Z",
     "start_time": "2025-08-28T11:23:00.153430Z"
    }
   },
   "cell_type": "code",
   "source": [
    "def findOfFullDivides(number):\n",
    "    fullDivides = []\n",
    "    for i in range(2, number):\n",
    "        if number % i == 0:\n",
    "            fullDivides.append(i)\n",
    "\n",
    "    return fullDivides\n",
    "\n",
    "\n",
    "print(findOfFullDivides(8))"
   ],
   "id": "1f580b2e8d14b465",
   "outputs": [
    {
     "name": "stdout",
     "output_type": "stream",
     "text": [
      "[2, 4]\n"
     ]
    }
   ],
   "execution_count": 37
  },
  {
   "metadata": {},
   "cell_type": "markdown",
   "source": "## Lambda Fpnksiyonu",
   "id": "6be0972cfa681cae"
  },
  {
   "metadata": {},
   "cell_type": "markdown",
   "source": [
    "İsimsiz olarak tanımladığımız fonksiyonlara `lambda` fonksiyonları denir.\n",
    "\n",
    "İlk olarak `lambda` fonksiyonları nasıl tanımlanır öğrenelim, sonrasında neden Python `lambda` fonksiyonlarına ihtiyaç duyarız görelim."
   ],
   "id": "583b9cdb3386f0b9"
  },
  {
   "metadata": {},
   "cell_type": "markdown",
   "source": "### Lambda Fonksiyonu Tanımlama",
   "id": "3581484940cbead2"
  },
  {
   "metadata": {},
   "cell_type": "markdown",
   "source": "`square` isminde normal bir fonksiyon tanımlayalım.",
   "id": "959d5f6eda4ff650"
  },
  {
   "metadata": {
    "ExecuteTime": {
     "end_time": "2025-08-28T11:28:35.620023Z",
     "start_time": "2025-08-28T11:28:35.617094Z"
    }
   },
   "cell_type": "code",
   "source": [
    "def square(number):\n",
    "    return number ** 2\n",
    "\n",
    "\n",
    "print(square(3))"
   ],
   "id": "4cc0e141ef7d6896",
   "outputs": [
    {
     "name": "stdout",
     "output_type": "stream",
     "text": [
      "9\n"
     ]
    }
   ],
   "execution_count": 38
  },
  {
   "metadata": {},
   "cell_type": "markdown",
   "source": "Kendisine gönderilen sayının karesini geriye gönderir. Peki aynı fonksiyonu `lambda` fonksiyonu olarak hazırlayalım.",
   "id": "7367e116fa86cc8b"
  },
  {
   "metadata": {
    "ExecuteTime": {
     "end_time": "2025-08-28T11:30:44.578843Z",
     "start_time": "2025-08-28T11:30:44.575759Z"
    }
   },
   "cell_type": "code",
   "source": [
    "square = lambda num: num ** 2\n",
    "print(square(3))"
   ],
   "id": "fdc29bcd314db7b9",
   "outputs": [
    {
     "name": "stdout",
     "output_type": "stream",
     "text": [
      "9\n"
     ]
    }
   ],
   "execution_count": 39
  },
  {
   "metadata": {
    "ExecuteTime": {
     "end_time": "2025-08-28T11:31:21.624661Z",
     "start_time": "2025-08-28T11:31:21.617920Z"
    }
   },
   "cell_type": "code",
   "source": [
    "a = lambda a, b, c: a + b + c\n",
    "print(a(1, 2, 3))"
   ],
   "id": "3c7a5d89f5f6a2f7",
   "outputs": [
    {
     "name": "stdout",
     "output_type": "stream",
     "text": [
      "6\n"
     ]
    }
   ],
   "execution_count": 40
  },
  {
   "metadata": {},
   "cell_type": "markdown",
   "source": "Kendisine gönderilen 3 sayıyı toplayan bir `lambda` fonksiyonu.",
   "id": "568bf103be8cd70"
  },
  {
   "metadata": {},
   "cell_type": "markdown",
   "source": "### Lambda Fonksiyonu Nedir ve Neden Kullanılır?",
   "id": "79bf4203f8b30832"
  },
  {
   "metadata": {},
   "cell_type": "markdown",
   "source": [
    "Lambda fonksiyonu bir başka fonksiyonun ierisinde kullanıldığında anlam kazanır.\n",
    "\n",
    "Örneğin bir sayının karesini mi kübünü mü almak istediğinizden emin değilsiniz. Bu durumda bir fonksiyon içerisinde `lambda` tanımlaması yaparak istediğimiz bir aşamada geriye çalıştırılabilir bir fonksiyon döndürebilirsiniz."
   ],
   "id": "9968fec2c128c49d"
  },
  {
   "metadata": {
    "ExecuteTime": {
     "end_time": "2025-08-28T14:53:24.077635Z",
     "start_time": "2025-08-28T14:53:24.072483Z"
    }
   },
   "cell_type": "code",
   "source": [
    "def math(n):\n",
    "    return lambda a: a ** n\n",
    "\n",
    "\n",
    "square = math(2)\n",
    "cube = math(3)\n",
    "\n",
    "print(\"Square:\", square(3))\n",
    "print(\"Cube:\", cube(3))"
   ],
   "id": "572e2a880cfcb1a",
   "outputs": [
    {
     "name": "stdout",
     "output_type": "stream",
     "text": [
      "Square: 9\n",
      "Cube: 27\n"
     ]
    }
   ],
   "execution_count": 42
  },
  {
   "metadata": {},
   "cell_type": "markdown",
   "source": "## Map Fonksiyonu",
   "id": "5bf4a2916e8afea6"
  },
  {
   "metadata": {},
   "cell_type": "markdown",
   "source": "`map` fonksiyonu aracılığıyla referansı belirtilen bir fonksiyona belirtilen bir listenin tüm elemanları sırayla gönderilip liste üzerinde istenilen yapılandırılma yapılır.",
   "id": "f4807d97694caa73"
  },
  {
   "metadata": {
    "ExecuteTime": {
     "end_time": "2025-08-28T15:15:57.811636Z",
     "start_time": "2025-08-28T15:15:57.807650Z"
    }
   },
   "cell_type": "code",
   "source": [
    "numbers = [1, 3, 5, 9, 10, 4]\n",
    "\n",
    "\n",
    "def square(num):\n",
    "    return num ** 2\n",
    "\n",
    "\n",
    "result = list(map(square, numbers))\n",
    "print(result)"
   ],
   "id": "f6d07b2c6f6a5f10",
   "outputs": [
    {
     "name": "stdout",
     "output_type": "stream",
     "text": [
      "[1, 9, 25, 81, 100, 16]\n"
     ]
    }
   ],
   "execution_count": 43
  },
  {
   "metadata": {},
   "cell_type": "markdown",
   "source": [
    "Gördüğünüz gibi `map` metoduna hazırladığımız fonksiyonun sadece ismini veriyoruz (referans) ve ikinci parametre olarak sayı listesi veriyoruz. Liste üzerindeki her eleman sırasıyla `square()` metoduna gönderilip bir `map` oluşturuluyor ve son olarak list ile objeyi sayı listesine çeviriyoruz.\n",
    "\n",
    "Peki sadece kendisine gelen sayının karesini alan bir fonksiyonu dışarıda tanımlamaya gerek var mı?\n",
    "\n",
    "Eğer ki `square()` metodu sadece bir kere kullanılacaksa bence hiç gerek yok, bu işlemi daha kısa sürede yapabiliriz."
   ],
   "id": "b4edcc996ec69a72"
  },
  {
   "metadata": {
    "ExecuteTime": {
     "end_time": "2025-08-28T15:25:25.832168Z",
     "start_time": "2025-08-28T15:25:25.825705Z"
    }
   },
   "cell_type": "code",
   "source": [
    "numbers = [1, 3, 5, 9, 10, 4]\n",
    "result = list(map(lambda num: num ** 2, numbers))\n",
    "print(result)"
   ],
   "id": "fe96039f349a6711",
   "outputs": [
    {
     "name": "stdout",
     "output_type": "stream",
     "text": [
      "[1, 9, 25, 81, 100, 16]\n"
     ]
    }
   ],
   "execution_count": 44
  },
  {
   "metadata": {},
   "cell_type": "markdown",
   "source": "Yine aynı şekilde listedeki her sayının karesi bir liste içerisinde geri gelir. Bir Fonksiyon referansı vermek yerine bir `lambda` fonksiyonu tanımladık.",
   "id": "306aef4c0dc6fb6c"
  },
  {
   "metadata": {},
   "cell_type": "markdown",
   "source": "## Filter Fonksiyonu",
   "id": "94549b5af1d990ae"
  },
  {
   "metadata": {},
   "cell_type": "markdown",
   "source": "`map()` fonksiyonunda liste içerisindeki her bir sayı fonksiyona gönderilip bir işlem görüyor ve geriye gönderiliyor ancak `filter()` metodu ile geriye geriye dönecek sayılara bir filtre uygulayabiliriz.",
   "id": "fcb8ba349c168371"
  },
  {
   "metadata": {
    "ExecuteTime": {
     "end_time": "2025-08-28T15:30:52.025093Z",
     "start_time": "2025-08-28T15:30:52.020151Z"
    }
   },
   "cell_type": "code",
   "source": [
    "numbers = [1, 3, 5, 9, 10, 4]\n",
    "result = list(filter(lambda num: num % 2 == 0, numbers))\n",
    "print(result)"
   ],
   "id": "166e10aa16e86145",
   "outputs": [
    {
     "name": "stdout",
     "output_type": "stream",
     "text": [
      "[10, 4]\n"
     ]
    }
   ],
   "execution_count": 45
  },
  {
   "metadata": {},
   "cell_type": "markdown",
   "source": [
    "Listedeki her bir sayı `checkEven()` metoduna gönderilir ve hangi sayı `True` değer döndürüyorsa, ki çift olanlar `True` döndürür, bu durumda o sayı geri dönecek listenin bir elemanı oluyor. Yani gönderdiğimiz listedeki çift sayıları almış oluyoruz.\n",
    "\n",
    "Peki tek bir sayının çift olup olmadığına bakarsak;"
   ],
   "id": "ac85041e6f43dae9"
  },
  {
   "metadata": {
    "ExecuteTime": {
     "end_time": "2025-08-28T15:37:47.027168Z",
     "start_time": "2025-08-28T15:37:47.024053Z"
    }
   },
   "cell_type": "code",
   "source": [
    "numbers = [1, 3, 5, 9, 10, 4]\n",
    "checkEven = lambda num: num % 2 == 0\n",
    "result = checkEven(numbers[2])\n",
    "print(result)"
   ],
   "id": "d2f858a2623f6ab5",
   "outputs": [
    {
     "name": "stdout",
     "output_type": "stream",
     "text": [
      "False\n"
     ]
    }
   ],
   "execution_count": 49
  },
  {
   "metadata": {},
   "cell_type": "markdown",
   "source": "`numbers[2]`, 5 rakamına karşılık gelen tek sayı olduğundan `False` değer döner ki; `False` bilgisini gören `filter()` fonksiyonu bu değeri listeden çıkarır.",
   "id": "fb55406142cd24ea"
  },
  {
   "metadata": {},
   "cell_type": "markdown",
   "source": "## Function Scope",
   "id": "19cebebd25d16958"
  },
  {
   "metadata": {},
   "cell_type": "markdown",
   "source": "### Fonksiyonların Kapsamı Global ve Yerel Değişkenleri Tanımlama",
   "id": "16da2b612874fdef"
  },
  {
   "metadata": {},
   "cell_type": "markdown",
   "source": "Fonksiyonlar tanımlandığında kendi içlerinde yeni bir tanımlama alanı `scope` oluştururlar dolayısıyla fonksiyon içinde ya da dışında tanımlanan değişkenlerin nasıl ele alındığını öğrenmemiz gerekir.",
   "id": "7cc5a7dc42aa9a88"
  },
  {
   "metadata": {},
   "cell_type": "markdown",
   "source": "### Local ve Global Scope",
   "id": "d8cdaed27902af46"
  },
  {
   "metadata": {},
   "cell_type": "markdown",
   "source": "Her fonksiyon tanımlandığında kendi tanımlama alanlarını oluşturur ve kendi içlerinden tanımlanan değişkenler `local` yani yerel değişken olarak adlandırılır.",
   "id": "4438886886ab65c7"
  },
  {
   "metadata": {
    "ExecuteTime": {
     "end_time": "2025-08-28T15:49:09.817154Z",
     "start_time": "2025-08-28T15:49:09.812092Z"
    }
   },
   "cell_type": "code",
   "source": [
    "# Global Scope\n",
    "x = \"Global variable\"\n",
    "\n",
    "\n",
    "def function():\n",
    "    # Local Scope\n",
    "    x = \"Local variable\"\n",
    "    print(x)\n",
    "\n",
    "\n",
    "function()\n",
    "print(x)"
   ],
   "id": "cd9271b446605dff",
   "outputs": [
    {
     "name": "stdout",
     "output_type": "stream",
     "text": [
      "Local variable\n",
      "Global variable\n"
     ]
    }
   ],
   "execution_count": 50
  },
  {
   "metadata": {},
   "cell_type": "markdown",
   "source": [
    "Aynı isimde tanımlanan `x` değişkeni hem `global` hem de `local` olarak tanımlanmıştır. Dolayısıyla fonksiyon içerisinde `x` değişkenine yapılan atama `global` alanda tanımlana değişkeni etkilemez çünkü fonksiyon kapsamında yeni bir `scope` tanımlanır.\n",
    "\n",
    "Peki fonksiyon kapsamında `x` değişkenini tanımlamzsak ne olur?"
   ],
   "id": "4e29dbfd54117d22"
  },
  {
   "metadata": {
    "ExecuteTime": {
     "end_time": "2025-08-28T15:59:51.329388Z",
     "start_time": "2025-08-28T15:59:51.324703Z"
    }
   },
   "cell_type": "code",
   "source": [
    "# Global Scope\n",
    "x = \"Global variable\"\n",
    "\n",
    "\n",
    "def function():\n",
    "    # Local Scope\n",
    "    print(x)\n",
    "\n",
    "\n",
    "function()\n",
    "print(x)"
   ],
   "id": "49454dd52024a67c",
   "outputs": [
    {
     "name": "stdout",
     "output_type": "stream",
     "text": [
      "Global variable\n",
      "Global variable\n"
     ]
    }
   ],
   "execution_count": 52
  },
  {
   "metadata": {},
   "cell_type": "markdown",
   "source": "Bu durumda fonksiyon kapsamında `x` e ulaşılmaya çalışıldığında kendi kapsamında `x` olmadığından `global` kapsamdaki `x` değeri kullanılır.",
   "id": "7ee92a062f2c767b"
  },
  {
   "metadata": {
    "ExecuteTime": {
     "end_time": "2025-08-28T16:03:54.920143Z",
     "start_time": "2025-08-28T16:03:54.915480Z"
    }
   },
   "cell_type": "code",
   "source": [
    "# Global Scope\n",
    "name = \"Ali\"\n",
    "\n",
    "\n",
    "def changeName(newName):\n",
    "    # Local Scope\n",
    "    name = newName\n",
    "    print(name)\n",
    "\n",
    "\n",
    "changeName('Sedat')\n",
    "print(name)"
   ],
   "id": "fa4e95c6dc50e20d",
   "outputs": [
    {
     "name": "stdout",
     "output_type": "stream",
     "text": [
      "Sedat\n",
      "Ali\n"
     ]
    }
   ],
   "execution_count": 53
  },
  {
   "metadata": {},
   "cell_type": "markdown",
   "source": "`changeName()` fonksiyonu gönderdiğimiz değer fonksiyon kapsamındaki `name` değişkenine atanacağından dolayı değişiklik `global` değil `local` şeklinde yapılmış olur.",
   "id": "313f2cf41686d2df"
  },
  {
   "metadata": {},
   "cell_type": "markdown",
   "source": "### Nesned Function Scope",
   "id": "4880aaf371a513df"
  },
  {
   "metadata": {},
   "cell_type": "markdown",
   "source": "Peki iç içe tanımladığımız fonksiyon kapsamlarındaki değişkenler nasıl ele alınıyor?",
   "id": "c295a5a55347c8ce"
  },
  {
   "metadata": {
    "ExecuteTime": {
     "end_time": "2025-08-28T16:11:00.244825Z",
     "start_time": "2025-08-28T16:11:00.240467Z"
    }
   },
   "cell_type": "code",
   "source": [
    "name = 'Global variable'\n",
    "\n",
    "\n",
    "def greeting():\n",
    "    name = 'Sedat'\n",
    "\n",
    "    def hello():\n",
    "        print(\"Hello \" + name)\n",
    "\n",
    "    hello()\n",
    "\n",
    "\n",
    "greeting()"
   ],
   "id": "acd894eeb0d81ad6",
   "outputs": [
    {
     "name": "stdout",
     "output_type": "stream",
     "text": [
      "Hello Sedat\n"
     ]
    }
   ],
   "execution_count": 55
  },
  {
   "metadata": {},
   "cell_type": "markdown",
   "source": [
    "`hello()` fonksiyonu kapsamında tanımlanan `name` değişkeni olmadığından dolayı bir üstteki `greeting()` fonksiyonuf kapsamında bulunan `name = 'Sedat'` bilgisi `hello()` kapsamında kullanılır.\n",
    "\n",
    "Eğer ki `hello()` kapsamına `name` isminde bir değişken eklersek bu durumda `hello()` için yerel olan `name` kullanılır."
   ],
   "id": "f64f487aa0990771"
  },
  {
   "metadata": {
    "ExecuteTime": {
     "end_time": "2025-08-28T19:07:02.573409Z",
     "start_time": "2025-08-28T19:07:02.567120Z"
    }
   },
   "cell_type": "code",
   "source": [
    "name = \"Global variable\"\n",
    "\n",
    "\n",
    "def greeting():\n",
    "    name = 'Çınar'\n",
    "\n",
    "    def hello():\n",
    "        name = 'Ada'\n",
    "        print('Hello ' + name)\n",
    "\n",
    "    hello()\n",
    "\n",
    "\n",
    "greeting()"
   ],
   "id": "c8b6275ed5c434eb",
   "outputs": [
    {
     "name": "stdout",
     "output_type": "stream",
     "text": [
      "Hello Ada\n"
     ]
    }
   ],
   "execution_count": 1
  },
  {
   "metadata": {},
   "cell_type": "markdown",
   "source": "Peki `hello()` ve `greeting()` içinden `name` bilgilerini silersek bu durumda tüm fonksiyonlar için `global` olan `name` bilgisi ekrana yazdırılır.",
   "id": "df883455c586f2aa"
  },
  {
   "metadata": {
    "ExecuteTime": {
     "end_time": "2025-08-28T19:07:08.942480Z",
     "start_time": "2025-08-28T19:07:08.939259Z"
    }
   },
   "cell_type": "code",
   "source": [
    "name = \"Global variable\"\n",
    "\n",
    "\n",
    "def greeting():\n",
    "    def hello():\n",
    "        print(\"Hello \" + name)\n",
    "\n",
    "    hello()\n",
    "\n",
    "\n",
    "greeting()"
   ],
   "id": "e4b3bce683d34901",
   "outputs": [
    {
     "name": "stdout",
     "output_type": "stream",
     "text": [
      "Hello Global variable\n"
     ]
    }
   ],
   "execution_count": 2
  },
  {
   "metadata": {},
   "cell_type": "markdown",
   "source": "Kullanıcı tarafından `Celsius` cinsinden girilen sıcaklığı, `Fahrenheit` a dönüştüren bir fonksiyon yazalım.",
   "id": "33b5e8093f7197f"
  },
  {
   "metadata": {
    "ExecuteTime": {
     "end_time": "2025-08-28T19:11:16.826813Z",
     "start_time": "2025-08-28T19:11:09.511335Z"
    }
   },
   "cell_type": "code",
   "source": [
    "def CtoF():\n",
    "    celsius = int(input(\"Enter a temperature in degrees Celsius: \"))\n",
    "    fahrenheit = celsius * 9 / 5 + 32\n",
    "    print(\"The temperature in Fahrenheit is:\", fahrenheit)\n",
    "\n",
    "\n",
    "CtoF()"
   ],
   "id": "e408f41359989fa7",
   "outputs": [
    {
     "name": "stdout",
     "output_type": "stream",
     "text": [
      "The temperature in Fahrenheit is: 75.2\n"
     ]
    }
   ],
   "execution_count": 3
  }
 ],
 "metadata": {
  "kernelspec": {
   "display_name": "Python 3",
   "language": "python",
   "name": "python3"
  },
  "language_info": {
   "codemirror_mode": {
    "name": "ipython",
    "version": 2
   },
   "file_extension": ".py",
   "mimetype": "text/x-python",
   "name": "python",
   "nbconvert_exporter": "python",
   "pygments_lexer": "ipython2",
   "version": "2.7.6"
  }
 },
 "nbformat": 4,
 "nbformat_minor": 5
}
