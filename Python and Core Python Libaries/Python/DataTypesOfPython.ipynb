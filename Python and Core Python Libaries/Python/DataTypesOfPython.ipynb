{
 "cells": [
  {
   "cell_type": "markdown",
   "id": "4b062b2ef2b0be63",
   "metadata": {},
   "source": [
    "# Veri Tipleri"
   ]
  },
  {
   "cell_type": "markdown",
   "id": "b8860f51aa435b9d",
   "metadata": {},
   "source": [
    "Programlama dillerinde, uygulanmakta olan program içerisinde kullanılacak değişken gibi tanımlanacak olan türlerin tipini belirtmek için kullanılır. Bir sayı değeri kullanacak isek, sayısal veri tipi değişkeni tanımlamamız gerekmektedir. Veri tipleri, veri öğelerinin sınıflandırmasına veya veri değerini bir tür veri kategorisine koymaya olanak sağlar, bir değer üzerinde ne tür işlemlerin yapılabileceğini anlamaya yardımcı olur. Değişkenler farklı türlerdeki verileri depolayabilir ve farklı işlevlerde kullanabilir.\n",
    "\n",
    "Python Programlama dilinde her şey bir nesneyi ifade eder. Python' da ki veri türleri, sınıfları temsil etmektedir. Bu sınıfların nesnelerine değişkenler denir.\n",
    "\n",
    "\n",
    "| Veri Tipi Kategorisi       |    |    |      |\n",
    "|----------------------------|------------|----|-------------|\n",
    "| Metinsel veri tipi         | str        |    |             |\n",
    "| Sayısal veri tipleri       | int        | float | complex     |\n",
    "| Dizi oluşturan veri tipleri| list       | range | tuple       |\n",
    "| Küme oluşturan veri tipleri| set        | frozenset |             |\n",
    "| Binary veri tipleri        | bytes      | bytearray | memoryview  |\n",
    "| Mantıksal operatör veri tipi| bool      |    |             |\n",
    "| Adresleme yapan veri tipi  | dict       |    |             |\n"
   ]
  },
  {
   "cell_type": "markdown",
   "id": "7e709747492b43c8",
   "metadata": {},
   "source": [
    "## String Veri Tipi"
   ]
  },
  {
   "cell_type": "markdown",
   "id": "3ad42bb57de27830",
   "metadata": {},
   "source": [
    "String `str` ifadesi, `metinsel ifadeler` için kullanılan karakter dizisidir. String veri tipinde karakterler tek veya çift tırnak içerisine alınarak oluşturulabilir."
   ]
  },
  {
   "cell_type": "code",
   "execution_count": 6,
   "id": "ed089a1ff5d74fc3",
   "metadata": {
    "ExecuteTime": {
     "end_time": "2025-08-15T11:46:23.860431Z",
     "start_time": "2025-08-15T11:46:23.856901Z"
    }
   },
   "outputs": [
    {
     "name": "stdout",
     "output_type": "stream",
     "text": [
      "<class 'str'>\n"
     ]
    }
   ],
   "source": [
    "veri = \"MAKÜ Python Dersleri\"\n",
    "print(type(veri))"
   ]
  },
  {
   "cell_type": "markdown",
   "id": "e2d1e7ab04e156d4",
   "metadata": {},
   "source": [
    "## Sayısal Veri Tipleri Kullanımı"
   ]
  },
  {
   "cell_type": "markdown",
   "id": "7e57157a32aafdc5",
   "metadata": {},
   "source": [
    "Program içerisinde kullanılacak olan sayısal ifadeleri belirtirken sayısal veri tiplerini kullanmamız gerekmektedir. Syaısal veri tipleri kendi içerisinde üçe ayrılmaktadır;\n",
    "`integer, float, complex`\n"
   ]
  },
  {
   "cell_type": "markdown",
   "id": "93266200097b72fe",
   "metadata": {},
   "source": [
    "### İnteger Veri Tipi"
   ]
  },
  {
   "cell_type": "markdown",
   "id": "c312a60730dbf11e",
   "metadata": {},
   "source": [
    "Tamsayıları ifade etmek için kullanılır."
   ]
  },
  {
   "cell_type": "code",
   "execution_count": 7,
   "id": "ac225dcd3a6d4ad9",
   "metadata": {
    "ExecuteTime": {
     "end_time": "2025-08-15T11:46:35.649103Z",
     "start_time": "2025-08-15T11:46:35.638942Z"
    }
   },
   "outputs": [
    {
     "name": "stdout",
     "output_type": "stream",
     "text": [
      "<class 'int'>\n"
     ]
    }
   ],
   "source": [
    "veri = 2054\n",
    "print(type(veri))"
   ]
  },
  {
   "cell_type": "markdown",
   "id": "9c0a2a1cb126bd1",
   "metadata": {},
   "source": [
    "### Float Veri Tipi"
   ]
  },
  {
   "cell_type": "markdown",
   "id": "b48675b248cca47f",
   "metadata": {},
   "source": [
    "Ondalık sayıları ifade etmek için kullanılır."
   ]
  },
  {
   "cell_type": "code",
   "execution_count": 8,
   "id": "3158d7369a94486e",
   "metadata": {
    "ExecuteTime": {
     "end_time": "2025-08-15T11:48:31.152608Z",
     "start_time": "2025-08-15T11:48:31.141649Z"
    }
   },
   "outputs": [
    {
     "name": "stdout",
     "output_type": "stream",
     "text": [
      "<class 'float'>\n"
     ]
    }
   ],
   "source": [
    "veri = 96.452\n",
    "print(type(veri))"
   ]
  },
  {
   "cell_type": "markdown",
   "id": "221f9c558c568a62",
   "metadata": {},
   "source": [
    "### Complex Veri Tipi"
   ]
  },
  {
   "cell_type": "markdown",
   "id": "39693c577203b836",
   "metadata": {},
   "source": [
    "Karmaşık sayıları ifade etmek için kullanılır."
   ]
  },
  {
   "cell_type": "code",
   "execution_count": 9,
   "id": "b0b149c7f0827287",
   "metadata": {
    "ExecuteTime": {
     "end_time": "2025-08-15T11:49:38.533865Z",
     "start_time": "2025-08-15T11:49:38.529026Z"
    }
   },
   "outputs": [
    {
     "name": "stdout",
     "output_type": "stream",
     "text": [
      "<class 'complex'>\n"
     ]
    }
   ],
   "source": [
    "veri = 10.33j\n",
    "print(type(veri))"
   ]
  },
  {
   "cell_type": "markdown",
   "id": "63e29d73f307655c",
   "metadata": {},
   "source": [
    "## Dizi Oluşturan Veri Tiplerinin Kullanımı"
   ]
  },
  {
   "cell_type": "markdown",
   "id": "534ce4e5b883f50e",
   "metadata": {},
   "source": [
    "Diziler özdeş veri tiplerinden olan değişkenlerin aynı isim çatısında belirtilmesidir. Diziler kullanılarak, özdeş isimle birden çok değişken türü üzerinde işlem yapılabilir."
   ]
  },
  {
   "cell_type": "markdown",
   "id": "1c6d79dcb61e1820",
   "metadata": {},
   "source": [
    "### List Veri Tipi"
   ]
  },
  {
   "cell_type": "markdown",
   "id": "6a7078bda1a761d",
   "metadata": {},
   "source": [
    "Birden fazla veri dizisini tek bir tipte birleştirmeye olanak tanır. İçerisinde `string, integer ve float` değerler barındırabilir."
   ]
  },
  {
   "cell_type": "code",
   "execution_count": 11,
   "id": "93ebfd7550a76044",
   "metadata": {
    "ExecuteTime": {
     "end_time": "2025-08-15T11:55:39.484362Z",
     "start_time": "2025-08-15T11:55:39.473726Z"
    }
   },
   "outputs": [
    {
     "name": "stdout",
     "output_type": "stream",
     "text": [
      "<class 'list'>\n"
     ]
    }
   ],
   "source": [
    "veri = [\"Sedat\", \"Mert\", \"Mustafa\"]\n",
    "print(type(veri))"
   ]
  },
  {
   "cell_type": "code",
   "execution_count": 12,
   "id": "d6ad9ee704848540",
   "metadata": {
    "ExecuteTime": {
     "end_time": "2025-08-15T11:56:41.802385Z",
     "start_time": "2025-08-15T11:56:41.798073Z"
    }
   },
   "outputs": [
    {
     "name": "stdout",
     "output_type": "stream",
     "text": [
      "<class 'list'>\n"
     ]
    }
   ],
   "source": [
    "veri2 = [\"Python Veri Tipleri\", 20, 54.00]\n",
    "print(type(veri2))"
   ]
  },
  {
   "cell_type": "code",
   "execution_count": 13,
   "id": "8ff105a8faba50d6",
   "metadata": {
    "ExecuteTime": {
     "end_time": "2025-08-15T11:57:27.276838Z",
     "start_time": "2025-08-15T11:57:27.270850Z"
    }
   },
   "outputs": [
    {
     "name": "stdout",
     "output_type": "stream",
     "text": [
      "<class 'list'>\n"
     ]
    }
   ],
   "source": [
    "veri3 = [2, 4, 6, 8, 10, 12, 14, 16, 18, 20]\n",
    "print(type(veri3))"
   ]
  },
  {
   "cell_type": "markdown",
   "id": "99e24207a6206b05",
   "metadata": {},
   "source": [
    "### Range Veri Tipi"
   ]
  },
  {
   "cell_type": "markdown",
   "id": "5980a8b292e284b7",
   "metadata": {},
   "source": [
    "`Range`, aslında bir fonksiyorn olarak çalışmaktadır. Girilen değerler arasında `sayısal bir dizin` oluşturarak çıktı verdirir. Genellikle döngüler (for, while, do while) içerisinde kullanılmaktadır. Örneğin 10' a kadar yazdıran bir sayı dizini oluşturmak istersek;"
   ]
  },
  {
   "cell_type": "code",
   "execution_count": 1,
   "id": "a653ee61ace1de02",
   "metadata": {
    "ExecuteTime": {
     "end_time": "2025-08-17T07:15:41.955520Z",
     "start_time": "2025-08-17T07:15:41.949587Z"
    }
   },
   "outputs": [
    {
     "name": "stdout",
     "output_type": "stream",
     "text": [
      "0 1 2 3 4 5 6 7 8 9 "
     ]
    }
   ],
   "source": [
    "for i in range(10):\n",
    "    print(i, end=\" \")"
   ]
  },
  {
   "cell_type": "markdown",
   "id": "1aa17271d671fe00",
   "metadata": {},
   "source": [
    "### Tuple Veri Tipi"
   ]
  },
  {
   "cell_type": "markdown",
   "id": "2bc7bcec540c342d",
   "metadata": {},
   "source": [
    "Dizi oluşturan koleksiyon çeşitlerinden birisidir. List yapısından farklı olarak değiştirilemez ve sıralı bir biçimde oluşturulmaktadır."
   ]
  },
  {
   "cell_type": "code",
   "execution_count": 17,
   "id": "ba3e63dddb22fb7e",
   "metadata": {
    "ExecuteTime": {
     "end_time": "2025-08-15T12:05:21.732680Z",
     "start_time": "2025-08-15T12:05:21.726471Z"
    }
   },
   "outputs": [
    {
     "name": "stdout",
     "output_type": "stream",
     "text": [
      "<class 'tuple'>\n"
     ]
    }
   ],
   "source": [
    "veri = (\"Veri Tabanı\", \"Algoritmalar\", \"Web Programlama\")\n",
    "print(type(veri))"
   ]
  },
  {
   "cell_type": "markdown",
   "id": "a75a19db8985df3c",
   "metadata": {},
   "source": [
    "## Küme Oluşturan Veri Tiplerinin Kullanımı"
   ]
  },
  {
   "cell_type": "markdown",
   "id": "8d54204a4b97804",
   "metadata": {},
   "source": [
    "Birden çok öğeyi tek bir değişken içerisinde tutmak için kullanılır. Kümelerin çalışma prensibi de listeler gibidir. İki veri tipi de değişkenleri içerisinde tutmaya yarar. Aralarında kullanım alanı ve nitelik farklılıkraı bulunmaktadır.\n",
    "\n",
    "Kümler; `sıralı` bir hale getirilmiş, sonradan değiştirme yapılamayan koleksiyon türüdür. Kümeler `süslü parantezler` ile yazılır."
   ]
  },
  {
   "cell_type": "markdown",
   "id": "ed2c9f1fef82de05",
   "metadata": {},
   "source": [
    "### Set Veri Tipi"
   ]
  },
  {
   "cell_type": "markdown",
   "id": "7ca842f092646914",
   "metadata": {},
   "source": [
    "İlk olarak sıradan bir küme oluşturalım ve içerisine veriler ekleyelim. Ardından çıktısına bakalım."
   ]
  },
  {
   "cell_type": "code",
   "execution_count": 65,
   "id": "d61881eb3b3d6f8a",
   "metadata": {
    "ExecuteTime": {
     "end_time": "2025-08-15T12:17:57.226660Z",
     "start_time": "2025-08-15T12:17:57.217128Z"
    }
   },
   "outputs": [
    {
     "name": "stdout",
     "output_type": "stream",
     "text": [
      "<class 'set'>\n",
      "{'Audi', 'Toyata', 'Fiat'}\n"
     ]
    }
   ],
   "source": [
    "veri = {\"Audi\", \"Toyata\", \"Fiat\"}\n",
    "print(type(veri))\n",
    "print(veri)"
   ]
  },
  {
   "cell_type": "markdown",
   "id": "bc243b6d212e02a",
   "metadata": {},
   "source": [
    "Şuan her hangi bir sıralama metodu uygulanmadığı için her çıktı aldığımızda sıralama farklı bir şekilde gelebilir.\n",
    "- `Not: Bu bilgi günümüz python sürümleri (özelikle Python 3.7 ve sonrası) için tamamen doğru değildir.`\n",
    "\n",
    "`veri` değişkenini `set()` metodu uygulayarak `siraliVeri` adlı değişken içerisine tanımlayalım ve sıralama yaptıralım."
   ]
  },
  {
   "cell_type": "code",
   "execution_count": 2,
   "id": "e5627e7d939097a7",
   "metadata": {
    "ExecuteTime": {
     "end_time": "2025-08-16T11:53:08.476084Z",
     "start_time": "2025-08-16T11:53:08.472518Z"
    }
   },
   "outputs": [
    {
     "name": "stdout",
     "output_type": "stream",
     "text": [
      "{0, 3, 4, 7}\n"
     ]
    }
   ],
   "source": [
    "veri = [4, 0, 7, 3]\n",
    "siraliVeri = set(veri)\n",
    "print(siraliVeri)"
   ]
  },
  {
   "cell_type": "markdown",
   "id": "9b04438f18fdca23",
   "metadata": {},
   "source": [
    "Küme içerisinde her hangi bir elemanın olup olmadığını aramak için gerekirse;"
   ]
  },
  {
   "cell_type": "code",
   "execution_count": 3,
   "id": "bbd262cbcb1134bc",
   "metadata": {
    "ExecuteTime": {
     "end_time": "2025-08-16T11:57:33.056184Z",
     "start_time": "2025-08-16T11:57:33.051161Z"
    }
   },
   "outputs": [
    {
     "name": "stdout",
     "output_type": "stream",
     "text": [
      "{0, 3, 4, 7}\n",
      "False\n"
     ]
    }
   ],
   "source": [
    "veri = [4, 0, 7, 3]\n",
    "siraliVeri = set(veri)\n",
    "test = 2 in siraliVeri\n",
    "print(siraliVeri)\n",
    "print(test)"
   ]
  },
  {
   "cell_type": "markdown",
   "id": "c68b15c4413e8969",
   "metadata": {},
   "source": [
    "Küme içerisinden bir veri silmek istersek `remove` komutunu uygulamamız gerekecek.\n",
    "```python\n",
    "siraliVeri.remove(0)\n",
    "```\n",
    " komutunu uygulayarak küme içerisinde 0 sayısını silmeye çalıştığımız zaman başarıyla silmiş olacağız. Çünkü set veri tipinde kümeler içerisinde değişiklik yapabilmekteyiz."
   ]
  },
  {
   "cell_type": "code",
   "execution_count": 4,
   "id": "f8b21c9c49fd2a87",
   "metadata": {
    "ExecuteTime": {
     "end_time": "2025-08-16T12:02:28.051083Z",
     "start_time": "2025-08-16T12:02:28.045601Z"
    }
   },
   "outputs": [
    {
     "name": "stdout",
     "output_type": "stream",
     "text": [
      "{0, 3, 4, 7}\n",
      "{3, 4, 7}\n"
     ]
    }
   ],
   "source": [
    "veri = [4, 0, 7, 3]\n",
    "siraliVeri = set(veri)\n",
    "print(siraliVeri)\n",
    "siraliVeri.remove(0)\n",
    "print(siraliVeri)"
   ]
  },
  {
   "cell_type": "markdown",
   "id": "6d38bbdd52735ece",
   "metadata": {},
   "source": [
    "### Frozenset Veri Tipi"
   ]
  },
  {
   "cell_type": "markdown",
   "id": "608549ef2a4d8eab",
   "metadata": {},
   "source": [
    "`Frozenset` kümeler, kısıtlanmış ve dondurulmuş kümeler olarak belirtilmektedir.  Bildiğimiz üzere kümeler değiştirilebilir ve değiştirilemez olarak ikiye ayrılmaktadır. `Değiştirilemez kümeler ise frozenset kümelerdir.` Şimdi bir küme oluşturalım ve bu kümeden bir eleman silmeye çalışalım."
   ]
  },
  {
   "cell_type": "code",
   "execution_count": 5,
   "id": "32b74bf9d697e9eb",
   "metadata": {
    "ExecuteTime": {
     "end_time": "2025-08-16T12:07:01.871123Z",
     "start_time": "2025-08-16T12:07:01.837298Z"
    }
   },
   "outputs": [
    {
     "name": "stdout",
     "output_type": "stream",
     "text": [
      "frozenset({1, 2, 3, 4, 5, 'A'})\n"
     ]
    },
    {
     "ename": "AttributeError",
     "evalue": "'frozenset' object has no attribute 'remove'",
     "output_type": "error",
     "traceback": [
      "\u001b[31m---------------------------------------------------------------------------\u001b[39m",
      "\u001b[31mAttributeError\u001b[39m                            Traceback (most recent call last)",
      "\u001b[36mCell\u001b[39m\u001b[36m \u001b[39m\u001b[32mIn[5]\u001b[39m\u001b[32m, line 3\u001b[39m\n\u001b[32m      1\u001b[39m veri = \u001b[38;5;28mfrozenset\u001b[39m([\u001b[33m\"\u001b[39m\u001b[33mA\u001b[39m\u001b[33m\"\u001b[39m, \u001b[32m1\u001b[39m, \u001b[32m2\u001b[39m, \u001b[32m3\u001b[39m, \u001b[32m4\u001b[39m, \u001b[32m5\u001b[39m])\n\u001b[32m      2\u001b[39m \u001b[38;5;28mprint\u001b[39m(veri)\n\u001b[32m----> \u001b[39m\u001b[32m3\u001b[39m \u001b[43mveri\u001b[49m\u001b[43m.\u001b[49m\u001b[43mremove\u001b[49m(\u001b[33m\"\u001b[39m\u001b[33mA\u001b[39m\u001b[33m\"\u001b[39m)\n",
      "\u001b[31mAttributeError\u001b[39m: 'frozenset' object has no attribute 'remove'"
     ]
    }
   ],
   "source": [
    "veri = frozenset([\"A\", 1, 2, 3, 4, 5])\n",
    "print(veri)\n",
    "veri.remove(\"A\")"
   ]
  },
  {
   "cell_type": "markdown",
   "id": "5013e76200a41507",
   "metadata": {},
   "source": [
    "Oluşturulan küme bir frozenset veri tipinde olduğundan dolayı içerisinde veri eklenemez veya silinemez. Hata vereek kümede değişiklik uygulanmayacaktır."
   ]
  },
  {
   "cell_type": "markdown",
   "id": "39f6953dc82c1b1d",
   "metadata": {},
   "source": [
    "## Binary Veri Tipi Kullanımı"
   ]
  },
  {
   "cell_type": "markdown",
   "id": "a7bd3d0eb4fe3440",
   "metadata": {},
   "source": [
    "### Bytes Veri Tipi"
   ]
  },
  {
   "cell_type": "markdown",
   "id": "61cb70c6ff6d4258",
   "metadata": {},
   "source": [
    "`Bytes`, byte kavramları; bilgisayar ve yazılımla ilgilenmekte olan kişilerin aşina oldüğü ve ara sıra karşılarına çıkmakta olan terimlerdir. Konu içerisinde çok fazla ayrıntıya girmeden byte kavramının ne anlama geldiğine kısaca değinelim.\n",
    "\n",
    "Byte, bilgisayar ve elektronik bilimlerinde `0 ve 1` değerlerinden oluşan, dizisi içerisinde 8 bitlik değer barındıran bellek ölçüm değeridir. Python dilinde ise her bir karakterin `unicode` kodlarıyla beraber oluşturulmaktadır. `UTF-8` biçimi, 8 bitlik `unicode` dönüşüm türüdür. Unicode karakterlerini değişken sayıda 8 bitten oluşan byte grupları ile kod içerisinde kullanır. `UTF-32` ise, kodların 32 bit  biriminde kullanılmakta olan unicode kod birimlerini kodlamak için kullanılan bir türdür.\n",
    "\n",
    "Bytes veri tipi kendi içerisinde bir fonksiyon olarak kullanılmaktadır. Bytes,  verilmiş olan boyutta ve girilen verilerle başlatılan değişmez bir byte nesnesini kendi içerisinde döndürür. UTF-8 biçiminde bir bytes veri tipi kullanalım."
   ]
  },
  {
   "cell_type": "code",
   "execution_count": 6,
   "id": "a31fdbd44a6479f7",
   "metadata": {
    "ExecuteTime": {
     "end_time": "2025-08-16T12:49:59.368810Z",
     "start_time": "2025-08-16T12:49:59.359836Z"
    }
   },
   "outputs": [
    {
     "name": "stdout",
     "output_type": "stream",
     "text": [
      "b'Python Veri Tipleri'\n"
     ]
    }
   ],
   "source": [
    "veri = \"Python Veri Tipleri\"\n",
    "veri = bytes(veri, \"utf-8\")\n",
    "print(veri)"
   ]
  },
  {
   "cell_type": "markdown",
   "id": "7d3da3019bcc913e",
   "metadata": {},
   "source": [
    "Şimdi ise UTF-32 biçiminde bytes veri tipini kullanalım."
   ]
  },
  {
   "cell_type": "code",
   "execution_count": 16,
   "id": "e9c24b6bb67f45a6",
   "metadata": {
    "ExecuteTime": {
     "end_time": "2025-08-16T12:58:54.712731Z",
     "start_time": "2025-08-16T12:58:54.708849Z"
    }
   },
   "outputs": [
    {
     "name": "stdout",
     "output_type": "stream",
     "text": [
      "b'\\xff\\xfe\\x00\\x00P\\x00\\x00\\x00y\\x00\\x00\\x00t\\x00\\x00\\x00h\\x00\\x00\\x00o\\x00\\x00\\x00n\\x00\\x00\\x00 \\x00\\x00\\x00V\\x00\\x00\\x00e\\x00\\x00\\x00r\\x00\\x00\\x00i\\x00\\x00\\x00 \\x00\\x00\\x00T\\x00\\x00\\x00i\\x00\\x00\\x00p\\x00\\x00\\x00l\\x00\\x00\\x00e\\x00\\x00\\x00r\\x00\\x00\\x00i\\x00\\x00\\x00'\n"
     ]
    }
   ],
   "source": [
    "veri = \"Python Veri Tipleri\"\n",
    "veri = bytes(veri, \"utf-32\")\n",
    "print(veri)"
   ]
  },
  {
   "cell_type": "markdown",
   "id": "43d651145843ad29",
   "metadata": {},
   "source": [
    "### Bytearray Veri Tipi"
   ]
  },
  {
   "cell_type": "markdown",
   "id": "8a89bcca324f8186",
   "metadata": {},
   "source": [
    "Byte veri tipinde oluşturulan veriler üzerinde `değişiklik` yapmak için kullanılır."
   ]
  },
  {
   "cell_type": "code",
   "execution_count": 17,
   "id": "ce7f3c477ad6a2b2",
   "metadata": {
    "ExecuteTime": {
     "end_time": "2025-08-16T12:58:56.945002Z",
     "start_time": "2025-08-16T12:58:56.941967Z"
    }
   },
   "outputs": [
    {
     "name": "stdout",
     "output_type": "stream",
     "text": [
      "bytearray(b'\\x00\\x00\\x00\\x00\\x00\\x00\\x00\\x00\\x00\\x00\\x00\\x00\\x00\\x00\\x00\\x00\\x00\\x00\\x00\\x00')\n"
     ]
    }
   ],
   "source": [
    "veri = 20\n",
    "veriBytearray = bytearray(veri)\n",
    "print(veriBytearray)"
   ]
  },
  {
   "cell_type": "markdown",
   "id": "b69817286c57b1ae",
   "metadata": {},
   "source": [
    "### Memoryview Veri Tipi"
   ]
  },
  {
   "cell_type": "code",
   "execution_count": 18,
   "id": "10ccb559032b479c",
   "metadata": {
    "ExecuteTime": {
     "end_time": "2025-08-16T12:58:59.897955Z",
     "start_time": "2025-08-16T12:58:59.893401Z"
    }
   },
   "outputs": [
    {
     "name": "stdout",
     "output_type": "stream",
     "text": [
      "<memory at 0x000001D997088340>\n"
     ]
    }
   ],
   "source": [
    "veri = veriBytearray\n",
    "veriMemoryview = memoryview(veri)\n",
    "print(veriMemoryview)"
   ]
  },
  {
   "cell_type": "markdown",
   "id": "b78ab3d78f5c58a9",
   "metadata": {},
   "source": [
    "## Mantıksal Veri Tiplerinin Kullanımı"
   ]
  },
  {
   "cell_type": "markdown",
   "id": "bba9f32e439ea4fa",
   "metadata": {},
   "source": [
    "Mantıksal veri operatöründe, doğrulama yapma amacı güdülür. Doğru veya yanlış (`ture/false`) mantığıyla çalışmaktadır.\n",
    "\n",
    "Aşağıdaki x ve y değişkenlerinde bulunan değerler ile bool yapısını daha iyi anlayabilirisiniz.\n",
    "\n",
    "- `x == y` -> Eğer x ve y birbirine eşitse doğrudur, değilse yanlıştır."
   ]
  },
  {
   "cell_type": "code",
   "execution_count": 19,
   "id": "509e76fa37749c48",
   "metadata": {
    "ExecuteTime": {
     "end_time": "2025-08-16T13:04:02.306117Z",
     "start_time": "2025-08-16T13:04:02.302725Z"
    }
   },
   "outputs": [
    {
     "name": "stdout",
     "output_type": "stream",
     "text": [
      "False\n"
     ]
    }
   ],
   "source": [
    "x = 15\n",
    "y = 25\n",
    "print(x == y)"
   ]
  },
  {
   "cell_type": "markdown",
   "id": "a54db204c52d9a4",
   "metadata": {},
   "source": [
    "- `x < y` -> Eğer x,  y' den küçükse doğrudur, değilse yanlıştır."
   ]
  },
  {
   "cell_type": "code",
   "execution_count": 20,
   "id": "5d60b32f553aec6d",
   "metadata": {
    "ExecuteTime": {
     "end_time": "2025-08-16T13:05:30.728953Z",
     "start_time": "2025-08-16T13:05:30.724450Z"
    }
   },
   "outputs": [
    {
     "name": "stdout",
     "output_type": "stream",
     "text": [
      "True\n"
     ]
    }
   ],
   "source": [
    "x = 3\n",
    "y = 15\n",
    "print(x < y)"
   ]
  },
  {
   "cell_type": "markdown",
   "id": "ae75ecbf9024eab3",
   "metadata": {},
   "source": [
    "- `x <= y` -> Eğer x, y' den küçük ya da eşitse doğrudur, değilse yanlıştır."
   ]
  },
  {
   "cell_type": "code",
   "execution_count": 21,
   "id": "d1f8b7a47fa784bc",
   "metadata": {
    "ExecuteTime": {
     "end_time": "2025-08-16T13:07:14.149587Z",
     "start_time": "2025-08-16T13:07:14.146301Z"
    }
   },
   "outputs": [
    {
     "name": "stdout",
     "output_type": "stream",
     "text": [
      "False\n"
     ]
    }
   ],
   "source": [
    "x = 896\n",
    "y = 749\n",
    "print(x <= y)"
   ]
  },
  {
   "cell_type": "markdown",
   "id": "fb33c32fa70e8c49",
   "metadata": {},
   "source": [
    "-  `x > y` -> Eğer x, y' den büyükse doğrudur, değilse yanlıştır."
   ]
  },
  {
   "cell_type": "code",
   "execution_count": 22,
   "id": "9eed7929190f883f",
   "metadata": {
    "ExecuteTime": {
     "end_time": "2025-08-16T13:08:45.084043Z",
     "start_time": "2025-08-16T13:08:45.080505Z"
    }
   },
   "outputs": [
    {
     "name": "stdout",
     "output_type": "stream",
     "text": [
      "True\n"
     ]
    }
   ],
   "source": [
    "x = 13\n",
    "y = 5\n",
    "print(x > y)"
   ]
  },
  {
   "cell_type": "markdown",
   "id": "8d1b982158ac808a",
   "metadata": {},
   "source": [
    "- `x >= y` -> Eğer x, y' den büyük ya da eşitse doğrudur, değilse yanlıştır."
   ]
  },
  {
   "cell_type": "code",
   "execution_count": 23,
   "id": "4c3791af8b9050e6",
   "metadata": {
    "ExecuteTime": {
     "end_time": "2025-08-16T13:10:21.081505Z",
     "start_time": "2025-08-16T13:10:21.074323Z"
    }
   },
   "outputs": [
    {
     "name": "stdout",
     "output_type": "stream",
     "text": [
      "True\n"
     ]
    }
   ],
   "source": [
    "x = 969\n",
    "y = 233\n",
    "print(x >= y)"
   ]
  },
  {
   "cell_type": "markdown",
   "id": "75303f3cfc044621",
   "metadata": {},
   "source": [
    "- `x != y` -> Eğer x, y' den farklı ise doğrudur, değilse yanlıştır."
   ]
  },
  {
   "cell_type": "code",
   "execution_count": 24,
   "id": "60c78aaca5f7da39",
   "metadata": {
    "ExecuteTime": {
     "end_time": "2025-08-16T13:12:10.401443Z",
     "start_time": "2025-08-16T13:12:10.397236Z"
    }
   },
   "outputs": [
    {
     "name": "stdout",
     "output_type": "stream",
     "text": [
      "False\n"
     ]
    }
   ],
   "source": [
    "x = 0\n",
    "y = 0\n",
    "print(x != y)"
   ]
  },
  {
   "cell_type": "markdown",
   "id": "1cbd8196fb21ebf1",
   "metadata": {},
   "source": [
    "## Adresleme Veri Tipi Kullanımı"
   ]
  },
  {
   "cell_type": "markdown",
   "id": "c74cf406b1359622",
   "metadata": {},
   "source": [
    "### Dictionary Veri Tipi"
   ]
  },
  {
   "cell_type": "markdown",
   "id": "ab94602b2ed0b511",
   "metadata": {},
   "source": [
    "Dictionary veri tipi, sözlük oluşturmaya yarayan bir veri tipidir.  List ve tuple veri tipleri gibi içerisinde değişkenler ve verileri barındırabilirler."
   ]
  },
  {
   "cell_type": "code",
   "execution_count": 25,
   "id": "8f284964fb147147",
   "metadata": {
    "ExecuteTime": {
     "end_time": "2025-08-16T13:17:09.216906Z",
     "start_time": "2025-08-16T13:17:09.207059Z"
    }
   },
   "outputs": [
    {
     "name": "stdout",
     "output_type": "stream",
     "text": [
      "{'Adi': 'Sedat', 'Soyadi': 'Mert', 'Bolumu': 'Yazılım', 'Sinifi': '2A'}\n"
     ]
    }
   ],
   "source": [
    "ogrenci = dict(Adi = \"Sedat\", Soyadi = \"Mert\", Bolumu = \"Yazılım\", Sinifi = \"2A\")\n",
    "print(ogrenci)"
   ]
  },
  {
   "cell_type": "markdown",
   "id": "8cb553982a062cbd",
   "metadata": {},
   "source": [
    "## Temel Operatörler\n",
    "\n",
    "| İşlem       | Açıklama                                                                 |\n",
    "|-------------|--------------------------------------------------------------------------|\n",
    "| x + y       | x ve y sayılarının toplamı                                                |\n",
    "| x - y       | x sayısından y sayısının çıkarılması                                      |\n",
    "| x * y       | x ile y sayılarının çarpımı                                               |\n",
    "| x / y       | x sayısının y sayısına bölünmesi                                          |\n",
    "| x // y      | x sayısının y sayısına bölünmesiyle elde edilen tam kısmın bulunması      |\n",
    "| x % y       | x sayısının y sayısına bölünmesiyle elde edilen kalan kısmın bulunması    |\n",
    "| x ** y      | x sayısının y üssünün alınması                                            |\n",
    "| -x          | x sayısının negatif değeri                                                |\n",
    "| abs(x)      | x sayısının mutlak değeri                                                 |\n",
    "| divmod(x,y) | x’in y ile bölünmesinden elde edilen tam ve kalan kısımlarını iki tam sayıdan oluşan tuple halinde döndürülmesi |\n",
    "| pow(x,y)    | x’in y üssünün alınması (x**y ile aynı sonucu verir)                      |\n",
    "| pow(x,y,z)  | pow(x,y)%z değeri                                                         |\n",
    "| round(x,n)  | x’in n haneye yuvarlanması                                                |\n",
    "| bin(i)      | On tabanlı i sayısının iki tabanına (binary) dönüştürülmüş olarak gösterimi (string) |\n",
    "| hex(i)      | On tabanlı i sayısının onaltılık tabanına (hexadecimal) dönüştürülmüş olarak gösterimi (string) |\n",
    "| int(x)      | x nesnesinin tam sayıya dönüştürülmesi. (Yuvarlama yapılmaz)              |\n",
    "| int(s,taban)| string biçimindeki s değerini tam sayıya çevirir. Taban belirtilmişse 2 ile 26 arasındaki bir tamsayı olmalıdır. Yoksa hata mesajı üretir. |\n",
    "| oct(i)      | On tabanlı i sayısının sekizlik tabanına (octal) dönüştürülmüş olarak gösterimi (string) |\n",
    "| str(i)      | On tabanlı sayının string haline dönüştürülmüş halini üretir              |\n"
   ]
  }
 ],
 "metadata": {
  "kernelspec": {
   "display_name": "Python 3 (ipykernel)",
   "language": "python",
   "name": "python3"
  },
  "language_info": {
   "codemirror_mode": {
    "name": "ipython",
    "version": 3
   },
   "file_extension": ".py",
   "mimetype": "text/x-python",
   "name": "python",
   "nbconvert_exporter": "python",
   "pygments_lexer": "ipython3",
   "version": "3.13.7"
  }
 },
 "nbformat": 4,
 "nbformat_minor": 5
}
