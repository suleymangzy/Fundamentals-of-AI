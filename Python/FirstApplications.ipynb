{
 "cells": [
  {
   "metadata": {},
   "cell_type": "markdown",
   "source": "# Uygulamalar",
   "id": "8250b6d87abff144"
  },
  {
   "metadata": {},
   "cell_type": "markdown",
   "source": "## String İşlemleri (Uygulamalar)",
   "id": "257b5318892e7b4d"
  },
  {
   "metadata": {},
   "cell_type": "markdown",
   "source": "1. Alt satıra geçme işlemei",
   "id": "24a73c55b992f0e9"
  },
  {
   "metadata": {
    "ExecuteTime": {
     "end_time": "2025-08-17T06:26:53.114150Z",
     "start_time": "2025-08-17T06:26:53.102404Z"
    }
   },
   "cell_type": "code",
   "source": [
    "name = \"Ali\"\n",
    "surname = \"Kara\"\n",
    "age = 36\n",
    "\n",
    "greeting = \"My name  is \"+ name +\" \"+ surname +\" and \\n I am \"+ str(age) + \" years old.\"\n",
    "print(greeting)"
   ],
   "id": "64b2d9ef8ab390f",
   "outputs": [
    {
     "name": "stdout",
     "output_type": "stream",
     "text": [
      "My name  is Ali Kara and \n",
      " I am 36 years old.\n"
     ]
    }
   ],
   "execution_count": 1
  },
  {
   "metadata": {},
   "cell_type": "markdown",
   "source": "2. String formatlama",
   "id": "d50d84a249144898"
  },
  {
   "metadata": {},
   "cell_type": "markdown",
   "source": "`+` operatörünü kullanarak string birleştirme işlemi programlama açısından esnek bir yöntem olmayabilir. Bu nedenle kullanabileceğimiz `format()` metodu ile `f-string`isminde iki farklı alternatifimiz mevcut.",
   "id": "95e50734ff10934"
  },
  {
   "metadata": {
    "ExecuteTime": {
     "end_time": "2025-08-17T06:31:41.925510Z",
     "start_time": "2025-08-17T06:31:41.921222Z"
    }
   },
   "cell_type": "code",
   "source": [
    "name = \"Ali\"\n",
    "surname = \"Kara\"\n",
    "age = 36\n",
    "print(\"My name is {} {}\".format(name,surname))"
   ],
   "id": "656d3ec3df96b471",
   "outputs": [
    {
     "name": "stdout",
     "output_type": "stream",
     "text": [
      "My name is Ali Kara\n"
     ]
    }
   ],
   "execution_count": 2
  },
  {
   "metadata": {
    "ExecuteTime": {
     "end_time": "2025-08-17T06:32:27.230313Z",
     "start_time": "2025-08-17T06:32:27.226794Z"
    }
   },
   "cell_type": "code",
   "source": "print(\"My name is {1} {0}\".format(name,surname))",
   "id": "5d675f195a9069d1",
   "outputs": [
    {
     "name": "stdout",
     "output_type": "stream",
     "text": [
      "My name is Kara Ali\n"
     ]
    }
   ],
   "execution_count": 3
  },
  {
   "metadata": {
    "ExecuteTime": {
     "end_time": "2025-08-17T06:33:13.530544Z",
     "start_time": "2025-08-17T06:33:13.524931Z"
    }
   },
   "cell_type": "code",
   "source": "print(\"My name is {s} {n}\".format(n = name,s = surname))",
   "id": "4b2e42dac0a8b5de",
   "outputs": [
    {
     "name": "stdout",
     "output_type": "stream",
     "text": [
      "My name is Kara Ali\n"
     ]
    }
   ],
   "execution_count": 4
  },
  {
   "metadata": {
    "ExecuteTime": {
     "end_time": "2025-08-17T06:34:17.672537Z",
     "start_time": "2025-08-17T06:34:17.668624Z"
    }
   },
   "cell_type": "code",
   "source": "print(\"My name is {} {} and I'm {} years old\".format(name,surname,age))",
   "id": "9de896a66b0a5c56",
   "outputs": [
    {
     "name": "stdout",
     "output_type": "stream",
     "text": [
      "My name is Ali Kara and I'm 36 years old\n"
     ]
    }
   ],
   "execution_count": 5
  },
  {
   "metadata": {},
   "cell_type": "markdown",
   "source": [
    "`age` 3. süslü parantezin yerine gelir ayrıca `age` sayı olduğundan `format()` metodunda `str()` fonksiyonunu kullanmamız gerekmez.\n",
    "\n",
    "`format()` içine eklediğimiz üç değişken sırasıyla süslü parantezlerin yerine gelir. Eğer ki tek name değerini 3 kere yazdırmak istersek, `{0}` şeklinde kullanabiliriz."
   ],
   "id": "dfbb6a3a9934a11c"
  },
  {
   "metadata": {
    "ExecuteTime": {
     "end_time": "2025-08-17T06:40:52.816634Z",
     "start_time": "2025-08-17T06:40:52.811638Z"
    }
   },
   "cell_type": "code",
   "source": "print(\"My name is {0} {0} and I'm {0} years old\".format(name))",
   "id": "3c26cf8f7fe53dcc",
   "outputs": [
    {
     "name": "stdout",
     "output_type": "stream",
     "text": [
      "My name is Ali Ali and I'm Ali years old\n"
     ]
    }
   ],
   "execution_count": 6
  },
  {
   "metadata": {},
   "cell_type": "markdown",
   "source": "3. `index()` fonksiyonunun kullanımı",
   "id": "efd15bfba657fbec"
  },
  {
   "metadata": {
    "ExecuteTime": {
     "end_time": "2025-08-17T06:42:44.631149Z",
     "start_time": "2025-08-17T06:42:44.625848Z"
    }
   },
   "cell_type": "code",
   "source": [
    "sehirler = [\"Isparta\", \"Burdur\", \"Konya\"]\n",
    "plakalar = [32, 15, 42]\n",
    "print(plakalar[sehirler.index(\"Isparta\")])"
   ],
   "id": "c56a1e95710bf1ec",
   "outputs": [
    {
     "name": "stdout",
     "output_type": "stream",
     "text": [
      "32\n"
     ]
    }
   ],
   "execution_count": 7
  },
  {
   "metadata": {},
   "cell_type": "markdown",
   "source": "4. f-String ile String formatlama",
   "id": "a03559338201f49"
  },
  {
   "metadata": {},
   "cell_type": "markdown",
   "source": "f-String ile kolaylıklastring birleştirme işlemi yapabiliriz. Çünkü string ifadenin içinde, süslü parantezler içinde değişkenleri yazabiliriz.",
   "id": "65c954e18e1c264f"
  },
  {
   "metadata": {
    "ExecuteTime": {
     "end_time": "2025-08-17T06:47:16.420609Z",
     "start_time": "2025-08-17T06:47:16.414547Z"
    }
   },
   "cell_type": "code",
   "source": [
    "name = \"Ali\"\n",
    "surname = \"Kara\"\n",
    "age = 36\n",
    "\n",
    "print(f\"My name is {name} and my surname is {surname} and I'm {age} years old.\")"
   ],
   "id": "18e4dd2adb5fc449",
   "outputs": [
    {
     "name": "stdout",
     "output_type": "stream",
     "text": [
      "My name is Ali and my surname is Kara and I'm 36 years old.\n"
     ]
    }
   ],
   "execution_count": 8
  },
  {
   "metadata": {},
   "cell_type": "markdown",
   "source": "5. String parçalama (String slicing)",
   "id": "53e1183fceb10474"
  },
  {
   "metadata": {},
   "cell_type": "markdown",
   "source": "String veri tipleri, karakter dizisi olarak alınır. Yani bir karakter listesi olarak tanımlanırlar. Dizilerin her bir karakterine soldan 0' dan başlayarak bir indeks numarası atanır. Atanan indeks numaraları dizi içerisindeki her bir elemana ulaşırken kullanılır.",
   "id": "7e1cc2e2e8f48536"
  },
  {
   "metadata": {
    "ExecuteTime": {
     "end_time": "2025-08-17T07:16:10.274693Z",
     "start_time": "2025-08-17T07:16:10.265466Z"
    }
   },
   "cell_type": "code",
   "source": [
    "greeting = \"My name is \"+ name +\" \"+ surname +\" and \\n I am \"+ str(age) + \" years old.\"\n",
    "result1 = greeting[0]\n",
    "result2 = greeting[17]\n",
    "print(result1, end=\" \")\n",
    "print(result2)"
   ],
   "id": "564fd5ecfa1ce889",
   "outputs": [
    {
     "name": "stdout",
     "output_type": "stream",
     "text": [
      "M r\n"
     ]
    }
   ],
   "execution_count": 11
  },
  {
   "metadata": {},
   "cell_type": "markdown",
   "source": [
    "Gördüğünüz gibi `greeting` karakter dizisinin ilk elemanı soldan sağa doğru `0` indeks numarası ile başlar ve `greeting[0]`dediğimizde bize `0.` indeksteki `M` karakteri gelir.\n",
    "\n",
    "- Pozitif indeks numarası ise -1 ile sağdan başlar."
   ],
   "id": "1c821b4844d09d13"
  },
  {
   "metadata": {
    "ExecuteTime": {
     "end_time": "2025-08-17T07:19:55.366542Z",
     "start_time": "2025-08-17T07:19:55.360390Z"
    }
   },
   "cell_type": "code",
   "source": [
    "result = greeting[-1]\n",
    "print(result)"
   ],
   "id": "cdea453f96c62917",
   "outputs": [
    {
     "name": "stdout",
     "output_type": "stream",
     "text": [
      ".\n"
     ]
    }
   ],
   "execution_count": 12
  },
  {
   "metadata": {},
   "cell_type": "markdown",
   "source": [
    "`greeting` karakter dizisinin son elemanı `.` karakteridir.\n",
    "\n",
    "Karakter dizilerinin daha doğrusu dizilerin eleman sayısını `len()` metodu ile bulabiliriz."
   ],
   "id": "7e028b77b8f08bde"
  },
  {
   "metadata": {
    "ExecuteTime": {
     "end_time": "2025-08-17T07:22:22.629246Z",
     "start_time": "2025-08-17T07:22:22.623601Z"
    }
   },
   "cell_type": "code",
   "source": [
    "result = len(greeting)\n",
    "print(result)"
   ],
   "id": "3084e465a21e2465",
   "outputs": [
    {
     "name": "stdout",
     "output_type": "stream",
     "text": [
      "44\n"
     ]
    }
   ],
   "execution_count": 13
  },
  {
   "metadata": {},
   "cell_type": "markdown",
   "source": "Dolayısıyla son elemanın indeks numarası toplam karakter sayısından 1 eksik olur.",
   "id": "8dc9bda2c005e63e"
  },
  {
   "metadata": {
    "ExecuteTime": {
     "end_time": "2025-08-17T07:23:51.834678Z",
     "start_time": "2025-08-17T07:23:51.828468Z"
    }
   },
   "cell_type": "code",
   "source": [
    "result = greeting[len(greeting)-1]\n",
    "print(result)"
   ],
   "id": "e5962d35dda9d961",
   "outputs": [
    {
     "name": "stdout",
     "output_type": "stream",
     "text": [
      ".\n"
     ]
    }
   ],
   "execution_count": 14
  },
  {
   "metadata": {},
   "cell_type": "markdown",
   "source": "Bir karakter dizisini başlangıç ve bitiş aralığında istediğimiz şekilde bölebiliriz.",
   "id": "d0367199a8aed640"
  },
  {
   "metadata": {
    "ExecuteTime": {
     "end_time": "2025-08-17T07:26:47.993017Z",
     "start_time": "2025-08-17T07:26:47.986728Z"
    }
   },
   "cell_type": "code",
   "source": [
    "result = greeting[8:17]\n",
    "print(result)"
   ],
   "id": "7e9a154e51adbe2f",
   "outputs": [
    {
     "name": "stdout",
     "output_type": "stream",
     "text": [
      "is Ali Ka\n"
     ]
    }
   ],
   "execution_count": 15
  },
  {
   "metadata": {},
   "cell_type": "markdown",
   "source": "`8.` indeksden başlayarak `17.` indekse kadar olan karakterleri alıyoruz. Son indeks (`17.`) dahil değil.",
   "id": "1c1dfd770a128287"
  },
  {
   "metadata": {
    "ExecuteTime": {
     "end_time": "2025-08-17T07:28:34.870772Z",
     "start_time": "2025-08-17T07:28:34.866143Z"
    }
   },
   "cell_type": "code",
   "source": [
    "result = greeting[:7]\n",
    "print(result)"
   ],
   "id": "d13aec1b97c9fa35",
   "outputs": [
    {
     "name": "stdout",
     "output_type": "stream",
     "text": [
      "My name \n"
     ]
    }
   ],
   "execution_count": 16
  },
  {
   "metadata": {
    "ExecuteTime": {
     "end_time": "2025-08-17T07:30:15.817024Z",
     "start_time": "2025-08-17T07:30:15.812407Z"
    }
   },
   "cell_type": "code",
   "source": [
    "result = greeting[0:10:2]\n",
    "print(result)"
   ],
   "id": "ab49b9222d23b206",
   "outputs": [
    {
     "name": "stdout",
     "output_type": "stream",
     "text": [
      "M aei\n"
     ]
    }
   ],
   "execution_count": 20
  },
  {
   "metadata": {},
   "cell_type": "markdown",
   "source": [
    "`0.` indeksten `10.` indekse kadar alınır ancak adım sayısı 2 olarak belirtildiğinden dolayı bir karakter alınır bir diğeri alınmaz.\n",
    "\n",
    "- Adım sayısı soldan sağa doğrudur."
   ],
   "id": "48536610e200d4d2"
  },
  {
   "metadata": {
    "ExecuteTime": {
     "end_time": "2025-08-17T07:32:47.449207Z",
     "start_time": "2025-08-17T07:32:47.442915Z"
    }
   },
   "cell_type": "code",
   "source": [
    "result = greeting[0:10:1]\n",
    "print(result)"
   ],
   "id": "ea0dcad4dd7e084e",
   "outputs": [
    {
     "name": "stdout",
     "output_type": "stream",
     "text": [
      "My name is\n"
     ]
    }
   ],
   "execution_count": 21
  },
  {
   "metadata": {},
   "cell_type": "markdown",
   "source": [
    "Adım sayısı `1` olduğundan dolayı `[0:10]` ile yine aynı sonucu verir. Ancak adım sayısına pozitif değer yerine negatif değer verirsek bu durumda sağdan sola doğru ilerleriz.\n",
    "\n",
    "Dolayısıyla karakterleri tersten yazdırmak istediğimizde aşağıdaki gibi sonuç alırız. `[::]` ile tüm karakter dizisini al ancak adım sayısı negatif olduğundan sağdan sola doğru birer birer ilerle. Dolayısıyla yazı tersten yazdırılmış olur."
   ],
   "id": "a8be581356ba1fcb"
  },
  {
   "metadata": {
    "ExecuteTime": {
     "end_time": "2025-08-17T07:37:01.921445Z",
     "start_time": "2025-08-17T07:37:01.916282Z"
    }
   },
   "cell_type": "code",
   "source": [
    "result = greeting[::-1]\n",
    "print(result)"
   ],
   "id": "e54fefa0f9077e76",
   "outputs": [
    {
     "name": "stdout",
     "output_type": "stream",
     "text": [
      ".dlo sraey 63 ma I \n",
      " dna araK ilA si eman yM\n"
     ]
    }
   ],
   "execution_count": 22
  },
  {
   "metadata": {},
   "cell_type": "markdown",
   "source": "## Python String Uygulamaları",
   "id": "b4d92f188021c43b"
  },
  {
   "metadata": {
    "ExecuteTime": {
     "end_time": "2025-08-17T07:39:55.259007Z",
     "start_time": "2025-08-17T07:39:55.250249Z"
    }
   },
   "cell_type": "code",
   "source": [
    "website = \"http://www.mehmetakif.edu.tr\"\n",
    "course = \"Python Dersi: Baştan Sona Python Programlama Dersi (14 Hafta)\""
   ],
   "id": "1c6c076c3d69cb91",
   "outputs": [],
   "execution_count": 23
  },
  {
   "metadata": {},
   "cell_type": "markdown",
   "source": "- Soru 1: `course`  ve `website` karakte dizilerinde kaç karakter bulunmaktadır?",
   "id": "2e266c3afce5c28f"
  },
  {
   "metadata": {
    "ExecuteTime": {
     "end_time": "2025-08-17T07:43:51.392045Z",
     "start_time": "2025-08-17T07:43:51.388187Z"
    }
   },
   "cell_type": "code",
   "source": [
    "print(\"Number of 'website' characters: \" + str(len(website)))\n",
    "print(\"Number of 'course' characters: \" + str(len(course)))"
   ],
   "id": "b63da0e0383d339e",
   "outputs": [
    {
     "name": "stdout",
     "output_type": "stream",
     "text": [
      "Number of 'website' characters: 28\n",
      "Number of 'course' characters: 61\n"
     ]
    }
   ],
   "execution_count": 26
  },
  {
   "metadata": {},
   "cell_type": "markdown",
   "source": "- Soru 2: `website` içinden `www` karakterlerini alın.",
   "id": "abc6397a8340142e"
  },
  {
   "metadata": {
    "ExecuteTime": {
     "end_time": "2025-08-17T08:15:08.543925Z",
     "start_time": "2025-08-17T08:15:08.538523Z"
    }
   },
   "cell_type": "code",
   "source": [
    "searchedWord = \"www\"\n",
    "indexs = website.index(searchedWord)\n",
    "print(website[indexs:indexs+3])"
   ],
   "id": "1f2545afcdc12a54",
   "outputs": [
    {
     "name": "stdout",
     "output_type": "stream",
     "text": [
      "www\n"
     ]
    }
   ],
   "execution_count": 30
  },
  {
   "metadata": {},
   "cell_type": "markdown",
   "source": "- Soru 3: `website` içinden `tr` karakterini alın",
   "id": "e1e7567c734f7690"
  },
  {
   "metadata": {
    "ExecuteTime": {
     "end_time": "2025-08-17T09:10:16.648598Z",
     "start_time": "2025-08-17T09:10:16.634931Z"
    }
   },
   "cell_type": "code",
   "source": [
    "serchedWord = \"tr\"\n",
    "index = website.index(serchedWord)\n",
    "print(website[index:index+2])"
   ],
   "id": "d46a4ff7d575a5d1",
   "outputs": [
    {
     "name": "stdout",
     "output_type": "stream",
     "text": [
      "tr\n"
     ]
    }
   ],
   "execution_count": 31
  },
  {
   "metadata": {},
   "cell_type": "markdown",
   "source": "- Soru 4: `course` içinden `ilk 15` ve `son 15` karakterlerini alın.",
   "id": "5b9c396c21005dc7"
  },
  {
   "metadata": {
    "ExecuteTime": {
     "end_time": "2025-08-17T09:21:37.762561Z",
     "start_time": "2025-08-17T09:21:37.759187Z"
    }
   },
   "cell_type": "code",
   "source": [
    "first15 = course[:15]\n",
    "last15 = course[-15:]\n",
    "print(\"First 15 characters of course: \" + first15)\n",
    "print(\"Last 15 characters of course: \" + last15)"
   ],
   "id": "2f25503ab3c5ebc",
   "outputs": [
    {
     "name": "stdout",
     "output_type": "stream",
     "text": [
      "First 15 characters of course: Python Dersi: B\n",
      "Last 15 characters of course: ersi (14 Hafta)\n"
     ]
    }
   ],
   "execution_count": 37
  },
  {
   "metadata": {},
   "cell_type": "markdown",
   "source": "- Soru 5: `course` ifadesindeki karakterleri tersten yazdırın.",
   "id": "8de461d920d8347"
  },
  {
   "metadata": {
    "ExecuteTime": {
     "end_time": "2025-08-17T09:22:48.263537Z",
     "start_time": "2025-08-17T09:22:48.251986Z"
    }
   },
   "cell_type": "code",
   "source": "print(course[::-1])",
   "id": "3858a21ae741343b",
   "outputs": [
    {
     "name": "stdout",
     "output_type": "stream",
     "text": [
      ")atfaH 41( isreD amalmargorP nohtyP anoS natşaB :isreD nohtyP\n"
     ]
    }
   ],
   "execution_count": 38
  },
  {
   "metadata": {},
   "cell_type": "markdown",
   "source": [
    "- Soru 6:\n",
    "```python\n",
    "name, surname, age, job = 'Ayşe','Yılmaz', 23, 'Yazılım Mühendisliği'\n",
    "```\n",
    "ifadeleri ile `Benim adim Ayşe Yılmaz, yasim 23 ve mesleğim Yazılım Mühendisliği.` ifadesini ekrana yazdırın."
   ],
   "id": "21e43b4c5c1500f"
  },
  {
   "metadata": {
    "ExecuteTime": {
     "end_time": "2025-08-17T09:31:05.643722Z",
     "start_time": "2025-08-17T09:31:05.636415Z"
    }
   },
   "cell_type": "code",
   "source": [
    "name, surname, age, job = 'Ayşe','Yılmaz', 23, 'Yazılım Mühendisliği'\n",
    "\n",
    "print(\"Benim adim {} {}, yasim {} ve mesleğim {}\".format(name, surname, age, job))\n",
    "\n",
    "print(\"Benim adim \"+ name + \" \" + surname + \", \"+ \"yasim \" + str(age) + \" ve mesleğim \" + job + \".\")\n",
    "\n",
    "print(f\"Benim adim {name} {surname}, yasim {age} ve mesleğim {job}.\")"
   ],
   "id": "a3ded95d20ac5582",
   "outputs": [
    {
     "name": "stdout",
     "output_type": "stream",
     "text": [
      "Benim adim Ayşe Yılmaz, yasim 23 ve mesleğim Yazılım Mühendisliği\n",
      "Benim adim Ayşe Yılmaz, yasim 23 ve mesleğim Yazılım Mühendisliği.\n",
      "Benim adim Ayşe Yılmaz, yasim 23 ve mesleğim Yazılım Mühendisliği.\n"
     ]
    }
   ],
   "execution_count": 42
  },
  {
   "metadata": {},
   "cell_type": "markdown",
   "source": "## Python String Metotları",
   "id": "3d36adf3674224ee"
  },
  {
   "metadata": {},
   "cell_type": "markdown",
   "source": "### Split Metodu",
   "id": "266a5daebd96a421"
  },
  {
   "metadata": {},
   "cell_type": "markdown",
   "source": "Karakter dizisi belirtilen bir karaktere göre parçalama işlemi yapar.",
   "id": "585d300950ff6ea6"
  },
  {
   "metadata": {
    "ExecuteTime": {
     "end_time": "2025-08-17T09:38:59.569420Z",
     "start_time": "2025-08-17T09:38:59.565783Z"
    }
   },
   "cell_type": "code",
   "source": [
    "message = \"Hello, There.\"\n",
    "message = message.split(\",\")\n",
    "print(message)"
   ],
   "id": "9ea09fe10b0975b2",
   "outputs": [
    {
     "name": "stdout",
     "output_type": "stream",
     "text": [
      "['Hello', ' There.']\n"
     ]
    }
   ],
   "execution_count": 45
  },
  {
   "metadata": {},
   "cell_type": "markdown",
   "source": [
    "Karakter dizisini `,` karakterinden parçalara ayırır ve bize bir liste gönderir.\n",
    "\n",
    "Split metoduna bir parametre gönderemediğimizde ise, `Space` karakterinden parçalama yapılır."
   ],
   "id": "d6f17d1c06cc1667"
  },
  {
   "metadata": {},
   "cell_type": "markdown",
   "source": "### Upper Metodu",
   "id": "5bc196ec40b6ce72"
  },
  {
   "metadata": {},
   "cell_type": "markdown",
   "source": "Karakterleri büyük harfe çevirir.",
   "id": "ab7ea7009e07ca5f"
  },
  {
   "metadata": {
    "ExecuteTime": {
     "end_time": "2025-08-17T09:39:20.344733Z",
     "start_time": "2025-08-17T09:39:20.340903Z"
    }
   },
   "cell_type": "code",
   "source": [
    "message = \"hello, there.\"\n",
    "message = message.upper()\n",
    "print(message)"
   ],
   "id": "653d20ca6725e8df",
   "outputs": [
    {
     "name": "stdout",
     "output_type": "stream",
     "text": [
      "HELLO, THERE.\n"
     ]
    }
   ],
   "execution_count": 47
  },
  {
   "metadata": {},
   "cell_type": "markdown",
   "source": [
    "`title()` metodu, karakter dizisindeki her kelimenin baş harfini büyük harfe çevirir.\n",
    "`capitalize()` metodu, karakter dizisindeki sadece ilk kalimenin baş harfini büyük harfe çevirir."
   ],
   "id": "4a513cab9aa6035f"
  },
  {
   "metadata": {},
   "cell_type": "markdown",
   "source": "### Strip Metodu",
   "id": "eec319580cef604b"
  },
  {
   "metadata": {},
   "cell_type": "markdown",
   "source": "Kullanıcının belirteceği karakterleri siler. Varsayılan olarak yani kullanıcı tarafından her hangi bir parametrenin belirtilmediği durumlarda `Space` karakterini siler.",
   "id": "5ab3ee3f056fb9d7"
  },
  {
   "metadata": {
    "ExecuteTime": {
     "end_time": "2025-08-17T09:43:19.149241Z",
     "start_time": "2025-08-17T09:43:19.144480Z"
    }
   },
   "cell_type": "code",
   "source": [
    "userName = \"          .sedatmetlek      \"\n",
    "userName = userName.strip()\n",
    "print(userName)"
   ],
   "id": "5dad2a68326b3d6c",
   "outputs": [
    {
     "name": "stdout",
     "output_type": "stream",
     "text": [
      ".sedatmetlek\n"
     ]
    }
   ],
   "execution_count": 48
  },
  {
   "metadata": {},
   "cell_type": "markdown",
   "source": "Eğer `strip()` metodunun belirttiğimiz karakterleri silmesini istersek, bu bu karakterleri parametre olarak göndermemiz gerekir.",
   "id": "f33ad5dfb2407637"
  },
  {
   "metadata": {
    "ExecuteTime": {
     "end_time": "2025-08-17T09:47:54.117302Z",
     "start_time": "2025-08-17T09:47:54.113921Z"
    }
   },
   "cell_type": "code",
   "source": [
    "userName = \",,,,...!!sedatmetlek***\"\n",
    "userName = userName.strip(\",.!*\")\n",
    "print(userName)"
   ],
   "id": "59ea40e29df7a05f",
   "outputs": [
    {
     "name": "stdout",
     "output_type": "stream",
     "text": [
      "sedatmetlek\n"
     ]
    }
   ],
   "execution_count": 49
  },
  {
   "metadata": {},
   "cell_type": "markdown",
   "source": "### Replace Metodu",
   "id": "95ca7ab1ad24bf42"
  },
  {
   "metadata": {},
   "cell_type": "markdown",
   "source": "Karakter dizisinde bulunan bir ifadeyideğiştirmek için kullanılır.",
   "id": "3b51c18cac8ce11f"
  },
  {
   "metadata": {
    "ExecuteTime": {
     "end_time": "2025-08-17T09:51:31.532811Z",
     "start_time": "2025-08-17T09:51:31.526730Z"
    }
   },
   "cell_type": "code",
   "source": [
    "message = \"My name is Ali Kara.\"\n",
    "message = message.replace(\"Ali\", \"Ayşe\")\n",
    "print(message)"
   ],
   "id": "58f32c96be533f41",
   "outputs": [
    {
     "name": "stdout",
     "output_type": "stream",
     "text": [
      "My name is Ayşe Kara.\n"
     ]
    }
   ],
   "execution_count": 50
  },
  {
   "metadata": {},
   "cell_type": "markdown",
   "source": "`replace()` metotlarını ard arda kullanabiliriz.",
   "id": "f6dad2934b704996"
  },
  {
   "metadata": {},
   "cell_type": "markdown",
   "source": "### Find Metodu",
   "id": "36e933469ed8f2fa"
  },
  {
   "metadata": {},
   "cell_type": "markdown",
   "source": "Verilen string ifade içinde arama yapar ve bulduğu ilk indeks numarasını döndürür. Eğer bulamazsa `-1` dödürür.",
   "id": "1e4ddeac39aff340"
  },
  {
   "metadata": {
    "ExecuteTime": {
     "end_time": "2025-08-17T10:03:51.436672Z",
     "start_time": "2025-08-17T10:03:51.432046Z"
    }
   },
   "cell_type": "code",
   "source": [
    "txt = \"My name is Sedat Metlek.\"\n",
    "index = txt.find(\"name\")\n",
    "print(index)"
   ],
   "id": "aafa5488ccec44bd",
   "outputs": [
    {
     "name": "stdout",
     "output_type": "stream",
     "text": [
      "3\n"
     ]
    }
   ],
   "execution_count": 57
  },
  {
   "metadata": {},
   "cell_type": "markdown",
   "source": "`name` string içerisinde `3.` numarasından itibaren başladığından dolayı 3 değeri yazdırılır.",
   "id": "bad016dbdff872ec"
  },
  {
   "metadata": {},
   "cell_type": "markdown",
   "source": "### İndex Metodu",
   "id": "78cbd4f7f05ac4f5"
  },
  {
   "metadata": {},
   "cell_type": "markdown",
   "source": "Verilen string ifade içinde arama yapar ve bulduğu ilk index numarasını döndürür. Eğer bulamazsa `find()` metodundan farklı olarak geriye `valueError` döndürür.",
   "id": "59b363bc602cd062"
  },
  {
   "metadata": {
    "ExecuteTime": {
     "end_time": "2025-08-17T10:04:40.512191Z",
     "start_time": "2025-08-17T10:04:40.507900Z"
    }
   },
   "cell_type": "code",
   "source": [
    "txt = \"My name is Sedat Metlek.\"\n",
    "index = txt.index(\"name\")\n",
    "print(index)"
   ],
   "id": "403c2659ab5bfdd3",
   "outputs": [
    {
     "name": "stdout",
     "output_type": "stream",
     "text": [
      "3\n"
     ]
    }
   ],
   "execution_count": 58
  },
  {
   "metadata": {},
   "cell_type": "markdown",
   "source": "Eğer string içerisinde olamayan bir ifadeyi aratırsak geriye `valueError` döneceği unutulmamalıdır.",
   "id": "290afdbc3ecdf938"
  },
  {
   "metadata": {
    "ExecuteTime": {
     "end_time": "2025-08-17T10:05:08.454755Z",
     "start_time": "2025-08-17T10:05:08.426210Z"
    }
   },
   "cell_type": "code",
   "source": [
    "txt = \"My name is Sedat Metlek.\"\n",
    "index = txt.index(\"abc\")\n",
    "print(index)"
   ],
   "id": "d52976f292f6e84e",
   "outputs": [
    {
     "ename": "ValueError",
     "evalue": "substring not found",
     "output_type": "error",
     "traceback": [
      "\u001B[31m---------------------------------------------------------------------------\u001B[39m",
      "\u001B[31mValueError\u001B[39m                                Traceback (most recent call last)",
      "\u001B[36mCell\u001B[39m\u001B[36m \u001B[39m\u001B[32mIn[59]\u001B[39m\u001B[32m, line 2\u001B[39m\n\u001B[32m      1\u001B[39m txt = \u001B[33m\"\u001B[39m\u001B[33mMy name is Sedat Metlek.\u001B[39m\u001B[33m\"\u001B[39m\n\u001B[32m----> \u001B[39m\u001B[32m2\u001B[39m index = \u001B[43mtxt\u001B[49m\u001B[43m.\u001B[49m\u001B[43mindex\u001B[49m\u001B[43m(\u001B[49m\u001B[33;43m\"\u001B[39;49m\u001B[33;43mabc\u001B[39;49m\u001B[33;43m\"\u001B[39;49m\u001B[43m)\u001B[49m\n\u001B[32m      3\u001B[39m \u001B[38;5;28mprint\u001B[39m(index)\n",
      "\u001B[31mValueError\u001B[39m: substring not found"
     ]
    }
   ],
   "execution_count": 59
  },
  {
   "metadata": {},
   "cell_type": "markdown",
   "source": "## String Uygulamaları",
   "id": "a9f176e5c2846e45"
  },
  {
   "metadata": {},
   "cell_type": "code",
   "outputs": [],
   "execution_count": null,
   "source": "",
   "id": "1726cbd6f0473ab8"
  }
 ],
 "metadata": {
  "kernelspec": {
   "display_name": "Python 3",
   "language": "python",
   "name": "python3"
  },
  "language_info": {
   "codemirror_mode": {
    "name": "ipython",
    "version": 2
   },
   "file_extension": ".py",
   "mimetype": "text/x-python",
   "name": "python",
   "nbconvert_exporter": "python",
   "pygments_lexer": "ipython2",
   "version": "2.7.6"
  }
 },
 "nbformat": 4,
 "nbformat_minor": 5
}
