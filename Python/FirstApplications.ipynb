{
 "cells": [
  {
   "cell_type": "markdown",
   "id": "8250b6d87abff144",
   "metadata": {},
   "source": [
    "# Uygulamalar"
   ]
  },
  {
   "cell_type": "markdown",
   "id": "257b5318892e7b4d",
   "metadata": {},
   "source": [
    "## String İşlemleri (Uygulamalar)"
   ]
  },
  {
   "cell_type": "markdown",
   "id": "24a73c55b992f0e9",
   "metadata": {},
   "source": [
    "1. Alt satıra geçme işlemei"
   ]
  },
  {
   "cell_type": "code",
   "execution_count": 4,
   "id": "64b2d9ef8ab390f",
   "metadata": {
    "ExecuteTime": {
     "end_time": "2025-08-19T10:59:25.683278Z",
     "start_time": "2025-08-19T10:59:25.676677Z"
    }
   },
   "outputs": [
    {
     "name": "stdout",
     "output_type": "stream",
     "text": [
      "My name  is Ali Kara and \n",
      " I am 36 years old.\n"
     ]
    }
   ],
   "source": [
    "name = \"Ali\"\n",
    "surname = \"Kara\"\n",
    "age = 36\n",
    "\n",
    "greeting = \"My name  is \" + name + \" \" + surname + \" and \\n I am \" + str(age) + \" years old.\"\n",
    "print(greeting)"
   ]
  },
  {
   "cell_type": "markdown",
   "id": "d50d84a249144898",
   "metadata": {},
   "source": [
    "2. String formatlama"
   ]
  },
  {
   "cell_type": "markdown",
   "id": "95e50734ff10934",
   "metadata": {},
   "source": [
    "`+` operatörünü kullanarak string birleştirme işlemi programlama açısından esnek bir yöntem olmayabilir. Bu nedenle kullanabileceğimiz `format()` metodu ile `f-string`isminde iki farklı alternatifimiz mevcut."
   ]
  },
  {
   "cell_type": "code",
   "execution_count": 5,
   "id": "656d3ec3df96b471",
   "metadata": {
    "ExecuteTime": {
     "end_time": "2025-08-19T10:59:25.725230Z",
     "start_time": "2025-08-19T10:59:25.722023Z"
    }
   },
   "outputs": [
    {
     "name": "stdout",
     "output_type": "stream",
     "text": [
      "My name is Ali Kara\n"
     ]
    }
   ],
   "source": [
    "name = \"Ali\"\n",
    "surname = \"Kara\"\n",
    "age = 36\n",
    "print(\"My name is {} {}\".format(name, surname))"
   ]
  },
  {
   "cell_type": "code",
   "execution_count": 6,
   "id": "5d675f195a9069d1",
   "metadata": {
    "ExecuteTime": {
     "end_time": "2025-08-19T10:59:25.768155Z",
     "start_time": "2025-08-19T10:59:25.764859Z"
    }
   },
   "outputs": [
    {
     "name": "stdout",
     "output_type": "stream",
     "text": [
      "My name is Kara Ali\n"
     ]
    }
   ],
   "source": [
    "print(\"My name is {1} {0}\".format(name, surname))"
   ]
  },
  {
   "cell_type": "code",
   "execution_count": 7,
   "id": "4b2e42dac0a8b5de",
   "metadata": {
    "ExecuteTime": {
     "end_time": "2025-08-19T10:59:25.796600Z",
     "start_time": "2025-08-19T10:59:25.793301Z"
    }
   },
   "outputs": [
    {
     "name": "stdout",
     "output_type": "stream",
     "text": [
      "My name is Kara Ali\n"
     ]
    }
   ],
   "source": [
    "print(\"My name is {s} {n}\".format(n=name, s=surname))"
   ]
  },
  {
   "cell_type": "code",
   "execution_count": 8,
   "id": "9de896a66b0a5c56",
   "metadata": {
    "ExecuteTime": {
     "end_time": "2025-08-19T10:59:25.817477Z",
     "start_time": "2025-08-19T10:59:25.814350Z"
    }
   },
   "outputs": [
    {
     "name": "stdout",
     "output_type": "stream",
     "text": [
      "My name is Ali Kara and I'm 36 years old\n"
     ]
    }
   ],
   "source": [
    "print(\"My name is {} {} and I'm {} years old\".format(name, surname, age))"
   ]
  },
  {
   "cell_type": "markdown",
   "id": "dfbb6a3a9934a11c",
   "metadata": {},
   "source": [
    "`age` 3. süslü parantezin yerine gelir ayrıca `age` sayı olduğundan `format()` metodunda `str()` fonksiyonunu kullanmamız gerekmez.\n",
    "\n",
    "`format()` içine eklediğimiz üç değişken sırasıyla süslü parantezlerin yerine gelir. Eğer ki tek name değerini 3 kere yazdırmak istersek, `{0}` şeklinde kullanabiliriz."
   ]
  },
  {
   "cell_type": "code",
   "execution_count": 9,
   "id": "3c26cf8f7fe53dcc",
   "metadata": {
    "ExecuteTime": {
     "end_time": "2025-08-19T10:59:25.849537Z",
     "start_time": "2025-08-19T10:59:25.846826Z"
    }
   },
   "outputs": [
    {
     "name": "stdout",
     "output_type": "stream",
     "text": [
      "My name is Ali Ali and I'm Ali years old\n"
     ]
    }
   ],
   "source": [
    "print(\"My name is {0} {0} and I'm {0} years old\".format(name))"
   ]
  },
  {
   "cell_type": "markdown",
   "id": "efd15bfba657fbec",
   "metadata": {},
   "source": [
    "3. `index()` fonksiyonunun kullanımı"
   ]
  },
  {
   "cell_type": "code",
   "execution_count": 10,
   "id": "c56a1e95710bf1ec",
   "metadata": {
    "ExecuteTime": {
     "end_time": "2025-08-19T10:59:25.874403Z",
     "start_time": "2025-08-19T10:59:25.871100Z"
    }
   },
   "outputs": [
    {
     "name": "stdout",
     "output_type": "stream",
     "text": [
      "32\n"
     ]
    }
   ],
   "source": [
    "sehirler = [\"Isparta\", \"Burdur\", \"Konya\"]\n",
    "plakalar = [32, 15, 42]\n",
    "print(plakalar[sehirler.index(\"Isparta\")])"
   ]
  },
  {
   "cell_type": "markdown",
   "id": "a03559338201f49",
   "metadata": {},
   "source": [
    "4. f-String ile String formatlama"
   ]
  },
  {
   "cell_type": "markdown",
   "id": "65c954e18e1c264f",
   "metadata": {},
   "source": [
    "f-String ile kolaylıklastring birleştirme işlemi yapabiliriz. Çünkü string ifadenin içinde, süslü parantezler içinde değişkenleri yazabiliriz."
   ]
  },
  {
   "cell_type": "code",
   "execution_count": 11,
   "id": "18e4dd2adb5fc449",
   "metadata": {
    "ExecuteTime": {
     "end_time": "2025-08-19T10:59:25.894065Z",
     "start_time": "2025-08-19T10:59:25.890807Z"
    }
   },
   "outputs": [
    {
     "name": "stdout",
     "output_type": "stream",
     "text": [
      "My name is Ali and my surname is Kara and I'm 36 years old.\n"
     ]
    }
   ],
   "source": [
    "name = \"Ali\"\n",
    "surname = \"Kara\"\n",
    "age = 36\n",
    "\n",
    "print(f\"My name is {name} and my surname is {surname} and I'm {age} years old.\")"
   ]
  },
  {
   "cell_type": "markdown",
   "id": "53e1183fceb10474",
   "metadata": {},
   "source": [
    "5. String parçalama (String slicing)"
   ]
  },
  {
   "cell_type": "markdown",
   "id": "7e1cc2e2e8f48536",
   "metadata": {},
   "source": [
    "String veri tipleri, karakter dizisi olarak alınır. Yani bir karakter listesi olarak tanımlanırlar. Dizilerin her bir karakterine soldan 0' dan başlayarak bir indeks numarası atanır. Atanan indeks numaraları dizi içerisindeki her bir elemana ulaşırken kullanılır."
   ]
  },
  {
   "cell_type": "code",
   "execution_count": 12,
   "id": "564fd5ecfa1ce889",
   "metadata": {
    "ExecuteTime": {
     "end_time": "2025-08-19T10:59:25.914762Z",
     "start_time": "2025-08-19T10:59:25.911261Z"
    }
   },
   "outputs": [
    {
     "name": "stdout",
     "output_type": "stream",
     "text": [
      "M r\n"
     ]
    }
   ],
   "source": [
    "greeting = \"My name is \" + name + \" \" + surname + \" and \\n I am \" + str(age) + \" years old.\"\n",
    "result1 = greeting[0]\n",
    "result2 = greeting[17]\n",
    "print(result1, end=\" \")\n",
    "print(result2)"
   ]
  },
  {
   "cell_type": "markdown",
   "id": "1c821b4844d09d13",
   "metadata": {},
   "source": [
    "Gördüğünüz gibi `greeting` karakter dizisinin ilk elemanı soldan sağa doğru `0` indeks numarası ile başlar ve `greeting[0]`dediğimizde bize `0.` indeksteki `M` karakteri gelir.\n",
    "\n",
    "- Pozitif indeks numarası ise -1 ile sağdan başlar."
   ]
  },
  {
   "cell_type": "code",
   "execution_count": 13,
   "id": "cdea453f96c62917",
   "metadata": {
    "ExecuteTime": {
     "end_time": "2025-08-19T10:59:25.935054Z",
     "start_time": "2025-08-19T10:59:25.931866Z"
    }
   },
   "outputs": [
    {
     "name": "stdout",
     "output_type": "stream",
     "text": [
      ".\n"
     ]
    }
   ],
   "source": [
    "result = greeting[-1]\n",
    "print(result)"
   ]
  },
  {
   "cell_type": "markdown",
   "id": "7e028b77b8f08bde",
   "metadata": {},
   "source": [
    "`greeting` karakter dizisinin son elemanı `.` karakteridir.\n",
    "\n",
    "Karakter dizilerinin daha doğrusu dizilerin eleman sayısını `len()` metodu ile bulabiliriz."
   ]
  },
  {
   "cell_type": "code",
   "execution_count": 14,
   "id": "3084e465a21e2465",
   "metadata": {
    "ExecuteTime": {
     "end_time": "2025-08-19T10:59:25.954805Z",
     "start_time": "2025-08-19T10:59:25.951587Z"
    }
   },
   "outputs": [
    {
     "name": "stdout",
     "output_type": "stream",
     "text": [
      "44\n"
     ]
    }
   ],
   "source": [
    "result = len(greeting)\n",
    "print(result)"
   ]
  },
  {
   "cell_type": "markdown",
   "id": "8dc9bda2c005e63e",
   "metadata": {},
   "source": [
    "Dolayısıyla son elemanın indeks numarası toplam karakter sayısından 1 eksik olur."
   ]
  },
  {
   "cell_type": "code",
   "execution_count": 15,
   "id": "e5962d35dda9d961",
   "metadata": {
    "ExecuteTime": {
     "end_time": "2025-08-19T10:59:25.976634Z",
     "start_time": "2025-08-19T10:59:25.973318Z"
    }
   },
   "outputs": [
    {
     "name": "stdout",
     "output_type": "stream",
     "text": [
      ".\n"
     ]
    }
   ],
   "source": [
    "result = greeting[len(greeting) - 1]\n",
    "print(result)"
   ]
  },
  {
   "cell_type": "markdown",
   "id": "d0367199a8aed640",
   "metadata": {},
   "source": [
    "Bir karakter dizisini başlangıç ve bitiş aralığında istediğimiz şekilde bölebiliriz."
   ]
  },
  {
   "cell_type": "code",
   "execution_count": 16,
   "id": "7e9a154e51adbe2f",
   "metadata": {
    "ExecuteTime": {
     "end_time": "2025-08-19T10:59:25.997865Z",
     "start_time": "2025-08-19T10:59:25.994300Z"
    }
   },
   "outputs": [
    {
     "name": "stdout",
     "output_type": "stream",
     "text": [
      "is Ali Ka\n"
     ]
    }
   ],
   "source": [
    "result = greeting[8:17]\n",
    "print(result)"
   ]
  },
  {
   "cell_type": "markdown",
   "id": "1c1dfd770a128287",
   "metadata": {},
   "source": [
    "`8.` indeksden başlayarak `17.` indekse kadar olan karakterleri alıyoruz. Son indeks (`17.`) dahil değil."
   ]
  },
  {
   "cell_type": "code",
   "execution_count": 17,
   "id": "d13aec1b97c9fa35",
   "metadata": {
    "ExecuteTime": {
     "end_time": "2025-08-19T10:59:26.019483Z",
     "start_time": "2025-08-19T10:59:26.016410Z"
    }
   },
   "outputs": [
    {
     "name": "stdout",
     "output_type": "stream",
     "text": [
      "My name\n"
     ]
    }
   ],
   "source": [
    "result = greeting[:7]\n",
    "print(result)"
   ]
  },
  {
   "cell_type": "code",
   "execution_count": 18,
   "id": "ab49b9222d23b206",
   "metadata": {
    "ExecuteTime": {
     "end_time": "2025-08-19T10:59:26.040547Z",
     "start_time": "2025-08-19T10:59:26.037392Z"
    }
   },
   "outputs": [
    {
     "name": "stdout",
     "output_type": "stream",
     "text": [
      "M aei\n"
     ]
    }
   ],
   "source": [
    "result = greeting[0:10:2]\n",
    "print(result)"
   ]
  },
  {
   "cell_type": "markdown",
   "id": "48536610e200d4d2",
   "metadata": {},
   "source": [
    "`0.` indeksten `10.` indekse kadar alınır ancak adım sayısı 2 olarak belirtildiğinden dolayı bir karakter alınır bir diğeri alınmaz.\n",
    "\n",
    "- Adım sayısı soldan sağa doğrudur."
   ]
  },
  {
   "cell_type": "code",
   "execution_count": 19,
   "id": "ea0dcad4dd7e084e",
   "metadata": {
    "ExecuteTime": {
     "end_time": "2025-08-19T10:59:26.067365Z",
     "start_time": "2025-08-19T10:59:26.058985Z"
    }
   },
   "outputs": [
    {
     "name": "stdout",
     "output_type": "stream",
     "text": [
      "My name is\n"
     ]
    }
   ],
   "source": [
    "result = greeting[0:10:1]\n",
    "print(result)"
   ]
  },
  {
   "cell_type": "markdown",
   "id": "a8be581356ba1fcb",
   "metadata": {},
   "source": [
    "Adım sayısı `1` olduğundan dolayı `[0:10]` ile yine aynı sonucu verir. Ancak adım sayısına pozitif değer yerine negatif değer verirsek bu durumda sağdan sola doğru ilerleriz.\n",
    "\n",
    "Dolayısıyla karakterleri tersten yazdırmak istediğimizde aşağıdaki gibi sonuç alırız. `[::]` ile tüm karakter dizisini al ancak adım sayısı negatif olduğundan sağdan sola doğru birer birer ilerle. Dolayısıyla yazı tersten yazdırılmış olur."
   ]
  },
  {
   "cell_type": "code",
   "execution_count": 20,
   "id": "e54fefa0f9077e76",
   "metadata": {
    "ExecuteTime": {
     "end_time": "2025-08-19T10:59:26.096253Z",
     "start_time": "2025-08-19T10:59:26.093336Z"
    }
   },
   "outputs": [
    {
     "name": "stdout",
     "output_type": "stream",
     "text": [
      ".dlo sraey 63 ma I \n",
      " dna araK ilA si eman yM\n"
     ]
    }
   ],
   "source": [
    "result = greeting[::-1]\n",
    "print(result)"
   ]
  },
  {
   "cell_type": "markdown",
   "id": "b4d92f188021c43b",
   "metadata": {},
   "source": [
    "## Python String Uygulamaları"
   ]
  },
  {
   "cell_type": "code",
   "execution_count": 21,
   "id": "1c6c076c3d69cb91",
   "metadata": {
    "ExecuteTime": {
     "end_time": "2025-08-19T10:59:26.125312Z",
     "start_time": "2025-08-19T10:59:26.122942Z"
    }
   },
   "outputs": [],
   "source": [
    "website = \"http://www.mehmetakif.edu.tr\"\n",
    "course = \"Python Dersi: Baştan Sona Python Programlama Dersi (14 Hafta)\""
   ]
  },
  {
   "cell_type": "markdown",
   "id": "2e266c3afce5c28f",
   "metadata": {},
   "source": [
    "- Soru 1: `course`  ve `website` karakte dizilerinde kaç karakter bulunmaktadır?"
   ]
  },
  {
   "cell_type": "code",
   "execution_count": 22,
   "id": "b63da0e0383d339e",
   "metadata": {
    "ExecuteTime": {
     "end_time": "2025-08-19T10:59:26.137625Z",
     "start_time": "2025-08-19T10:59:26.134614Z"
    }
   },
   "outputs": [
    {
     "name": "stdout",
     "output_type": "stream",
     "text": [
      "Number of 'website' characters: 28\n",
      "Number of 'course' characters: 61\n"
     ]
    }
   ],
   "source": [
    "print(\"Number of 'website' characters: \" + str(len(website)))\n",
    "print(\"Number of 'course' characters: \" + str(len(course)))"
   ]
  },
  {
   "cell_type": "markdown",
   "id": "abc6397a8340142e",
   "metadata": {},
   "source": [
    "- Soru 2: `website` içinden `www` karakterlerini alın."
   ]
  },
  {
   "cell_type": "code",
   "execution_count": 23,
   "id": "1f2545afcdc12a54",
   "metadata": {
    "ExecuteTime": {
     "end_time": "2025-08-19T10:59:26.171551Z",
     "start_time": "2025-08-19T10:59:26.167746Z"
    }
   },
   "outputs": [
    {
     "name": "stdout",
     "output_type": "stream",
     "text": [
      "www\n"
     ]
    }
   ],
   "source": [
    "searchedWord = \"www\"\n",
    "indexs = website.index(searchedWord)\n",
    "print(website[indexs:indexs + 3])"
   ]
  },
  {
   "cell_type": "markdown",
   "id": "e1e7567c734f7690",
   "metadata": {},
   "source": [
    "- Soru 3: `website` içinden `tr` karakterini alın"
   ]
  },
  {
   "cell_type": "code",
   "execution_count": 24,
   "id": "d46a4ff7d575a5d1",
   "metadata": {
    "ExecuteTime": {
     "end_time": "2025-08-19T10:59:26.198093Z",
     "start_time": "2025-08-19T10:59:26.194579Z"
    }
   },
   "outputs": [
    {
     "name": "stdout",
     "output_type": "stream",
     "text": [
      "tr\n"
     ]
    }
   ],
   "source": [
    "serchedWord = \"tr\"\n",
    "index = website.index(serchedWord)\n",
    "print(website[index:index + 2])"
   ]
  },
  {
   "cell_type": "markdown",
   "id": "5b9c396c21005dc7",
   "metadata": {},
   "source": [
    "- Soru 4: `course` içinden `ilk 15` ve `son 15` karakterlerini alın."
   ]
  },
  {
   "cell_type": "code",
   "execution_count": 25,
   "id": "2f25503ab3c5ebc",
   "metadata": {
    "ExecuteTime": {
     "end_time": "2025-08-19T10:59:26.239644Z",
     "start_time": "2025-08-19T10:59:26.236723Z"
    }
   },
   "outputs": [
    {
     "name": "stdout",
     "output_type": "stream",
     "text": [
      "First 15 characters of course: Python Dersi: B\n",
      "Last 15 characters of course: ersi (14 Hafta)\n"
     ]
    }
   ],
   "source": [
    "first15 = course[:15]\n",
    "last15 = course[-15:]\n",
    "print(\"First 15 characters of course: \" + first15)\n",
    "print(\"Last 15 characters of course: \" + last15)"
   ]
  },
  {
   "cell_type": "markdown",
   "id": "8de461d920d8347",
   "metadata": {},
   "source": [
    "- Soru 5: `course` ifadesindeki karakterleri tersten yazdırın."
   ]
  },
  {
   "cell_type": "code",
   "execution_count": 26,
   "id": "3858a21ae741343b",
   "metadata": {
    "ExecuteTime": {
     "end_time": "2025-08-19T10:59:26.274184Z",
     "start_time": "2025-08-19T10:59:26.271662Z"
    }
   },
   "outputs": [
    {
     "name": "stdout",
     "output_type": "stream",
     "text": [
      ")atfaH 41( isreD amalmargorP nohtyP anoS natşaB :isreD nohtyP\n"
     ]
    }
   ],
   "source": [
    "print(course[::-1])"
   ]
  },
  {
   "cell_type": "markdown",
   "id": "21e43b4c5c1500f",
   "metadata": {},
   "source": [
    "- Soru 6:\n",
    "```python\n",
    "name, surname, age, job = 'Ayşe','Yılmaz', 23, 'Yazılım Mühendisliği'\n",
    "```\n",
    "ifadeleri ile `Benim adim Ayşe Yılmaz, yasim 23 ve mesleğim Yazılım Mühendisliği.` ifadesini ekrana yazdırın."
   ]
  },
  {
   "cell_type": "code",
   "execution_count": 27,
   "id": "a3ded95d20ac5582",
   "metadata": {
    "ExecuteTime": {
     "end_time": "2025-08-19T10:59:26.313616Z",
     "start_time": "2025-08-19T10:59:26.310145Z"
    }
   },
   "outputs": [
    {
     "name": "stdout",
     "output_type": "stream",
     "text": [
      "Benim adim Ayşe Yılmaz, yasim 23 ve mesleğim Yazılım Mühendisliği\n",
      "Benim adim Ayşe Yılmaz, yasim 23 ve mesleğim Yazılım Mühendisliği.\n",
      "Benim adim Ayşe Yılmaz, yasim 23 ve mesleğim Yazılım Mühendisliği.\n"
     ]
    }
   ],
   "source": [
    "name, surname, age, job = 'Ayşe', 'Yılmaz', 23, 'Yazılım Mühendisliği'\n",
    "\n",
    "print(\"Benim adim {} {}, yasim {} ve mesleğim {}\".format(name, surname, age, job))\n",
    "\n",
    "print(\"Benim adim \" + name + \" \" + surname + \", \" + \"yasim \" + str(age) + \" ve mesleğim \" + job + \".\")\n",
    "\n",
    "print(f\"Benim adim {name} {surname}, yasim {age} ve mesleğim {job}.\")"
   ]
  },
  {
   "cell_type": "markdown",
   "id": "3d36adf3674224ee",
   "metadata": {},
   "source": [
    "## Python String Metotları"
   ]
  },
  {
   "cell_type": "markdown",
   "id": "266a5daebd96a421",
   "metadata": {},
   "source": [
    "### Split Metodu"
   ]
  },
  {
   "cell_type": "markdown",
   "id": "585d300950ff6ea6",
   "metadata": {},
   "source": [
    "Karakter dizisi belirtilen bir karaktere göre parçalama işlemi yapar."
   ]
  },
  {
   "cell_type": "code",
   "execution_count": 28,
   "id": "9ea09fe10b0975b2",
   "metadata": {
    "ExecuteTime": {
     "end_time": "2025-08-19T10:59:26.340357Z",
     "start_time": "2025-08-19T10:59:26.337510Z"
    }
   },
   "outputs": [
    {
     "name": "stdout",
     "output_type": "stream",
     "text": [
      "['Hello', ' There.']\n"
     ]
    }
   ],
   "source": [
    "message = \"Hello, There.\"\n",
    "message = message.split(\",\")\n",
    "print(message)"
   ]
  },
  {
   "cell_type": "markdown",
   "id": "d6f17d1c06cc1667",
   "metadata": {},
   "source": [
    "Karakter dizisini `,` karakterinden parçalara ayırır ve bize bir liste gönderir.\n",
    "\n",
    "Split metoduna bir parametre gönderemediğimizde ise, `Space` karakterinden parçalama yapılır."
   ]
  },
  {
   "cell_type": "markdown",
   "id": "5bc196ec40b6ce72",
   "metadata": {},
   "source": [
    "### Upper Metodu"
   ]
  },
  {
   "cell_type": "markdown",
   "id": "ab7ea7009e07ca5f",
   "metadata": {},
   "source": [
    "Karakterleri büyük harfe çevirir."
   ]
  },
  {
   "cell_type": "code",
   "execution_count": 29,
   "id": "653d20ca6725e8df",
   "metadata": {
    "ExecuteTime": {
     "end_time": "2025-08-19T10:59:26.373788Z",
     "start_time": "2025-08-19T10:59:26.370919Z"
    }
   },
   "outputs": [
    {
     "name": "stdout",
     "output_type": "stream",
     "text": [
      "HELLO, THERE.\n"
     ]
    }
   ],
   "source": [
    "message = \"hello, there.\"\n",
    "message = message.upper()\n",
    "print(message)"
   ]
  },
  {
   "cell_type": "markdown",
   "id": "4a513cab9aa6035f",
   "metadata": {},
   "source": [
    "`title()` metodu, karakter dizisindeki her kelimenin baş harfini büyük harfe çevirir.\n",
    "`capitalize()` metodu, karakter dizisindeki sadece ilk kalimenin baş harfini büyük harfe çevirir."
   ]
  },
  {
   "cell_type": "markdown",
   "id": "eec319580cef604b",
   "metadata": {},
   "source": [
    "### Strip Metodu"
   ]
  },
  {
   "cell_type": "markdown",
   "id": "5ab3ee3f056fb9d7",
   "metadata": {},
   "source": [
    "Kullanıcının belirteceği karakterleri siler. Varsayılan olarak yani kullanıcı tarafından her hangi bir parametrenin belirtilmediği durumlarda `Space` karakterini siler."
   ]
  },
  {
   "cell_type": "code",
   "execution_count": 30,
   "id": "5dad2a68326b3d6c",
   "metadata": {
    "ExecuteTime": {
     "end_time": "2025-08-19T10:59:26.399420Z",
     "start_time": "2025-08-19T10:59:26.396602Z"
    }
   },
   "outputs": [
    {
     "name": "stdout",
     "output_type": "stream",
     "text": [
      ".sedatmetlek\n"
     ]
    }
   ],
   "source": [
    "userName = \"          .sedatmetlek      \"\n",
    "userName = userName.strip()\n",
    "print(userName)"
   ]
  },
  {
   "cell_type": "markdown",
   "id": "f33ad5dfb2407637",
   "metadata": {},
   "source": [
    "Eğer `strip()` metodunun belirttiğimiz karakterleri silmesini istersek, bu bu karakterleri parametre olarak göndermemiz gerekir."
   ]
  },
  {
   "cell_type": "code",
   "execution_count": 31,
   "id": "59ea40e29df7a05f",
   "metadata": {
    "ExecuteTime": {
     "end_time": "2025-08-19T10:59:26.429407Z",
     "start_time": "2025-08-19T10:59:26.426863Z"
    }
   },
   "outputs": [
    {
     "name": "stdout",
     "output_type": "stream",
     "text": [
      "sedatmetlek\n"
     ]
    }
   ],
   "source": [
    "userName = \",,,,...!!sedatmetlek***\"\n",
    "userName = userName.strip(\",.!*\")\n",
    "print(userName)"
   ]
  },
  {
   "cell_type": "markdown",
   "id": "95ca7ab1ad24bf42",
   "metadata": {},
   "source": [
    "### Replace Metodu"
   ]
  },
  {
   "cell_type": "markdown",
   "id": "3b51c18cac8ce11f",
   "metadata": {},
   "source": [
    "Karakter dizisinde bulunan bir ifadeyideğiştirmek için kullanılır."
   ]
  },
  {
   "cell_type": "code",
   "execution_count": 32,
   "id": "58f32c96be533f41",
   "metadata": {
    "ExecuteTime": {
     "end_time": "2025-08-19T10:59:26.455133Z",
     "start_time": "2025-08-19T10:59:26.451124Z"
    }
   },
   "outputs": [
    {
     "name": "stdout",
     "output_type": "stream",
     "text": [
      "My name is Ayşe Kara.\n"
     ]
    }
   ],
   "source": [
    "message = \"My name is Ali Kara.\"\n",
    "message = message.replace(\"Ali\", \"Ayşe\")\n",
    "print(message)"
   ]
  },
  {
   "cell_type": "markdown",
   "id": "f6dad2934b704996",
   "metadata": {},
   "source": [
    "`replace()` metotlarını ard arda kullanabiliriz."
   ]
  },
  {
   "cell_type": "markdown",
   "id": "36e933469ed8f2fa",
   "metadata": {},
   "source": [
    "### Find Metodu"
   ]
  },
  {
   "cell_type": "markdown",
   "id": "1e4ddeac39aff340",
   "metadata": {},
   "source": [
    "Verilen string ifade içinde arama yapar ve bulduğu ilk indeks numarasını döndürür. Eğer bulamazsa `-1` dödürür."
   ]
  },
  {
   "cell_type": "code",
   "execution_count": 33,
   "id": "aafa5488ccec44bd",
   "metadata": {
    "ExecuteTime": {
     "end_time": "2025-08-19T10:59:26.485544Z",
     "start_time": "2025-08-19T10:59:26.475157Z"
    }
   },
   "outputs": [
    {
     "name": "stdout",
     "output_type": "stream",
     "text": [
      "3\n"
     ]
    }
   ],
   "source": [
    "txt = \"My name is Sedat Metlek.\"\n",
    "index = txt.find(\"name\")\n",
    "print(index)"
   ]
  },
  {
   "cell_type": "markdown",
   "id": "bad016dbdff872ec",
   "metadata": {},
   "source": [
    "`name` string içerisinde `3.` numarasından itibaren başladığından dolayı 3 değeri yazdırılır."
   ]
  },
  {
   "cell_type": "markdown",
   "id": "78cbd4f7f05ac4f5",
   "metadata": {},
   "source": [
    "### İndex Metodu"
   ]
  },
  {
   "cell_type": "markdown",
   "id": "59b363bc602cd062",
   "metadata": {},
   "source": [
    "Verilen string ifade içinde arama yapar ve bulduğu ilk index numarasını döndürür. Eğer bulamazsa `find()` metodundan farklı olarak geriye `valueError` döndürür."
   ]
  },
  {
   "cell_type": "code",
   "execution_count": 57,
   "id": "403c2659ab5bfdd3",
   "metadata": {
    "ExecuteTime": {
     "end_time": "2025-08-20T10:42:17.941514Z",
     "start_time": "2025-08-20T10:42:17.937502Z"
    }
   },
   "outputs": [
    {
     "name": "stdout",
     "output_type": "stream",
     "text": [
      "3\n"
     ]
    }
   ],
   "source": [
    "txt = \"My name is Sedat Metlek.\"\n",
    "index = txt.index(\"name\")\n",
    "print(index)"
   ]
  },
  {
   "cell_type": "markdown",
   "id": "290afdbc3ecdf938",
   "metadata": {},
   "source": [
    "Eğer string içerisinde olamayan bir ifadeyi aratırsak geriye `valueError` döneceği unutulmamalıdır."
   ]
  },
  {
   "cell_type": "code",
   "execution_count": 35,
   "id": "d52976f292f6e84e",
   "metadata": {
    "ExecuteTime": {
     "end_time": "2025-08-19T10:59:26.534727Z",
     "start_time": "2025-08-19T10:59:26.520092Z"
    }
   },
   "outputs": [
    {
     "ename": "ValueError",
     "evalue": "substring not found",
     "output_type": "error",
     "traceback": [
      "\u001B[31m---------------------------------------------------------------------------\u001B[39m",
      "\u001B[31mValueError\u001B[39m                                Traceback (most recent call last)",
      "\u001B[36mCell\u001B[39m\u001B[36m \u001B[39m\u001B[32mIn[35]\u001B[39m\u001B[32m, line 2\u001B[39m\n\u001B[32m      1\u001B[39m txt = \u001B[33m\"\u001B[39m\u001B[33mMy name is Sedat Metlek.\u001B[39m\u001B[33m\"\u001B[39m\n\u001B[32m----> \u001B[39m\u001B[32m2\u001B[39m index = \u001B[43mtxt\u001B[49m\u001B[43m.\u001B[49m\u001B[43mindex\u001B[49m\u001B[43m(\u001B[49m\u001B[33;43m\"\u001B[39;49m\u001B[33;43mabc\u001B[39;49m\u001B[33;43m\"\u001B[39;49m\u001B[43m)\u001B[49m\n\u001B[32m      3\u001B[39m \u001B[38;5;28mprint\u001B[39m(index)\n",
      "\u001B[31mValueError\u001B[39m: substring not found"
     ]
    }
   ],
   "source": [
    "txt = \"My name is Sedat Metlek.\"\n",
    "index = txt.index(\"abc\")\n",
    "print(index)"
   ]
  },
  {
   "cell_type": "markdown",
   "id": "88b9473fec288309",
   "metadata": {},
   "source": [
    "Ayrıca `index()` ve `find()`metodu için bir arama kapsamı belirtebiliriz."
   ]
  },
  {
   "cell_type": "code",
   "execution_count": 36,
   "id": "12aa5bfe52fcc424",
   "metadata": {
    "ExecuteTime": {
     "end_time": "2025-08-19T10:59:34.142810Z",
     "start_time": "2025-08-19T10:59:34.137059Z"
    }
   },
   "outputs": [
    {
     "name": "stdout",
     "output_type": "stream",
     "text": [
      "3\n"
     ]
    }
   ],
   "source": [
    "txt = \"My name is Sedat Metlek.\"\n",
    "index = txt.index(\"name\", 0, 10)\n",
    "print(index)"
   ]
  },
  {
   "cell_type": "markdown",
   "id": "a9f176e5c2846e45",
   "metadata": {},
   "source": [
    "## String Uygulamaları"
   ]
  },
  {
   "cell_type": "markdown",
   "id": "82dc6b70f306c9b3",
   "metadata": {},
   "source": [
    "1. \"  Hello World     \" kararakter dizisinin baş ve sondaki boşluk karakterlerini silin."
   ]
  },
  {
   "cell_type": "code",
   "execution_count": 37,
   "id": "87c85f387a7af68c",
   "metadata": {
    "ExecuteTime": {
     "end_time": "2025-08-19T10:59:36.006703Z",
     "start_time": "2025-08-19T10:59:36.003567Z"
    }
   },
   "outputs": [
    {
     "name": "stdout",
     "output_type": "stream",
     "text": [
      "Hello World\n",
      "Hello World                   \n",
      "             Hello World\n"
     ]
    }
   ],
   "source": [
    "result = \"             Hello World                   \".strip()\n",
    "print(result)\n",
    "\n",
    "result = \"             Hello World                   \".lstrip()  # Baştaki boşluk karakterleri silinir.\n",
    "print(result)\n",
    "\n",
    "result = \"             Hello World                   \".rstrip()  # Sondaki boşluk karakterleri silinir.\n",
    "print(result)"
   ]
  },
  {
   "cell_type": "markdown",
   "id": "33de2cbbe336231d",
   "metadata": {},
   "source": [
    "2. `http://www.mehmetakif.edu.tr` içindeki `mehmetakif` bilgisi haricindeki her karakteri silin."
   ]
  },
  {
   "cell_type": "code",
   "execution_count": 38,
   "id": "19c3e7b56095ff74",
   "metadata": {
    "ExecuteTime": {
     "end_time": "2025-08-19T10:59:37.864002Z",
     "start_time": "2025-08-19T10:59:37.859877Z"
    }
   },
   "outputs": [
    {
     "name": "stdout",
     "output_type": "stream",
     "text": [
      "mehmetakif\n"
     ]
    }
   ],
   "source": [
    "result = 'http://www.mehmetakif.edu.tr'.strip('/htp:w.edutr')\n",
    "print(result)"
   ]
  },
  {
   "cell_type": "markdown",
   "id": "dd7f0f347cda415f",
   "metadata": {},
   "source": [
    "3. `course = \"Python Dersi: Baştan Sona Python Programlama Dersi (14 Hafta)\"` karakter dizisinin tüm karakterlerini küçük harf yapın."
   ]
  },
  {
   "cell_type": "code",
   "execution_count": 39,
   "id": "d2bdb6aab5dedb06",
   "metadata": {
    "ExecuteTime": {
     "end_time": "2025-08-19T10:59:40.008716Z",
     "start_time": "2025-08-19T10:59:40.002728Z"
    }
   },
   "outputs": [
    {
     "name": "stdout",
     "output_type": "stream",
     "text": [
      "python dersi: baştan sona python programlama dersi (14 hafta)\n"
     ]
    }
   ],
   "source": [
    "course = \"Python Dersi: Baştan Sona Python Programlama Dersi (14 Hafta)\".lower()\n",
    "print(course)"
   ]
  },
  {
   "cell_type": "markdown",
   "id": "9595e628d35a5fa6",
   "metadata": {},
   "source": [
    "4. `website = \"http://www.mehmetakif.edu.tr\"` içinde kaç tane a karakteri vardır?"
   ]
  },
  {
   "cell_type": "code",
   "execution_count": 40,
   "id": "3f366a68639ada25",
   "metadata": {
    "ExecuteTime": {
     "end_time": "2025-08-19T10:59:41.360249Z",
     "start_time": "2025-08-19T10:59:41.355942Z"
    }
   },
   "outputs": [
    {
     "name": "stdout",
     "output_type": "stream",
     "text": [
      "1\n"
     ]
    }
   ],
   "source": [
    "website = \"http://www.mehmetakif.edu.tr\"\n",
    "countA = website.count('a')\n",
    "print(countA)"
   ]
  },
  {
   "cell_type": "markdown",
   "id": "a11e083a763fd094",
   "metadata": {},
   "source": [
    "5. `website`, `www`ile başlayıp `com` ile bitiyor mu?"
   ]
  },
  {
   "cell_type": "code",
   "execution_count": 48,
   "id": "d4ee5318982f37ae",
   "metadata": {
    "ExecuteTime": {
     "end_time": "2025-08-19T11:59:03.173877Z",
     "start_time": "2025-08-19T11:59:03.170934Z"
    }
   },
   "outputs": [
    {
     "name": "stdout",
     "output_type": "stream",
     "text": [
      "False\n",
      "True\n",
      "False\n"
     ]
    }
   ],
   "source": [
    "result = website.startswith('www')\n",
    "print(result)\n",
    "\n",
    "result2 = website.startswith('http')\n",
    "print(result2)\n",
    "\n",
    "result3 = website.endswith('com')\n",
    "print(result3)"
   ]
  },
  {
   "cell_type": "markdown",
   "id": "a9a26c0176d7a1a9",
   "metadata": {},
   "source": [
    "6. `website` içinde `com` ifadesi var mı?"
   ]
  },
  {
   "cell_type": "code",
   "execution_count": 57,
   "id": "1a2f8dce6274576",
   "metadata": {
    "ExecuteTime": {
     "end_time": "2025-08-19T12:09:46.815225Z",
     "start_time": "2025-08-19T12:09:46.811600Z"
    }
   },
   "outputs": [
    {
     "name": "stdout",
     "output_type": "stream",
     "text": [
      "-1\n",
      "0\n",
      "7\n",
      "7\n"
     ]
    }
   ],
   "source": [
    "website = \"http://www.mehmetakif.edu.tr\"\n",
    "\n",
    "result = website.find('com')\n",
    "print(result)\n",
    "\n",
    "result2 = website.find('http', 0, 10)\n",
    "print(result2)\n",
    "\n",
    "result3 = website.find('www')\n",
    "print(result3)\n",
    "\n",
    "result4 = website.rfind('www')\n",
    "print(result4)"
   ]
  },
  {
   "cell_type": "code",
   "execution_count": 58,
   "id": "a525e4cc3b85bc3b",
   "metadata": {
    "ExecuteTime": {
     "end_time": "2025-08-19T12:15:11.572243Z",
     "start_time": "2025-08-19T12:15:11.567013Z"
    }
   },
   "outputs": [
    {
     "name": "stdout",
     "output_type": "stream",
     "text": [
      "First 'Python':  0\n",
      "Second 'Python':  26\n",
      "It start to right for the second 'Python':  26\n"
     ]
    }
   ],
   "source": [
    "course = \"Python Dersi: Baştan Sona Python Programlama Dersi (14 Hafta)\"\n",
    "\n",
    "result = course.index(\"Python\")\n",
    "print(\"First 'Python': \", result)\n",
    "\n",
    "result2 = course.index(\"Python\", 25, 61)\n",
    "print(\"Second 'Python': \", result2)\n",
    "\n",
    "result3 = course.rindex(\"Python\")\n",
    "print(\"It start to right for the second 'Python': \", result3)"
   ]
  },
  {
   "cell_type": "markdown",
   "id": "4dfdb18d6164fa00",
   "metadata": {},
   "source": [
    "7. `course` içindeki karakterlerin hepsi alfabetik mi?"
   ]
  },
  {
   "cell_type": "code",
   "execution_count": 47,
   "id": "f75d59a26ad124e3",
   "metadata": {
    "ExecuteTime": {
     "end_time": "2025-08-19T11:58:34.818998Z",
     "start_time": "2025-08-19T11:58:34.811772Z"
    }
   },
   "outputs": [
    {
     "name": "stdout",
     "output_type": "stream",
     "text": [
      "False\n",
      "False\n"
     ]
    }
   ],
   "source": [
    "result = course.isalpha()  # Tüm karakterlerin alfabetik olup olamdığını sorgular.\n",
    "print(result)\n",
    "\n",
    "result2 = course.isdigit()  # Tüm karakterlerin rakamsal olup olmadığını sorgular.\n",
    "print(result2)"
   ]
  },
  {
   "cell_type": "markdown",
   "id": "e24a49f3e714e5c0",
   "metadata": {},
   "source": [
    "8. `Contents` ifadesini satırda 50 karakter içine yerleştirip sağ ve soluna `*` ekleyiniz."
   ]
  },
  {
   "cell_type": "code",
   "execution_count": 59,
   "id": "3248c52cdb79165d",
   "metadata": {
    "ExecuteTime": {
     "end_time": "2025-08-19T12:19:17.771173Z",
     "start_time": "2025-08-19T12:19:17.766551Z"
    }
   },
   "outputs": [
    {
     "name": "stdout",
     "output_type": "stream",
     "text": [
      "*********************Contents*********************\n",
      "Contents******************************************\n",
      "******************************************Contents\n"
     ]
    }
   ],
   "source": [
    "result = \"Contents\".center(50, \"*\")\n",
    "print(result)\n",
    "\n",
    "result2 = \"Contents\".ljust(50, \"*\")\n",
    "print(result2)\n",
    "\n",
    "result3 = \"Contents\".rjust(50, \"*\")\n",
    "print(result3)"
   ]
  },
  {
   "cell_type": "markdown",
   "id": "bf0c33dba1f57b6b",
   "metadata": {},
   "source": [
    "9. `course` karakter dizisindeki tüm boşluk karakterlerini `-` ile değiştirin."
   ]
  },
  {
   "cell_type": "code",
   "execution_count": 60,
   "id": "b156553ead79dc95",
   "metadata": {
    "ExecuteTime": {
     "end_time": "2025-08-19T12:22:14.985529Z",
     "start_time": "2025-08-19T12:22:14.977810Z"
    }
   },
   "outputs": [
    {
     "name": "stdout",
     "output_type": "stream",
     "text": [
      "Python-Dersi:-Baştan-Sona-Python-Programlama-Dersi-(14-Hafta)\n",
      "Python-Dersi:-Baştan-Sona-Python-Programlama Dersi (14 Hafta)\n"
     ]
    }
   ],
   "source": [
    "course = \"Python Dersi: Baştan Sona Python Programlama Dersi (14 Hafta)\"\n",
    "\n",
    "result = course.replace(' ', '-')\n",
    "print(result)\n",
    "\n",
    "result2 = course.replace(' ', '-', 5)\n",
    "print(result2)"
   ]
  },
  {
   "cell_type": "markdown",
   "id": "3477f106081059e9",
   "metadata": {},
   "source": [
    "10. `Hello World` karakter dizisinin `World` ifadesini `There` olarak değiştirin."
   ]
  },
  {
   "cell_type": "code",
   "execution_count": 61,
   "id": "4ac59ff51996459c",
   "metadata": {
    "ExecuteTime": {
     "end_time": "2025-08-19T12:24:36.278536Z",
     "start_time": "2025-08-19T12:24:36.275341Z"
    }
   },
   "outputs": [
    {
     "name": "stdout",
     "output_type": "stream",
     "text": [
      "Hello There\n"
     ]
    }
   ],
   "source": [
    "print(\"Hello World\".replace(\"World\", \"There\"))"
   ]
  },
  {
   "cell_type": "markdown",
   "id": "6e51215efa9e6568",
   "metadata": {},
   "source": [
    "11. `course` karakter dizisini boşluk karakterlerinden ayırın."
   ]
  },
  {
   "cell_type": "code",
   "execution_count": 62,
   "id": "9fd26f10ea4dff3a",
   "metadata": {
    "ExecuteTime": {
     "end_time": "2025-08-19T12:47:05.231795Z",
     "start_time": "2025-08-19T12:47:05.227758Z"
    }
   },
   "outputs": [
    {
     "name": "stdout",
     "output_type": "stream",
     "text": [
      "['Python', 'Dersi:', 'Baştan', 'Sona', 'Python', 'Programlama', 'Dersi', '(14', 'Hafta)']\n"
     ]
    }
   ],
   "source": [
    "course = \"Python Dersi: Baştan Sona Python Programlama Dersi (14 Hafta)\"\n",
    "\n",
    "result = course.split(' ')\n",
    "print(result)"
   ]
  },
  {
   "cell_type": "markdown",
   "id": "f9e1bc8af2aaf08d",
   "metadata": {},
   "source": [
    "`split()` metodu ile strin ifadeyi her boşluk karakterinden ayırıp bir listeye çevirmiş oluruz ve her bir liste elemanına indeks numarası ile ulaşabiliriz."
   ]
  },
  {
   "cell_type": "markdown",
   "id": "758f9483df5b4fa6",
   "metadata": {},
   "source": [
    "## List Uygulamamları"
   ]
  },
  {
   "cell_type": "markdown",
   "id": "54380af404a22cba",
   "metadata": {},
   "source": [
    "### Listeye Eleman Ekleme"
   ]
  },
  {
   "cell_type": "markdown",
   "id": "bd934f938d3429a0",
   "metadata": {},
   "source": [
    "Listelerin sonuna eleman eklemek için `append()` metodu kullanılır."
   ]
  },
  {
   "cell_type": "code",
   "execution_count": 64,
   "id": "fa1007e9c4e3f869",
   "metadata": {
    "ExecuteTime": {
     "end_time": "2025-08-19T12:53:02.126724Z",
     "start_time": "2025-08-19T12:53:02.118774Z"
    }
   },
   "outputs": [
    {
     "name": "stdout",
     "output_type": "stream",
     "text": [
      "['banana', 'grape', 'cherry', 'apple']\n"
     ]
    }
   ],
   "source": [
    "list = [\"banana\", \"grape\", \"cherry\"]\n",
    "list.append(\"apple\")\n",
    "print(list)"
   ]
  },
  {
   "cell_type": "markdown",
   "id": "94a813ce1b03598a",
   "metadata": {},
   "source": [
    "Listelerde belirtilen bir indeks' e eleman eklemek için `insert()` metodu kullanılır."
   ]
  },
  {
   "cell_type": "code",
   "execution_count": 66,
   "id": "2bb8eea36a393913",
   "metadata": {
    "ExecuteTime": {
     "end_time": "2025-08-19T12:55:18.201929Z",
     "start_time": "2025-08-19T12:55:18.197256Z"
    }
   },
   "outputs": [
    {
     "name": "stdout",
     "output_type": "stream",
     "text": [
      "['bannana', 'grape', 'apple', 'cherry']\n"
     ]
    }
   ],
   "source": [
    "list = [\"bannana\", \"grape\", \"cherry\"]\n",
    "list.insert(2, \"apple\")\n",
    "print(list)"
   ]
  },
  {
   "cell_type": "markdown",
   "id": "73dd127da2b1535e",
   "metadata": {},
   "source": [
    "### Listeden Eleman Silme"
   ]
  },
  {
   "cell_type": "markdown",
   "id": "ead441437ca04ac1",
   "metadata": {},
   "source": [
    "Listelerden eleman silmek için kullanabileceğimiz farklı metotlar mevcuttur.\n",
    "\n",
    "Listelerden bir eleman silmek için `remove()` metodunu kullanabiliriz."
   ]
  },
  {
   "cell_type": "code",
   "execution_count": 67,
   "id": "563f1f53217b4300",
   "metadata": {
    "ExecuteTime": {
     "end_time": "2025-08-19T12:57:50.117863Z",
     "start_time": "2025-08-19T12:57:50.114382Z"
    }
   },
   "outputs": [
    {
     "name": "stdout",
     "output_type": "stream",
     "text": [
      "['banana', 'cherry']\n"
     ]
    }
   ],
   "source": [
    "list = [\"banana\", \"grape\", \"cherry\"]\n",
    "list.remove(\"grape\")\n",
    "print(list)"
   ]
  },
  {
   "cell_type": "markdown",
   "id": "891deb22c99e78",
   "metadata": {},
   "source": [
    "Listelerde belirtilen bir indeks' deki elemanı silmek için `pop()` metodu kullanılır. Eğer indeks numarası belirtmezsek son elemanı siler."
   ]
  },
  {
   "cell_type": "code",
   "execution_count": 70,
   "id": "745590d77dfcb04c",
   "metadata": {
    "ExecuteTime": {
     "end_time": "2025-08-19T13:01:39.288295Z",
     "start_time": "2025-08-19T13:01:39.283932Z"
    }
   },
   "outputs": [
    {
     "name": "stdout",
     "output_type": "stream",
     "text": [
      "['banana', 'cherry']\n"
     ]
    }
   ],
   "source": [
    "list = [\"banana\", \"grape\", \"cherry\"]\n",
    "\n",
    "list.pop(1)\n",
    "print(list)"
   ]
  },
  {
   "cell_type": "code",
   "execution_count": 71,
   "id": "52684020bc13bd99",
   "metadata": {
    "ExecuteTime": {
     "end_time": "2025-08-19T13:01:40.247055Z",
     "start_time": "2025-08-19T13:01:40.243697Z"
    }
   },
   "outputs": [
    {
     "name": "stdout",
     "output_type": "stream",
     "text": [
      "['banana', 'grape']\n"
     ]
    }
   ],
   "source": [
    "list = [\"banana\", \"grape\", \"cherry\"]\n",
    "\n",
    "list.pop()\n",
    "print(list)"
   ]
  },
  {
   "cell_type": "markdown",
   "id": "8932503e459889ab",
   "metadata": {},
   "source": [
    "`del` komutu ile her hangi bir indeks numarasındaki elemanı silebiliriz."
   ]
  },
  {
   "cell_type": "code",
   "execution_count": 72,
   "id": "143c876eadc8a5c4",
   "metadata": {
    "ExecuteTime": {
     "end_time": "2025-08-19T13:03:15.379434Z",
     "start_time": "2025-08-19T13:03:15.375635Z"
    }
   },
   "outputs": [
    {
     "name": "stdout",
     "output_type": "stream",
     "text": [
      "['grape', 'cherry']\n"
     ]
    }
   ],
   "source": [
    "list = [\"banana\", \"grape\", \"cherry\"]\n",
    "\n",
    "del list[0]\n",
    "print(list)"
   ]
  },
  {
   "cell_type": "markdown",
   "id": "1a76dc4ef98a3c6b",
   "metadata": {},
   "source": [
    "Eğer ki `del` komutu indeks numarası vermezsek listeyi olduğu gibi siler. Bu durumda liste objesine ulaşmak istediğimizde `NameError` alırız ve açıklamada ise 'list tanımlanmadı' şeklinde hata mesajı gelir.\n",
    "\n",
    "Ayrıca `del` komutu ile listeyi sildiğimiz gibi `clear()` metodu ile de listeyi silebiliriz. Ancak aradaki fark `del` komutu ile obje referansı da silindiğinde listeye ulaşmak istediğimizde `NameError` alırken `clear()` metodu ile bu hatayı almayız. Bunun sebebi listenin referansı bellekte devam eder ancak içi boş olur."
   ]
  },
  {
   "cell_type": "code",
   "execution_count": 78,
   "id": "e9ffcd695b3b3810",
   "metadata": {
    "ExecuteTime": {
     "end_time": "2025-08-19T13:32:28.447140Z",
     "start_time": "2025-08-19T13:32:28.444259Z"
    }
   },
   "outputs": [
    {
     "name": "stdout",
     "output_type": "stream",
     "text": [
      "[]\n"
     ]
    }
   ],
   "source": [
    "list = [\"banana\", \"grape\", \"cherry\"]\n",
    "\n",
    "list.clear()\n",
    "print(list)"
   ]
  },
  {
   "cell_type": "markdown",
   "id": "36d4e202c7af7bee",
   "metadata": {},
   "source": [
    "Gördüğünüz gibi `print(list)` ile bize gelen değer `[]` boş liste tanımlamasıdır. Bellekte halen yer tutar ve bu liste üzerine tekrar eleman eklemeye devam edebiliriz."
   ]
  },
  {
   "cell_type": "markdown",
   "id": "8efe2f088ffee014",
   "metadata": {},
   "source": [
    "### Liste Kopyalama"
   ]
  },
  {
   "cell_type": "markdown",
   "id": "c1059c53c3dcf835",
   "metadata": {},
   "source": [
    "Liste bir sınıf ve bellekte referans tipi olarak ele alınır dolayısıyla bir listeyi başka bir listeye atamak istediğimizde liste elemanları kopyalanmaz bunun yerine listenin bellekteki adres bilgisi kopyalanır."
   ]
  },
  {
   "cell_type": "code",
   "execution_count": 77,
   "id": "1e9d9126e3d37fc2",
   "metadata": {
    "ExecuteTime": {
     "end_time": "2025-08-19T13:31:49.376058Z",
     "start_time": "2025-08-19T13:31:49.372534Z"
    }
   },
   "outputs": [
    {
     "name": "stdout",
     "output_type": "stream",
     "text": [
      "['grape', 'cherry']\n",
      "['grape', 'cherry']\n"
     ]
    }
   ],
   "source": [
    "a = [\"apple\", \"banana\"]\n",
    "b = [\"grape\", \"cherry\"]\n",
    "a = b\n",
    "print(a)\n",
    "print(b)"
   ]
  },
  {
   "cell_type": "markdown",
   "id": "873e8fae8e43bd15",
   "metadata": {},
   "source": [
    "Burad `b` nin adresi `a` a listesine atanmıştır. Dolayısıyla artık `a` ve `b` listeleri belleğin aynı adresindeki aynı verilere sahiptir.\n",
    "\n",
    "Bu doğrultuda `a` ya da `b` üzerinde yaptığımız her hangi bir değişiklik iki liste üzerinde yapılmış olur."
   ]
  },
  {
   "cell_type": "code",
   "execution_count": 79,
   "id": "359ca064ab665938",
   "metadata": {
    "ExecuteTime": {
     "end_time": "2025-08-19T15:44:03.532046Z",
     "start_time": "2025-08-19T15:44:03.524566Z"
    }
   },
   "outputs": [
    {
     "name": "stdout",
     "output_type": "stream",
     "text": [
      "['update', 'cherry'] ['update', 'cherry']\n"
     ]
    }
   ],
   "source": [
    "a = [\"apple\", \"banana\"]\n",
    "b = [\"grape\", \"cherry\"]\n",
    "a = b\n",
    "b[0] = \"update\"\n",
    "print(a, b)"
   ]
  },
  {
   "cell_type": "markdown",
   "id": "8df2330415b9e4d5",
   "metadata": {},
   "source": [
    "Dolayısıyla listeler kopyalanırken kullanmamız gereken bazı metotlar vardır. Bir liste içeriğini başka bir listeye atamak için `copy()` metodunu kullanabiliriz."
   ]
  },
  {
   "cell_type": "code",
   "execution_count": 1,
   "id": "74b949033832b9c5",
   "metadata": {
    "ExecuteTime": {
     "end_time": "2025-08-20T09:37:34.763419Z",
     "start_time": "2025-08-20T09:37:34.759172Z"
    }
   },
   "outputs": [
    {
     "name": "stdout",
     "output_type": "stream",
     "text": [
      "['grape', 'cherry'] ['update', 'cherry']\n"
     ]
    }
   ],
   "source": [
    "a = [\"apple\", \"banana\"]\n",
    "b = [\"grape\", \"cherry\"]\n",
    "a = b.copy()\n",
    "b[0] = \"update\"\n",
    "print(a, b)"
   ]
  },
  {
   "cell_type": "markdown",
   "id": "594d84ed4a80d18d",
   "metadata": {},
   "source": [
    "Gördüğünüz gibi atama işleminden sonra `b[0]` indeks üzerinde yaptığımız bir güncelleme `a` listesini etkilemedi çünkü iki listede farklı adreslere sahip birer ojedir. Burada adres kopyalaması değil de sadece içlerindeki bilgiler kopyalanmıştır.\n",
    "\n",
    "Liste kopyalamak iin kullanabileceğimiz bir diğer metod ise `list()` metodudur."
   ]
  },
  {
   "cell_type": "code",
   "execution_count": 2,
   "id": "d774f3b4e08380cf",
   "metadata": {
    "ExecuteTime": {
     "end_time": "2025-08-20T09:45:07.288079Z",
     "start_time": "2025-08-20T09:45:07.283877Z"
    }
   },
   "outputs": [
    {
     "name": "stdout",
     "output_type": "stream",
     "text": [
      "['grape', 'cherry'] ['update', 'cherry']\n"
     ]
    }
   ],
   "source": [
    "a = [\"apple\", \"banana\"]\n",
    "b = [\"grape\", \"cherry\"]\n",
    "a = list(b)\n",
    "b[0] = \"update\"\n",
    "print(a, b)"
   ]
  },
  {
   "cell_type": "markdown",
   "id": "6dc53169eb54e6b9",
   "metadata": {},
   "source": [
    "### Liste Elemanlarını Sıralama"
   ]
  },
  {
   "cell_type": "markdown",
   "id": "372f5c757a11529",
   "metadata": {},
   "source": [
    "Liste elemanlarını sıralamak için `sort` metodu kullanılır."
   ]
  },
  {
   "cell_type": "code",
   "execution_count": 5,
   "id": "e444822f62a727ce",
   "metadata": {
    "ExecuteTime": {
     "end_time": "2025-08-20T09:54:19.022362Z",
     "start_time": "2025-08-20T09:54:19.018652Z"
    }
   },
   "outputs": [
    {
     "name": "stdout",
     "output_type": "stream",
     "text": [
      "[1, 2, 3, 4, 5, 6, 7, 8, 9, 10]\n",
      "['a', 'c', 'e', 'g', 'j', 'k', 'n', 'p', 'r', 'z']\n"
     ]
    }
   ],
   "source": [
    "numbers = [10, 5, 7, 6, 9, 8, 3, 4, 2, 1]\n",
    "letters = [\"c\", \"z\", \"g\", \"k\", \"p\", \"e\", \"a\", \"r\", \"n\", \"j\"]\n",
    "\n",
    "numbers.sort()\n",
    "letters.sort()\n",
    "\n",
    "print(numbers)\n",
    "print(letters)"
   ]
  },
  {
   "cell_type": "markdown",
   "id": "a9ce5d4d5fac4160",
   "metadata": {},
   "source": [
    "Tersten sıralamak istediğimizde ise `reverse = True` parametresini kullanabiliriz"
   ]
  },
  {
   "cell_type": "code",
   "execution_count": 7,
   "id": "73bc1daef6faed37",
   "metadata": {
    "ExecuteTime": {
     "end_time": "2025-08-20T09:56:22.063440Z",
     "start_time": "2025-08-20T09:56:22.059629Z"
    }
   },
   "outputs": [
    {
     "name": "stdout",
     "output_type": "stream",
     "text": [
      "[10, 9, 8, 7, 6, 5, 4, 3, 2, 1]\n",
      "['z', 'r', 'p', 'n', 'k', 'j', 'g', 'e', 'c', 'a']\n"
     ]
    }
   ],
   "source": [
    "numbers.sort(reverse=True)\n",
    "letters.sort(reverse=True)\n",
    "\n",
    "print(numbers)\n",
    "print(letters)"
   ]
  },
  {
   "cell_type": "markdown",
   "id": "b117f8a5805a3e19",
   "metadata": {},
   "source": [
    "Liste elemanlarını `reverse()` metodu ile tersten yazdırabiliriz."
   ]
  },
  {
   "cell_type": "code",
   "execution_count": 9,
   "id": "6de4f29fc7abac46",
   "metadata": {
    "ExecuteTime": {
     "end_time": "2025-08-20T10:17:19.063124Z",
     "start_time": "2025-08-20T10:17:19.060010Z"
    }
   },
   "outputs": [
    {
     "name": "stdout",
     "output_type": "stream",
     "text": [
      "[5, 10, 1]\n",
      "['s', 'a', 'g']\n"
     ]
    }
   ],
   "source": [
    "numbers = [1, 10, 5]\n",
    "letters = [\"g\", \"a\", \"s\"]\n",
    "\n",
    "numbers.reverse()\n",
    "letters.reverse()\n",
    "\n",
    "print(numbers)\n",
    "print(letters)"
   ]
  },
  {
   "cell_type": "markdown",
   "id": "764a0bb4202a1083",
   "metadata": {},
   "source": [
    "## Diğer Liste Metotları"
   ]
  },
  {
   "cell_type": "markdown",
   "id": "9c5af6f29cc8af75",
   "metadata": {},
   "source": [
    "### Min ve Max Metotları"
   ]
  },
  {
   "cell_type": "markdown",
   "id": "8f53373b75993f77",
   "metadata": {},
   "source": [
    "Bir liste içerisindeki minimum ve maksimum değeri ister sayısal ister alfabetik olarak alabiliriz."
   ]
  },
  {
   "cell_type": "code",
   "execution_count": 11,
   "id": "831d082dfa7ff0ea",
   "metadata": {
    "ExecuteTime": {
     "end_time": "2025-08-20T10:21:23.071595Z",
     "start_time": "2025-08-20T10:21:23.067285Z"
    }
   },
   "outputs": [
    {
     "name": "stdout",
     "output_type": "stream",
     "text": [
      "1\n",
      "10\n",
      "a\n",
      "s\n"
     ]
    }
   ],
   "source": [
    "print(min(numbers))\n",
    "print(max(numbers))\n",
    "\n",
    "print(min(letters))\n",
    "print(max(letters))"
   ]
  },
  {
   "cell_type": "markdown",
   "id": "e5090cedc54716f",
   "metadata": {},
   "source": [
    "### Count Metodu"
   ]
  },
  {
   "cell_type": "markdown",
   "id": "f88c4678f0b39f12",
   "metadata": {},
   "source": [
    "Bir liste içerisindeki tekrarlayan sayısını almak için `count()` metodunu kullanırız."
   ]
  },
  {
   "cell_type": "code",
   "execution_count": 24,
   "id": "4afc5870b40ef426",
   "metadata": {
    "ExecuteTime": {
     "end_time": "2025-08-20T10:26:37.088241Z",
     "start_time": "2025-08-20T10:26:37.082471Z"
    }
   },
   "outputs": [
    {
     "name": "stdout",
     "output_type": "stream",
     "text": [
      "2\n",
      "2\n"
     ]
    }
   ],
   "source": [
    "numbers = [1, 10, 5, 16, 4, 9, 10]\n",
    "letters = [\"a\", \"g\", \"s\", \"b\", \"y\", \"a\", \"s\"]\n",
    "\n",
    "print(numbers.count(10))\n",
    "print(letters.count('a'))"
   ]
  },
  {
   "cell_type": "markdown",
   "id": "918816b064d87cb3",
   "metadata": {},
   "source": [
    "## Liste Metot Uygulamaları"
   ]
  },
  {
   "cell_type": "code",
   "execution_count": 26,
   "id": "d65c9bd834f10c0e",
   "metadata": {
    "ExecuteTime": {
     "end_time": "2025-08-20T10:29:55.559468Z",
     "start_time": "2025-08-20T10:29:55.556779Z"
    }
   },
   "outputs": [],
   "source": [
    "names = ['Ali','Yağmur','Hakan','Deniz']\n",
    "years = [1998, 2000, 1998, 1987]"
   ]
  },
  {
   "cell_type": "markdown",
   "id": "ce05456ccb600953",
   "metadata": {},
   "source": [
    "1. `Cenk` ismini `names` listesinin sonuna ekleyiniz."
   ]
  },
  {
   "cell_type": "code",
   "execution_count": 27,
   "id": "62586fe9176823d3",
   "metadata": {
    "ExecuteTime": {
     "end_time": "2025-08-20T10:29:56.908066Z",
     "start_time": "2025-08-20T10:29:56.905486Z"
    }
   },
   "outputs": [
    {
     "name": "stdout",
     "output_type": "stream",
     "text": [
      "['Ali', 'Yağmur', 'Hakan', 'Deniz', 'Cenk']\n"
     ]
    }
   ],
   "source": [
    "names.append(\"Cenk\")\n",
    "print(names)"
   ]
  },
  {
   "cell_type": "markdown",
   "id": "73da7e667fc6d72b",
   "metadata": {},
   "source": [
    "2. `Sena` ismini `names` listesinin başına ekleyiniz."
   ]
  },
  {
   "cell_type": "code",
   "execution_count": 28,
   "id": "d49f30d86c755af4",
   "metadata": {
    "ExecuteTime": {
     "end_time": "2025-08-20T10:31:36.118313Z",
     "start_time": "2025-08-20T10:31:36.112581Z"
    }
   },
   "outputs": [
    {
     "name": "stdout",
     "output_type": "stream",
     "text": [
      "['Sena', 'Ali', 'Yağmur', 'Hakan', 'Deniz', 'Cenk']\n"
     ]
    }
   ],
   "source": [
    "names.insert(0, \"Sena\")\n",
    "print(names)"
   ]
  },
  {
   "cell_type": "markdown",
   "id": "89e858251b5c5789",
   "metadata": {},
   "source": [
    "3. `Deniz` ismini `names` listesinden siliniz."
   ]
  },
  {
   "cell_type": "code",
   "execution_count": 29,
   "id": "c2ec361cb42e0ee2",
   "metadata": {
    "ExecuteTime": {
     "end_time": "2025-08-20T10:34:06.233698Z",
     "start_time": "2025-08-20T10:34:06.230267Z"
    }
   },
   "outputs": [
    {
     "name": "stdout",
     "output_type": "stream",
     "text": [
      "['Sena', 'Ali', 'Yağmur', 'Hakan', 'Cenk']\n"
     ]
    }
   ],
   "source": [
    "names.remove(\"Deniz\")\n",
    "print(names)"
   ]
  },
  {
   "cell_type": "markdown",
   "id": "d5ebe04d720130df",
   "metadata": {},
   "source": [
    "4. `Deniz` isminin indeksi nedir?"
   ]
  },
  {
   "cell_type": "code",
   "execution_count": 31,
   "id": "cd68fb6e27613e93",
   "metadata": {
    "ExecuteTime": {
     "end_time": "2025-08-20T10:36:52.701180Z",
     "start_time": "2025-08-20T10:36:52.697326Z"
    }
   },
   "outputs": [
    {
     "name": "stdout",
     "output_type": "stream",
     "text": [
      "3\n"
     ]
    }
   ],
   "source": [
    "names = ['Ali','Yağmur','Hakan','Deniz']\n",
    "\n",
    "index = names.index(\"Deniz\")\n",
    "print(index)"
   ]
  },
  {
   "cell_type": "markdown",
   "id": "5fe69951e06e5110",
   "metadata": {},
   "source": [
    "5. `Ali` listenin bir elemanı mıdır?"
   ]
  },
  {
   "cell_type": "code",
   "execution_count": 32,
   "id": "96d1d9ab31d4bc8d",
   "metadata": {
    "ExecuteTime": {
     "end_time": "2025-08-20T10:38:22.519278Z",
     "start_time": "2025-08-20T10:38:22.514656Z"
    }
   },
   "outputs": [
    {
     "name": "stdout",
     "output_type": "stream",
     "text": [
      "True\n"
     ]
    }
   ],
   "source": [
    "result = \"Ali\" in names\n",
    "print(result)"
   ]
  },
  {
   "cell_type": "markdown",
   "id": "f2da0900eb112755",
   "metadata": {},
   "source": [
    "6. Liste elemanlarını ters çevirin."
   ]
  },
  {
   "cell_type": "code",
   "execution_count": 63,
   "id": "88a8bbe7e455742c",
   "metadata": {
    "ExecuteTime": {
     "end_time": "2025-08-20T10:50:42.547498Z",
     "start_time": "2025-08-20T10:50:42.542986Z"
    }
   },
   "outputs": [
    {
     "name": "stdout",
     "output_type": "stream",
     "text": [
      "['Ali', 'Yağmur', 'Hakan', 'Deniz']\n"
     ]
    }
   ],
   "source": [
    "names.reverse()\n",
    "print(names)"
   ]
  },
  {
   "cell_type": "markdown",
   "id": "f973edb9380bf540",
   "metadata": {},
   "source": [
    "7. Liste elemanlarını alfabetik olarak sıralayınız."
   ]
  },
  {
   "cell_type": "code",
   "execution_count": 64,
   "id": "c68f75e8a127e6f5",
   "metadata": {
    "ExecuteTime": {
     "end_time": "2025-08-20T10:51:32.152215Z",
     "start_time": "2025-08-20T10:51:32.149401Z"
    }
   },
   "outputs": [
    {
     "name": "stdout",
     "output_type": "stream",
     "text": [
      "['Ali', 'Deniz', 'Hakan', 'Yağmur']\n"
     ]
    }
   ],
   "source": [
    "names.sort()\n",
    "print(names)"
   ]
  },
  {
   "cell_type": "markdown",
   "id": "44e8c01b86c47377",
   "metadata": {},
   "source": [
    "8. `years` listesini rakamsal büyüklüğe göre sıralayınız."
   ]
  },
  {
   "cell_type": "code",
   "execution_count": 65,
   "id": "fe0d0de8acc78325",
   "metadata": {
    "ExecuteTime": {
     "end_time": "2025-08-20T10:52:39.765056Z",
     "start_time": "2025-08-20T10:52:39.761900Z"
    }
   },
   "outputs": [
    {
     "name": "stdout",
     "output_type": "stream",
     "text": [
      "[1987, 1998, 1998, 2000]\n"
     ]
    }
   ],
   "source": [
    "years.sort()\n",
    "print(years)"
   ]
  },
  {
   "cell_type": "markdown",
   "id": "e8df7d42e160165",
   "metadata": {},
   "source": [
    "9.\n",
    "```python\n",
    "str = \"Chevrolet, Dacia\"\n",
    "```\n",
    "\n",
    "karakter dizisini listeye çeviriniz."
   ]
  },
  {
   "cell_type": "code",
   "execution_count": 67,
   "id": "45acf622412ff202",
   "metadata": {
    "ExecuteTime": {
     "end_time": "2025-08-20T10:57:05.027409Z",
     "start_time": "2025-08-20T10:57:05.024254Z"
    }
   },
   "outputs": [
    {
     "name": "stdout",
     "output_type": "stream",
     "text": [
      "['Chevrolet', ' Dacia']\n"
     ]
    }
   ],
   "source": [
    "str = \"Chevrolet, Dacia\"\n",
    "result = str.split(',')\n",
    "print(result)"
   ]
  },
  {
   "cell_type": "markdown",
   "id": "468c863514142142",
   "metadata": {},
   "source": [
    "10. `years` listesinin en büyük ve en küçük elemanı nedir?"
   ]
  },
  {
   "cell_type": "code",
   "execution_count": 68,
   "id": "d532a64bc104e964",
   "metadata": {
    "ExecuteTime": {
     "end_time": "2025-08-20T11:01:00.482785Z",
     "start_time": "2025-08-20T11:01:00.470318Z"
    }
   },
   "outputs": [
    {
     "name": "stdout",
     "output_type": "stream",
     "text": [
      "2000\n",
      "1987\n"
     ]
    }
   ],
   "source": [
    "print(max(years))\n",
    "print(min(years))"
   ]
  },
  {
   "cell_type": "markdown",
   "id": "e94f05b12045a126",
   "metadata": {},
   "source": [
    "11. `years` listesinde kaç taane `1998` değeri vardır?"
   ]
  },
  {
   "cell_type": "code",
   "execution_count": 69,
   "id": "939e689a0e89183",
   "metadata": {
    "ExecuteTime": {
     "end_time": "2025-08-20T11:02:12.089769Z",
     "start_time": "2025-08-20T11:02:12.086407Z"
    }
   },
   "outputs": [
    {
     "name": "stdout",
     "output_type": "stream",
     "text": [
      "2\n"
     ]
    }
   ],
   "source": [
    "print(years.count(1998))"
   ]
  },
  {
   "cell_type": "markdown",
   "id": "d8741d481ac58d7",
   "metadata": {},
   "source": [
    "12. `years` listesinin tüm elemanlarını siliniz."
   ]
  },
  {
   "cell_type": "code",
   "execution_count": 70,
   "id": "987b4fbf08f6a9a4",
   "metadata": {
    "ExecuteTime": {
     "end_time": "2025-08-20T11:03:42.806544Z",
     "start_time": "2025-08-20T11:03:42.801452Z"
    }
   },
   "outputs": [
    {
     "name": "stdout",
     "output_type": "stream",
     "text": [
      "[]\n"
     ]
    }
   ],
   "source": [
    "years.clear()\n",
    "print(years)"
   ]
  },
  {
   "cell_type": "markdown",
   "id": "55dc15bd7dd6d77",
   "metadata": {},
   "source": [
    "13. Kullanıcıdan alacağınız 3 marka bilgisini bir listede saklayınız."
   ]
  },
  {
   "cell_type": "code",
   "execution_count": 72,
   "id": "b3cd82ad6134e9de",
   "metadata": {
    "ExecuteTime": {
     "end_time": "2025-08-20T11:09:01.208307Z",
     "start_time": "2025-08-20T11:08:32.400623Z"
    }
   },
   "outputs": [
    {
     "name": "stdout",
     "output_type": "stream",
     "text": [
      "['Ford', 'Mercedes', 'Ferrari']\n"
     ]
    }
   ],
   "source": [
    "markalar = []\n",
    "\n",
    "for i in range(3):\n",
    "    markalar.append(input(f\"{i +1}. markanın ismini giriniz: \"))\n",
    "\n",
    "print(markalar)"
   ]
  },
  {
   "metadata": {},
   "cell_type": "markdown",
   "source": "## Koşul İfadeleri",
   "id": "ae0d9c4d1d85530d"
  },
  {
   "metadata": {},
   "cell_type": "markdown",
   "source": [
    "Koşul durumlar ile bir koşuldan elde etiğimiz `True` ya da `False` değere göre programın farklı yönlerden ilerlemesini sağlayabiliriz.\n",
    "\n",
    "Örneğin; kullanıcıdan aldığımız bir parolanın ya da email adresinim doğru olup olmadığını kontrol ederek `Uygulamaya Giriş Yapıldı...` ya da `Parolanız Yanlış!!!` mesajlar verebiliriz."
   ],
   "id": "ac36c394e106eaa8"
  },
  {
   "metadata": {},
   "cell_type": "markdown",
   "source": "### if Bloğu",
   "id": "73b7da90c576ddbf"
  },
  {
   "metadata": {},
   "cell_type": "markdown",
   "source": [
    "Bir koşulun `True` ya da `False` olan sonucuna göre farklı kod blokları oluşturmak için `if` komutunu kullanıe-rız.\n",
    "\n",
    "Aşağıda bazı koşul ifadeleri verilmiştir. Bu koşullar bize `True` ya da `False` değer üretirler.\n",
    "\n",
    "- Eşit mi: `a == b`\n",
    "- Eşit değil mi: `a != b`\n",
    "- Küçük mü: `a < b`\n",
    "- Küçük ya da eşit mi: `a > b`\n",
    "- Büyük ya da eşit mi: `a >= b`"
   ],
   "id": "e1cee342a6013209"
  },
  {
   "metadata": {
    "ExecuteTime": {
     "end_time": "2025-08-20T11:39:39.796821Z",
     "start_time": "2025-08-20T11:39:39.792104Z"
    }
   },
   "cell_type": "code",
   "source": [
    "a = 10\n",
    "b = 20\n",
    "\n",
    "if b > a:\n",
    "    print(\"b is bigger than a.\")"
   ],
   "id": "8df7167a3f981ca7",
   "outputs": [
    {
     "name": "stdout",
     "output_type": "stream",
     "text": [
      "b is bigger than a.\n"
     ]
    }
   ],
   "execution_count": 75
  },
  {
   "metadata": {},
   "cell_type": "markdown",
   "source": [
    "Gördüğünüz gibi `b > a` şeklinde oluşturduğumuz koşul bize `True` değeri üretirse ekrana `b is begger then a.` mesajı yazılacaktır. Eğer  `False` değer üretilirse ekrana birşey yazdırılmaz.\n",
    "\n",
    "* `if` komutunun sonuna eklediğimiz iki nokta `:` ile if bloğu oluşturmuş oluyoruz ve sonraki satırın mutlaka içeriden başlaması gerekir aksi halde `IndentationError: expected an indented block`cşeklinde bir hata alırız."
   ],
   "id": "ab8fcadeb61e7845"
  },
  {
   "metadata": {},
   "cell_type": "markdown",
   "source": "### elif Bloğu",
   "id": "4a5f3b9c0768a0c4"
  },
  {
   "metadata": {},
   "cell_type": "markdown",
   "source": "Bazen birden fazla koşul yazmak isteriz. Bu durumda eğer ilk `if` bloğu ndaki koşul `False` değer üretirse `elif` bloğunda tanımladığımız koşula bakılır.",
   "id": "cc6f2979b5ff7dea"
  },
  {
   "metadata": {
    "ExecuteTime": {
     "end_time": "2025-08-20T11:40:12.181824Z",
     "start_time": "2025-08-20T11:40:12.177446Z"
    }
   },
   "cell_type": "code",
   "source": [
    "a = 15\n",
    "b = 10\n",
    "\n",
    "if b > a:\n",
    "    print(\"b is bigger than a.\")\n",
    "elif b == a:\n",
    "    print(\"a and b are equal.\")\n",
    "elif b < a:\n",
    "    print(\"b is smaller than a.\")"
   ],
   "id": "eab52b16d98cc92e",
   "outputs": [
    {
     "name": "stdout",
     "output_type": "stream",
     "text": [
      "b is smaller than a.\n"
     ]
    }
   ],
   "execution_count": 76
  },
  {
   "metadata": {},
   "cell_type": "markdown",
   "source": "Burada ise en sondaki `elif` bloğunda sorduğumuz `a > b` koşulu doğru olduğundan ekrana sadece `b is smaller than a.` mesajı yadırılır.",
   "id": "6e36b0c7c7cf6c0d"
  }
 ],
 "metadata": {
  "kernelspec": {
   "display_name": "Python 3 (ipykernel)",
   "language": "python",
   "name": "python3"
  },
  "language_info": {
   "codemirror_mode": {
    "name": "ipython",
    "version": 3
   },
   "file_extension": ".py",
   "mimetype": "text/x-python",
   "name": "python",
   "nbconvert_exporter": "python",
   "pygments_lexer": "ipython3",
   "version": "3.13.7"
  }
 },
 "nbformat": 4,
 "nbformat_minor": 5
}
