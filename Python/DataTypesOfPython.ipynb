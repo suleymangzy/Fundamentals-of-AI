{
 "cells": [
  {
   "metadata": {},
   "cell_type": "markdown",
   "source": "# Veri Tipleri",
   "id": "4b062b2ef2b0be63"
  },
  {
   "metadata": {},
   "cell_type": "markdown",
   "source": [
    "Programlama dillerinde, uygulanmakta olan program içerisinde kullanılacak değişken gibi tanımlanacak olan türlerin tipini belirtmek için kullanılır. Bir sayı değeri kullanacak isek, sayısal veri tipi değişkeni tanımlamamız gerekmektedir. Veri tipleri, veri öğelerinin sınıflandırmasına veya veri değerini bir tür veri kategorisine koymaya olanak sağlar, bir değer üzerinde ne tür işlemlerin yapılabileceğini anlamaya yardımcı olur. Değişkenler farklı türlerdeki verileri depolayabilir ve farklı işlevlerde kullanabilir.\n",
    "\n",
    "Python Programlama dilinde her şey bir nesneyi ifade eder. Python' da ki veri türleri, sınıfları temsil etmektedir. Bu sınıfların nesnelerine değişkenler denir.\n",
    "\n",
    "\n",
    "| Veri Tipi Kategorisi       |    |    |      |\n",
    "|----------------------------|------------|----|-------------|\n",
    "| Metinsel veri tipi         | str        |    |             |\n",
    "| Sayısal veri tipleri       | int        | float | complex     |\n",
    "| Dizi oluşturan veri tipleri| list       | range | tuple       |\n",
    "| Küme oluşturan veri tipleri| set        | frozenset |             |\n",
    "| Binary veri tipleri        | bytes      | bytearray | memoryview  |\n",
    "| Mantıksal operatör veri tipi| bool      |    |             |\n",
    "| Adresleme yapan veri tipi  | dict       |    |             |\n"
   ],
   "id": "b8860f51aa435b9d"
  },
  {
   "metadata": {},
   "cell_type": "markdown",
   "source": "## String Veri Tipi",
   "id": "7e709747492b43c8"
  },
  {
   "metadata": {},
   "cell_type": "markdown",
   "source": "String `str` ifadesi, `metinsel ifadeler` için kullanılan karakter dizisidir. String veri tipinde karakterler tek veya çift tırnak içerisine alınarak oluşturulabilir.",
   "id": "3ad42bb57de27830"
  },
  {
   "metadata": {
    "ExecuteTime": {
     "end_time": "2025-08-15T11:46:23.860431Z",
     "start_time": "2025-08-15T11:46:23.856901Z"
    }
   },
   "cell_type": "code",
   "source": [
    "veri = \"MAKÜ Python Dersleri\"\n",
    "print(type(veri))"
   ],
   "id": "ed089a1ff5d74fc3",
   "outputs": [
    {
     "name": "stdout",
     "output_type": "stream",
     "text": [
      "<class 'str'>\n"
     ]
    }
   ],
   "execution_count": 6
  },
  {
   "metadata": {},
   "cell_type": "markdown",
   "source": "## Sayısal Veri Tipleri Kullanımı",
   "id": "e2d1e7ab04e156d4"
  },
  {
   "metadata": {},
   "cell_type": "markdown",
   "source": [
    "Program içerisinde kullanılacak olan sayısal ifadeleri belirtirken sayısal veri tiplerini kullanmamız gerekmektedir. Syaısal veri tipleri kendi içerisinde üçe ayrılmaktadır;\n",
    "`integer, float, complex`\n"
   ],
   "id": "7e57157a32aafdc5"
  },
  {
   "metadata": {},
   "cell_type": "markdown",
   "source": "### İnteger Veri Tipi",
   "id": "93266200097b72fe"
  },
  {
   "metadata": {},
   "cell_type": "markdown",
   "source": "Tamsayıları ifade etmek için kullanılır.",
   "id": "c312a60730dbf11e"
  },
  {
   "metadata": {
    "ExecuteTime": {
     "end_time": "2025-08-15T11:46:35.649103Z",
     "start_time": "2025-08-15T11:46:35.638942Z"
    }
   },
   "cell_type": "code",
   "source": [
    "veri = 2054\n",
    "print(type(veri))"
   ],
   "id": "ac225dcd3a6d4ad9",
   "outputs": [
    {
     "name": "stdout",
     "output_type": "stream",
     "text": [
      "<class 'int'>\n"
     ]
    }
   ],
   "execution_count": 7
  },
  {
   "metadata": {},
   "cell_type": "markdown",
   "source": "### Float Veri Tipi",
   "id": "9c0a2a1cb126bd1"
  },
  {
   "metadata": {},
   "cell_type": "markdown",
   "source": "Ondalık sayıları ifade etmek için kullanılır.",
   "id": "b48675b248cca47f"
  },
  {
   "metadata": {
    "ExecuteTime": {
     "end_time": "2025-08-15T11:48:31.152608Z",
     "start_time": "2025-08-15T11:48:31.141649Z"
    }
   },
   "cell_type": "code",
   "source": [
    "veri = 96.452\n",
    "print(type(veri))"
   ],
   "id": "3158d7369a94486e",
   "outputs": [
    {
     "name": "stdout",
     "output_type": "stream",
     "text": [
      "<class 'float'>\n"
     ]
    }
   ],
   "execution_count": 8
  },
  {
   "metadata": {},
   "cell_type": "markdown",
   "source": "### Complex Veri Tipi",
   "id": "221f9c558c568a62"
  },
  {
   "metadata": {},
   "cell_type": "markdown",
   "source": "Karmaşık sayıları ifade etmek için kullanılır.",
   "id": "39693c577203b836"
  },
  {
   "metadata": {
    "ExecuteTime": {
     "end_time": "2025-08-15T11:49:38.533865Z",
     "start_time": "2025-08-15T11:49:38.529026Z"
    }
   },
   "cell_type": "code",
   "source": [
    "veri = 10.33j\n",
    "print(type(veri))"
   ],
   "id": "b0b149c7f0827287",
   "outputs": [
    {
     "name": "stdout",
     "output_type": "stream",
     "text": [
      "<class 'complex'>\n"
     ]
    }
   ],
   "execution_count": 9
  },
  {
   "metadata": {},
   "cell_type": "markdown",
   "source": "## Dizi Oluşturan Veri Tiplerinin Kullanımı",
   "id": "63e29d73f307655c"
  },
  {
   "metadata": {},
   "cell_type": "markdown",
   "source": "Diziler özdeş veri tiplerinden olan değişkenlerin aynı isim çatısında belirtilmesidir. Diziler kullanılarak, özdeş isimle birden çok değişken türü üzerinde işlem yapılabilir.",
   "id": "534ce4e5b883f50e"
  },
  {
   "metadata": {},
   "cell_type": "markdown",
   "source": "### List Veri Tipi",
   "id": "1c6d79dcb61e1820"
  },
  {
   "metadata": {},
   "cell_type": "markdown",
   "source": "Birden fazla veri dizisini tek bir tipte birleştirmeye olanak tanır. İçerisinde `string, integer ve float` değerler barındırabilir.",
   "id": "6a7078bda1a761d"
  },
  {
   "metadata": {
    "ExecuteTime": {
     "end_time": "2025-08-15T11:55:39.484362Z",
     "start_time": "2025-08-15T11:55:39.473726Z"
    }
   },
   "cell_type": "code",
   "source": [
    "veri = [\"Sedat\", \"Mert\", \"Mustafa\"]\n",
    "print(type(veri))"
   ],
   "id": "93ebfd7550a76044",
   "outputs": [
    {
     "name": "stdout",
     "output_type": "stream",
     "text": [
      "<class 'list'>\n"
     ]
    }
   ],
   "execution_count": 11
  },
  {
   "metadata": {
    "ExecuteTime": {
     "end_time": "2025-08-15T11:56:41.802385Z",
     "start_time": "2025-08-15T11:56:41.798073Z"
    }
   },
   "cell_type": "code",
   "source": [
    "veri2 = [\"Python Veri Tipleri\", 20, 54.00]\n",
    "print(type(veri2))"
   ],
   "id": "d6ad9ee704848540",
   "outputs": [
    {
     "name": "stdout",
     "output_type": "stream",
     "text": [
      "<class 'list'>\n"
     ]
    }
   ],
   "execution_count": 12
  },
  {
   "metadata": {
    "ExecuteTime": {
     "end_time": "2025-08-15T11:57:27.276838Z",
     "start_time": "2025-08-15T11:57:27.270850Z"
    }
   },
   "cell_type": "code",
   "source": [
    "veri3 = [2,4,6,8,10,12,14,16,18,20]\n",
    "print(type(veri3))"
   ],
   "id": "8ff105a8faba50d6",
   "outputs": [
    {
     "name": "stdout",
     "output_type": "stream",
     "text": [
      "<class 'list'>\n"
     ]
    }
   ],
   "execution_count": 13
  },
  {
   "metadata": {},
   "cell_type": "markdown",
   "source": "### Range Veri Tipi",
   "id": "99e24207a6206b05"
  },
  {
   "metadata": {},
   "cell_type": "markdown",
   "source": "`Range`, aslında bir fonksiyorn olarak çalışmaktadır. Girilen değerler arasında `sayısal bir dizin` oluşturarak çıktı verdirir. Genellikle döngüler (for, while, do while) içerisinde kullanılmaktadır. Örneğin 10' a kadar yazdıran bir sayı dizini oluşturmak istersek;",
   "id": "5980a8b292e284b7"
  },
  {
   "metadata": {
    "ExecuteTime": {
     "end_time": "2025-08-15T12:01:41.217633Z",
     "start_time": "2025-08-15T12:01:41.214274Z"
    }
   },
   "cell_type": "code",
   "source": [
    "for i in range(10):\n",
    "    print(i)"
   ],
   "id": "a653ee61ace1de02",
   "outputs": [
    {
     "name": "stdout",
     "output_type": "stream",
     "text": [
      "0\n",
      "1\n",
      "2\n",
      "3\n",
      "4\n",
      "5\n",
      "6\n",
      "7\n",
      "8\n",
      "9\n"
     ]
    }
   ],
   "execution_count": 16
  },
  {
   "metadata": {},
   "cell_type": "markdown",
   "source": "### Tuple Veri Tipi",
   "id": "1aa17271d671fe00"
  },
  {
   "metadata": {},
   "cell_type": "markdown",
   "source": "Dizi oluşturan koleksiyon çeşitlerinden birisidir. List yapısından farklı olarak değiştirilemez ve sıralı bir biçimde oluşturulmaktadır.",
   "id": "2bc7bcec540c342d"
  },
  {
   "metadata": {
    "ExecuteTime": {
     "end_time": "2025-08-15T12:05:21.732680Z",
     "start_time": "2025-08-15T12:05:21.726471Z"
    }
   },
   "cell_type": "code",
   "source": [
    "veri = (\"Veri Tabanı\", \"Algoritmalar\", \"Web Programlama\")\n",
    "print(type(veri))"
   ],
   "id": "ba3e63dddb22fb7e",
   "outputs": [
    {
     "name": "stdout",
     "output_type": "stream",
     "text": [
      "<class 'tuple'>\n"
     ]
    }
   ],
   "execution_count": 17
  },
  {
   "metadata": {},
   "cell_type": "markdown",
   "source": "## Küme Oluşturan Veri Tiplerinin Kullanımı",
   "id": "a75a19db8985df3c"
  },
  {
   "metadata": {},
   "cell_type": "markdown",
   "source": [
    "Birden çok öğeyi tek bir değişken içerisinde tutmak için kullanılır. Kümelerin çalışma prensibi de listeler gibidir. İki veri tipi de değişkenleri içerisinde tutmaya yarar. Aralarında kullanım alanı ve nitelik farklılıkraı bulunmaktadır.\n",
    "\n",
    "Kümler; `sıralı` bir hale getirilmiş, sonradan değiştirme yapılamayan koleksiyon türüdür. Kümeler `süslü parantezler` ile yazılır."
   ],
   "id": "8d54204a4b97804"
  },
  {
   "metadata": {},
   "cell_type": "markdown",
   "source": "### Set Veri Tipi",
   "id": "ed2c9f1fef82de05"
  },
  {
   "metadata": {},
   "cell_type": "markdown",
   "source": "İlk olarak sıradan bir küme oluşturalım ve içerisine veriler ekleyelim. Ardından çıktısına bakalım.",
   "id": "7ca842f092646914"
  },
  {
   "metadata": {
    "ExecuteTime": {
     "end_time": "2025-08-15T12:17:57.226660Z",
     "start_time": "2025-08-15T12:17:57.217128Z"
    }
   },
   "cell_type": "code",
   "source": [
    "veri = {\"Audi\", \"Toyata\", \"Fiat\"}\n",
    "print(type(veri))\n",
    "print(veri)"
   ],
   "id": "d61881eb3b3d6f8a",
   "outputs": [
    {
     "name": "stdout",
     "output_type": "stream",
     "text": [
      "<class 'set'>\n",
      "{'Audi', 'Toyata', 'Fiat'}\n"
     ]
    }
   ],
   "execution_count": 65
  },
  {
   "metadata": {},
   "cell_type": "markdown",
   "source": "",
   "id": "bc243b6d212e02a"
  }
 ],
 "metadata": {
  "kernelspec": {
   "display_name": "Python 3",
   "language": "python",
   "name": "python3"
  },
  "language_info": {
   "codemirror_mode": {
    "name": "ipython",
    "version": 2
   },
   "file_extension": ".py",
   "mimetype": "text/x-python",
   "name": "python",
   "nbconvert_exporter": "python",
   "pygments_lexer": "ipython2",
   "version": "2.7.6"
  }
 },
 "nbformat": 4,
 "nbformat_minor": 5
}
