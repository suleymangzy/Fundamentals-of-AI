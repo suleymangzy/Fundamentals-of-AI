{
 "cells": [
  {
   "metadata": {},
   "cell_type": "markdown",
   "source": "# Veri Tipleri",
   "id": "4b062b2ef2b0be63"
  },
  {
   "metadata": {},
   "cell_type": "markdown",
   "source": [
    "Programlama dillerinde, uygulanmakta olan program içerisinde kullanılacak değişken gibi tanımlanacak olan türlerin tipini belirtmek için kullanılır. Bir sayı değeri kullanacak isek, sayısal veri tipi değişkeni tanımlamamız gerekmektedir. Veri tipleri, veri öğelerinin sınıflandırmasına veya veri değerini bir tür veri kategorisine koymaya olanak sağlar, bir değer üzerinde ne tür işlemlerin yapılabileceğini anlamaya yardımcı olur. Değişkenler farklı türlerdeki verileri depolayabilir ve farklı işlevlerde kullanabilir.\n",
    "\n",
    "Python Programlama dilinde her şey bir nesneyi ifade eder. Python' da ki veri türleri, sınıfları temsil etmektedir. Bu sınıfların nesnelerine değişkenler denir.\n",
    "\n",
    "\n",
    "| Veri Tipi Kategorisi       |    |    |      |\n",
    "|----------------------------|------------|----|-------------|\n",
    "| Metinsel veri tipi         | str        |    |             |\n",
    "| Sayısal veri tipleri       | int        | float | complex     |\n",
    "| Dizi oluşturan veri tipleri| list       | range | tuple       |\n",
    "| Küme oluşturan veri tipleri| set        | frozenset |             |\n",
    "| Binary veri tipleri        | bytes      | bytearray | memoryview  |\n",
    "| Mantıksal operatör veri tipi| bool      |    |             |\n",
    "| Adresleme yapan veri tipi  | dict       |    |             |\n"
   ],
   "id": "b8860f51aa435b9d"
  },
  {
   "metadata": {},
   "cell_type": "markdown",
   "source": "## String Veri Tipi",
   "id": "7e709747492b43c8"
  },
  {
   "metadata": {},
   "cell_type": "markdown",
   "source": "String `str` ifadesi, `metinsel ifadeler` için kullanılan karakter dizisidir. String veri tipinde karakterler tek veya çift tırnak içerisine alınarak oluşturulabilir.",
   "id": "3ad42bb57de27830"
  },
  {
   "metadata": {
    "ExecuteTime": {
     "end_time": "2025-08-15T11:46:23.860431Z",
     "start_time": "2025-08-15T11:46:23.856901Z"
    }
   },
   "cell_type": "code",
   "source": [
    "veri = \"MAKÜ Python Dersleri\"\n",
    "print(type(veri))"
   ],
   "id": "ed089a1ff5d74fc3",
   "outputs": [
    {
     "name": "stdout",
     "output_type": "stream",
     "text": [
      "<class 'str'>\n"
     ]
    }
   ],
   "execution_count": 6
  },
  {
   "metadata": {},
   "cell_type": "markdown",
   "source": "## Sayısal Veri Tipleri Kullanımı",
   "id": "e2d1e7ab04e156d4"
  },
  {
   "metadata": {},
   "cell_type": "markdown",
   "source": [
    "Program içerisinde kullanılacak olan sayısal ifadeleri belirtirken sayısal veri tiplerini kullanmamız gerekmektedir. Syaısal veri tipleri kendi içerisinde üçe ayrılmaktadır;\n",
    "`integer, float, complex`\n"
   ],
   "id": "7e57157a32aafdc5"
  },
  {
   "metadata": {},
   "cell_type": "markdown",
   "source": "### İnteger Veri Tipi",
   "id": "93266200097b72fe"
  },
  {
   "metadata": {},
   "cell_type": "markdown",
   "source": "Tamsayıları ifade etmek için kullanılır.",
   "id": "c312a60730dbf11e"
  },
  {
   "metadata": {
    "ExecuteTime": {
     "end_time": "2025-08-15T11:46:35.649103Z",
     "start_time": "2025-08-15T11:46:35.638942Z"
    }
   },
   "cell_type": "code",
   "source": [
    "veri = 2054\n",
    "print(type(veri))"
   ],
   "id": "ac225dcd3a6d4ad9",
   "outputs": [
    {
     "name": "stdout",
     "output_type": "stream",
     "text": [
      "<class 'int'>\n"
     ]
    }
   ],
   "execution_count": 7
  },
  {
   "metadata": {},
   "cell_type": "markdown",
   "source": "### Float Veri Tipi",
   "id": "9c0a2a1cb126bd1"
  },
  {
   "metadata": {},
   "cell_type": "markdown",
   "source": "Ondalık sayıları ifade etmek için kullanılır.",
   "id": "b48675b248cca47f"
  },
  {
   "metadata": {
    "ExecuteTime": {
     "end_time": "2025-08-15T11:48:31.152608Z",
     "start_time": "2025-08-15T11:48:31.141649Z"
    }
   },
   "cell_type": "code",
   "source": [
    "veri = 96.452\n",
    "print(type(veri))"
   ],
   "id": "3158d7369a94486e",
   "outputs": [
    {
     "name": "stdout",
     "output_type": "stream",
     "text": [
      "<class 'float'>\n"
     ]
    }
   ],
   "execution_count": 8
  },
  {
   "metadata": {},
   "cell_type": "markdown",
   "source": "### Complex Veri Tipi",
   "id": "221f9c558c568a62"
  },
  {
   "metadata": {},
   "cell_type": "markdown",
   "source": "Karmaşık sayıları ifade etmek için kullanılır.",
   "id": "39693c577203b836"
  },
  {
   "metadata": {
    "ExecuteTime": {
     "end_time": "2025-08-15T11:49:38.533865Z",
     "start_time": "2025-08-15T11:49:38.529026Z"
    }
   },
   "cell_type": "code",
   "source": [
    "veri = 10.33j\n",
    "print(type(veri))"
   ],
   "id": "b0b149c7f0827287",
   "outputs": [
    {
     "name": "stdout",
     "output_type": "stream",
     "text": [
      "<class 'complex'>\n"
     ]
    }
   ],
   "execution_count": 9
  },
  {
   "metadata": {},
   "cell_type": "markdown",
   "source": "## Dizi Oluşturan Veri Tiplerinin Kullanımı",
   "id": "63e29d73f307655c"
  },
  {
   "metadata": {},
   "cell_type": "markdown",
   "source": "Diziler özdeş veri tiplerinden olan değişkenlerin aynı isim çatısında belirtilmesidir. Diziler kullanılarak, özdeş isimle birden çok değişken türü üzerinde işlem yapılabilir.",
   "id": "534ce4e5b883f50e"
  },
  {
   "metadata": {},
   "cell_type": "markdown",
   "source": "### List Veri Tipi",
   "id": "1c6d79dcb61e1820"
  },
  {
   "metadata": {},
   "cell_type": "markdown",
   "source": "Birden fazla veri dizisini tek bir tipte birleştirmeye olanak tanır. İçerisinde `string, integer ve float` değerler barındırabilir.",
   "id": "6a7078bda1a761d"
  },
  {
   "metadata": {
    "ExecuteTime": {
     "end_time": "2025-08-15T11:55:39.484362Z",
     "start_time": "2025-08-15T11:55:39.473726Z"
    }
   },
   "cell_type": "code",
   "source": [
    "veri = [\"Sedat\", \"Mert\", \"Mustafa\"]\n",
    "print(type(veri))"
   ],
   "id": "93ebfd7550a76044",
   "outputs": [
    {
     "name": "stdout",
     "output_type": "stream",
     "text": [
      "<class 'list'>\n"
     ]
    }
   ],
   "execution_count": 11
  },
  {
   "metadata": {
    "ExecuteTime": {
     "end_time": "2025-08-15T11:56:41.802385Z",
     "start_time": "2025-08-15T11:56:41.798073Z"
    }
   },
   "cell_type": "code",
   "source": [
    "veri2 = [\"Python Veri Tipleri\", 20, 54.00]\n",
    "print(type(veri2))"
   ],
   "id": "d6ad9ee704848540",
   "outputs": [
    {
     "name": "stdout",
     "output_type": "stream",
     "text": [
      "<class 'list'>\n"
     ]
    }
   ],
   "execution_count": 12
  },
  {
   "metadata": {
    "ExecuteTime": {
     "end_time": "2025-08-15T11:57:27.276838Z",
     "start_time": "2025-08-15T11:57:27.270850Z"
    }
   },
   "cell_type": "code",
   "source": [
    "veri3 = [2, 4, 6, 8, 10, 12, 14, 16, 18, 20]\n",
    "print(type(veri3))"
   ],
   "id": "8ff105a8faba50d6",
   "outputs": [
    {
     "name": "stdout",
     "output_type": "stream",
     "text": [
      "<class 'list'>\n"
     ]
    }
   ],
   "execution_count": 13
  },
  {
   "metadata": {},
   "cell_type": "markdown",
   "source": "### Range Veri Tipi",
   "id": "99e24207a6206b05"
  },
  {
   "metadata": {},
   "cell_type": "markdown",
   "source": "`Range`, aslında bir fonksiyorn olarak çalışmaktadır. Girilen değerler arasında `sayısal bir dizin` oluşturarak çıktı verdirir. Genellikle döngüler (for, while, do while) içerisinde kullanılmaktadır. Örneğin 10' a kadar yazdıran bir sayı dizini oluşturmak istersek;",
   "id": "5980a8b292e284b7"
  },
  {
   "metadata": {
    "ExecuteTime": {
     "end_time": "2025-08-15T12:01:41.217633Z",
     "start_time": "2025-08-15T12:01:41.214274Z"
    }
   },
   "cell_type": "code",
   "source": [
    "for i in range(10):\n",
    "    print(i)"
   ],
   "id": "a653ee61ace1de02",
   "outputs": [
    {
     "name": "stdout",
     "output_type": "stream",
     "text": [
      "0\n",
      "1\n",
      "2\n",
      "3\n",
      "4\n",
      "5\n",
      "6\n",
      "7\n",
      "8\n",
      "9\n"
     ]
    }
   ],
   "execution_count": 16
  },
  {
   "metadata": {},
   "cell_type": "markdown",
   "source": "### Tuple Veri Tipi",
   "id": "1aa17271d671fe00"
  },
  {
   "metadata": {},
   "cell_type": "markdown",
   "source": "Dizi oluşturan koleksiyon çeşitlerinden birisidir. List yapısından farklı olarak değiştirilemez ve sıralı bir biçimde oluşturulmaktadır.",
   "id": "2bc7bcec540c342d"
  },
  {
   "metadata": {
    "ExecuteTime": {
     "end_time": "2025-08-15T12:05:21.732680Z",
     "start_time": "2025-08-15T12:05:21.726471Z"
    }
   },
   "cell_type": "code",
   "source": [
    "veri = (\"Veri Tabanı\", \"Algoritmalar\", \"Web Programlama\")\n",
    "print(type(veri))"
   ],
   "id": "ba3e63dddb22fb7e",
   "outputs": [
    {
     "name": "stdout",
     "output_type": "stream",
     "text": [
      "<class 'tuple'>\n"
     ]
    }
   ],
   "execution_count": 17
  },
  {
   "metadata": {},
   "cell_type": "markdown",
   "source": "## Küme Oluşturan Veri Tiplerinin Kullanımı",
   "id": "a75a19db8985df3c"
  },
  {
   "metadata": {},
   "cell_type": "markdown",
   "source": [
    "Birden çok öğeyi tek bir değişken içerisinde tutmak için kullanılır. Kümelerin çalışma prensibi de listeler gibidir. İki veri tipi de değişkenleri içerisinde tutmaya yarar. Aralarında kullanım alanı ve nitelik farklılıkraı bulunmaktadır.\n",
    "\n",
    "Kümler; `sıralı` bir hale getirilmiş, sonradan değiştirme yapılamayan koleksiyon türüdür. Kümeler `süslü parantezler` ile yazılır."
   ],
   "id": "8d54204a4b97804"
  },
  {
   "metadata": {},
   "cell_type": "markdown",
   "source": "### Set Veri Tipi",
   "id": "ed2c9f1fef82de05"
  },
  {
   "metadata": {},
   "cell_type": "markdown",
   "source": "İlk olarak sıradan bir küme oluşturalım ve içerisine veriler ekleyelim. Ardından çıktısına bakalım.",
   "id": "7ca842f092646914"
  },
  {
   "metadata": {
    "ExecuteTime": {
     "end_time": "2025-08-15T12:17:57.226660Z",
     "start_time": "2025-08-15T12:17:57.217128Z"
    }
   },
   "cell_type": "code",
   "source": [
    "veri = {\"Audi\", \"Toyata\", \"Fiat\"}\n",
    "print(type(veri))\n",
    "print(veri)"
   ],
   "id": "d61881eb3b3d6f8a",
   "outputs": [
    {
     "name": "stdout",
     "output_type": "stream",
     "text": [
      "<class 'set'>\n",
      "{'Audi', 'Toyata', 'Fiat'}\n"
     ]
    }
   ],
   "execution_count": 65
  },
  {
   "metadata": {},
   "cell_type": "markdown",
   "source": [
    "Şuan her hangi bir sıralama metodu uygulanmadığı için her çıktı aldığımızda sıralama farklı bir şekilde gelebilir.\n",
    "- `Not: Bu bilgi günümüz python sürümleri (özelikle Python 3.7 ve sonrası) için tamamen doğru değildir.`\n",
    "\n",
    "`veri` değişkenini `set()` metodu uygulayarak `siraliVeri` adlı değişken içerisine tanımlayalım ve sıralama yaptıralım."
   ],
   "id": "bc243b6d212e02a"
  },
  {
   "metadata": {
    "ExecuteTime": {
     "end_time": "2025-08-16T11:53:08.476084Z",
     "start_time": "2025-08-16T11:53:08.472518Z"
    }
   },
   "cell_type": "code",
   "source": [
    "veri = [4, 0, 7, 3]\n",
    "siraliVeri = set(veri)\n",
    "print(siraliVeri)"
   ],
   "id": "e5627e7d939097a7",
   "outputs": [
    {
     "name": "stdout",
     "output_type": "stream",
     "text": [
      "{0, 3, 4, 7}\n"
     ]
    }
   ],
   "execution_count": 2
  },
  {
   "metadata": {},
   "cell_type": "markdown",
   "source": "Küme içerisinde her hangi bir elemanın olup olmadığını aramak için gerekirse;",
   "id": "9b04438f18fdca23"
  },
  {
   "metadata": {
    "ExecuteTime": {
     "end_time": "2025-08-16T11:57:33.056184Z",
     "start_time": "2025-08-16T11:57:33.051161Z"
    }
   },
   "cell_type": "code",
   "source": [
    "veri = [4, 0, 7, 3]\n",
    "siraliVeri = set(veri)\n",
    "test = 2 in siraliVeri\n",
    "print(siraliVeri)\n",
    "print(test)"
   ],
   "id": "bbd262cbcb1134bc",
   "outputs": [
    {
     "name": "stdout",
     "output_type": "stream",
     "text": [
      "{0, 3, 4, 7}\n",
      "False\n"
     ]
    }
   ],
   "execution_count": 3
  },
  {
   "metadata": {},
   "cell_type": "markdown",
   "source": [
    "Küme içerisinden bir veri silmek istersek `remove` komutunu uygulamamız gerekecek.\n",
    "```python\n",
    "siraliVeri.remove(0)\n",
    "```\n",
    " komutunu uygulayarak küme içerisinde 0 sayısını silmeye çalıştığımız zaman başarıyla silmiş olacağız. Çünkü set veri tipinde kümeler içerisinde değişiklik yapabilmekteyiz."
   ],
   "id": "c68b15c4413e8969"
  },
  {
   "metadata": {
    "ExecuteTime": {
     "end_time": "2025-08-16T12:02:28.051083Z",
     "start_time": "2025-08-16T12:02:28.045601Z"
    }
   },
   "cell_type": "code",
   "source": [
    "veri = [4, 0, 7, 3]\n",
    "siraliVeri = set(veri)\n",
    "print(siraliVeri)\n",
    "siraliVeri.remove(0)\n",
    "print(siraliVeri)"
   ],
   "id": "f8b21c9c49fd2a87",
   "outputs": [
    {
     "name": "stdout",
     "output_type": "stream",
     "text": [
      "{0, 3, 4, 7}\n",
      "{3, 4, 7}\n"
     ]
    }
   ],
   "execution_count": 4
  },
  {
   "metadata": {},
   "cell_type": "markdown",
   "source": "### Frozenset Veri Tipi",
   "id": "6d38bbdd52735ece"
  },
  {
   "metadata": {},
   "cell_type": "markdown",
   "source": "`Frozenset` kümeler, kısıtlanmış ve dondurulmuş kümeler olarak belirtilmektedir.  Bildiğimiz üzere kümeler değiştirilebilir ve değiştirilemez olarak ikiye ayrılmaktadır. `Değiştirilemez kümeler ise frozenset kümelerdir.` Şimdi bir küme oluşturalım ve bu kümeden bir eleman silmeye çalışalım.",
   "id": "608549ef2a4d8eab"
  },
  {
   "metadata": {
    "ExecuteTime": {
     "end_time": "2025-08-16T12:07:01.871123Z",
     "start_time": "2025-08-16T12:07:01.837298Z"
    }
   },
   "cell_type": "code",
   "source": [
    "veri = frozenset([\"A\", 1, 2, 3, 4, 5])\n",
    "print(veri)\n",
    "veri.remove(\"A\")"
   ],
   "id": "32b74bf9d697e9eb",
   "outputs": [
    {
     "name": "stdout",
     "output_type": "stream",
     "text": [
      "frozenset({1, 2, 3, 4, 5, 'A'})\n"
     ]
    },
    {
     "ename": "AttributeError",
     "evalue": "'frozenset' object has no attribute 'remove'",
     "output_type": "error",
     "traceback": [
      "\u001B[31m---------------------------------------------------------------------------\u001B[39m",
      "\u001B[31mAttributeError\u001B[39m                            Traceback (most recent call last)",
      "\u001B[36mCell\u001B[39m\u001B[36m \u001B[39m\u001B[32mIn[5]\u001B[39m\u001B[32m, line 3\u001B[39m\n\u001B[32m      1\u001B[39m veri = \u001B[38;5;28mfrozenset\u001B[39m([\u001B[33m\"\u001B[39m\u001B[33mA\u001B[39m\u001B[33m\"\u001B[39m, \u001B[32m1\u001B[39m, \u001B[32m2\u001B[39m, \u001B[32m3\u001B[39m, \u001B[32m4\u001B[39m, \u001B[32m5\u001B[39m])\n\u001B[32m      2\u001B[39m \u001B[38;5;28mprint\u001B[39m(veri)\n\u001B[32m----> \u001B[39m\u001B[32m3\u001B[39m \u001B[43mveri\u001B[49m\u001B[43m.\u001B[49m\u001B[43mremove\u001B[49m(\u001B[33m\"\u001B[39m\u001B[33mA\u001B[39m\u001B[33m\"\u001B[39m)\n",
      "\u001B[31mAttributeError\u001B[39m: 'frozenset' object has no attribute 'remove'"
     ]
    }
   ],
   "execution_count": 5
  },
  {
   "metadata": {},
   "cell_type": "markdown",
   "source": "Oluşturulan küme bir frozenset veri tipinde olduğundan dolayı içerisinde veri eklenemez veya silinemez. Hata vereek kümede değişiklik uygulanmayacaktır.",
   "id": "5013e76200a41507"
  },
  {
   "metadata": {},
   "cell_type": "markdown",
   "source": "## Binary Veri Tipi Kullanımı",
   "id": "39f6953dc82c1b1d"
  },
  {
   "metadata": {},
   "cell_type": "markdown",
   "source": "### Bytes Veri Tipi",
   "id": "a7bd3d0eb4fe3440"
  },
  {
   "metadata": {},
   "cell_type": "markdown",
   "source": [
    "`Bytes`, byte kavramları; bilgisayar ve yazılımla ilgilenmekte olan kişilerin aşina oldüğü ve ara sıra karşılarına çıkmakta olan terimlerdir. Konu içerisinde çok fazla ayrıntıya girmeden byte kavramının ne anlama geldiğine kısaca değinelim.\n",
    "\n",
    "Byte, bilgisayar ve elektronik bilimlerinde `0 ve 1` değerlerinden oluşan, dizisi içerisinde 8 bitlik değer barındıran bellek ölçüm değeridir. Python dilinde ise her bir karakterin `unicode` kodlarıyla beraber oluşturulmaktadır. `UTF-8` biçimi, 8 bitlik `unicode` dönüşüm türüdür. Unicode karakterlerini değişken sayıda 8 bitten oluşan byte grupları ile kod içerisinde kullanır. `UTF-32` ise, kodların 32 bit  biriminde kullanılmakta olan unicode kod birimlerini kodlamak için kullanılan bir türdür.\n",
    "\n",
    "Bytes veri tipi kendi içerisinde bir fonksiyon olarak kullanılmaktadır. Bytes,  verilmiş olan boyutta ve girilen verilerle başlatılan değişmez bir byte nesnesini kendi içerisinde döndürür. UTF-8 biçiminde bir bytes veri tipi kullanalım."
   ],
   "id": "61cb70c6ff6d4258"
  },
  {
   "metadata": {
    "ExecuteTime": {
     "end_time": "2025-08-16T12:49:59.368810Z",
     "start_time": "2025-08-16T12:49:59.359836Z"
    }
   },
   "cell_type": "code",
   "source": [
    "veri = \"Python Veri Tipleri\"\n",
    "veri = bytes(veri, \"utf-8\")\n",
    "print(veri)"
   ],
   "id": "a31fdbd44a6479f7",
   "outputs": [
    {
     "name": "stdout",
     "output_type": "stream",
     "text": [
      "b'Python Veri Tipleri'\n"
     ]
    }
   ],
   "execution_count": 6
  },
  {
   "metadata": {},
   "cell_type": "markdown",
   "source": "Şimdi ise UTF-32 biçiminde bytes veri tipini kullanalım.",
   "id": "7d3da3019bcc913e"
  },
  {
   "metadata": {
    "ExecuteTime": {
     "end_time": "2025-08-16T12:58:54.712731Z",
     "start_time": "2025-08-16T12:58:54.708849Z"
    }
   },
   "cell_type": "code",
   "source": [
    "veri = \"Python Veri Tipleri\"\n",
    "veri = bytes(veri, \"utf-32\")\n",
    "print(veri)"
   ],
   "id": "e9c24b6bb67f45a6",
   "outputs": [
    {
     "name": "stdout",
     "output_type": "stream",
     "text": [
      "b'\\xff\\xfe\\x00\\x00P\\x00\\x00\\x00y\\x00\\x00\\x00t\\x00\\x00\\x00h\\x00\\x00\\x00o\\x00\\x00\\x00n\\x00\\x00\\x00 \\x00\\x00\\x00V\\x00\\x00\\x00e\\x00\\x00\\x00r\\x00\\x00\\x00i\\x00\\x00\\x00 \\x00\\x00\\x00T\\x00\\x00\\x00i\\x00\\x00\\x00p\\x00\\x00\\x00l\\x00\\x00\\x00e\\x00\\x00\\x00r\\x00\\x00\\x00i\\x00\\x00\\x00'\n"
     ]
    }
   ],
   "execution_count": 16
  },
  {
   "metadata": {},
   "cell_type": "markdown",
   "source": "### Bytearray Veri Tipi",
   "id": "43d651145843ad29"
  },
  {
   "metadata": {},
   "cell_type": "markdown",
   "source": "Byte veri tipinde oluşturulan veriler üzerinde `değişiklik` yapmak için kullanılır.",
   "id": "8a89bcca324f8186"
  },
  {
   "metadata": {
    "ExecuteTime": {
     "end_time": "2025-08-16T12:58:56.945002Z",
     "start_time": "2025-08-16T12:58:56.941967Z"
    }
   },
   "cell_type": "code",
   "source": [
    "veri = 20\n",
    "veriBytearray = bytearray(veri)\n",
    "print(veriBytearray)"
   ],
   "id": "ce7f3c477ad6a2b2",
   "outputs": [
    {
     "name": "stdout",
     "output_type": "stream",
     "text": [
      "bytearray(b'\\x00\\x00\\x00\\x00\\x00\\x00\\x00\\x00\\x00\\x00\\x00\\x00\\x00\\x00\\x00\\x00\\x00\\x00\\x00\\x00')\n"
     ]
    }
   ],
   "execution_count": 17
  },
  {
   "metadata": {},
   "cell_type": "markdown",
   "source": "### Memoryview Veri Tipi",
   "id": "b69817286c57b1ae"
  },
  {
   "metadata": {
    "ExecuteTime": {
     "end_time": "2025-08-16T12:58:59.897955Z",
     "start_time": "2025-08-16T12:58:59.893401Z"
    }
   },
   "cell_type": "code",
   "source": [
    "veri = veriBytearray\n",
    "veriMemoryview = memoryview(veri)\n",
    "print(veriMemoryview)"
   ],
   "id": "10ccb559032b479c",
   "outputs": [
    {
     "name": "stdout",
     "output_type": "stream",
     "text": [
      "<memory at 0x000001D997088340>\n"
     ]
    }
   ],
   "execution_count": 18
  },
  {
   "metadata": {},
   "cell_type": "markdown",
   "source": "## Mantıksal Veri Tiplerinin Kullanımı",
   "id": "b78ab3d78f5c58a9"
  },
  {
   "metadata": {},
   "cell_type": "markdown",
   "source": [
    "Mantıksal veri operatöründe, doğrulama yapma amacı güdülür. Doğru veya yanlış (`ture/false`) mantığıyla çalışmaktadır.\n",
    "\n",
    "Aşağıdaki x ve y değişkenlerinde bulunan değerler ile bool yapısını daha iyi anlayabilirisiniz.\n",
    "\n",
    "- `x == y` -> Eğer x ve y birbirine eşitse doğrudur, değilse yanlıştır."
   ],
   "id": "bba9f32e439ea4fa"
  },
  {
   "metadata": {
    "ExecuteTime": {
     "end_time": "2025-08-16T13:04:02.306117Z",
     "start_time": "2025-08-16T13:04:02.302725Z"
    }
   },
   "cell_type": "code",
   "source": [
    "x = 15\n",
    "y = 25\n",
    "print(x == y)"
   ],
   "id": "509e76fa37749c48",
   "outputs": [
    {
     "name": "stdout",
     "output_type": "stream",
     "text": [
      "False\n"
     ]
    }
   ],
   "execution_count": 19
  },
  {
   "metadata": {},
   "cell_type": "markdown",
   "source": "- `x < y` -> Eğer x,  y' den küçükse doğrudur, değilse yanlıştır.",
   "id": "a54db204c52d9a4"
  },
  {
   "metadata": {
    "ExecuteTime": {
     "end_time": "2025-08-16T13:05:30.728953Z",
     "start_time": "2025-08-16T13:05:30.724450Z"
    }
   },
   "cell_type": "code",
   "source": [
    "x = 3\n",
    "y = 15\n",
    "print(x < y)"
   ],
   "id": "5d60b32f553aec6d",
   "outputs": [
    {
     "name": "stdout",
     "output_type": "stream",
     "text": [
      "True\n"
     ]
    }
   ],
   "execution_count": 20
  },
  {
   "metadata": {},
   "cell_type": "markdown",
   "source": "- `x <= y` -> Eğer x, y' den küçük ya da eşitse doğrudur, değilse yanlıştır.",
   "id": "ae75ecbf9024eab3"
  },
  {
   "metadata": {
    "ExecuteTime": {
     "end_time": "2025-08-16T13:07:14.149587Z",
     "start_time": "2025-08-16T13:07:14.146301Z"
    }
   },
   "cell_type": "code",
   "source": [
    "x = 896\n",
    "y = 749\n",
    "print(x <= y)"
   ],
   "id": "d1f8b7a47fa784bc",
   "outputs": [
    {
     "name": "stdout",
     "output_type": "stream",
     "text": [
      "False\n"
     ]
    }
   ],
   "execution_count": 21
  },
  {
   "metadata": {},
   "cell_type": "markdown",
   "source": "-  `x > y` -> Eğer x, y' den büyükse doğrudur, değilse yanlıştır.",
   "id": "fb33c32fa70e8c49"
  },
  {
   "metadata": {
    "ExecuteTime": {
     "end_time": "2025-08-16T13:08:45.084043Z",
     "start_time": "2025-08-16T13:08:45.080505Z"
    }
   },
   "cell_type": "code",
   "source": [
    "x = 13\n",
    "y = 5\n",
    "print(x > y)"
   ],
   "id": "9eed7929190f883f",
   "outputs": [
    {
     "name": "stdout",
     "output_type": "stream",
     "text": [
      "True\n"
     ]
    }
   ],
   "execution_count": 22
  },
  {
   "metadata": {},
   "cell_type": "markdown",
   "source": "- `x >= y` -> Eğer x, y' den büyük ya da eşitse doğrudur, değilse yanlıştır.",
   "id": "8d1b982158ac808a"
  },
  {
   "metadata": {
    "ExecuteTime": {
     "end_time": "2025-08-16T13:10:21.081505Z",
     "start_time": "2025-08-16T13:10:21.074323Z"
    }
   },
   "cell_type": "code",
   "source": [
    "x = 969\n",
    "y = 233\n",
    "print(x >= y)"
   ],
   "id": "4c3791af8b9050e6",
   "outputs": [
    {
     "name": "stdout",
     "output_type": "stream",
     "text": [
      "True\n"
     ]
    }
   ],
   "execution_count": 23
  },
  {
   "metadata": {},
   "cell_type": "markdown",
   "source": "- `x != y` -> Eğer x, y' den farklı ise doğrudur, değilse yanlıştır.",
   "id": "75303f3cfc044621"
  },
  {
   "metadata": {
    "ExecuteTime": {
     "end_time": "2025-08-16T13:12:10.401443Z",
     "start_time": "2025-08-16T13:12:10.397236Z"
    }
   },
   "cell_type": "code",
   "source": [
    "x = 0\n",
    "y = 0\n",
    "print(x != y)"
   ],
   "id": "60c78aaca5f7da39",
   "outputs": [
    {
     "name": "stdout",
     "output_type": "stream",
     "text": [
      "False\n"
     ]
    }
   ],
   "execution_count": 24
  },
  {
   "metadata": {},
   "cell_type": "markdown",
   "source": "## Adresleme Veri Tipi Kullanımı",
   "id": "1cbd8196fb21ebf1"
  },
  {
   "metadata": {},
   "cell_type": "markdown",
   "source": "### Dictionary Veri Tipi",
   "id": "c74cf406b1359622"
  },
  {
   "metadata": {},
   "cell_type": "markdown",
   "source": "Dictionary veri tipi, sözlük oluşturmaya yarayan bir veri tipidir.  List ve tuple veri tipleri gibi içerisinde değişkenler ve verileri barındırabilirler.",
   "id": "ab94602b2ed0b511"
  },
  {
   "metadata": {
    "ExecuteTime": {
     "end_time": "2025-08-16T13:17:09.216906Z",
     "start_time": "2025-08-16T13:17:09.207059Z"
    }
   },
   "cell_type": "code",
   "source": [
    "ogrenci = dict(Adi = \"Sedat\", Soyadi = \"Mert\", Bolumu = \"Yazılım\", Sinifi = \"2A\")\n",
    "print(ogrenci)"
   ],
   "id": "8f284964fb147147",
   "outputs": [
    {
     "name": "stdout",
     "output_type": "stream",
     "text": [
      "{'Adi': 'Sedat', 'Soyadi': 'Mert', 'Bolumu': 'Yazılım', 'Sinifi': '2A'}\n"
     ]
    }
   ],
   "execution_count": 25
  },
  {
   "metadata": {},
   "cell_type": "markdown",
   "source": [
    "## Temel Operatörler\n",
    "\n",
    "| İşlem       | Açıklama                                                                 |\n",
    "|-------------|--------------------------------------------------------------------------|\n",
    "| x + y       | x ve y sayılarının toplamı                                                |\n",
    "| x - y       | x sayısından y sayısının çıkarılması                                      |\n",
    "| x * y       | x ile y sayılarının çarpımı                                               |\n",
    "| x / y       | x sayısının y sayısına bölünmesi                                          |\n",
    "| x // y      | x sayısının y sayısına bölünmesiyle elde edilen tam kısmın bulunması      |\n",
    "| x % y       | x sayısının y sayısına bölünmesiyle elde edilen kalan kısmın bulunması    |\n",
    "| x ** y      | x sayısının y üssünün alınması                                            |\n",
    "| -x          | x sayısının negatif değeri                                                |\n",
    "| abs(x)      | x sayısının mutlak değeri                                                 |\n",
    "| divmod(x,y) | x’in y ile bölünmesinden elde edilen tam ve kalan kısımlarını iki tam sayıdan oluşan tuple halinde döndürülmesi |\n",
    "| pow(x,y)    | x’in y üssünün alınması (x**y ile aynı sonucu verir)                      |\n",
    "| pow(x,y,z)  | pow(x,y)%z değeri                                                         |\n",
    "| round(x,n)  | x’in n haneye yuvarlanması                                                |\n",
    "| bin(i)      | On tabanlı i sayısının iki tabanına (binary) dönüştürülmüş olarak gösterimi (string) |\n",
    "| hex(i)      | On tabanlı i sayısının onaltılık tabanına (hexadecimal) dönüştürülmüş olarak gösterimi (string) |\n",
    "| int(x)      | x nesnesinin tam sayıya dönüştürülmesi. (Yuvarlama yapılmaz)              |\n",
    "| int(s,taban)| string biçimindeki s değerini tam sayıya çevirir. Taban belirtilmişse 2 ile 26 arasındaki bir tamsayı olmalıdır. Yoksa hata mesajı üretir. |\n",
    "| oct(i)      | On tabanlı i sayısının sekizlik tabanına (octal) dönüştürülmüş olarak gösterimi (string) |\n",
    "| str(i)      | On tabanlı sayının string haline dönüştürülmüş halini üretir              |\n"
   ],
   "id": "8cb553982a062cbd"
  }
 ],
 "metadata": {
  "kernelspec": {
   "display_name": "Python 3",
   "language": "python",
   "name": "python3"
  },
  "language_info": {
   "codemirror_mode": {
    "name": "ipython",
    "version": 2
   },
   "file_extension": ".py",
   "mimetype": "text/x-python",
   "name": "python",
   "nbconvert_exporter": "python",
   "pygments_lexer": "ipython2",
   "version": "2.7.6"
  }
 },
 "nbformat": 4,
 "nbformat_minor": 5
}
