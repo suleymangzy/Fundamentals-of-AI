{
 "cells": [
  {
   "metadata": {},
   "cell_type": "markdown",
   "source": "# Python Programlama",
   "id": "532ebee8a300acd2"
  },
  {
   "metadata": {},
   "cell_type": "markdown",
   "source": "Python, okunabilirliği ve basitliği ile bilinen üst düzey, genel amaçlı bir programlama dilidir. Prosedürel, nesne yönelimli ve işlevsel programlama dahil olmak üzere çoklu programlama paradigmalarını destekler. Python'un tasarım felsefesi, önemli girinti kullanımıyla kod okunabilirliğini vurgular.",
   "id": "d5b763c9432e4e0b"
  },
  {
   "metadata": {},
   "cell_type": "markdown",
   "source": "## Değişken Adı Belirleme",
   "id": "6d00602e05bf3e7f"
  },
  {
   "metadata": {},
   "cell_type": "markdown",
   "source": "Python programlama dilinde değişken adı olarak tercih edebileceğimiz kelime sayısı neredeyse sınırsızdır. Yani hemen hemen her kelimeyi değişken adı olark kullanabiliriz. Ama yinede değişken adı belirlerken dikkat etmemiz gereken bazı kurallar bulunmaktadır. Bu kuralları bazıları zorunluluk, bazıları ise tavsiye niteliğindedir.",
   "id": "4d5b10ed1adc51cc"
  },
  {
   "metadata": {},
   "cell_type": "markdown",
   "source": "1. Değişken adları bir sayı ile başlayamaz.",
   "id": "3c1414c768adcf07"
  },
  {
   "metadata": {
    "ExecuteTime": {
     "end_time": "2025-08-12T21:08:41.019976Z",
     "start_time": "2025-08-12T21:08:40.994068Z"
    }
   },
   "cell_type": "code",
   "source": "3_kilo_elma = \"5 TL\" # Bu ifade yukarıda kuraldan dolayı hatalıdır.",
   "id": "60a47e488b33faa0",
   "outputs": [
    {
     "ename": "SyntaxError",
     "evalue": "invalid decimal literal (2988381623.py, line 1)",
     "output_type": "error",
     "traceback": [
      "  \u001B[36mCell\u001B[39m\u001B[36m \u001B[39m\u001B[32mIn[2]\u001B[39m\u001B[32m, line 1\u001B[39m\n\u001B[31m    \u001B[39m\u001B[31m3_kilo_elma = \"5 TL\" # Bu ifade yukarıda kuraldan dolayı hatalıdır.\u001B[39m\n     ^\n\u001B[31mSyntaxError\u001B[39m\u001B[31m:\u001B[39m invalid decimal literal\n"
     ]
    }
   ],
   "execution_count": 2
  },
  {
   "metadata": {},
   "cell_type": "markdown",
   "source": "2. Değişken adları aritmetik işleçlerle başlayamaz.",
   "id": "fccca0d6dc396c79"
  },
  {
   "metadata": {
    "ExecuteTime": {
     "end_time": "2025-08-12T21:08:59.854204Z",
     "start_time": "2025-08-12T21:08:59.841812Z"
    }
   },
   "cell_type": "code",
   "source": "+deger = 4568 # Bu ifade yukarıdaki kuraldan dolayı hatalıdır.",
   "id": "e2b7e5d50091b3c1",
   "outputs": [
    {
     "ename": "SyntaxError",
     "evalue": "cannot assign to expression here. Maybe you meant '==' instead of '='? (2392992827.py, line 1)",
     "output_type": "error",
     "traceback": [
      "  \u001B[36mCell\u001B[39m\u001B[36m \u001B[39m\u001B[32mIn[3]\u001B[39m\u001B[32m, line 1\u001B[39m\n\u001B[31m    \u001B[39m\u001B[31m+deger = 4568 # Bu ifade yukarıdaki kuraldan dolayı hatalıdır.\u001B[39m\n    ^\n\u001B[31mSyntaxError\u001B[39m\u001B[31m:\u001B[39m cannot assign to expression here. Maybe you meant '==' instead of '='?\n"
     ]
    }
   ],
   "execution_count": 3
  },
  {
   "metadata": {},
   "cell_type": "markdown",
   "source": "3. Değişken adları ya bir alfabetik karakter ile ya da `_` karakteri ile başlamalıdır.",
   "id": "fbac563145f1d807"
  },
  {
   "metadata": {
    "ExecuteTime": {
     "end_time": "2025-08-12T21:09:08.543108Z",
     "start_time": "2025-08-12T21:09:08.539656Z"
    }
   },
   "cell_type": "code",
   "source": [
    "_deger = 4568 # Bu ifade yukarıdaki kurala uygundur.\n",
    "deger = 4568 # Bu ifade yukarıdaki kurala uygundur."
   ],
   "id": "8ddf9253558bd8b7",
   "outputs": [],
   "execution_count": 4
  },
  {
   "metadata": {},
   "cell_type": "markdown",
   "source": [
    "4. Değişken adları içde Türkçe karakterler kullanılabilir. Ancak ileride beklenmedik uyum sorunları çıkması ihtimaline karşı değişken adlarında Türkçe karakter kullanmaktan kaçınmak daha uygun olacaktır.\n",
    "5. Aşağıdaki kelimeleri değişken adı olarak kullanamazsınız.\n",
    "\n",
    "   - ['False', 'None', 'True', 'and', 'as', 'assert', 'async', 'await', 'break', 'class', 'continue', 'def', 'del','elif', 'else', 'except', 'finally', 'for', 'from', 'global', 'if', 'import', 'in', 'is', 'lambda', 'nonlocal','not', 'or', 'pass', 'raise', 'return', 'try', 'while', 'with', 'yield']\n",
    "\n",
    "   - Bunlar Python'da özel anlam ifade eden kelimelerdir.Etkileşimli kabuk zaten bu kelimeri değişken adı olarak kullanmanıza izin vermez."
   ],
   "id": "e5897ad946123701"
  },
  {
   "metadata": {
    "ExecuteTime": {
     "end_time": "2025-08-12T21:09:22.775715Z",
     "start_time": "2025-08-12T21:09:22.768395Z"
    }
   },
   "cell_type": "code",
   "source": "elif = \"hoş insan\"",
   "id": "54898258e22c5e00",
   "outputs": [
    {
     "ename": "SyntaxError",
     "evalue": "invalid syntax (4199356150.py, line 1)",
     "output_type": "error",
     "traceback": [
      "  \u001B[36mCell\u001B[39m\u001B[36m \u001B[39m\u001B[32mIn[5]\u001B[39m\u001B[32m, line 1\u001B[39m\n\u001B[31m    \u001B[39m\u001B[31melif = \"hoş insan\"\u001B[39m\n    ^\n\u001B[31mSyntaxError\u001B[39m\u001B[31m:\u001B[39m invalid syntax\n"
     ]
    }
   ],
   "execution_count": 5
  },
  {
   "metadata": {
    "ExecuteTime": {
     "end_time": "2025-08-12T21:09:51.942181Z",
     "start_time": "2025-08-12T21:09:51.934976Z"
    }
   },
   "cell_type": "code",
   "source": "as = \"kare\"",
   "id": "f13dfe746336b5fe",
   "outputs": [
    {
     "ename": "SyntaxError",
     "evalue": "invalid syntax (2213977704.py, line 1)",
     "output_type": "error",
     "traceback": [
      "  \u001B[36mCell\u001B[39m\u001B[36m \u001B[39m\u001B[32mIn[6]\u001B[39m\u001B[32m, line 1\u001B[39m\n\u001B[31m    \u001B[39m\u001B[31mas = \"kare\"\u001B[39m\n    ^\n\u001B[31mSyntaxError\u001B[39m\u001B[31m:\u001B[39m invalid syntax\n"
     ]
    }
   ],
   "execution_count": 6
  },
  {
   "metadata": {
    "ExecuteTime": {
     "end_time": "2025-08-12T21:10:07.773962Z",
     "start_time": "2025-08-12T21:10:07.763760Z"
    }
   },
   "cell_type": "code",
   "source": "False = 45",
   "id": "50150bbd59564aec",
   "outputs": [
    {
     "ename": "SyntaxError",
     "evalue": "cannot assign to False (2991786144.py, line 1)",
     "output_type": "error",
     "traceback": [
      "  \u001B[36mCell\u001B[39m\u001B[36m \u001B[39m\u001B[32mIn[7]\u001B[39m\u001B[32m, line 1\u001B[39m\n\u001B[31m    \u001B[39m\u001B[31mFalse = 45\u001B[39m\n    ^\n\u001B[31mSyntaxError\u001B[39m\u001B[31m:\u001B[39m cannot assign to False\n"
     ]
    }
   ],
   "execution_count": 7
  },
  {
   "metadata": {},
   "cell_type": "markdown",
   "source": [
    "`import keyword`\n",
    "\n",
    "`print (keyword.kwlist)`\n",
    "- Bu komutu kullanarak istediğini zaman yukarıdaki listede bulunan kullanmamanız gereken değişken adlarına ulaşabilirsiniz."
   ],
   "id": "d9e4cc6a2ed92306"
  },
  {
   "metadata": {
    "ExecuteTime": {
     "end_time": "2025-08-12T21:13:50.829272Z",
     "start_time": "2025-08-12T21:13:50.825299Z"
    }
   },
   "cell_type": "code",
   "source": [
    "import keyword\n",
    "print(keyword.kwlist)"
   ],
   "id": "d7c41aa780a6e81a",
   "outputs": [
    {
     "name": "stdout",
     "output_type": "stream",
     "text": [
      "['False', 'None', 'True', 'and', 'as', 'assert', 'async', 'await', 'break', 'class', 'continue', 'def', 'del', 'elif', 'else', 'except', 'finally', 'for', 'from', 'global', 'if', 'import', 'in', 'is', 'lambda', 'nonlocal', 'not', 'or', 'pass', 'raise', 'return', 'try', 'while', 'with', 'yield']\n"
     ]
    }
   ],
   "execution_count": 8
  }
 ],
 "metadata": {
  "kernelspec": {
   "display_name": "Python 3",
   "language": "python",
   "name": "python3"
  },
  "language_info": {
   "codemirror_mode": {
    "name": "ipython",
    "version": 2
   },
   "file_extension": ".py",
   "mimetype": "text/x-python",
   "name": "python",
   "nbconvert_exporter": "python",
   "pygments_lexer": "ipython2",
   "version": "2.7.6"
  }
 },
 "nbformat": 4,
 "nbformat_minor": 5
}
