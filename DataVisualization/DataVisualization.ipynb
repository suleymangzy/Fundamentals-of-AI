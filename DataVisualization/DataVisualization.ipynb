{
 "cells": [
  {
   "metadata": {},
   "cell_type": "markdown",
   "source": "# Seaborn Kütüphanesi",
   "id": "1f6425ca9c1b95a1"
  },
  {
   "metadata": {},
   "cell_type": "markdown",
   "source": "Seaborn, python programlama dilinde veri görselleştirme kütüphanesidir. Veri, görselleştirme sürecini kolaylaştırmak için önceden tanımlanmış stiller ve renk paletleri sağlar.",
   "id": "3794dac83cbabc2b"
  },
  {
   "metadata": {},
   "cell_type": "markdown",
   "source": "## Seaborn ve Matplotlib İlişkisi",
   "id": "1ecd4083abaa2c89"
  },
  {
   "metadata": {},
   "cell_type": "markdown",
   "source": [
    "Seaborn, Matplotlib' e dayanan ve onu tamamlayan bir veri görselleştirme kütüphanesidir. Python' da veri görselleştirme için kullanılan temel bir kütüphanedir ve Seaborn bu temel kütüphane üzerine inşa edilmiştir.\n",
    "\n",
    "Seaborn, Matplotlib' in yeteneklerini genişletir ve kulanımını kolaylaştırır. Matplotlib' in bazı karmaşıklılkarını giderir, daha estetik grafik oluşturmayı sağlar ve bazı temel görselleştirme görevlerini daha hızlı gerçekleştirir. Seaborn aynı zamanda daha yüksek seviyeli bir arayüz sağlayarak veri görselleştirme sürecini basitleştirir."
   ],
   "id": "61e6ca60568a8122"
  },
  {
   "metadata": {},
   "cell_type": "markdown",
   "source": "## Seaborn' un Bağımlılıkları",
   "id": "b220c71d44d7062a"
  },
  {
   "metadata": {},
   "cell_type": "markdown",
   "source": [
    "Seaborn' un çalışması için bazı bazı bağımlılıkların yüklü olması gerekmektedir. Seaborn' un bağımlılıkları şunlardır:\n",
    "\n",
    "* `Matplotlib:` Seaborn, veri görselleştirme işlemleri için Matplotlib kütüphanesine dayanmaktadır. Matplotlib, grafiklerin çizilmesi ve özelleştirilmesi için kullanılır.\n",
    "* `NumPy:` Seaborn, sayısal hesaplamalar ve veri manipülasyonu için NumPy kütüphanesini kullanır. NumPy, Python' da bilimsel hesaplamalar ve veri işleme için yaygın olarak kullanılan bir işlemdir.\n",
    "* `Pandas:` Seaborn, veri manipülasyonu ve analizi için Pandas kütüphanesini kullanır. Pandas, Python' da veri yapılarının veri analizi işlemlerinin  kolayca yapılmasını sağlayan bir kütüphanedir.\n",
    "\n",
    "Bu bağımlılıkların Seaborn ile birlikte yüklü olması grekmektedir. Seaborn' u yüklerken bu bu bağımlılıkların otomatik olarak yüklenmesi sağlanır."
   ],
   "id": "749efe2ce9bc5811"
  },
  {
   "metadata": {},
   "cell_type": "markdown",
   "source": "# Veri Görselleştirme",
   "id": "1faa0726f3d37b97"
  },
  {
   "metadata": {},
   "cell_type": "markdown",
   "source": "Veri görselleştirme, verilerin grafikler, ",
   "id": "75dc6ce2ff5d97da"
  }
 ],
 "metadata": {
  "kernelspec": {
   "display_name": "Python 3",
   "language": "python",
   "name": "python3"
  },
  "language_info": {
   "codemirror_mode": {
    "name": "ipython",
    "version": 2
   },
   "file_extension": ".py",
   "mimetype": "text/x-python",
   "name": "python",
   "nbconvert_exporter": "python",
   "pygments_lexer": "ipython2",
   "version": "2.7.6"
  }
 },
 "nbformat": 4,
 "nbformat_minor": 5
}
